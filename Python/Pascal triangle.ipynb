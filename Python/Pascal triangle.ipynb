{
 "cells": [
  {
   "cell_type": "markdown",
   "id": "f127497d",
   "metadata": {},
   "source": [
    "## 巴斯卡三角形\n",
    "```\n",
    "    1 \n",
    "   1 1  \n",
    "  1 2 1  \n",
    " 1 3 3 1  \n",
    "1 4 6 4 1 \n",
    "```"
   ]
  },
  {
   "cell_type": "code",
   "execution_count": null,
   "id": "e95af243",
   "metadata": {},
   "outputs": [],
   "source": []
  },
  {
   "cell_type": "code",
   "execution_count": 10,
   "id": "2331dc6a",
   "metadata": {},
   "outputs": [
    {
     "name": "stdout",
     "output_type": "stream",
     "text": [
      "請輸入0~5:1\n",
      "1\n",
      "請輸入0~5:2\n",
      " 1\n",
      "1 1\n",
      "請輸入0~5:3\n",
      "  1\n",
      " 1 1\n",
      "1 2 1\n",
      "請輸入0~5:4\n",
      "   1\n",
      "  1 1\n",
      " 1 2 1\n",
      "1 3 3 1\n",
      "請輸入0~5:5\n",
      "    1\n",
      "   1 1\n",
      "  1 2 1\n",
      " 1 3 3 1\n",
      "1 4 6 4 1\n",
      "請輸入0~5:6\n",
      "請輸入0~5:6\n",
      "請輸入0~5:1\n",
      "1\n",
      "請輸入0~5:0\n",
      "結束\n"
     ]
    }
   ],
   "source": [
    "#解一\n",
    "while True:\n",
    "    n = input('請輸入0~5:')\n",
    "    if n == '0':\n",
    "        break\n",
    "    if n == '1':\n",
    "        print('1')\n",
    "    elif n == '2':\n",
    "        print(' 1')\n",
    "        print('1 1')\n",
    "    elif n == '3':\n",
    "        print('  1')\n",
    "        print(' 1 1')\n",
    "        print('1 2 1')\n",
    "    elif n == '4':\n",
    "        print('   1')\n",
    "        print('  1 1')\n",
    "        print(' 1 2 1')\n",
    "        print('1 3 3 1')\n",
    "    elif n == '5':\n",
    "        print('    1')\n",
    "        print('   1 1')\n",
    "        print('  1 2 1')\n",
    "        print(' 1 3 3 1')\n",
    "        print('1 4 6 4 1')\n",
    "print('結束')"
   ]
  },
  {
   "cell_type": "code",
   "execution_count": null,
   "id": "8346ebbd",
   "metadata": {},
   "outputs": [],
   "source": []
  },
  {
   "cell_type": "code",
   "execution_count": null,
   "id": "f4cf333c",
   "metadata": {},
   "outputs": [],
   "source": [
    "n = int(input('請輸入1~100:'))\n",
    "for i in range(2, n+1):\n",
    "    for j in rang(2, i):\n",
    "        if i / j == 0:\n",
    "            print()"
   ]
  }
 ],
 "metadata": {
  "kernelspec": {
   "display_name": "Python 3 (ipykernel)",
   "language": "python",
   "name": "python3"
  },
  "language_info": {
   "codemirror_mode": {
    "name": "ipython",
    "version": 3
   },
   "file_extension": ".py",
   "mimetype": "text/x-python",
   "name": "python",
   "nbconvert_exporter": "python",
   "pygments_lexer": "ipython3",
   "version": "3.9.7"
  }
 },
 "nbformat": 4,
 "nbformat_minor": 5
}
