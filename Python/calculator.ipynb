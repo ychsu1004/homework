{
 "cells": [
  {
   "cell_type": "code",
   "execution_count": null,
   "id": "48ee2799",
   "metadata": {},
   "outputs": [],
   "source": []
  },
  {
   "cell_type": "code",
   "execution_count": 14,
   "id": "23a792b3",
   "metadata": {},
   "outputs": [
    {
     "name": "stdout",
     "output_type": "stream",
     "text": [
      "265.6\n",
      "*\n",
      "357.12\n",
      " 94851.072\n"
     ]
    }
   ],
   "source": [
    "n1 = float(input())\n",
    "x = input()\n",
    "n2 = float(input())\n",
    "if x == '+':\n",
    "    print('{:10.3f}'.format(n1+n2))\n",
    "elif x == '-':\n",
    "    print('{:10.3f}'.format(n1-n2))\n",
    "elif x == '*':\n",
    "    print('{:10.3f}'.format(n1*n2))\n",
    "elif x == '/':\n",
    "    print('{:10.3f}'.format(n1/n2))\n",
    "else:\n",
    "    print('輸入錯誤!!')"
   ]
  },
  {
   "cell_type": "code",
   "execution_count": null,
   "id": "98486e3a",
   "metadata": {},
   "outputs": [],
   "source": []
  },
  {
   "cell_type": "code",
   "execution_count": 7,
   "id": "084db71f",
   "metadata": {},
   "outputs": [
    {
     "data": {
      "text/plain": [
       "8"
      ]
     },
     "execution_count": 7,
     "metadata": {},
     "output_type": "execute_result"
    }
   ],
   "source": [
    "8"
   ]
  },
  {
   "cell_type": "code",
   "execution_count": null,
   "id": "45c5b9e0",
   "metadata": {},
   "outputs": [],
   "source": []
  }
 ],
 "metadata": {
  "kernelspec": {
   "display_name": "Python 3 (ipykernel)",
   "language": "python",
   "name": "python3"
  },
  "language_info": {
   "codemirror_mode": {
    "name": "ipython",
    "version": 3
   },
   "file_extension": ".py",
   "mimetype": "text/x-python",
   "name": "python",
   "nbconvert_exporter": "python",
   "pygments_lexer": "ipython3",
   "version": "3.9.7"
  }
 },
 "nbformat": 4,
 "nbformat_minor": 5
}
