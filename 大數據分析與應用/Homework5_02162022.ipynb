{
 "cells": [
  {
   "cell_type": "markdown",
   "id": "c7bc79c8",
   "metadata": {},
   "source": [
    "5. 請將['Company1','Company2','Company3'] 變成 ['Company_1', 'Company_2', 'Company _3'.\n",
    "(這個題目很實用,許多時候我們拿到的資料會有空格,但變數命名不允許空格,可以用這個方法解決!)"
   ]
  },
  {
   "cell_type": "code",
   "execution_count": 1,
   "id": "e0060d19",
   "metadata": {},
   "outputs": [
    {
     "name": "stdout",
     "output_type": "stream",
     "text": [
      "['Company_1', 'Company_2', 'Company_3']\n"
     ]
    }
   ],
   "source": [
    "lists = ['Company 1','Company 2','Company 3']\n",
    "\n",
    "for i,v in enumerate(lists):\n",
    "    lists[i] = v.replace(\" \",\"_\")\n",
    "    \n",
    "print(lists)"
   ]
  },
  {
   "cell_type": "code",
   "execution_count": null,
   "id": "5bf567ca",
   "metadata": {},
   "outputs": [],
   "source": []
  }
 ],
 "metadata": {
  "kernelspec": {
   "display_name": "Python 3 (ipykernel)",
   "language": "python",
   "name": "python3"
  },
  "language_info": {
   "codemirror_mode": {
    "name": "ipython",
    "version": 3
   },
   "file_extension": ".py",
   "mimetype": "text/x-python",
   "name": "python",
   "nbconvert_exporter": "python",
   "pygments_lexer": "ipython3",
   "version": "3.9.7"
  }
 },
 "nbformat": 4,
 "nbformat_minor": 5
}
