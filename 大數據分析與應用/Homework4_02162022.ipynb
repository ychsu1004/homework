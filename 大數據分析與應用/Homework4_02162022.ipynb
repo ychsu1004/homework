{
 "cells": [
  {
   "cell_type": "markdown",
   "id": "a018c1ac",
   "metadata": {},
   "source": [
    "4. 寫一個將 list 字元變回字串的函數。類似 join:\n",
    "輸入:[ 'I',' ', 'a', 'm',' ', 'a',' ', 'g', 'o', 'o', 'd',' ', 'm', 'a', 'n']\n",
    "輸出: 'I am a good man'"
   ]
  },
  {
   "cell_type": "code",
   "execution_count": 1,
   "id": "d4477c9f",
   "metadata": {},
   "outputs": [
    {
     "name": "stdout",
     "output_type": "stream",
     "text": [
      "I am a good man\n"
     ]
    }
   ],
   "source": [
    "lists = [ 'I',' ', 'a', 'm',' ', 'a',' ', 'g', 'o', 'o', 'd',' ', 'm', 'a', 'n']\n",
    "str_lists = \"\".join(lists)\n",
    "print(str_lists)"
   ]
  },
  {
   "cell_type": "code",
   "execution_count": null,
   "id": "925d4334",
   "metadata": {},
   "outputs": [],
   "source": []
  }
 ],
 "metadata": {
  "kernelspec": {
   "display_name": "Python 3 (ipykernel)",
   "language": "python",
   "name": "python3"
  },
  "language_info": {
   "codemirror_mode": {
    "name": "ipython",
    "version": 3
   },
   "file_extension": ".py",
   "mimetype": "text/x-python",
   "name": "python",
   "nbconvert_exporter": "python",
   "pygments_lexer": "ipython3",
   "version": "3.9.7"
  }
 },
 "nbformat": 4,
 "nbformat_minor": 5
}
