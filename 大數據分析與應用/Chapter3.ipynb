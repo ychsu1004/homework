{
 "cells": [
  {
   "cell_type": "markdown",
   "metadata": {
    "nbpresent": {
     "id": "af88da20-0f51-483e-bd72-afc896a9da05"
    }
   },
   "source": [
    "# 3 記述統計と単回帰分析"
   ]
  },
  {
   "cell_type": "markdown",
   "metadata": {},
   "source": [
    "3章では、客観的にデータを分析し、データの傾向を明らかにする手法として、統計解析の基本について学びます。統計解析は「記述統計」と「推測統計」に大きく分かれますが、3章ではこのうち「記述統計」と、「推測統計」の1つである回帰を主に取り上げます。\n",
    "解説で使うデータとして、カリフォルニア大学の学生の属性データをダウンロードし、2章で学んだPythonの色々なライブラリを使いながら学んでいきます。\n",
    "\n",
    "ゴール：csvファイルのデータを読み込み、基礎的な統計量の算出と可視化、単回帰分析ができる"
   ]
  },
  {
   "cell_type": "markdown",
   "metadata": {},
   "source": [
    "- **[3.1 統計解析の種類](#3.1-統計解析の種類)** \n",
    "    - [3.1.1 記述統計と推論統計](#3.1.1-記述統計と推論統計)\n",
    "    - [3.1.2 この章で使うライブラリのインポート](#3.1.2-この章で使うライブラリのインポート)\n",
    "<br><br>\n",
    "- **[3.2 データの読み込みと対話](#3.2-データの読み込みと対話)**\n",
    "    - [3.2.1 インターネットなどで配布されている対象データの読み込み](#3.2.1-インターネットなどで配布されている対象データの読み込み)\n",
    "    - [3.2.2 データの読み込みと確認](#3.2.2-データの読み込みと確認)　\n",
    "    - [3.2.3 データの性質を確認する](#3.2.3-データの性質を確認する)　\n",
    "    - [3.2.4 量的データと質的データ](#3.2.4-量的データと質的データ)\n",
    "<br><br>\n",
    "- **[3.3 記述統計](#3.3-記述統計)**\n",
    "    - [3.3.1 ヒストグラム](#3.3.1-ヒストグラム)\n",
    "    - [3.3.2 平均、中央値、最頻値](#3.3.2-平均、中央値、最頻値)\n",
    "    - [3.3.3 分散と標準偏差](#3.3.3-分散と標準偏差)\n",
    "    - [3.3.4 要約統計量とパーセンタイル値](#3.3.4-要約統計量とパーセンタイル値)\n",
    "    - [3.3.5 箱ひげ図](#3.3.5-箱ひげ図)\n",
    "    - [3.3.6 変動係数](#3.3.6-変動係数)\n",
    "    - [3.3.7 散布図と相関係数](#3.3.7-散布図と相関係数)\n",
    "    - [3.3.8 すべての変数のヒストグラムゃ散布図を描く](#3.3.8-すべての変数のヒストグラムゃ散布図を描く)\n",
    "<br><br>\n",
    "\n",
    "- **[3.4 単回帰分析](#3.4-単回帰分析)**\n",
    "    - [3.4.1 線形単回帰分析](#3.4.1-線形単回帰分析)\n",
    "    - [3.4.2 決定係数](#3.4.2-決定係数)\n",
    "<br><br>\n",
    "\n",
    "- **[3.5 総合問題](#3.2-総合問題)**\n",
    "    - [■総合問題3-1 統計の基礎と可視化](#■総合問題3-1-統計の基礎と可視化)\n",
    "    - [■総合問題3-2 ローレンツ曲線とジニ係数](#■総合問題3-2-ローレンツ曲線とジニ係数)"
   ]
  },
  {
   "cell_type": "markdown",
   "metadata": {
    "collapsed": true
   },
   "source": [
    "***"
   ]
  },
  {
   "cell_type": "markdown",
   "metadata": {},
   "source": [
    "## 3.1 統計解析の種類\n",
    "\n",
    "キーワード：記述統計、推論統計、平均、標準偏差、単回帰分析、Numpy、Scipy、Pandas、Matplotlib、Scikit-learn\n",
    "\n",
    "2章では、Pythonといくつかのライブラリについて、基本的な使い方を説明してきました。この章からは、それらを活用して、実際のデータと対話していきます。\n",
    "\n",
    "### 3.1.1 記述統計と推論統計\n",
    "統計解析は、データを客観的に分析し、そのデータに含まれる傾向を明らかにする方法です。その手法は、「記述統計」と「推測統計」に大きく分かれます。\n",
    "\n",
    "\n",
    "**記述統計** \n",
    "\n",
    "記述統計は、集めたデータの特徴をつかんだり分かりやすく整理したり見やすくしたりする方法です。たとえば、平均や標準偏差などを計算してデータの特徴を計算したり、データを分類したり、図やグラフなどを用いて表現したりするのが記述統計です。この章で詳しく扱います。\n",
    "\n",
    "**推論統計**\n",
    "\n",
    "集めたデータから推論する方法です。たとえば、日本の全人口の年齢別の身長を調べたいとします。全員の身長を調べるのは困難です。そこでランダムに抽出した一部の人たちだけを対象に身長を調べ、そこから母集団である日本人の身長を推論します。このように、部分的なデータしかないものから確率分布に基づいたモデルを用いて精密な解析をし、全体を推論して統計を求めるのが、推論統計の考え方です。\n",
    "推論統計は過去のデータから未来予測するときにも使われます。この章では、推論統計の基礎である単回帰分析について説明します。より複雑な推論統計については、次の章で扱います。\n",
    "\n",
    "### 3.1.2 この章で使うライブラリのインポート\n",
    "\n",
    "この章では、2章で紹介した各種ライブラリを使います。次のようにインポートしていることを前提として進めていきます。"
   ]
  },
  {
   "cell_type": "code",
   "execution_count": 2,
   "metadata": {
    "scrolled": true
   },
   "outputs": [
    {
     "data": {
      "text/plain": [
       "'%.3f'"
      ]
     },
     "execution_count": 2,
     "metadata": {},
     "output_type": "execute_result"
    }
   ],
   "source": [
    "# 以下のライブラリを使うので、あらかじめ読み込んでおいてください\n",
    "import numpy as np\n",
    "import scipy as sp\n",
    "import pandas as pd\n",
    "from pandas import Series, DataFrame\n",
    "\n",
    "# 可視化ライブラリ\n",
    "import matplotlib.pyplot as plt\n",
    "import matplotlib as mpl\n",
    "import seaborn as sns\n",
    "sns.set()\n",
    "%matplotlib inline\n",
    "\n",
    "# 小数第3位まで表示\n",
    "%precision 3"
   ]
  },
  {
   "cell_type": "markdown",
   "metadata": {
    "collapsed": true
   },
   "source": [
    "また、「3.4　単回帰分析」では、Scikit-learnの線形回帰分析用のライブラリである`sklearn.linear_model`を使います。scikit-learnは、機械学習の基本的なライブラリです。「3.4」でも改めて説明しますが、次のようにインポートします。"
   ]
  },
  {
   "cell_type": "code",
   "execution_count": 3,
   "metadata": {},
   "outputs": [],
   "source": [
    "from sklearn import linear_model"
   ]
  },
  {
   "cell_type": "markdown",
   "metadata": {
    "nbpresent": {
     "id": "aa08360f-e7dd-4647-bbfb-cadd5f19af31"
    }
   },
   "source": [
    "## 3.2 データの読み込みと対話\n",
    "キーワード：ディレクトリ（フォルダ）操作、CSV、量的データ、質的データ、平均"
   ]
  },
  {
   "cell_type": "markdown",
   "metadata": {},
   "source": [
    "データを解析するには、対象のデータをPythonで扱えるように読み込む必要があります。\n",
    "データはCSV形式データやデータベースとして扱うのが一般的です。またインターネットには、研究用のデータが圧縮されたZIP形式で提供されているものもあります。\n",
    "まずは、こうしたデータを読み込む方法から習得しましょう。\n",
    "\n",
    "### 3.2.1 インターネットなどで配布されている対象データの読み込み\n",
    "\n",
    "ここでは対象のデータが、ZIP形式ファイルとしてWebで公開されており、それをダウンロードして利用するという状況を想定します。ブラウザからあらかじめダウンロードしておくこともできますが、Pythonでは、直接読み込んでデータを保存することもできるため、本書では、Pythonのプログラムでダウンロードする方法を説明します。\n",
    "\n",
    "#### カレントディレクトリの確認\n",
    "\n",
    "まずは、ダウンロードするファイルを置くディレクトリ（フォルダ）を準備します。Jupyter環境で「`pwd`」と入力して実行すると、現在、どこのディレクトリが操作対象になっているのかを確認できます。操作対象となっているディレクトリのことをカレントディレクトリと言います（Jupyter環境ではなく、コマンドプロンプトやシェルなどでも、同じように操作対象のディレクトリをカレントディレクトリと言います）。\n",
    "\n",
    "なお、表示されるディレクトリの名前は、環境によって異なります。すなわち、実行例は、ここで提示しているものと違うかも知れませんが、結果が表示されていれば問題ありません。\n",
    "\n",
    "なお、「`pwd`」はPythonのプログラムではなく、シェルのコマンドです。Jupyter環境では、ひとつのセルに「`pwd`などのシェルのコマンド」と「Pythonのコマンド」を混ぜて書くことはできず、エラーとなるので注意してください。"
   ]
  },
  {
   "cell_type": "code",
   "execution_count": 4,
   "metadata": {
    "scrolled": true
   },
   "outputs": [
    {
     "data": {
      "text/plain": [
       "'C:\\\\Users\\\\yanch\\\\OneDrive\\\\文件\\\\homework\\\\大數據分析與應用'"
      ]
     },
     "execution_count": 4,
     "metadata": {},
     "output_type": "execute_result"
    }
   ],
   "source": [
    "pwd"
   ]
  },
  {
   "cell_type": "markdown",
   "metadata": {},
   "source": [
    "#### ディレクトリの作成と移動\n",
    "\n",
    "確認したら、ここにダウンロードするディレクトリを作りましょう。Jupyter環境のセルに次のように入力して実行すると、上記で確認したディレクトリの下にchap3という名前のフォルダが作られます。\n"
   ]
  },
  {
   "cell_type": "code",
   "execution_count": 5,
   "metadata": {},
   "outputs": [
    {
     "name": "stderr",
     "output_type": "stream",
     "text": [
      "子目錄或檔案 chap3 已經存在。\n"
     ]
    }
   ],
   "source": [
    "mkdir chap3"
   ]
  },
  {
   "cell_type": "markdown",
   "metadata": {},
   "source": [
    "ディレクトリを作成したら、そこに移動しましょう。セルに次のように`cd`コマンドを入力して実行することで、いま作成したchap3ディレクトリに移動できます。\n"
   ]
  },
  {
   "cell_type": "code",
   "execution_count": 6,
   "metadata": {},
   "outputs": [
    {
     "name": "stdout",
     "output_type": "stream",
     "text": [
      "C:\\Users\\yanch\\OneDrive\\文件\\homework\\大數據分析與應用\\chap3\n"
     ]
    }
   ],
   "source": [
    "cd ./chap3"
   ]
  },
  {
   "cell_type": "markdown",
   "metadata": {},
   "source": [
    "#### サンプルデータのダウンード"
   ]
  },
  {
   "cell_type": "markdown",
   "metadata": {},
   "source": [
    "次に、このディレクトリにサンプルデータをダウンロードします。ここでは、カリフォルニア大学アーバイン校（UCI）が提供しているサンプルデータを利用します。\n",
    "ここではファイルをPythonのプログラムでダウンロードすることにします。下記に示すコードを順にJupyter環境のセルに入力して順に実行すると、いま作成したchap3ディレクトリにダウンロードしたデータが保存されます。\n"
   ]
  },
  {
   "cell_type": "markdown",
   "metadata": {},
   "source": [
    "#### ZIPファイルとファイルをダウンロードするためのライブラリ\n",
    "\n",
    "まずは、ZIPファイルやファイルをダウンロードするためのライブラリをインポートします。ZIPファイルを読み込んだり、Webから直接ダウンロードしたりするには、次のように「`requests`」「`zipfile`」「`io`」の3つのライブラリを使います。\n",
    "\n",
    "- `requests` … Webのデータを送受信します\n",
    "- `zipfile` … ZIP形式ファイルを読み書きします\n",
    "- `io` … ファイルを読み書きします"
   ]
  },
  {
   "cell_type": "code",
   "execution_count": 7,
   "metadata": {},
   "outputs": [],
   "source": [
    "# webからデータを取得したり、zipファイルを扱うためのライブラリ\n",
    "import requests, zipfile\n",
    "from io import StringIO\n",
    "import io"
   ]
  },
  {
   "cell_type": "markdown",
   "metadata": {},
   "source": [
    "#### ZIPファイルをダウンロードして展開する\n",
    "\n",
    "ここで利用するファイルは、次のファイルです。ZIP形式でまとめられています。\n",
    "\n",
    "http://archive.ics.uci.edu/ml/machine-learning-databases/00356/student.zip\n",
    "\n",
    "このファイルをダウンロードして展開するには、次のPythonプログラムをJupyter環境のセルに入力して実行します。すると、現在のカレントディレクトリに展開されます。ここまでの操作では、カレントディレクトリをchap3に移動しているので、そのディレクトリに展開されるはずです。なお、LinuxやMacのターミナルを使われている方は、wgetコマンドでデータのダウンロードが可能です。\n"
   ]
  },
  {
   "cell_type": "code",
   "execution_count": 8,
   "metadata": {},
   "outputs": [],
   "source": [
    "# データがあるurlの指定\n",
    "url = 'http://archive.ics.uci.edu/ml/machine-learning-databases/00356/student.zip'\n",
    "\n",
    "# データをurlから取得する\n",
    "r = requests.get(url, stream=True)\n",
    "\n",
    "# zipfileを読み込み展開する\n",
    "z = zipfile.ZipFile(io.BytesIO(r.content))\n",
    "z.extractall()"
   ]
  },
  {
   "cell_type": "markdown",
   "metadata": {},
   "source": [
    "Webからデータをダウンロードするには、`requests.get`を使います。このダウンロードしたデータを、`io.BytesIO`を使ってバイナリストリームとして`ZipFile`オブジェクトに与え、最後に`extractall()`を実行すると、ダウンロードしたZIP形式データを展開できます。\n",
    "ダウンロードが終了したら、データがちゃんとダウンロードされ、展開されているかチェックしましょう。次のように`ls`コマンドを実行すると、カレントディレクトリのファイル一覧を表示できます。"
   ]
  },
  {
   "cell_type": "code",
   "execution_count": 9,
   "metadata": {},
   "outputs": [
    {
     "name": "stdout",
     "output_type": "stream",
     "text": [
      " 磁碟區 C 中的磁碟沒有標籤。\n",
      " 磁碟區序號:  2609-8BB5\n",
      "\n",
      " C:\\Users\\yanch\\OneDrive\\文件\\homework\\大數據分析與應用\\chap3 的目錄\n",
      "\n",
      "2022/03/23  下午 04:07    <DIR>          .\n",
      "2022/03/25  下午 07:44    <DIR>          ..\n",
      "2022/03/23  下午 04:07    <DIR>          chap3\n",
      "2022/03/25  下午 09:17             3,206 student.txt\n",
      "2022/03/25  下午 09:17            56,993 student-mat.csv\n",
      "2022/03/25  下午 09:17               269 student-merge.R\n",
      "2022/03/25  下午 09:17            93,220 student-por.csv\n",
      "               4 個檔案         153,688 位元組\n",
      "               3 個目錄  436,826,525,696 位元組可用\n"
     ]
    }
   ],
   "source": [
    "ls"
   ]
  },
  {
   "cell_type": "markdown",
   "metadata": {},
   "source": [
    "無事に展開されると、「student.txt」「student-mat.csv」「student-merge.R」「student-por.csv」という4つのファイルが配置されます。本書では、これらのデータのうち、「student-mat.csv」と「student-por.csv」の2つのデータを使います。"
   ]
  },
  {
   "cell_type": "markdown",
   "metadata": {},
   "source": [
    "\n",
    "### 3.2.2 データの読み込みと確認\n",
    "\n",
    "ダウンロードしたデータのうち、まずは、「student-mat.csv」が、どのようなデータであるのかを観察していきます（後の練習問題で「student-por.csv」と合わせたデータを扱います）。\n",
    "\n",
    "####  データをDataFrameとして読み込む\n",
    "まずは、対象のデータを読み取り、Pandasの`DataFrame`オブジェクトとして扱います。次のようにpd.read_csvの引数にファイル名student-mat.csvファイルを記載して実行すると、そのファイルが読み込まれ、`DataFrame`オブジェクトとなります。"
   ]
  },
  {
   "cell_type": "code",
   "execution_count": 10,
   "metadata": {},
   "outputs": [],
   "source": [
    "student_data_math = pd.read_csv('student-mat.csv')"
   ]
  },
  {
   "cell_type": "markdown",
   "metadata": {},
   "source": [
    "#### データを確認する\n",
    "\n",
    "データを読み込んだら、実際のデータの中身を見てみましょう。`head`を使うと、データの先頭から一部をサンプルとして参照できます。括弧のなかに何も指定しない場合は先頭の5行が表示されますが、括弧のなかに行数を指定した場合は、指定した行数だけ表示されます。たとえば、`head(10)`とすれば、10行分表示されます。"
   ]
  },
  {
   "cell_type": "code",
   "execution_count": 11,
   "metadata": {},
   "outputs": [
    {
     "data": {
      "text/html": [
       "<div>\n",
       "<style scoped>\n",
       "    .dataframe tbody tr th:only-of-type {\n",
       "        vertical-align: middle;\n",
       "    }\n",
       "\n",
       "    .dataframe tbody tr th {\n",
       "        vertical-align: top;\n",
       "    }\n",
       "\n",
       "    .dataframe thead th {\n",
       "        text-align: right;\n",
       "    }\n",
       "</style>\n",
       "<table border=\"1\" class=\"dataframe\">\n",
       "  <thead>\n",
       "    <tr style=\"text-align: right;\">\n",
       "      <th></th>\n",
       "      <th>school;sex;age;address;famsize;Pstatus;Medu;Fedu;Mjob;Fjob;reason;guardian;traveltime;studytime;failures;schoolsup;famsup;paid;activities;nursery;higher;internet;romantic;famrel;freetime;goout;Dalc;Walc;health;absences;G1;G2;G3</th>\n",
       "    </tr>\n",
       "  </thead>\n",
       "  <tbody>\n",
       "    <tr>\n",
       "      <th>0</th>\n",
       "      <td>GP;\"F\";18;\"U\";\"GT3\";\"A\";4;4;\"at_home\";\"teacher...</td>\n",
       "    </tr>\n",
       "    <tr>\n",
       "      <th>1</th>\n",
       "      <td>GP;\"F\";17;\"U\";\"GT3\";\"T\";1;1;\"at_home\";\"other\";...</td>\n",
       "    </tr>\n",
       "    <tr>\n",
       "      <th>2</th>\n",
       "      <td>GP;\"F\";15;\"U\";\"LE3\";\"T\";1;1;\"at_home\";\"other\";...</td>\n",
       "    </tr>\n",
       "    <tr>\n",
       "      <th>3</th>\n",
       "      <td>GP;\"F\";15;\"U\";\"GT3\";\"T\";4;2;\"health\";\"services...</td>\n",
       "    </tr>\n",
       "    <tr>\n",
       "      <th>4</th>\n",
       "      <td>GP;\"F\";16;\"U\";\"GT3\";\"T\";3;3;\"other\";\"other\";\"h...</td>\n",
       "    </tr>\n",
       "  </tbody>\n",
       "</table>\n",
       "</div>"
      ],
      "text/plain": [
       "  school;sex;age;address;famsize;Pstatus;Medu;Fedu;Mjob;Fjob;reason;guardian;traveltime;studytime;failures;schoolsup;famsup;paid;activities;nursery;higher;internet;romantic;famrel;freetime;goout;Dalc;Walc;health;absences;G1;G2;G3\n",
       "0  GP;\"F\";18;\"U\";\"GT3\";\"A\";4;4;\"at_home\";\"teacher...                                                                                                                                                                                 \n",
       "1  GP;\"F\";17;\"U\";\"GT3\";\"T\";1;1;\"at_home\";\"other\";...                                                                                                                                                                                 \n",
       "2  GP;\"F\";15;\"U\";\"LE3\";\"T\";1;1;\"at_home\";\"other\";...                                                                                                                                                                                 \n",
       "3  GP;\"F\";15;\"U\";\"GT3\";\"T\";4;2;\"health\";\"services...                                                                                                                                                                                 \n",
       "4  GP;\"F\";16;\"U\";\"GT3\";\"T\";3;3;\"other\";\"other\";\"h...                                                                                                                                                                                 "
      ]
     },
     "execution_count": 11,
     "metadata": {},
     "output_type": "execute_result"
    }
   ],
   "source": [
    "student_data_math.head()"
   ]
  },
  {
   "cell_type": "markdown",
   "metadata": {},
   "source": [
    "#### カンマで区切ってデータを読む\n",
    "\n",
    "データが入っているのはわかりますが、このままではデータが大変扱いにくいです。よくデータを見てみると、ダウンロードしたデータの区切り文字は「;」（セミコロン）となっています。ほとんどのCSV形式ファイルでは「,」（カンマ）がデータの区切り文字として使われるのが慣例なのですが、ダウンロードしたデータは「;」が区切りであるため、データの区切りを正しく識別できないので、このようにデータがつながってしまうのです。\n",
    "\n",
    "区切り文字を変えるには、`read＿csv`のバラメータとして「`sep='区切り文字'`」を指定します。「;」を区切り文字にするため、次のようにして、データを再度読み込みましょう。"
   ]
  },
  {
   "cell_type": "code",
   "execution_count": 12,
   "metadata": {
    "nbpresent": {
     "id": "f581b3c5-979f-4ad2-95b7-e89dc86afee3"
    }
   },
   "outputs": [],
   "source": [
    "# データの読み込み\n",
    "# 区切りに\";\"がついているので注意\n",
    "student_data_math = pd.read_csv('student-mat.csv', sep=';')"
   ]
  },
  {
   "cell_type": "markdown",
   "metadata": {},
   "source": [
    "もう一度データを確認します。"
   ]
  },
  {
   "cell_type": "code",
   "execution_count": 13,
   "metadata": {
    "nbpresent": {
     "id": "ddd82eaf-9b54-48bf-ac57-aa797a3a970a"
    }
   },
   "outputs": [
    {
     "data": {
      "text/html": [
       "<div>\n",
       "<style scoped>\n",
       "    .dataframe tbody tr th:only-of-type {\n",
       "        vertical-align: middle;\n",
       "    }\n",
       "\n",
       "    .dataframe tbody tr th {\n",
       "        vertical-align: top;\n",
       "    }\n",
       "\n",
       "    .dataframe thead th {\n",
       "        text-align: right;\n",
       "    }\n",
       "</style>\n",
       "<table border=\"1\" class=\"dataframe\">\n",
       "  <thead>\n",
       "    <tr style=\"text-align: right;\">\n",
       "      <th></th>\n",
       "      <th>school</th>\n",
       "      <th>sex</th>\n",
       "      <th>age</th>\n",
       "      <th>address</th>\n",
       "      <th>famsize</th>\n",
       "      <th>Pstatus</th>\n",
       "      <th>Medu</th>\n",
       "      <th>Fedu</th>\n",
       "      <th>Mjob</th>\n",
       "      <th>Fjob</th>\n",
       "      <th>...</th>\n",
       "      <th>famrel</th>\n",
       "      <th>freetime</th>\n",
       "      <th>goout</th>\n",
       "      <th>Dalc</th>\n",
       "      <th>Walc</th>\n",
       "      <th>health</th>\n",
       "      <th>absences</th>\n",
       "      <th>G1</th>\n",
       "      <th>G2</th>\n",
       "      <th>G3</th>\n",
       "    </tr>\n",
       "  </thead>\n",
       "  <tbody>\n",
       "    <tr>\n",
       "      <th>0</th>\n",
       "      <td>GP</td>\n",
       "      <td>F</td>\n",
       "      <td>18</td>\n",
       "      <td>U</td>\n",
       "      <td>GT3</td>\n",
       "      <td>A</td>\n",
       "      <td>4</td>\n",
       "      <td>4</td>\n",
       "      <td>at_home</td>\n",
       "      <td>teacher</td>\n",
       "      <td>...</td>\n",
       "      <td>4</td>\n",
       "      <td>3</td>\n",
       "      <td>4</td>\n",
       "      <td>1</td>\n",
       "      <td>1</td>\n",
       "      <td>3</td>\n",
       "      <td>6</td>\n",
       "      <td>5</td>\n",
       "      <td>6</td>\n",
       "      <td>6</td>\n",
       "    </tr>\n",
       "    <tr>\n",
       "      <th>1</th>\n",
       "      <td>GP</td>\n",
       "      <td>F</td>\n",
       "      <td>17</td>\n",
       "      <td>U</td>\n",
       "      <td>GT3</td>\n",
       "      <td>T</td>\n",
       "      <td>1</td>\n",
       "      <td>1</td>\n",
       "      <td>at_home</td>\n",
       "      <td>other</td>\n",
       "      <td>...</td>\n",
       "      <td>5</td>\n",
       "      <td>3</td>\n",
       "      <td>3</td>\n",
       "      <td>1</td>\n",
       "      <td>1</td>\n",
       "      <td>3</td>\n",
       "      <td>4</td>\n",
       "      <td>5</td>\n",
       "      <td>5</td>\n",
       "      <td>6</td>\n",
       "    </tr>\n",
       "    <tr>\n",
       "      <th>2</th>\n",
       "      <td>GP</td>\n",
       "      <td>F</td>\n",
       "      <td>15</td>\n",
       "      <td>U</td>\n",
       "      <td>LE3</td>\n",
       "      <td>T</td>\n",
       "      <td>1</td>\n",
       "      <td>1</td>\n",
       "      <td>at_home</td>\n",
       "      <td>other</td>\n",
       "      <td>...</td>\n",
       "      <td>4</td>\n",
       "      <td>3</td>\n",
       "      <td>2</td>\n",
       "      <td>2</td>\n",
       "      <td>3</td>\n",
       "      <td>3</td>\n",
       "      <td>10</td>\n",
       "      <td>7</td>\n",
       "      <td>8</td>\n",
       "      <td>10</td>\n",
       "    </tr>\n",
       "    <tr>\n",
       "      <th>3</th>\n",
       "      <td>GP</td>\n",
       "      <td>F</td>\n",
       "      <td>15</td>\n",
       "      <td>U</td>\n",
       "      <td>GT3</td>\n",
       "      <td>T</td>\n",
       "      <td>4</td>\n",
       "      <td>2</td>\n",
       "      <td>health</td>\n",
       "      <td>services</td>\n",
       "      <td>...</td>\n",
       "      <td>3</td>\n",
       "      <td>2</td>\n",
       "      <td>2</td>\n",
       "      <td>1</td>\n",
       "      <td>1</td>\n",
       "      <td>5</td>\n",
       "      <td>2</td>\n",
       "      <td>15</td>\n",
       "      <td>14</td>\n",
       "      <td>15</td>\n",
       "    </tr>\n",
       "    <tr>\n",
       "      <th>4</th>\n",
       "      <td>GP</td>\n",
       "      <td>F</td>\n",
       "      <td>16</td>\n",
       "      <td>U</td>\n",
       "      <td>GT3</td>\n",
       "      <td>T</td>\n",
       "      <td>3</td>\n",
       "      <td>3</td>\n",
       "      <td>other</td>\n",
       "      <td>other</td>\n",
       "      <td>...</td>\n",
       "      <td>4</td>\n",
       "      <td>3</td>\n",
       "      <td>2</td>\n",
       "      <td>1</td>\n",
       "      <td>2</td>\n",
       "      <td>5</td>\n",
       "      <td>4</td>\n",
       "      <td>6</td>\n",
       "      <td>10</td>\n",
       "      <td>10</td>\n",
       "    </tr>\n",
       "  </tbody>\n",
       "</table>\n",
       "<p>5 rows × 33 columns</p>\n",
       "</div>"
      ],
      "text/plain": [
       "  school sex  age address famsize Pstatus  Medu  Fedu     Mjob      Fjob  ...  \\\n",
       "0     GP   F   18       U     GT3       A     4     4  at_home   teacher  ...   \n",
       "1     GP   F   17       U     GT3       T     1     1  at_home     other  ...   \n",
       "2     GP   F   15       U     LE3       T     1     1  at_home     other  ...   \n",
       "3     GP   F   15       U     GT3       T     4     2   health  services  ...   \n",
       "4     GP   F   16       U     GT3       T     3     3    other     other  ...   \n",
       "\n",
       "  famrel freetime  goout  Dalc  Walc health absences  G1  G2  G3  \n",
       "0      4        3      4     1     1      3        6   5   6   6  \n",
       "1      5        3      3     1     1      3        4   5   5   6  \n",
       "2      4        3      2     2     3      3       10   7   8  10  \n",
       "3      3        2      2     1     1      5        2  15  14  15  \n",
       "4      4        3      2     1     2      5        4   6  10  10  \n",
       "\n",
       "[5 rows x 33 columns]"
      ]
     },
     "execution_count": 13,
     "metadata": {},
     "output_type": "execute_result"
    }
   ],
   "source": [
    "# どんなデータがあるかざっと見る\n",
    "student_data_math.head()"
   ]
  },
  {
   "cell_type": "markdown",
   "metadata": {},
   "source": [
    "データが正しく区切られました。\n",
    "\n",
    "なお、read_csvの解説を見ると最初から「;」が設定されていることが多いのですが、まだ何も知らない見たこともないデータに対して、区切り文字を「;」にすればよいかどうかは、普通はわかりません。データ分析の実務では、試行錯誤をしながら区切り文字を探すことも多いので、今回は上記のような流れで実施してみました。\n",
    "\n",
    "なお、このread_csvについては、sep以外にもパラメータがいくつかあり、区切り文字のほか、データ名（アドレス含む）、ヘッダーがあるかないかを指定することもできます。どんなパラメータが設定できるのかは、次のように実行すると確認できます。"
   ]
  },
  {
   "cell_type": "code",
   "execution_count": 14,
   "metadata": {},
   "outputs": [],
   "source": [
    "?pd.read_csv"
   ]
  },
  {
   "cell_type": "markdown",
   "metadata": {},
   "source": [
    "### 3.2.3 データの性質を確認する\n",
    "\n",
    "先ほど読み込んだデータを見てみると、`school`や`age`など学生の属性情報が入っているというのはわかります。しかし、いくつデータがあるのか、どんなデータの種類があるのかまだわかりません。\n",
    "\n",
    "#### データの個数や型を確認する\n",
    "次のように`info`を使うと、すべての変数について、nullでないデータの個数や変数の型がわかります。\n"
   ]
  },
  {
   "cell_type": "code",
   "execution_count": 15,
   "metadata": {
    "nbpresent": {
     "id": "21eb3ee8-f72c-4842-a2b2-98bc6b4b06b2"
    }
   },
   "outputs": [
    {
     "name": "stdout",
     "output_type": "stream",
     "text": [
      "<class 'pandas.core.frame.DataFrame'>\n",
      "RangeIndex: 395 entries, 0 to 394\n",
      "Data columns (total 33 columns):\n",
      " #   Column      Non-Null Count  Dtype \n",
      "---  ------      --------------  ----- \n",
      " 0   school      395 non-null    object\n",
      " 1   sex         395 non-null    object\n",
      " 2   age         395 non-null    int64 \n",
      " 3   address     395 non-null    object\n",
      " 4   famsize     395 non-null    object\n",
      " 5   Pstatus     395 non-null    object\n",
      " 6   Medu        395 non-null    int64 \n",
      " 7   Fedu        395 non-null    int64 \n",
      " 8   Mjob        395 non-null    object\n",
      " 9   Fjob        395 non-null    object\n",
      " 10  reason      395 non-null    object\n",
      " 11  guardian    395 non-null    object\n",
      " 12  traveltime  395 non-null    int64 \n",
      " 13  studytime   395 non-null    int64 \n",
      " 14  failures    395 non-null    int64 \n",
      " 15  schoolsup   395 non-null    object\n",
      " 16  famsup      395 non-null    object\n",
      " 17  paid        395 non-null    object\n",
      " 18  activities  395 non-null    object\n",
      " 19  nursery     395 non-null    object\n",
      " 20  higher      395 non-null    object\n",
      " 21  internet    395 non-null    object\n",
      " 22  romantic    395 non-null    object\n",
      " 23  famrel      395 non-null    int64 \n",
      " 24  freetime    395 non-null    int64 \n",
      " 25  goout       395 non-null    int64 \n",
      " 26  Dalc        395 non-null    int64 \n",
      " 27  Walc        395 non-null    int64 \n",
      " 28  health      395 non-null    int64 \n",
      " 29  absences    395 non-null    int64 \n",
      " 30  G1          395 non-null    int64 \n",
      " 31  G2          395 non-null    int64 \n",
      " 32  G3          395 non-null    int64 \n",
      "dtypes: int64(16), object(17)\n",
      "memory usage: 102.0+ KB\n"
     ]
    }
   ],
   "source": [
    "# すべてのカラムの情報等チェック\n",
    "student_data_math.info()"
   ]
  },
  {
   "cell_type": "markdown",
   "metadata": {},
   "source": [
    "はじめに「`RangeIndex: 395 entries, 0 to 394`」とあり、395個データがあることがわかります。\n",
    "`non-null`は`null`でないデータを意味します。すべての変数について「`395 non-null`」となっているので、今回は`null`のデータは存在しないようです。\n",
    "\n",
    "\n",
    "#### ■コラム「変数」という用語について\n",
    "\n",
    "「変数」という言葉は、Pythonのプログラミングの世界と、データ解析の数学の世界で、どちらでも使います。文脈によって、どちらの意味なのかが違うので、混乱しないようにしましょう。\n",
    "\n",
    "- Pythonの変数：データを格納するための機能です。たとえば「変数`a`に代入する」などという使い方をします。\n",
    "- データ解析における変数：対象データにおいて変化する値を示したものです。実際の実データであったり、予測データであったりします。この章で後に出てきますが、「目的変数」や「説明変数」など、特別な用語で呼ばれるものもあります。\n",
    "\n",
    "すぐ上の文脈の「すべての変数について、`null`でないデータの個数や変数の型がわかります」という文脈は、「データ解析における変数」のほうを示しています。つまり、「`school`」「`sex`」「`age`」など、ラベル付けされた、それぞれのデータ列を指しています。\n",
    "\n",
    "\n",
    "\n",
    "#### ドキュメントでデータ項目を確認する\n",
    "さらにこのデータを理解していくために、このデータのカラムが一体何のデータなのか把握していきましょう。\n",
    "実は、ダウンロードしたデータのなかに含まれているstudent.txtファイルには、変数に関する詳しい情報が書かれています。シェルやコマンドライン等に慣れている人は、ここで**less ファイル名**や**cat ファイル名**でその中身を見ることができます。そうでなければ、テキストエディタなどで直接開いて確認するとよいでしょう。\n",
    "\n",
    "下記に、student.txtに記載されている内容を整理した情報を記載します。\n",
    "\n",
    "ここではstudent.txtからデータの意味を紐解いていますが、実際のビジネスの現場では、データに詳しい人から情報をもらったり、データの仕様書を読み解いて確認していく作業をすることで、データ項目を確認します。"
   ]
  },
  {
   "cell_type": "markdown",
   "metadata": {},
   "source": [
    "** データの属性説明 **\n",
    "\n",
    "1 school - 学校（binary: \"GP\" - Gabriel Pereira or \"MS\" - Mousinho da Silveira）<br>\n",
    "2 sex - 性（binary: \"F\" - female or \"M\" - male）<br>\n",
    "3 age - 年齢（numeric: from 15 to 22）<br>\n",
    "4 address - 住所のタイプ（binary: \"U\" - urban or \"R\" - rural）<br>\n",
    "5 famsize - 家族の人数（binary: \"LE3\" - less or equal to 3 or \"GT3\" - greater than 3）<br>\n",
    "6 Pstatus - 両親と同居しているかどうか（binary: \"T\" - living together or \"A\" - apart）<br>\n",
    "7 Medu - 母親の学歴（numeric: 0 - none,  1 - primary education（4th grade）, 2 ? 5th to 9th grade, 3 ? secondary education or 4 ? higher education）<br>\n",
    "8 Fedu - 父親の学歴（numeric: 0 - none,  1 - primary education（4th grade）, 2 ? 5th to 9th grade, 3 ? secondary education or 4 ? higher education）<br>\n",
    "9 Mjob - 母親の仕事（nominal: \"teacher\", \"health\" care related, civil \"services\"（e.g. administrative or police）, \"at_home\" or \"other\"）<br>\n",
    "10 Fjob - 父親の仕事（nominal: \"teacher\", \"health\" care related, civil \"services\"（e.g. administrative or police）, \"at_home\" or \"other\"）<br>\n",
    "11 reason - 学校を選んだ理由（nominal: close to \"home\", school \"reputation\", \"course\" preference or \"other\"）<br>\n",
    "12 guardian - 生徒の保護者（nominal: \"mother\", \"father\" or \"other\"）<br>\n",
    "13 traveltime - 通学時間（numeric: 1 - <15 min., 2 - 15 to 30 min., 3 - 30 min. to 1 hour, or 4 - >1 hour）<br>\n",
    "14 studytime - 週の勉強時間（numeric: 1 - <2 hours, 2 - 2 to 5 hours, 3 - 5 to 10 hours, or 4 - >10 hours）<br>\n",
    "15 failures - 過去の落第回数（numeric: n if 1<=n<3, else 4）<br>\n",
    "16 schoolsup - 追加の教育サポート（binary: yes or no）<br>\n",
    "17 famsup - 家族の教育サポート（binary: yes or no）<br>\n",
    "18 paid - 追加の有料クラス（Math or Portuguese）（binary: yes or no）<br>\n",
    "19 activities - 学校外の活動（binary: yes or no）<br>\n",
    "20 nursery - 保育園に通ったことがあるかどうか（binary: yes or no）<br>\n",
    "21 higher - 高い教育を受けたいかどうか（binary: yes or no）<br>\n",
    "22 internet - 家でインターネットのアクセスができるかどうか（binary: yes or no）<br>\n",
    "23 romantic - 恋愛関係（binary: yes or no）<br>\n",
    "24 famrel - 家族との関係性（numeric: from 1 - very bad to 5 - excellent）<br>\n",
    "25 freetime - 学校後の自由時間（numeric: from 1 - very low to 5 - very high）<br>\n",
    "26 goout - 友人と遊ぶかどうか（numeric: from 1 - very low to 5 - very high）<br>\n",
    "27 Dalc - 平日のアルコール摂取量（numeric: from 1 - very low to 5 - very high）<br>\n",
    "28 Walc - 週末のアルコール摂取量（numeric: from 1 - very low to 5 - very high）<br>\n",
    "29 health - 現在の健康状態（numeric: from 1 - very bad to 5 - very good）<br>\n",
    "30 absences - 学校の欠席数（numeric: from 0 to 93）<br>\n",
    "31 G1 - 一期の成績（numeric: from 0 to 20）<br>\n",
    "31 G2 - 二期の成績（numeric: from 0 to 20）<br>\n",
    "32 G3 - 最終の成績（numeric: from 0 to 20, output target）"
   ]
  },
  {
   "cell_type": "markdown",
   "metadata": {},
   "source": [
    "### 3.2.4 量的データと質的データ\n",
    "さて、上記のデータを見てみると、数字のデータがあったり、男女などの属性データがあったりします。\n",
    "\n",
    "データは基本的に、量的データと質的データの2つに分けることができます。集計やモデリングの際に気をつけて扱いましょう。\n",
    "\n",
    "・**量的データ**：四則演算を適用可能な連続値で表現されるデータであり、比率に意味がある。例）人数や金額などのデータ。\n",
    "\n",
    "・**質的データ**：四則演算を適用不可能な不連続のデータであり、状態を表現するために利用される。例）順位やカテゴリなどのデータ。\n",
    "\n",
    "\n",
    "#### 量的データと質的データの例\n",
    "次のコードは、先ほど読み込んだデータの中にある「性別」を指定しています。このデータは特に数値化されておらず、比較もできないので、質的データです。"
   ]
  },
  {
   "cell_type": "code",
   "execution_count": 16,
   "metadata": {
    "nbpresent": {
     "id": "885a45ac-f069-4988-b245-fcd79646e17f"
    }
   },
   "outputs": [
    {
     "data": {
      "text/plain": [
       "0    F\n",
       "1    F\n",
       "2    F\n",
       "3    F\n",
       "4    F\n",
       "Name: sex, dtype: object"
      ]
     },
     "execution_count": 16,
     "metadata": {},
     "output_type": "execute_result"
    }
   ],
   "source": [
    "student_data_math['sex'].head()"
   ]
  },
  {
   "cell_type": "markdown",
   "metadata": {},
   "source": [
    "次のコードでは、データの列にある「欠席数」を指定しています。このデータは量的データです。"
   ]
  },
  {
   "cell_type": "code",
   "execution_count": 17,
   "metadata": {},
   "outputs": [
    {
     "data": {
      "text/plain": [
       "0     6\n",
       "1     4\n",
       "2    10\n",
       "3     2\n",
       "4     4\n",
       "Name: absences, dtype: int64"
      ]
     },
     "execution_count": 17,
     "metadata": {},
     "output_type": "execute_result"
    }
   ],
   "source": [
    "student_data_math['absences'].head()"
   ]
  },
  {
   "cell_type": "markdown",
   "metadata": {},
   "source": [
    "#### 軸別に平均値を求める\n",
    "\n",
    "ここで、前に学んだPandasのテクニックを使って、性別を軸にして、年齢の平均値をそれぞれ計算してみましょう。次のようにすれば求められます。"
   ]
  },
  {
   "cell_type": "code",
   "execution_count": 18,
   "metadata": {
    "scrolled": true
   },
   "outputs": [
    {
     "data": {
      "text/plain": [
       "sex\n",
       "F    16.730769\n",
       "M    16.657754\n",
       "Name: age, dtype: float64"
      ]
     },
     "execution_count": 18,
     "metadata": {},
     "output_type": "execute_result"
    }
   ],
   "source": [
    "student_data_math.groupby('sex')['age'].mean()"
   ]
  },
  {
   "cell_type": "markdown",
   "metadata": {},
   "source": [
    "簡単ではありましたが、データの中身についてカラムや、その数字等を見てきました。他にも、いろいろな視点でデータ集計ができるので、何か仮説を持って（男性の方がアルコール摂取量が多い、など）、その仮説があっているかどうか実装して確かめてみましょう。"
   ]
  },
  {
   "cell_type": "markdown",
   "metadata": {},
   "source": [
    ">**[やってみよう]**\n",
    ">\n",
    ">読み込んだデータを使って、いろいろな視点でデータ集計して、データと対話してみましょう。どんな仮説を考えますか。また、その仮説を確かめるために、どのような実装をしますか。"
   ]
  },
  {
   "cell_type": "code",
   "execution_count": 19,
   "metadata": {},
   "outputs": [
    {
     "data": {
      "text/plain": [
       "sex\n",
       "F    6.216346\n",
       "M    5.144385\n",
       "Name: absences, dtype: float64"
      ]
     },
     "execution_count": 19,
     "metadata": {},
     "output_type": "execute_result"
    }
   ],
   "source": [
    "student_data_math.groupby('sex')['absences'].mean()"
   ]
  },
  {
   "cell_type": "code",
   "execution_count": 20,
   "metadata": {},
   "outputs": [
    {
     "data": {
      "text/plain": [
       "sex\n",
       "F    1.254808\n",
       "M    1.732620\n",
       "Name: Dalc, dtype: float64"
      ]
     },
     "execution_count": 20,
     "metadata": {},
     "output_type": "execute_result"
    }
   ],
   "source": [
    "student_data_math.groupby('sex')['Dalc'].mean()"
   ]
  },
  {
   "cell_type": "markdown",
   "metadata": {},
   "source": [
    "## 3.3 記述統計\n",
    "キーワード：記述統計学、量的データ、質的データ、ヒストグラム、四分位範囲、要約統計量、平均、分散、標準偏差、変動係数、散布図、相関係数\n",
    "\n",
    "データの概要が分かったところで、本題の**記述統計**について学んでいきます。\n",
    "\n",
    "### 3.3.1 ヒストグラム\n",
    "まずは、このデータの中にある欠席数について考えてみることにします。`head`でサンプルを確認すると、10や2など、さまざまな値がありました。\n",
    "\n",
    "それぞれの値がいったいどれくらいあるのか観測するのが、次のヒストグラムです。「2.5　Matplotlibの基礎」で学んだMatplotlibを使って、`hist`でそのグラフを表示させます（ヒストグラムについては「2.5.5　ヒストグラム」も参考にしてください）。"
   ]
  },
  {
   "cell_type": "code",
   "execution_count": 21,
   "metadata": {
    "scrolled": true
   },
   "outputs": [
    {
     "data": {
      "image/png": "[encoded data removed]",
      "text/plain": [
       "<Figure size 432x288 with 1 Axes>"
      ]
     },
     "metadata": {
      "needs_background": "light"
     },
     "output_type": "display_data"
    }
   ],
   "source": [
    "# histogram、データの指定\n",
    "plt.hist(student_data_math['absences'])\n",
    "\n",
    "# x軸とy軸のそれぞれのラベル\n",
    "plt.xlabel('absences')\n",
    "plt.ylabel('count')\n",
    "\n",
    "# グリッドをつける\n",
    "plt.grid(True)"
   ]
  },
  {
   "cell_type": "markdown",
   "metadata": {},
   "source": [
    "上記のヒストグラムを観察すると、0から10までの付近にデータが集中しているのがわかります。一方、70以上など（の数字）もあり、ロングテールな分布になっています。ロングテールとは、分布の裾が緩やかに減少しているような分布です。なお、上のような分布を「右に歪みのある分布」といい、見た目とは異なり、よく間違えられるので表現に注意しましょう。\n",
    "\n",
    "### 3.3.2 平均、中央値、最頻値\n",
    "このヒストグラムは、データの全体像を見る上では欠かせないものですが、どのような時にデータが偏っているといえるのかなどの情報は読み取れず、客観性が少し乏しくなります。そのため、次の要約統計量（中央値、平均、標準偏差など）について計算することで、データの傾向を数値化し、より客観的にデータを表現することができます。"
   ]
  },
  {
   "cell_type": "code",
   "execution_count": 22,
   "metadata": {},
   "outputs": [
    {
     "name": "stdout",
     "output_type": "stream",
     "text": [
      "平均値： 5.708860759493671\n",
      "中央値： 4.0\n",
      "最頻値： 0    0\n",
      "dtype: int64\n"
     ]
    }
   ],
   "source": [
    "# 平均値\n",
    "print('平均値：', student_data_math['absences'].mean())\n",
    "# 中央値：中央値でデータを分けると中央値の前後でデータ数が同じになる（データの真ん中の値）、外れ値の値に影響を受けにくい\n",
    "print('中央値：', student_data_math['absences'].median())\n",
    "# 最頻値：最も頻度が多い値\n",
    "print('最頻値：', student_data_math['absences'].mode())"
   ]
  },
  {
   "cell_type": "markdown",
   "metadata": {},
   "source": [
    "なお、平均値$\\overline{x}$の計算式は以下の通りです。ここで$x_i$を第$i$番目のデータ（値）とします。"
   ]
  },
  {
   "cell_type": "markdown",
   "metadata": {},
   "source": [
    "\\begin{eqnarray}\n",
    "\\overline{x}=\\frac{1}{n}\\sum^n_{i=1}x_i\n",
    "\\end{eqnarray}"
   ]
  },
  {
   "cell_type": "markdown",
   "metadata": {},
   "source": [
    "### 3.3.3 分散と標準偏差\n",
    "次に、このデータが散らばっているのか、それともまとまっている（平均付近に固まっている）のかを調べるのが分散です。分散の計算式は以下の通りです。分散は$\\sigma^2$と示すことが一般的です。"
   ]
  },
  {
   "cell_type": "markdown",
   "metadata": {},
   "source": [
    "\\begin{eqnarray}\n",
    "\\sigma^2 = \\frac{1}{n}\\sum^n_{i=1}(x_i-{\\overline{x}} )^2\n",
    "\\end{eqnarray}"
   ]
  },
  {
   "cell_type": "markdown",
   "metadata": {},
   "source": [
    "該当の変数を指定した後に、`var()`で計算できます。値が小さいほど、データの散らばりが少ないことを意味しています。"
   ]
  },
  {
   "cell_type": "code",
   "execution_count": 23,
   "metadata": {},
   "outputs": [
    {
     "data": {
      "text/plain": [
       "64.050"
      ]
     },
     "execution_count": 23,
     "metadata": {},
     "output_type": "execute_result"
    }
   ],
   "source": [
    "# 分散\n",
    "student_data_math['absences'].var()"
   ]
  },
  {
   "cell_type": "markdown",
   "metadata": {},
   "source": [
    "標準偏差は分散の平方根で、以下のようになります。標準偏差は$\\sigma$で示すことが一般的です。"
   ]
  },
  {
   "cell_type": "markdown",
   "metadata": {},
   "source": [
    "\\begin{eqnarray}\n",
    "\\sigma = \\sqrt{\\frac{1}{n}\\sum^n_{i=1}(x_i-{\\overline{x}} )^2}\n",
    "\\end{eqnarray}"
   ]
  },
  {
   "cell_type": "markdown",
   "metadata": {},
   "source": [
    "分散では、実際のデータのばらつきがどの程度かわかりません。なぜなら、上記で提示した分散の定義式を見るとわかるように、計算式で二乗しているためです。標準偏差にすれば、単位の次元が実際のデータと同じなので、以下の結果から±8日程度のばらつきがあることが分かります。標準偏差は`std()`で計算できます。"
   ]
  },
  {
   "cell_type": "code",
   "execution_count": 24,
   "metadata": {},
   "outputs": [
    {
     "data": {
      "text/plain": [
       "8.003"
      ]
     },
     "execution_count": 24,
     "metadata": {},
     "output_type": "execute_result"
    }
   ],
   "source": [
    "# 標準偏差 σ\n",
    "student_data_math['absences'].std()"
   ]
  },
  {
   "cell_type": "markdown",
   "metadata": {},
   "source": [
    "なお平方根は、`np.sqrt`で平方根の計算ができるので、以下の方法で計算しても同じです。"
   ]
  },
  {
   "cell_type": "code",
   "execution_count": 25,
   "metadata": {},
   "outputs": [
    {
     "data": {
      "text/plain": [
       "8.003095687108177"
      ]
     },
     "execution_count": 25,
     "metadata": {},
     "output_type": "execute_result"
    }
   ],
   "source": [
    "np.sqrt(student_data_math['absences'].var())"
   ]
  },
  {
   "cell_type": "markdown",
   "metadata": {},
   "source": [
    "### 3.3.4 要約統計量とパーセンタイル値\n",
    "これまで、1つ1つの統計量を見てきましたが、Pandasで読み込んだ`DataFrame`の`describe`メソッドを実行すると、これまで求めてきた統計量を、まとめて確認できます。\n",
    "`describe`メソッドでは、それぞれ順にデータ数、平均値、標準偏差、最小値、25、50、75パーセンタイル値、そして最大値を計算できます。\n",
    "なお「パーセンタイル値」とは、全体を100として小さい方から数えて何番になるのかを示す数値です。たとえば、10パーセンタイルは100個のデータのうち小さいほうから数えて10番目ということになります。50パーセンタイルだと50番目で真ん中の値となり、中央値になります（下図参照）。25%タイルと75%タイルはそれぞれ第1四分位点、第3四分位点とも呼びます。"
   ]
  },
  {
   "cell_type": "markdown",
   "metadata": {},
   "source": [
    "（※図は書籍を参照してください※）"
   ]
  },
  {
   "cell_type": "code",
   "execution_count": 26,
   "metadata": {
    "nbpresent": {
     "id": "9c7b5502-7d21-45ef-9801-c8ab89c0cb1b"
    }
   },
   "outputs": [
    {
     "data": {
      "text/plain": [
       "count    395.000000\n",
       "mean       5.708861\n",
       "std        8.003096\n",
       "min        0.000000\n",
       "25%        0.000000\n",
       "50%        4.000000\n",
       "75%        8.000000\n",
       "max       75.000000\n",
       "Name: absences, dtype: float64"
      ]
     },
     "execution_count": 26,
     "metadata": {},
     "output_type": "execute_result"
    }
   ],
   "source": [
    "# 要約統計量\n",
    "student_data_math['absences'].describe()"
   ]
  },
  {
   "cell_type": "markdown",
   "metadata": {},
   "source": [
    "#### 四方位範囲を求める\n",
    "\n",
    "`describe`メソッドの結果は、`Series`オブジェクトに入ります。\n",
    "\n",
    "\n",
    "それぞれの要素は、`describe()[インデックス番号]`として取得できます。たとえば、平均値を示す`mean`の値は、`describe()[1]`、標準偏差を示す`std`の値は`describe()[2]`です。"
   ]
  },
  {
   "cell_type": "markdown",
   "metadata": {},
   "source": [
    "それぞれの要素を参照すれば、その値を使った計算ができます。たとえば、**四分位範囲**と呼ばれる75%タイルと25%タイルの差を計算したいときは、上から5番目と7番目の要素になるので、それらを使って次のように計算します。"
   ]
  },
  {
   "cell_type": "code",
   "execution_count": 27,
   "metadata": {},
   "outputs": [
    {
     "data": {
      "text/plain": [
       "8.0"
      ]
     },
     "execution_count": 27,
     "metadata": {},
     "output_type": "execute_result"
    }
   ],
   "source": [
    "# 四分位範囲(75%タイル ー 25%タイル)\n",
    "student_data_math['absences'].describe()[6] - student_data_math['absences'].describe()[4]"
   ]
  },
  {
   "cell_type": "markdown",
   "metadata": {},
   "source": [
    "#### 全列を対象とした結果を求める\n",
    "\n",
    "`describe`メソッドで列名や要素を指定せずに実行すると、すべての量的データの要約統計量を求めることができます。まとめて計算する場合は便利です。他、列を絞り込んで計算することもできます。"
   ]
  },
  {
   "cell_type": "code",
   "execution_count": 28,
   "metadata": {
    "scrolled": true
   },
   "outputs": [
    {
     "data": {
      "text/html": [
       "<div>\n",
       "<style scoped>\n",
       "    .dataframe tbody tr th:only-of-type {\n",
       "        vertical-align: middle;\n",
       "    }\n",
       "\n",
       "    .dataframe tbody tr th {\n",
       "        vertical-align: top;\n",
       "    }\n",
       "\n",
       "    .dataframe thead th {\n",
       "        text-align: right;\n",
       "    }\n",
       "</style>\n",
       "<table border=\"1\" class=\"dataframe\">\n",
       "  <thead>\n",
       "    <tr style=\"text-align: right;\">\n",
       "      <th></th>\n",
       "      <th>age</th>\n",
       "      <th>Medu</th>\n",
       "      <th>Fedu</th>\n",
       "      <th>traveltime</th>\n",
       "      <th>studytime</th>\n",
       "      <th>failures</th>\n",
       "      <th>famrel</th>\n",
       "      <th>freetime</th>\n",
       "      <th>goout</th>\n",
       "      <th>Dalc</th>\n",
       "      <th>Walc</th>\n",
       "      <th>health</th>\n",
       "      <th>absences</th>\n",
       "      <th>G1</th>\n",
       "      <th>G2</th>\n",
       "      <th>G3</th>\n",
       "    </tr>\n",
       "  </thead>\n",
       "  <tbody>\n",
       "    <tr>\n",
       "      <th>count</th>\n",
       "      <td>395.000000</td>\n",
       "      <td>395.000000</td>\n",
       "      <td>395.000000</td>\n",
       "      <td>395.000000</td>\n",
       "      <td>395.000000</td>\n",
       "      <td>395.000000</td>\n",
       "      <td>395.000000</td>\n",
       "      <td>395.000000</td>\n",
       "      <td>395.000000</td>\n",
       "      <td>395.000000</td>\n",
       "      <td>395.000000</td>\n",
       "      <td>395.000000</td>\n",
       "      <td>395.000000</td>\n",
       "      <td>395.000000</td>\n",
       "      <td>395.000000</td>\n",
       "      <td>395.000000</td>\n",
       "    </tr>\n",
       "    <tr>\n",
       "      <th>mean</th>\n",
       "      <td>16.696203</td>\n",
       "      <td>2.749367</td>\n",
       "      <td>2.521519</td>\n",
       "      <td>1.448101</td>\n",
       "      <td>2.035443</td>\n",
       "      <td>0.334177</td>\n",
       "      <td>3.944304</td>\n",
       "      <td>3.235443</td>\n",
       "      <td>3.108861</td>\n",
       "      <td>1.481013</td>\n",
       "      <td>2.291139</td>\n",
       "      <td>3.554430</td>\n",
       "      <td>5.708861</td>\n",
       "      <td>10.908861</td>\n",
       "      <td>10.713924</td>\n",
       "      <td>10.415190</td>\n",
       "    </tr>\n",
       "    <tr>\n",
       "      <th>std</th>\n",
       "      <td>1.276043</td>\n",
       "      <td>1.094735</td>\n",
       "      <td>1.088201</td>\n",
       "      <td>0.697505</td>\n",
       "      <td>0.839240</td>\n",
       "      <td>0.743651</td>\n",
       "      <td>0.896659</td>\n",
       "      <td>0.998862</td>\n",
       "      <td>1.113278</td>\n",
       "      <td>0.890741</td>\n",
       "      <td>1.287897</td>\n",
       "      <td>1.390303</td>\n",
       "      <td>8.003096</td>\n",
       "      <td>3.319195</td>\n",
       "      <td>3.761505</td>\n",
       "      <td>4.581443</td>\n",
       "    </tr>\n",
       "    <tr>\n",
       "      <th>min</th>\n",
       "      <td>15.000000</td>\n",
       "      <td>0.000000</td>\n",
       "      <td>0.000000</td>\n",
       "      <td>1.000000</td>\n",
       "      <td>1.000000</td>\n",
       "      <td>0.000000</td>\n",
       "      <td>1.000000</td>\n",
       "      <td>1.000000</td>\n",
       "      <td>1.000000</td>\n",
       "      <td>1.000000</td>\n",
       "      <td>1.000000</td>\n",
       "      <td>1.000000</td>\n",
       "      <td>0.000000</td>\n",
       "      <td>3.000000</td>\n",
       "      <td>0.000000</td>\n",
       "      <td>0.000000</td>\n",
       "    </tr>\n",
       "    <tr>\n",
       "      <th>25%</th>\n",
       "      <td>16.000000</td>\n",
       "      <td>2.000000</td>\n",
       "      <td>2.000000</td>\n",
       "      <td>1.000000</td>\n",
       "      <td>1.000000</td>\n",
       "      <td>0.000000</td>\n",
       "      <td>4.000000</td>\n",
       "      <td>3.000000</td>\n",
       "      <td>2.000000</td>\n",
       "      <td>1.000000</td>\n",
       "      <td>1.000000</td>\n",
       "      <td>3.000000</td>\n",
       "      <td>0.000000</td>\n",
       "      <td>8.000000</td>\n",
       "      <td>9.000000</td>\n",
       "      <td>8.000000</td>\n",
       "    </tr>\n",
       "    <tr>\n",
       "      <th>50%</th>\n",
       "      <td>17.000000</td>\n",
       "      <td>3.000000</td>\n",
       "      <td>2.000000</td>\n",
       "      <td>1.000000</td>\n",
       "      <td>2.000000</td>\n",
       "      <td>0.000000</td>\n",
       "      <td>4.000000</td>\n",
       "      <td>3.000000</td>\n",
       "      <td>3.000000</td>\n",
       "      <td>1.000000</td>\n",
       "      <td>2.000000</td>\n",
       "      <td>4.000000</td>\n",
       "      <td>4.000000</td>\n",
       "      <td>11.000000</td>\n",
       "      <td>11.000000</td>\n",
       "      <td>11.000000</td>\n",
       "    </tr>\n",
       "    <tr>\n",
       "      <th>75%</th>\n",
       "      <td>18.000000</td>\n",
       "      <td>4.000000</td>\n",
       "      <td>3.000000</td>\n",
       "      <td>2.000000</td>\n",
       "      <td>2.000000</td>\n",
       "      <td>0.000000</td>\n",
       "      <td>5.000000</td>\n",
       "      <td>4.000000</td>\n",
       "      <td>4.000000</td>\n",
       "      <td>2.000000</td>\n",
       "      <td>3.000000</td>\n",
       "      <td>5.000000</td>\n",
       "      <td>8.000000</td>\n",
       "      <td>13.000000</td>\n",
       "      <td>13.000000</td>\n",
       "      <td>14.000000</td>\n",
       "    </tr>\n",
       "    <tr>\n",
       "      <th>max</th>\n",
       "      <td>22.000000</td>\n",
       "      <td>4.000000</td>\n",
       "      <td>4.000000</td>\n",
       "      <td>4.000000</td>\n",
       "      <td>4.000000</td>\n",
       "      <td>3.000000</td>\n",
       "      <td>5.000000</td>\n",
       "      <td>5.000000</td>\n",
       "      <td>5.000000</td>\n",
       "      <td>5.000000</td>\n",
       "      <td>5.000000</td>\n",
       "      <td>5.000000</td>\n",
       "      <td>75.000000</td>\n",
       "      <td>19.000000</td>\n",
       "      <td>19.000000</td>\n",
       "      <td>20.000000</td>\n",
       "    </tr>\n",
       "  </tbody>\n",
       "</table>\n",
       "</div>"
      ],
      "text/plain": [
       "              age        Medu        Fedu  traveltime   studytime    failures  \\\n",
       "count  395.000000  395.000000  395.000000  395.000000  395.000000  395.000000   \n",
       "mean    16.696203    2.749367    2.521519    1.448101    2.035443    0.334177   \n",
       "std      1.276043    1.094735    1.088201    0.697505    0.839240    0.743651   \n",
       "min     15.000000    0.000000    0.000000    1.000000    1.000000    0.000000   \n",
       "25%     16.000000    2.000000    2.000000    1.000000    1.000000    0.000000   \n",
       "50%     17.000000    3.000000    2.000000    1.000000    2.000000    0.000000   \n",
       "75%     18.000000    4.000000    3.000000    2.000000    2.000000    0.000000   \n",
       "max     22.000000    4.000000    4.000000    4.000000    4.000000    3.000000   \n",
       "\n",
       "           famrel    freetime       goout        Dalc        Walc      health  \\\n",
       "count  395.000000  395.000000  395.000000  395.000000  395.000000  395.000000   \n",
       "mean     3.944304    3.235443    3.108861    1.481013    2.291139    3.554430   \n",
       "std      0.896659    0.998862    1.113278    0.890741    1.287897    1.390303   \n",
       "min      1.000000    1.000000    1.000000    1.000000    1.000000    1.000000   \n",
       "25%      4.000000    3.000000    2.000000    1.000000    1.000000    3.000000   \n",
       "50%      4.000000    3.000000    3.000000    1.000000    2.000000    4.000000   \n",
       "75%      5.000000    4.000000    4.000000    2.000000    3.000000    5.000000   \n",
       "max      5.000000    5.000000    5.000000    5.000000    5.000000    5.000000   \n",
       "\n",
       "         absences          G1          G2          G3  \n",
       "count  395.000000  395.000000  395.000000  395.000000  \n",
       "mean     5.708861   10.908861   10.713924   10.415190  \n",
       "std      8.003096    3.319195    3.761505    4.581443  \n",
       "min      0.000000    3.000000    0.000000    0.000000  \n",
       "25%      0.000000    8.000000    9.000000    8.000000  \n",
       "50%      4.000000   11.000000   11.000000   11.000000  \n",
       "75%      8.000000   13.000000   13.000000   14.000000  \n",
       "max     75.000000   19.000000   19.000000   20.000000  "
      ]
     },
     "execution_count": 28,
     "metadata": {},
     "output_type": "execute_result"
    }
   ],
   "source": [
    "# 要約統計量まとめて計算\n",
    "student_data_math.describe()"
   ]
  },
  {
   "cell_type": "markdown",
   "metadata": {},
   "source": [
    "### 3.3.5 箱ひげ図\n",
    "\n",
    "さて、これまで最大値、最小値、中央値、四分位範囲などを算出してきましたが、ただ数字を見ているだけでは、比較などが難しいので、それらをグラフ化してみましょう。そのときに使うのが、次の「箱ひげ図」です。\n",
    "\n",
    "下記の2つの例は、「1期目の成績G1」「欠席数」の箱ひげ図をそれぞれ描いたものです。特徴としてかなり異なるのがわかります。\n",
    "\n",
    "箱ひげ図は、箱の上底が第3四分位点、下底が第1四分位点、真ん中の線が中央値です。ヒゲの上端が最大値、下端が最小値です。これで扱うデータの範囲等がわかります。"
   ]
  },
  {
   "cell_type": "code",
   "execution_count": 29,
   "metadata": {},
   "outputs": [
    {
     "data": {
      "image/png": "[encoded data removed]",
      "text/plain": [
       "<Figure size 432x288 with 1 Axes>"
      ]
     },
     "metadata": {
      "needs_background": "light"
     },
     "output_type": "display_data"
    }
   ],
   "source": [
    "# 箱ひげ図：G1\n",
    "plt.boxplot(student_data_math['G1'])\n",
    "plt.grid(True)"
   ]
  },
  {
   "cell_type": "code",
   "execution_count": 30,
   "metadata": {
    "scrolled": true
   },
   "outputs": [
    {
     "data": {
      "image/png": "[encoded data removed]",
      "text/plain": [
       "<Figure size 432x288 with 1 Axes>"
      ]
     },
     "metadata": {
      "needs_background": "light"
     },
     "output_type": "display_data"
    }
   ],
   "source": [
    "# 箱ひげ図：欠席数\n",
    "plt.boxplot(student_data_math['absences'])\n",
    "plt.grid(True)"
   ]
  },
  {
   "cell_type": "markdown",
   "metadata": {},
   "source": [
    "なお、データに外れ値がある場合、それが省かれて、箱ひげ図が表示されるので注意しましょう。先ほどの欠席数`absences`を見ると、最大値が75なのに、グラフ上には出てきていないので、気づいている方もいるかもしません。外れ値はデフォルトで指定されており、それを取り除いた場合のグラフが表示されます。\n",
    "\n",
    "なお、外れ値は異常値ともいわれ、厳密な定義は特に決まっていません。各業界の慣習で決まることもあります。上記のグラフは外れ値を省略していますが、省かないときもあります。外れ値や異常値については、本書のレベルを超えてしまいますので、詳しくは割愛します。"
   ]
  },
  {
   "cell_type": "markdown",
   "metadata": {},
   "source": [
    "他の変数でも箱ひげ図が描けるので、やってみましょう。"
   ]
  },
  {
   "cell_type": "markdown",
   "metadata": {},
   "source": [
    ">**[やってみよう]**\n",
    ">\n",
    ">他の変数についても、箱ひげ図を表示させてみましょう。どんな図になっているでしょうか。そこから何かわかることがないか考察してみましょう。"
   ]
  },
  {
   "cell_type": "code",
   "execution_count": 32,
   "metadata": {},
   "outputs": [
    {
     "data": {
      "image/png": "[encoded data removed]",
      "text/plain": [
       "<Figure size 432x288 with 1 Axes>"
      ]
     },
     "metadata": {
      "needs_background": "light"
     },
     "output_type": "display_data"
    }
   ],
   "source": [
    "# 箱ひげ図：absences\n",
    "plt.boxplot(student_data_math['Dalc'])\n",
    "plt.grid(True)"
   ]
  },
  {
   "cell_type": "markdown",
   "metadata": {},
   "source": [
    "なお、以下のように複数の箱ひげ図を同時に表示することもできます。"
   ]
  },
  {
   "cell_type": "code",
   "execution_count": 138,
   "metadata": {
    "scrolled": true
   },
   "outputs": [
    {
     "data": {
      "image/png": "[encoded data removed]",
      "text/plain": [
       "<Figure size 432x288 with 1 Axes>"
      ]
     },
     "metadata": {
      "needs_background": "light"
     },
     "output_type": "display_data"
    }
   ],
   "source": [
    "# 箱ひげ図：G1,G2,G3\n",
    "plt.boxplot([student_data_math['G1'], student_data_math['G2'], student_data_math['G3']])\n",
    "plt.grid(True)"
   ]
  },
  {
   "cell_type": "markdown",
   "metadata": {},
   "source": [
    "### 3.3.6 変動係数\n",
    "\n",
    "次に、**変動係数**について説明していきます。\n",
    "\n",
    "先ほど、分散や標準偏差について見てきましたが、異なる種類のデータ同士について、これらの単純比較はできません。データの大きさがそもそも異なると、大きな値をとるものの方が偏差も大きくなる傾向にあるからです。たとえば、株価（日経平均など）の標準偏差と為替（ドル円など）の標準偏差をそれぞれ計算するとしましょう。この2つの標準偏差を直接比較するのはナンセンスです。なぜなら2万円前後で動いている日経平均と100円前後で動いている為替の標準偏差とでは、スケールが異なるからです。\n",
    "\n",
    "そこで登場するのが変動係数です。変動係数は、標準偏差を平均値で割った値です。この値を使うとスケールに依存せず、比較できるようになります。変数は$CV$で示すことが一般的です。"
   ]
  },
  {
   "cell_type": "markdown",
   "metadata": {},
   "source": [
    "\\begin{eqnarray}\n",
    "CV = \\frac{\\sigma}{\\overline{x}}\\\n",
    "\\end{eqnarray}"
   ]
  },
  {
   "cell_type": "code",
   "execution_count": 139,
   "metadata": {},
   "outputs": [
    {
     "data": {
      "text/plain": [
       "1.402"
      ]
     },
     "execution_count": 139,
     "metadata": {},
     "output_type": "execute_result"
    }
   ],
   "source": [
    "# 変動係数：欠席数\n",
    "student_data_math['absences'].std() / student_data_math['absences'].mean()"
   ]
  },
  {
   "cell_type": "markdown",
   "metadata": {},
   "source": [
    "なお、`describe()`の結果に変動係数は出力されませんが、以下のようにすれば、一気に算出できます。それぞれの要素ごとに計算されるのがPandas（もしくはNumpy）のDatarFrameの特徴です。この結果を見ると、落第数（`failures`）と欠席数（`absences`）のデータの散らばり具合が大きいことがわかります。"
   ]
  },
  {
   "cell_type": "code",
   "execution_count": 140,
   "metadata": {},
   "outputs": [
    {
     "name": "stderr",
     "output_type": "stream",
     "text": [
      "C:\\Users\\yanch\\AppData\\Local\\Temp/ipykernel_1080/1012824433.py:2: FutureWarning: Dropping of nuisance columns in DataFrame reductions (with 'numeric_only=None') is deprecated; in a future version this will raise TypeError.  Select only valid columns before calling the reduction.\n",
      "  student_data_math.std() / student_data_math.mean()\n"
     ]
    },
    {
     "data": {
      "text/plain": [
       "age           0.076427\n",
       "Medu          0.398177\n",
       "Fedu          0.431565\n",
       "traveltime    0.481668\n",
       "studytime     0.412313\n",
       "failures      2.225319\n",
       "famrel        0.227330\n",
       "freetime      0.308725\n",
       "goout         0.358098\n",
       "Dalc          0.601441\n",
       "Walc          0.562121\n",
       "health        0.391147\n",
       "absences      1.401873\n",
       "G1            0.304266\n",
       "G2            0.351086\n",
       "G3            0.439881\n",
       "dtype: float64"
      ]
     },
     "execution_count": 140,
     "metadata": {},
     "output_type": "execute_result"
    }
   ],
   "source": [
    "# それぞれの変動係数をまとめて計算\n",
    "student_data_math.std() / student_data_math.mean() "
   ]
  },
  {
   "cell_type": "markdown",
   "metadata": {},
   "source": [
    "### 3.3.7 散布図と相関係数\n",
    "\n",
    "さて、これまでは基本的に1変数のみに着目して、グラフや要約統計量を算出してきました。次に、変数間の関係性を見ていくために、散布図と相関係数について学びましょう。\n",
    "\n",
    "次の散布図は、1期目の成績G1と最終成績G3の関係を示しています。"
   ]
  },
  {
   "cell_type": "code",
   "execution_count": 141,
   "metadata": {
    "nbpresent": {
     "id": "72beaf23-bcc8-4311-b327-b67a3b07436a"
    }
   },
   "outputs": [
    {
     "data": {
      "image/png": "[encoded data removed]",
      "text/plain": [
       "<Figure size 432x288 with 1 Axes>"
      ]
     },
     "metadata": {
      "needs_background": "light"
     },
     "output_type": "display_data"
    }
   ],
   "source": [
    "# 散布図\n",
    "plt.plot(student_data_math['G1'], student_data_math['G3'], 'o')\n",
    "\n",
    "# ラベル\n",
    "plt.ylabel('G3 grade')\n",
    "plt.xlabel('G1 grade')\n",
    "plt.grid(True)"
   ]
  },
  {
   "cell_type": "markdown",
   "metadata": {},
   "source": [
    "初めから成績がいい（G1の値が大きい）人ほど後の成績もいい（G3の値が大きい）というのは当たり前の結果ですが、傾向としてはっきりと表れているのがグラフからわかります。\n",
    "\n",
    "補足として、このグラフをよく見てみると、最終成績（G3）が0である人がいるのがわかります。一期の成績で0である人はいなかったので、これが異常値なのか、正しい値なのかはデータを見ているだけでは判断できませんが、データとしてG3の成績のスコアが0から20とあるので正しい値だと判断し、このままで扱うことにします（G3の成績のスコアは、前述のstudent_data_math.describe()の結果で「G3」の列を確認するとわかります）。\n",
    "\n",
    "ビジネスの現場では、なぜこのような値になっているか原因を突き止めるため、このデータに詳しい人、システム関係の人たちとヒアリングしながら理解していきます。もし、欠損値等であった場合には、対処方法は色々とありますが、後の章で学ぶことにしましょう。"
   ]
  },
  {
   "cell_type": "markdown",
   "metadata": {},
   "source": [
    "#### 共分散\n",
    "次に、2変数の関係性について、数値化してみることを考えます。2つの変数の関係性を見るための指標として**共分散**があり、その定義は、下記の通りです。共分散が$S_{xy}$で、$x, y$という2つの変数の関係性を示しています。"
   ]
  },
  {
   "cell_type": "markdown",
   "metadata": {
    "collapsed": true
   },
   "source": [
    "\\begin{eqnarray}\n",
    "S_{xy} = \\frac{1}{n}\\displaystyle \\sum_{i = 1}^n (x_i - \\overline{x})\n",
    "(y_i - \\overline{y})\n",
    "\\end{eqnarray}"
   ]
  },
  {
   "cell_type": "markdown",
   "metadata": {},
   "source": [
    "共分散は、2組の変数の偏差の積の平均値です。2組以上の変数の分散を考えるときに使われます。Numpyには共分散の行列（共分散行列）を算出する機能があり、次のように`cov`関数を使うと求められます。以下ではG1とG3の共分散を計算しています。\n"
   ]
  },
  {
   "cell_type": "code",
   "execution_count": 142,
   "metadata": {
    "scrolled": true
   },
   "outputs": [
    {
     "data": {
      "text/plain": [
       "array([[11.017, 12.188],\n",
       "       [12.188, 20.99 ]])"
      ]
     },
     "execution_count": 142,
     "metadata": {},
     "output_type": "execute_result"
    }
   ],
   "source": [
    "# 共分散行列\n",
    "np.cov(student_data_math['G1'], student_data_math['G3'])"
   ]
  },
  {
   "cell_type": "markdown",
   "metadata": {},
   "source": [
    "結果の行列の意味は、次の通りです。\n",
    "\n",
    "- G1とG3の共分散 … 共分散行列の$(1,2)$と$(2,1)$の要素です。上の例では、12.188という値です。\n",
    "- G1の分散 … 共分散行列の$(1,1)$の要素です。上の例では11.017です\n",
    "- G3の分散 … 共分散行列の$(2,2)$の要素です。上の例では20.99です。\n",
    "\n",
    "それぞれG1とG3の分散は、すでに説明したように`var`関数で計算できます。実際に求めてみると、値が合致することがわかります。"
   ]
  },
  {
   "cell_type": "code",
   "execution_count": 143,
   "metadata": {},
   "outputs": [
    {
     "name": "stdout",
     "output_type": "stream",
     "text": [
      "G1の分散: 11.017053267364899\n",
      "G3の分散: 20.989616397866737\n"
     ]
    }
   ],
   "source": [
    "# 分散\n",
    "print('G1の分散:',student_data_math['G1'].var())\n",
    "print('G3の分散:',student_data_math['G3'].var())"
   ]
  },
  {
   "cell_type": "markdown",
   "metadata": {},
   "source": [
    "#### 相関係数\n",
    "\n",
    "共分散はその定義式から、各変数のスケールや単位に依存してしまいます。そのスケールの影響を受けずに、2つの変数の関係を数値化するのが相関係数です。共分散をそれぞれの変数（ここでは$ x $と$ y $）の標準偏差で割った数式が相関係数です。その定義は、以下の通りです。相関係数は$r_{xy}$で示すことが一般的です。"
   ]
  },
  {
   "cell_type": "markdown",
   "metadata": {
    "collapsed": true
   },
   "source": [
    "\\begin{eqnarray}\n",
    "r_{xy} = \\frac{\\displaystyle \\sum_{i = 1}^n (x_i - \\overline{x})\n",
    "(y_i - \\overline{y})}{\\sqrt{\\displaystyle \\sum_{i = 1}^n \n",
    "(x_i - \\overline{x})^2}\\sqrt{\\displaystyle \\sum_{i = 1}^n \n",
    "(y_i - \\overline{y})^2}}\n",
    "\\end{eqnarray}"
   ]
  },
  {
   "cell_type": "markdown",
   "metadata": {},
   "source": [
    "この相関係数は、-1から1までの値を取り、1に近ければ近いほど**正の相関**があるといい、-1に近ければ近いほど**負の相関**があるといいます。0に近い場合は、**無相関**であるといいます。"
   ]
  },
  {
   "cell_type": "markdown",
   "metadata": {},
   "source": [
    "Pythonでは、ピアソン関数が計算できるScipyの`pearsonr`を使って、2変数の相関係数を算出できます。たとえば、次のようにすると、G1とG3の相関係数を求められます。データ分析の現場で単に相関関数という場合には、ピアソン関数を指します。"
   ]
  },
  {
   "cell_type": "code",
   "execution_count": 144,
   "metadata": {
    "nbpresent": {
     "id": "c68c4e4e-072e-4620-a325-3ebb19ebe1ce"
    }
   },
   "outputs": [
    {
     "data": {
      "text/plain": [
       "(0.801467932017414, 9.001430312277865e-90)"
      ]
     },
     "execution_count": 144,
     "metadata": {},
     "output_type": "execute_result"
    }
   ],
   "source": [
    "sp.stats.pearsonr(student_data_math['G1'], student_data_math['G3'])"
   ]
  },
  {
   "cell_type": "markdown",
   "metadata": {},
   "source": [
    "結果は、「0.8」と相関関係がある高い数字が出ました。なお、計算結果の2つ目の値はp値という値で、詳しくは「4.7.1 検定」で解説しています。"
   ]
  },
  {
   "cell_type": "markdown",
   "metadata": {},
   "source": [
    "この数字については、厳密に高い低いというのはなく、またこれが高いからといって**因果関係**があるとは言えないので注意しましょう（なお、本書では詳しく扱いませんが、因果関係を把握したい場合には、**実験計画法**と呼ばれるアプローチなどを使っていきます。具体的には、あるマーケティング施策で、ある広告を見て効果があったのかなかったのか、因果関係を知りたい場合に、広告を見せる処置群と何も広告を見せないコントロール群に分けて、その比率等を計算していきます）。"
   ]
  },
  {
   "cell_type": "markdown",
   "metadata": {},
   "source": [
    "次の計算は、相関行列を算出するものです。それぞれの変数について、すべての組み合わせで相関係数を算出しています。先ほどのG1とG3の相関係数は0.801ですし、自分自身の相関係数は1になるのが自明ですから、この結果になるのは明らかです。"
   ]
  },
  {
   "cell_type": "code",
   "execution_count": 145,
   "metadata": {},
   "outputs": [
    {
     "data": {
      "text/plain": [
       "array([[1.   , 0.801],\n",
       "       [0.801, 1.   ]])"
      ]
     },
     "execution_count": 145,
     "metadata": {},
     "output_type": "execute_result"
    }
   ],
   "source": [
    "# 相関行列\n",
    "np.corrcoef([student_data_math['G1'], student_data_math['G3']]) "
   ]
  },
  {
   "cell_type": "markdown",
   "metadata": {},
   "source": [
    "### 3.3.8 すべての変数のヒストグラムゃ散布図を描く\n",
    "\n",
    "最後に、各変数のヒストグラムをすべて表示したり、散布図を描く方法を紹介します。\n",
    "\n",
    "このような処理には、統計的データ分析と可視化に関する機能が豊富に用意されているSeabornというライブラリを利用すると便利です。`seaborn`パッケージの`pairplot`を使えば、さまざまな変数の関係性を一度に確認できるので、とても便利です。ただし、変数が多いと計算に時間がかかり、若干見にくくなります。その場合は、「2.4.5　データの抽出」で説明した方法で該当データを絞り込むなどするとよいでしょう。\n",
    "\n",
    "サンプルとして、先ほどのデータにおいて、アルコールの摂取量と成績のスコアに関係があるのか、見てみることにします。\n",
    "\n",
    "Dalcは平日のアルコール摂取量、Walcは週末のアルコール摂取量です。それらと1期目の成績（G1）、最終成績（G3）の関係を見ています。アルコールを飲むからといって、成績が悪いと言えるのでしょうか。それとも関係ないのでしょうか。\n"
   ]
  },
  {
   "cell_type": "code",
   "execution_count": 146,
   "metadata": {},
   "outputs": [
    {
     "data": {
      "image/png": "[encoded data removed]",
      "text/plain": [
       "<Figure size 720x720 with 20 Axes>"
      ]
     },
     "metadata": {
      "needs_background": "light"
     },
     "output_type": "display_data"
    }
   ],
   "source": [
    "sns.pairplot(student_data_math[['Dalc', 'Walc', 'G1', 'G3']])\n",
    "plt.grid(True)"
   ]
  },
  {
   "cell_type": "code",
   "execution_count": 147,
   "metadata": {},
   "outputs": [
    {
     "data": {
      "text/plain": [
       "Walc\n",
       "1    11.178808\n",
       "2    11.270588\n",
       "3    10.937500\n",
       "4     9.980392\n",
       "5     9.964286\n",
       "Name: G1, dtype: float64"
      ]
     },
     "execution_count": 147,
     "metadata": {},
     "output_type": "execute_result"
    }
   ],
   "source": [
    "# 例：週末にアルコールを飲む人の1期目の成績の平均値\n",
    "student_data_math.groupby('Walc')['G1'].mean()"
   ]
  },
  {
   "cell_type": "markdown",
   "metadata": {},
   "source": [
    "グラフから、平日にアルコールを頻繁に飲んでいる人（4や5の人）はG3で好成績を取っている人はいないようですが、極端に悪い成績を取っている人もいないようです。また、週末にアルコールを飲まない人の方が1期目の成績は少し良さそうに見えますが、こう結論付けて良いのでしょうか。これらのグラフや数値だけでは、なかなか判断が難しいですが、次の統計の章や機械学習の章でもアプローチしてみます。\n",
    "\n"
   ]
  },
  {
   "cell_type": "markdown",
   "metadata": {},
   "source": [
    "以上で、記述統計に関する基礎的事項は終わります。\n",
    "\n",
    "とても基本的ですが、ここで説明した内容は、どのようなデータ分析をする場合でも、データの全体像をつかむために必要な作業です。\n",
    "\n",
    "本書では、機械学習のライブラリ等を使って、簡単に機械学習の計算ができることを紹介していきますが、その一方で、今までやってきた基礎的な統計量を見ていくことも大事であることは強調しておきます。簡単な散布図を書くだけで重要な傾向がわかることもあります。また、ここまでの内容はおそらく数学的なバックグラウンドがない人でもついていきやすく、説明がしやすいはずです。\n",
    "\n",
    "もちろん、これだけで終わるならば機械学習は必要なくなりますが、機械学習を適用する前に、データと対話をして、不明事項や異常値の確認をするなど、関係者と密に連携をとっておけば、よりよいデータ分析ができます。"
   ]
  },
  {
   "cell_type": "markdown",
   "metadata": {},
   "source": [
    ">**[ポイント]**\n",
    "\n",
    ">データ分析をするときにはまず基本統計量やヒストグラム、散布図等を見て、データの全体像を掴もう。"
   ]
  },
  {
   "cell_type": "markdown",
   "metadata": {},
   "source": [
    "#### <練習問題 3-1>\n",
    "\n",
    "本章でダウンロードしたポルトガル語の成績データであるstudet-por.csvを読み込んで、要約統計量を表示してください。"
   ]
  },
  {
   "cell_type": "code",
   "execution_count": 148,
   "metadata": {},
   "outputs": [],
   "source": [
    "student_por = pd.read_csv('student-por.csv',sep=';')"
   ]
  },
  {
   "cell_type": "code",
   "execution_count": 149,
   "metadata": {},
   "outputs": [
    {
     "data": {
      "text/html": [
       "<div>\n",
       "<style scoped>\n",
       "    .dataframe tbody tr th:only-of-type {\n",
       "        vertical-align: middle;\n",
       "    }\n",
       "\n",
       "    .dataframe tbody tr th {\n",
       "        vertical-align: top;\n",
       "    }\n",
       "\n",
       "    .dataframe thead th {\n",
       "        text-align: right;\n",
       "    }\n",
       "</style>\n",
       "<table border=\"1\" class=\"dataframe\">\n",
       "  <thead>\n",
       "    <tr style=\"text-align: right;\">\n",
       "      <th></th>\n",
       "      <th>school</th>\n",
       "      <th>sex</th>\n",
       "      <th>age</th>\n",
       "      <th>address</th>\n",
       "      <th>famsize</th>\n",
       "      <th>Pstatus</th>\n",
       "      <th>Medu</th>\n",
       "      <th>Fedu</th>\n",
       "      <th>Mjob</th>\n",
       "      <th>Fjob</th>\n",
       "      <th>...</th>\n",
       "      <th>famrel</th>\n",
       "      <th>freetime</th>\n",
       "      <th>goout</th>\n",
       "      <th>Dalc</th>\n",
       "      <th>Walc</th>\n",
       "      <th>health</th>\n",
       "      <th>absences</th>\n",
       "      <th>G1</th>\n",
       "      <th>G2</th>\n",
       "      <th>G3</th>\n",
       "    </tr>\n",
       "  </thead>\n",
       "  <tbody>\n",
       "    <tr>\n",
       "      <th>0</th>\n",
       "      <td>GP</td>\n",
       "      <td>F</td>\n",
       "      <td>18</td>\n",
       "      <td>U</td>\n",
       "      <td>GT3</td>\n",
       "      <td>A</td>\n",
       "      <td>4</td>\n",
       "      <td>4</td>\n",
       "      <td>at_home</td>\n",
       "      <td>teacher</td>\n",
       "      <td>...</td>\n",
       "      <td>4</td>\n",
       "      <td>3</td>\n",
       "      <td>4</td>\n",
       "      <td>1</td>\n",
       "      <td>1</td>\n",
       "      <td>3</td>\n",
       "      <td>4</td>\n",
       "      <td>0</td>\n",
       "      <td>11</td>\n",
       "      <td>11</td>\n",
       "    </tr>\n",
       "    <tr>\n",
       "      <th>1</th>\n",
       "      <td>GP</td>\n",
       "      <td>F</td>\n",
       "      <td>17</td>\n",
       "      <td>U</td>\n",
       "      <td>GT3</td>\n",
       "      <td>T</td>\n",
       "      <td>1</td>\n",
       "      <td>1</td>\n",
       "      <td>at_home</td>\n",
       "      <td>other</td>\n",
       "      <td>...</td>\n",
       "      <td>5</td>\n",
       "      <td>3</td>\n",
       "      <td>3</td>\n",
       "      <td>1</td>\n",
       "      <td>1</td>\n",
       "      <td>3</td>\n",
       "      <td>2</td>\n",
       "      <td>9</td>\n",
       "      <td>11</td>\n",
       "      <td>11</td>\n",
       "    </tr>\n",
       "    <tr>\n",
       "      <th>2</th>\n",
       "      <td>GP</td>\n",
       "      <td>F</td>\n",
       "      <td>15</td>\n",
       "      <td>U</td>\n",
       "      <td>LE3</td>\n",
       "      <td>T</td>\n",
       "      <td>1</td>\n",
       "      <td>1</td>\n",
       "      <td>at_home</td>\n",
       "      <td>other</td>\n",
       "      <td>...</td>\n",
       "      <td>4</td>\n",
       "      <td>3</td>\n",
       "      <td>2</td>\n",
       "      <td>2</td>\n",
       "      <td>3</td>\n",
       "      <td>3</td>\n",
       "      <td>6</td>\n",
       "      <td>12</td>\n",
       "      <td>13</td>\n",
       "      <td>12</td>\n",
       "    </tr>\n",
       "    <tr>\n",
       "      <th>3</th>\n",
       "      <td>GP</td>\n",
       "      <td>F</td>\n",
       "      <td>15</td>\n",
       "      <td>U</td>\n",
       "      <td>GT3</td>\n",
       "      <td>T</td>\n",
       "      <td>4</td>\n",
       "      <td>2</td>\n",
       "      <td>health</td>\n",
       "      <td>services</td>\n",
       "      <td>...</td>\n",
       "      <td>3</td>\n",
       "      <td>2</td>\n",
       "      <td>2</td>\n",
       "      <td>1</td>\n",
       "      <td>1</td>\n",
       "      <td>5</td>\n",
       "      <td>0</td>\n",
       "      <td>14</td>\n",
       "      <td>14</td>\n",
       "      <td>14</td>\n",
       "    </tr>\n",
       "    <tr>\n",
       "      <th>4</th>\n",
       "      <td>GP</td>\n",
       "      <td>F</td>\n",
       "      <td>16</td>\n",
       "      <td>U</td>\n",
       "      <td>GT3</td>\n",
       "      <td>T</td>\n",
       "      <td>3</td>\n",
       "      <td>3</td>\n",
       "      <td>other</td>\n",
       "      <td>other</td>\n",
       "      <td>...</td>\n",
       "      <td>4</td>\n",
       "      <td>3</td>\n",
       "      <td>2</td>\n",
       "      <td>1</td>\n",
       "      <td>2</td>\n",
       "      <td>5</td>\n",
       "      <td>0</td>\n",
       "      <td>11</td>\n",
       "      <td>13</td>\n",
       "      <td>13</td>\n",
       "    </tr>\n",
       "  </tbody>\n",
       "</table>\n",
       "<p>5 rows × 33 columns</p>\n",
       "</div>"
      ],
      "text/plain": [
       "  school sex  age address famsize Pstatus  Medu  Fedu     Mjob      Fjob  ...  \\\n",
       "0     GP   F   18       U     GT3       A     4     4  at_home   teacher  ...   \n",
       "1     GP   F   17       U     GT3       T     1     1  at_home     other  ...   \n",
       "2     GP   F   15       U     LE3       T     1     1  at_home     other  ...   \n",
       "3     GP   F   15       U     GT3       T     4     2   health  services  ...   \n",
       "4     GP   F   16       U     GT3       T     3     3    other     other  ...   \n",
       "\n",
       "  famrel freetime  goout  Dalc  Walc health absences  G1  G2  G3  \n",
       "0      4        3      4     1     1      3        4   0  11  11  \n",
       "1      5        3      3     1     1      3        2   9  11  11  \n",
       "2      4        3      2     2     3      3        6  12  13  12  \n",
       "3      3        2      2     1     1      5        0  14  14  14  \n",
       "4      4        3      2     1     2      5        0  11  13  13  \n",
       "\n",
       "[5 rows x 33 columns]"
      ]
     },
     "execution_count": 149,
     "metadata": {},
     "output_type": "execute_result"
    }
   ],
   "source": [
    "student_por.head()"
   ]
  },
  {
   "cell_type": "code",
   "execution_count": 150,
   "metadata": {},
   "outputs": [
    {
     "name": "stdout",
     "output_type": "stream",
     "text": [
      "<class 'pandas.core.frame.DataFrame'>\n",
      "RangeIndex: 649 entries, 0 to 648\n",
      "Data columns (total 33 columns):\n",
      " #   Column      Non-Null Count  Dtype \n",
      "---  ------      --------------  ----- \n",
      " 0   school      649 non-null    object\n",
      " 1   sex         649 non-null    object\n",
      " 2   age         649 non-null    int64 \n",
      " 3   address     649 non-null    object\n",
      " 4   famsize     649 non-null    object\n",
      " 5   Pstatus     649 non-null    object\n",
      " 6   Medu        649 non-null    int64 \n",
      " 7   Fedu        649 non-null    int64 \n",
      " 8   Mjob        649 non-null    object\n",
      " 9   Fjob        649 non-null    object\n",
      " 10  reason      649 non-null    object\n",
      " 11  guardian    649 non-null    object\n",
      " 12  traveltime  649 non-null    int64 \n",
      " 13  studytime   649 non-null    int64 \n",
      " 14  failures    649 non-null    int64 \n",
      " 15  schoolsup   649 non-null    object\n",
      " 16  famsup      649 non-null    object\n",
      " 17  paid        649 non-null    object\n",
      " 18  activities  649 non-null    object\n",
      " 19  nursery     649 non-null    object\n",
      " 20  higher      649 non-null    object\n",
      " 21  internet    649 non-null    object\n",
      " 22  romantic    649 non-null    object\n",
      " 23  famrel      649 non-null    int64 \n",
      " 24  freetime    649 non-null    int64 \n",
      " 25  goout       649 non-null    int64 \n",
      " 26  Dalc        649 non-null    int64 \n",
      " 27  Walc        649 non-null    int64 \n",
      " 28  health      649 non-null    int64 \n",
      " 29  absences    649 non-null    int64 \n",
      " 30  G1          649 non-null    int64 \n",
      " 31  G2          649 non-null    int64 \n",
      " 32  G3          649 non-null    int64 \n",
      "dtypes: int64(16), object(17)\n",
      "memory usage: 167.4+ KB\n"
     ]
    }
   ],
   "source": [
    "student_por.info()"
   ]
  },
  {
   "cell_type": "code",
   "execution_count": 151,
   "metadata": {},
   "outputs": [
    {
     "data": {
      "text/plain": [
       "0    F\n",
       "1    F\n",
       "2    F\n",
       "3    F\n",
       "4    F\n",
       "Name: sex, dtype: object"
      ]
     },
     "execution_count": 151,
     "metadata": {},
     "output_type": "execute_result"
    }
   ],
   "source": [
    "student_por['sex'].head()"
   ]
  },
  {
   "cell_type": "code",
   "execution_count": 152,
   "metadata": {},
   "outputs": [
    {
     "data": {
      "text/plain": [
       "0    4\n",
       "1    2\n",
       "2    6\n",
       "3    0\n",
       "4    0\n",
       "Name: absences, dtype: int64"
      ]
     },
     "execution_count": 152,
     "metadata": {},
     "output_type": "execute_result"
    }
   ],
   "source": [
    "student_por['absences'].head()"
   ]
  },
  {
   "cell_type": "code",
   "execution_count": 153,
   "metadata": {},
   "outputs": [
    {
     "data": {
      "text/plain": [
       "0    4\n",
       "1    2\n",
       "2    6\n",
       "3    0\n",
       "4    0\n",
       "Name: absences, dtype: int64"
      ]
     },
     "execution_count": 153,
     "metadata": {},
     "output_type": "execute_result"
    }
   ],
   "source": [
    "student_por['absences'].head()"
   ]
  },
  {
   "cell_type": "code",
   "execution_count": 154,
   "metadata": {},
   "outputs": [
    {
     "data": {
      "text/plain": [
       "sex\n",
       "F    16.788512\n",
       "M    16.680451\n",
       "Name: age, dtype: float64"
      ]
     },
     "execution_count": 154,
     "metadata": {},
     "output_type": "execute_result"
    }
   ],
   "source": [
    "student_por.groupby('sex')['age'].mean()"
   ]
  },
  {
   "cell_type": "code",
   "execution_count": 155,
   "metadata": {},
   "outputs": [
    {
     "data": {
      "image/png": "[encoded data removed]",
      "text/plain": [
       "<Figure size 432x288 with 1 Axes>"
      ]
     },
     "metadata": {
      "needs_background": "light"
     },
     "output_type": "display_data"
    }
   ],
   "source": [
    "plt.hist(student_por['absences'])\n",
    "plt.xlabel('absences')\n",
    "plt.ylabel('count')\n",
    "plt.grid(True)"
   ]
  },
  {
   "cell_type": "code",
   "execution_count": 156,
   "metadata": {},
   "outputs": [
    {
     "name": "stdout",
     "output_type": "stream",
     "text": [
      "平均值： 3.6594761171032357\n",
      "中央值： 2.0\n",
      "最頻值： 0    0\n",
      "dtype: int64\n"
     ]
    }
   ],
   "source": [
    "print('平均值：', student_por['absences'].mean())\n",
    "print('中央值：', student_por['absences'].median())\n",
    "print('最頻值：', student_por['absences'].mode())"
   ]
  },
  {
   "cell_type": "code",
   "execution_count": 157,
   "metadata": {},
   "outputs": [
    {
     "data": {
      "text/plain": [
       "21.537"
      ]
     },
     "execution_count": 157,
     "metadata": {},
     "output_type": "execute_result"
    }
   ],
   "source": [
    "student_por['absences'].var()"
   ]
  },
  {
   "cell_type": "code",
   "execution_count": 158,
   "metadata": {},
   "outputs": [
    {
     "data": {
      "text/plain": [
       "4.641"
      ]
     },
     "execution_count": 158,
     "metadata": {},
     "output_type": "execute_result"
    }
   ],
   "source": [
    "student_por['absences'].std()"
   ]
  },
  {
   "cell_type": "code",
   "execution_count": 159,
   "metadata": {},
   "outputs": [
    {
     "data": {
      "text/plain": [
       "4.640758808397126"
      ]
     },
     "execution_count": 159,
     "metadata": {},
     "output_type": "execute_result"
    }
   ],
   "source": [
    "np.sqrt(student_por['absences'].var())"
   ]
  },
  {
   "cell_type": "code",
   "execution_count": 160,
   "metadata": {},
   "outputs": [
    {
     "data": {
      "text/plain": [
       "count    649.000000\n",
       "mean       3.659476\n",
       "std        4.640759\n",
       "min        0.000000\n",
       "25%        0.000000\n",
       "50%        2.000000\n",
       "75%        6.000000\n",
       "max       32.000000\n",
       "Name: absences, dtype: float64"
      ]
     },
     "execution_count": 160,
     "metadata": {},
     "output_type": "execute_result"
    }
   ],
   "source": [
    "student_por['absences'].describe()"
   ]
  },
  {
   "cell_type": "code",
   "execution_count": 161,
   "metadata": {},
   "outputs": [
    {
     "data": {
      "text/plain": [
       "6.0"
      ]
     },
     "execution_count": 161,
     "metadata": {},
     "output_type": "execute_result"
    }
   ],
   "source": [
    "student_por['absences'].describe()[6] - student_por['absences'].describe()[4]"
   ]
  },
  {
   "cell_type": "code",
   "execution_count": 162,
   "metadata": {},
   "outputs": [
    {
     "data": {
      "text/html": [
       "<div>\n",
       "<style scoped>\n",
       "    .dataframe tbody tr th:only-of-type {\n",
       "        vertical-align: middle;\n",
       "    }\n",
       "\n",
       "    .dataframe tbody tr th {\n",
       "        vertical-align: top;\n",
       "    }\n",
       "\n",
       "    .dataframe thead th {\n",
       "        text-align: right;\n",
       "    }\n",
       "</style>\n",
       "<table border=\"1\" class=\"dataframe\">\n",
       "  <thead>\n",
       "    <tr style=\"text-align: right;\">\n",
       "      <th></th>\n",
       "      <th>age</th>\n",
       "      <th>Medu</th>\n",
       "      <th>Fedu</th>\n",
       "      <th>traveltime</th>\n",
       "      <th>studytime</th>\n",
       "      <th>failures</th>\n",
       "      <th>famrel</th>\n",
       "      <th>freetime</th>\n",
       "      <th>goout</th>\n",
       "      <th>Dalc</th>\n",
       "      <th>Walc</th>\n",
       "      <th>health</th>\n",
       "      <th>absences</th>\n",
       "      <th>G1</th>\n",
       "      <th>G2</th>\n",
       "      <th>G3</th>\n",
       "    </tr>\n",
       "  </thead>\n",
       "  <tbody>\n",
       "    <tr>\n",
       "      <th>count</th>\n",
       "      <td>649.000000</td>\n",
       "      <td>649.000000</td>\n",
       "      <td>649.000000</td>\n",
       "      <td>649.000000</td>\n",
       "      <td>649.000000</td>\n",
       "      <td>649.000000</td>\n",
       "      <td>649.000000</td>\n",
       "      <td>649.000000</td>\n",
       "      <td>649.000000</td>\n",
       "      <td>649.000000</td>\n",
       "      <td>649.000000</td>\n",
       "      <td>649.000000</td>\n",
       "      <td>649.000000</td>\n",
       "      <td>649.000000</td>\n",
       "      <td>649.000000</td>\n",
       "      <td>649.000000</td>\n",
       "    </tr>\n",
       "    <tr>\n",
       "      <th>mean</th>\n",
       "      <td>16.744222</td>\n",
       "      <td>2.514638</td>\n",
       "      <td>2.306626</td>\n",
       "      <td>1.568567</td>\n",
       "      <td>1.930663</td>\n",
       "      <td>0.221880</td>\n",
       "      <td>3.930663</td>\n",
       "      <td>3.180277</td>\n",
       "      <td>3.184900</td>\n",
       "      <td>1.502311</td>\n",
       "      <td>2.280431</td>\n",
       "      <td>3.536210</td>\n",
       "      <td>3.659476</td>\n",
       "      <td>11.399076</td>\n",
       "      <td>11.570108</td>\n",
       "      <td>11.906009</td>\n",
       "    </tr>\n",
       "    <tr>\n",
       "      <th>std</th>\n",
       "      <td>1.218138</td>\n",
       "      <td>1.134552</td>\n",
       "      <td>1.099931</td>\n",
       "      <td>0.748660</td>\n",
       "      <td>0.829510</td>\n",
       "      <td>0.593235</td>\n",
       "      <td>0.955717</td>\n",
       "      <td>1.051093</td>\n",
       "      <td>1.175766</td>\n",
       "      <td>0.924834</td>\n",
       "      <td>1.284380</td>\n",
       "      <td>1.446259</td>\n",
       "      <td>4.640759</td>\n",
       "      <td>2.745265</td>\n",
       "      <td>2.913639</td>\n",
       "      <td>3.230656</td>\n",
       "    </tr>\n",
       "    <tr>\n",
       "      <th>min</th>\n",
       "      <td>15.000000</td>\n",
       "      <td>0.000000</td>\n",
       "      <td>0.000000</td>\n",
       "      <td>1.000000</td>\n",
       "      <td>1.000000</td>\n",
       "      <td>0.000000</td>\n",
       "      <td>1.000000</td>\n",
       "      <td>1.000000</td>\n",
       "      <td>1.000000</td>\n",
       "      <td>1.000000</td>\n",
       "      <td>1.000000</td>\n",
       "      <td>1.000000</td>\n",
       "      <td>0.000000</td>\n",
       "      <td>0.000000</td>\n",
       "      <td>0.000000</td>\n",
       "      <td>0.000000</td>\n",
       "    </tr>\n",
       "    <tr>\n",
       "      <th>25%</th>\n",
       "      <td>16.000000</td>\n",
       "      <td>2.000000</td>\n",
       "      <td>1.000000</td>\n",
       "      <td>1.000000</td>\n",
       "      <td>1.000000</td>\n",
       "      <td>0.000000</td>\n",
       "      <td>4.000000</td>\n",
       "      <td>3.000000</td>\n",
       "      <td>2.000000</td>\n",
       "      <td>1.000000</td>\n",
       "      <td>1.000000</td>\n",
       "      <td>2.000000</td>\n",
       "      <td>0.000000</td>\n",
       "      <td>10.000000</td>\n",
       "      <td>10.000000</td>\n",
       "      <td>10.000000</td>\n",
       "    </tr>\n",
       "    <tr>\n",
       "      <th>50%</th>\n",
       "      <td>17.000000</td>\n",
       "      <td>2.000000</td>\n",
       "      <td>2.000000</td>\n",
       "      <td>1.000000</td>\n",
       "      <td>2.000000</td>\n",
       "      <td>0.000000</td>\n",
       "      <td>4.000000</td>\n",
       "      <td>3.000000</td>\n",
       "      <td>3.000000</td>\n",
       "      <td>1.000000</td>\n",
       "      <td>2.000000</td>\n",
       "      <td>4.000000</td>\n",
       "      <td>2.000000</td>\n",
       "      <td>11.000000</td>\n",
       "      <td>11.000000</td>\n",
       "      <td>12.000000</td>\n",
       "    </tr>\n",
       "    <tr>\n",
       "      <th>75%</th>\n",
       "      <td>18.000000</td>\n",
       "      <td>4.000000</td>\n",
       "      <td>3.000000</td>\n",
       "      <td>2.000000</td>\n",
       "      <td>2.000000</td>\n",
       "      <td>0.000000</td>\n",
       "      <td>5.000000</td>\n",
       "      <td>4.000000</td>\n",
       "      <td>4.000000</td>\n",
       "      <td>2.000000</td>\n",
       "      <td>3.000000</td>\n",
       "      <td>5.000000</td>\n",
       "      <td>6.000000</td>\n",
       "      <td>13.000000</td>\n",
       "      <td>13.000000</td>\n",
       "      <td>14.000000</td>\n",
       "    </tr>\n",
       "    <tr>\n",
       "      <th>max</th>\n",
       "      <td>22.000000</td>\n",
       "      <td>4.000000</td>\n",
       "      <td>4.000000</td>\n",
       "      <td>4.000000</td>\n",
       "      <td>4.000000</td>\n",
       "      <td>3.000000</td>\n",
       "      <td>5.000000</td>\n",
       "      <td>5.000000</td>\n",
       "      <td>5.000000</td>\n",
       "      <td>5.000000</td>\n",
       "      <td>5.000000</td>\n",
       "      <td>5.000000</td>\n",
       "      <td>32.000000</td>\n",
       "      <td>19.000000</td>\n",
       "      <td>19.000000</td>\n",
       "      <td>19.000000</td>\n",
       "    </tr>\n",
       "  </tbody>\n",
       "</table>\n",
       "</div>"
      ],
      "text/plain": [
       "              age        Medu        Fedu  traveltime   studytime    failures  \\\n",
       "count  649.000000  649.000000  649.000000  649.000000  649.000000  649.000000   \n",
       "mean    16.744222    2.514638    2.306626    1.568567    1.930663    0.221880   \n",
       "std      1.218138    1.134552    1.099931    0.748660    0.829510    0.593235   \n",
       "min     15.000000    0.000000    0.000000    1.000000    1.000000    0.000000   \n",
       "25%     16.000000    2.000000    1.000000    1.000000    1.000000    0.000000   \n",
       "50%     17.000000    2.000000    2.000000    1.000000    2.000000    0.000000   \n",
       "75%     18.000000    4.000000    3.000000    2.000000    2.000000    0.000000   \n",
       "max     22.000000    4.000000    4.000000    4.000000    4.000000    3.000000   \n",
       "\n",
       "           famrel    freetime       goout        Dalc        Walc      health  \\\n",
       "count  649.000000  649.000000  649.000000  649.000000  649.000000  649.000000   \n",
       "mean     3.930663    3.180277    3.184900    1.502311    2.280431    3.536210   \n",
       "std      0.955717    1.051093    1.175766    0.924834    1.284380    1.446259   \n",
       "min      1.000000    1.000000    1.000000    1.000000    1.000000    1.000000   \n",
       "25%      4.000000    3.000000    2.000000    1.000000    1.000000    2.000000   \n",
       "50%      4.000000    3.000000    3.000000    1.000000    2.000000    4.000000   \n",
       "75%      5.000000    4.000000    4.000000    2.000000    3.000000    5.000000   \n",
       "max      5.000000    5.000000    5.000000    5.000000    5.000000    5.000000   \n",
       "\n",
       "         absences          G1          G2          G3  \n",
       "count  649.000000  649.000000  649.000000  649.000000  \n",
       "mean     3.659476   11.399076   11.570108   11.906009  \n",
       "std      4.640759    2.745265    2.913639    3.230656  \n",
       "min      0.000000    0.000000    0.000000    0.000000  \n",
       "25%      0.000000   10.000000   10.000000   10.000000  \n",
       "50%      2.000000   11.000000   11.000000   12.000000  \n",
       "75%      6.000000   13.000000   13.000000   14.000000  \n",
       "max     32.000000   19.000000   19.000000   19.000000  "
      ]
     },
     "execution_count": 162,
     "metadata": {},
     "output_type": "execute_result"
    }
   ],
   "source": [
    "student_por.describe()"
   ]
  },
  {
   "cell_type": "code",
   "execution_count": 163,
   "metadata": {},
   "outputs": [
    {
     "data": {
      "image/png": "[encoded data removed]",
      "text/plain": [
       "<Figure size 432x288 with 1 Axes>"
      ]
     },
     "metadata": {
      "needs_background": "light"
     },
     "output_type": "display_data"
    }
   ],
   "source": [
    "plt.boxplot(student_por['G1'])\n",
    "plt.grid(True)"
   ]
  },
  {
   "cell_type": "code",
   "execution_count": 164,
   "metadata": {},
   "outputs": [
    {
     "data": {
      "image/png": "[encoded data removed]",
      "text/plain": [
       "<Figure size 432x288 with 1 Axes>"
      ]
     },
     "metadata": {
      "needs_background": "light"
     },
     "output_type": "display_data"
    }
   ],
   "source": [
    "plt.boxplot(student_por['absences'])\n",
    "plt.grid(True)"
   ]
  },
  {
   "cell_type": "code",
   "execution_count": 165,
   "metadata": {},
   "outputs": [
    {
     "data": {
      "image/png": "[encoded data removed]",
      "text/plain": [
       "<Figure size 432x288 with 1 Axes>"
      ]
     },
     "metadata": {
      "needs_background": "light"
     },
     "output_type": "display_data"
    }
   ],
   "source": [
    "plt.boxplot([student_por['G1'],student_por['G2'],student_por['G3']])\n",
    "plt.grid(True)"
   ]
  },
  {
   "cell_type": "code",
   "execution_count": 166,
   "metadata": {},
   "outputs": [
    {
     "data": {
      "text/plain": [
       "1.268"
      ]
     },
     "execution_count": 166,
     "metadata": {},
     "output_type": "execute_result"
    }
   ],
   "source": [
    "student_por['absences'].std() / student_por['absences'].mean()"
   ]
  },
  {
   "cell_type": "code",
   "execution_count": 167,
   "metadata": {},
   "outputs": [
    {
     "name": "stderr",
     "output_type": "stream",
     "text": [
      "C:\\Users\\yanch\\AppData\\Local\\Temp/ipykernel_1080/1417665281.py:1: FutureWarning: Dropping of nuisance columns in DataFrame reductions (with 'numeric_only=None') is deprecated; in a future version this will raise TypeError.  Select only valid columns before calling the reduction.\n",
      "  student_por.std() / student_por.mean()\n"
     ]
    },
    {
     "data": {
      "text/plain": [
       "age           0.072750\n",
       "Medu          0.451179\n",
       "Fedu          0.476857\n",
       "traveltime    0.477289\n",
       "studytime     0.429650\n",
       "failures      2.673678\n",
       "famrel        0.243144\n",
       "freetime      0.330503\n",
       "goout         0.369169\n",
       "Dalc          0.615608\n",
       "Walc          0.563218\n",
       "health        0.408986\n",
       "absences      1.268148\n",
       "G1            0.240832\n",
       "G2            0.251825\n",
       "G3            0.271347\n",
       "dtype: float64"
      ]
     },
     "execution_count": 167,
     "metadata": {},
     "output_type": "execute_result"
    }
   ],
   "source": [
    "student_por.std() / student_por.mean()"
   ]
  },
  {
   "cell_type": "code",
   "execution_count": 168,
   "metadata": {},
   "outputs": [
    {
     "data": {
      "image/png": "[encoded data removed]",
      "text/plain": [
       "<Figure size 432x288 with 1 Axes>"
      ]
     },
     "metadata": {
      "needs_background": "light"
     },
     "output_type": "display_data"
    }
   ],
   "source": [
    "plt.plot(student_por['G1'],student_por['G3'],'o')\n",
    "plt.ylabel('G3 grade')\n",
    "plt.xlabel('G1 grade')\n",
    "plt.grid(True)"
   ]
  },
  {
   "cell_type": "code",
   "execution_count": 169,
   "metadata": {},
   "outputs": [
    {
     "data": {
      "text/plain": [
       "array([[ 7.536,  7.329],\n",
       "       [ 7.329, 10.437]])"
      ]
     },
     "execution_count": 169,
     "metadata": {},
     "output_type": "execute_result"
    }
   ],
   "source": [
    "np.cov(student_por['G1'],student_por['G3'])"
   ]
  },
  {
   "cell_type": "code",
   "execution_count": 170,
   "metadata": {},
   "outputs": [
    {
     "name": "stdout",
     "output_type": "stream",
     "text": [
      "G1的分散: 7.536480625463658\n",
      "G3的分散: 10.437139759173656\n"
     ]
    }
   ],
   "source": [
    "print('G1的分散:',student_por['G1'].var())\n",
    "print('G3的分散:',student_por['G3'].var())"
   ]
  },
  {
   "cell_type": "code",
   "execution_count": 171,
   "metadata": {},
   "outputs": [
    {
     "data": {
      "text/plain": [
       "(0.8263871247890473, 1.617571007349675e-163)"
      ]
     },
     "execution_count": 171,
     "metadata": {},
     "output_type": "execute_result"
    }
   ],
   "source": [
    "sp.stats.pearsonr(student_por['G1'],student_por['G3'])"
   ]
  },
  {
   "cell_type": "code",
   "execution_count": 172,
   "metadata": {},
   "outputs": [
    {
     "data": {
      "text/plain": [
       "array([[1.   , 0.826],\n",
       "       [0.826, 1.   ]])"
      ]
     },
     "execution_count": 172,
     "metadata": {},
     "output_type": "execute_result"
    }
   ],
   "source": [
    "np.corrcoef([student_por['G1'],student_por['G3']])"
   ]
  },
  {
   "cell_type": "code",
   "execution_count": 173,
   "metadata": {},
   "outputs": [
    {
     "data": {
      "image/png": "[encoded data removed]",
      "text/plain": [
       "<Figure size 720x720 with 20 Axes>"
      ]
     },
     "metadata": {
      "needs_background": "light"
     },
     "output_type": "display_data"
    }
   ],
   "source": [
    "sns.pairplot(student_por[['Dalc','Walc','G1','G3']])\n",
    "plt.grid(True)"
   ]
  },
  {
   "cell_type": "code",
   "execution_count": 174,
   "metadata": {},
   "outputs": [
    {
     "data": {
      "text/plain": [
       "Walc\n",
       "1    11.688259\n",
       "2    11.746667\n",
       "3    11.308333\n",
       "4    10.655172\n",
       "5    10.333333\n",
       "Name: G1, dtype: float64"
      ]
     },
     "execution_count": 174,
     "metadata": {},
     "output_type": "execute_result"
    }
   ],
   "source": [
    "student_por.groupby('Walc')['G1'].mean()"
   ]
  },
  {
   "cell_type": "markdown",
   "metadata": {},
   "source": [
    "#### <練習問題 3-2>\n",
    "\n",
    "以下の変数をキーとして、数学のデータとポルトガル語のデータをマージしてください。マージするときは、両方にデータが含まれている（欠けていない）データを対象としてください（内部結合と言います）。\n",
    "\n",
    "そして、要約統計量など計算してください。\n",
    "\n",
    "なお、以下以外の変数名は、それぞれのデータで同名の変数名があり重複するので、`suffixes=('_math', '_por')`のパラメータを追加して、どちらからのデータかわかるようにしてください。\n",
    "\n",
    "`['school','sex','age','address','famsize','Pstatus','Medu','Fedu','Mjob','Fjob','reason','nursery','internet']`"
   ]
  },
  {
   "cell_type": "code",
   "execution_count": null,
   "metadata": {},
   "outputs": [],
   "source": []
  },
  {
   "cell_type": "markdown",
   "metadata": {},
   "source": [
    "#### <練習問題 3-3>\n",
    "\n",
    "<練習問題 3-3>でマージしたデータについて、`Medu`、`Fedu`、`G3_math`などの変数をいくつかピックアップして、散布図とヒストグラムを作成してみましょう。どういった傾向がありますか。また、数学データのみの結果と違いはありますか。考察してみましょう。"
   ]
  },
  {
   "cell_type": "markdown",
   "metadata": {
    "collapsed": true
   },
   "source": [
    "***"
   ]
  },
  {
   "cell_type": "markdown",
   "metadata": {},
   "source": [
    "## 3.4 単回帰分析\n",
    "キーワード：Scikit-learn、目的変数、説明変数、単回帰分析、最小二乗法、決定係数"
   ]
  },
  {
   "cell_type": "markdown",
   "metadata": {},
   "source": [
    "記述統計の次は、回帰分析の基礎を学びましょう。\n",
    "回帰分析とは、数値を予測する分析です。機械学習では、データの予測をしますが、その基礎となるのが、ここで説明する単回帰分析です。\n",
    "\n",
    "先ほど、学生のデータについて、一期目の数学の成績と最終期の数学の成績をグラフ化（散布図）してみました。この散布図からG1とG3には関係がありそうだというのはわかります。"
   ]
  },
  {
   "cell_type": "code",
   "execution_count": 175,
   "metadata": {
    "scrolled": true
   },
   "outputs": [
    {
     "data": {
      "image/png": "[encoded data removed]",
      "text/plain": [
       "<Figure size 432x288 with 1 Axes>"
      ]
     },
     "metadata": {
      "needs_background": "light"
     },
     "output_type": "display_data"
    }
   ],
   "source": [
    "# 散布図\n",
    "plt.plot(student_data_math['G1'], student_data_math['G3'], 'o')\n",
    "plt.xlabel('G1 grade')\n",
    "plt.ylabel('G3 grade')\n",
    "plt.grid(True)"
   ]
  },
  {
   "cell_type": "markdown",
   "metadata": {},
   "source": [
    "回帰問題では、与えられたデータから関係式を仮定して、データに最も当てはまる係数を求めていきます。具体的には、あらかじめ分かっているG1の成績をもとに、G3の成績を予測します。つまり、目的となる変数G3（**目的変数**といいます）があり、それを説明する変数G1（**説明変数**といいます）を使って予測します。これは後ほど機械学習の章で学ぶ「教師あり学習」の1つでもあり、学習時のデータに正解を1つ1つ与えて、その関係性を計算する基礎となるものです。\n",
    "\n",
    "回帰分析の手法は、アウトプット（目的変数）とインプット（説明変数）の関係において、インプットが1変数のものと、2変数以上あるもので、大きく分けられます。前者を単回帰分析、後者を重回帰分析と言います。この節では単純な単回帰分析について説明することにし、重回帰分析については後の機械学習の章で改めて説明します。\n",
    "\n",
    "なお、この節で学ぶ内容を厳密に理解するためには、次の章で学ぶ統計や推定、検定の知識等が必要です。実際、多くの統計の教科書では、これらの知識を学んだ後で回帰分析について解説しています。\n",
    "\n",
    "しかしPythonを使って回帰分析する場合、そうした知識がなくてもScikit-learnという抽象度の高いライブラリを利用することで計算できるため、ここでは、先に実際の計算の方法を説明することにします。この章の内容は、もう少し先に進んでから、後で振り返って復習すると、より深く理解できるはずです。\n",
    "\n",
    "### 3.4.1 線形単回帰分析\n",
    "\n",
    "ここでは単回帰分析のうちでも、アウトプットとインプットが線形の関係に成り立つ（ $ y = ax + b $ ）ことを前提とした線形単回帰という手法で回帰問題を解く方法を説明します。\n",
    "線形単回帰分析は、Scikit-learnというライブラリに用意されている`sklearn.linear_model`を使うと簡単に計算できます。Scikit-learnは機械学習のためのパッケージです。このパッケージは、後の機械学習の章で、さらにさまざまな計算をする場面でも利用します。まず、以下のように`linear_model`をインポートした後、インスタンスを作ります。"
   ]
  },
  {
   "cell_type": "code",
   "execution_count": 176,
   "metadata": {},
   "outputs": [],
   "source": [
    "from sklearn import linear_model\n",
    "\n",
    "# 線形回帰のインスタンスを生成\n",
    "reg = linear_model.LinearRegression()"
   ]
  },
  {
   "cell_type": "markdown",
   "metadata": {},
   "source": [
    "以下では、説明変数（$X$とします）と目的変数（$Y$とします）データをセットして、線形回帰する`fit`という機能を使って、予測モデルを計算します。\n",
    "\n",
    "この場合の`fit`関数は、**最小二乗法**という手法で回帰係数$a$と切片$b$を計算しています。この方法は、実際の目的変数のデータと予測したデータの差の二乗和をとり、それが最小になる時の係数と切片を求めるものです。式で表現すると、$y$を実測値、$ f(x) = ax + b $を予測値として、以下の式を最小にするように計算しています（計算方法としては、この式を微分していくのですが、`fit`関数を実行すれば、その計算をしてくれるので詳細は割愛します）。"
   ]
  },
  {
   "cell_type": "markdown",
   "metadata": {},
   "source": [
    "\\begin{eqnarray}\n",
    "\\sum^n_{i=1}(y_i-f(x_i))^2\n",
    "\\end{eqnarray}"
   ]
  },
  {
   "cell_type": "code",
   "execution_count": 177,
   "metadata": {},
   "outputs": [
    {
     "name": "stdout",
     "output_type": "stream",
     "text": [
      "回帰係数: [1.106]\n",
      "切片: -1.6528038288004616\n"
     ]
    }
   ],
   "source": [
    "# 説明変数に \"一期目の数学の成績\" を利用\n",
    "# locはデータフレームから、行と列を指定して取り出す。loc[:, ['G1']]は、G1列のすべての列を取り出すことをしている\n",
    "# valuesに直しているので、注意\n",
    "X = student_data_math.loc[:, ['G1']].values\n",
    "\n",
    "# 目的変数に \"最終の数学の成績\" を利用\n",
    "Y = student_data_math['G3'].values\n",
    " \n",
    "# 予測モデルを計算、ここでa,bを算出\n",
    "reg.fit(X, Y)\n",
    " \n",
    "# 回帰係数\n",
    "print('回帰係数:', reg.coef_)\n",
    " \n",
    "# 切片 \n",
    "print('切片:', reg.intercept_)"
   ]
  },
  {
   "cell_type": "markdown",
   "metadata": {},
   "source": [
    "上記の回帰係数が線形の回帰式 $ y = ax + b $ における$ a $に相当し、切片に相当するのが$b$です。先ほどの散布図と重ねて、予測した線形回帰式を描いてみましょう。$Y$、つまり予測したい最終の数学の成績G3は、`predict`を使って、括弧の中に説明変数を入れることで計算できます。"
   ]
  },
  {
   "cell_type": "code",
   "execution_count": 178,
   "metadata": {},
   "outputs": [
    {
     "data": {
      "image/png": "[encoded data removed]",
      "text/plain": [
       "<Figure size 432x288 with 1 Axes>"
      ]
     },
     "metadata": {
      "needs_background": "light"
     },
     "output_type": "display_data"
    }
   ],
   "source": [
    "# 先ほどと同じ散布図\n",
    "plt.scatter(X, Y)\n",
    "plt.xlabel('G1 grade')\n",
    "plt.ylabel('G3 grade')\n",
    "\n",
    "# その上に線形回帰直線を引く\n",
    "plt.plot(X, reg.predict(X))\n",
    "plt.grid(True)"
   ]
  },
  {
   "cell_type": "markdown",
   "metadata": {},
   "source": [
    "### 3.4.2 決定係数\n",
    "\n",
    "上記のグラフを見ると予測式は実測値をうまく予測しているようにも見えますが、これが客観的にどうなのかというのは判断がつきません。そこで、それを数値化したものが、**決定係数**です。決定係数は寄与率とも呼ばれます。定義は以下のとおりです。決定係数は$R^2$と示すことが一般的です。"
   ]
  },
  {
   "cell_type": "markdown",
   "metadata": {},
   "source": [
    "\\begin{eqnarray}\n",
    "R^2 = 1 - \\frac{\\sum_{i = 1}^n(y_i - f(x_i))^2}{\\sum_{i = 1}^{n}(y_i - \\bar{y})^2}\n",
    "\\end{eqnarray}"
   ]
  },
  {
   "cell_type": "markdown",
   "metadata": {},
   "source": [
    "$R^2$は最大で1の値を取り、1に近ければ近いほど良いモデルになります。$\\bar{y}$は目的変数の平均値です。説明変数を使わずに常に$\\bar{y}$（定数）で予測した場合と二乗誤差が等しい場合に $R^2=0$ となります。Pythonを使って決定係数を求めるには、`score`を使って以下のようにします。"
   ]
  },
  {
   "cell_type": "code",
   "execution_count": 179,
   "metadata": {},
   "outputs": [
    {
     "name": "stdout",
     "output_type": "stream",
     "text": [
      "決定係数: 0.64235084605227\n"
     ]
    }
   ],
   "source": [
    "# 決定係数、寄与率とも呼ばれる\n",
    "print('決定係数:', reg.score(X, Y))"
   ]
  },
  {
   "cell_type": "markdown",
   "metadata": {},
   "source": [
    "なお、この決定係数の数値がどこまで高ければ良いのかという問題はあります。教科書的なデータや問題では0.9以上の場合が多いですが、実務ではなかなかそこまで出せることはなく、それをどう判断するかはケースバイケースです。ちなみに、上の0.64は高くはありませんが、現場レベルで見ると、使えないレベルでもありません。\n",
    "\n",
    "以上で、単回帰分析と本章の説明は終わりになります。お疲れ様でした。残りは、練習問題と総合演習問題になります。ぜひチャレンジしてください。"
   ]
  },
  {
   "cell_type": "markdown",
   "metadata": {},
   "source": [
    "#### <練習問題 3-4>\n",
    "\n",
    "\n",
    "ポルトガル語の成績データであるstudent-por.csvのデータを使って、`G3`を目的変数、`G1`を説明変数として単回帰分析を実施し、回帰係数、切片、決定係数を求めてください。"
   ]
  },
  {
   "cell_type": "markdown",
   "metadata": {},
   "source": [
    "#### <練習問題 3-5>\n",
    "\n",
    "練習問題3-4のデータの実際の散布図と、回帰直線を合わせてグラフ化してください。"
   ]
  },
  {
   "cell_type": "code",
   "execution_count": 183,
   "metadata": {},
   "outputs": [
    {
     "data": {
      "image/png": "[encoded data removed]",
      "text/plain": [
       "<Figure size 432x288 with 1 Axes>"
      ]
     },
     "metadata": {
      "needs_background": "light"
     },
     "output_type": "display_data"
    }
   ],
   "source": [
    "plt.plot(student_por['G1'],student_por['G3'],'o')\n",
    "plt.xlabel('G1 grade')\n",
    "plt.ylabel('G3 grade')\n",
    "plt.grid(True)"
   ]
  },
  {
   "cell_type": "code",
   "execution_count": 181,
   "metadata": {},
   "outputs": [],
   "source": [
    "from sklearn import linear_model\n",
    "reg = linear_model.LinearRegression()"
   ]
  },
  {
   "cell_type": "code",
   "execution_count": 185,
   "metadata": {},
   "outputs": [
    {
     "name": "stdout",
     "output_type": "stream",
     "text": [
      "回歸係數: [0.973]\n",
      "切片: 0.8203984121064565\n"
     ]
    }
   ],
   "source": [
    "X=student_por.loc[:, ['G1']].values\n",
    "Y=student_por['G3'].values\n",
    "reg.fit(X,Y)\n",
    "print('回歸係數:',reg.coef_)\n",
    "print('切片:',reg.intercept_)"
   ]
  },
  {
   "cell_type": "code",
   "execution_count": 186,
   "metadata": {},
   "outputs": [
    {
     "data": {
      "image/png": "[encoded data removed]",
      "text/plain": [
       "<Figure size 432x288 with 1 Axes>"
      ]
     },
     "metadata": {
      "needs_background": "light"
     },
     "output_type": "display_data"
    }
   ],
   "source": [
    "plt.scatter(X,Y)\n",
    "plt.xlabel('G1 grade')\n",
    "plt.ylabel('G3 grade')\n",
    "\n",
    "plt.plot(X,reg.predict(X))\n",
    "plt.grid(True)"
   ]
  },
  {
   "cell_type": "code",
   "execution_count": 187,
   "metadata": {},
   "outputs": [
    {
     "name": "stdout",
     "output_type": "stream",
     "text": [
      "決定係數: 0.6829156800171083\n"
     ]
    }
   ],
   "source": [
    "print('決定係數:',reg.score(X,Y))"
   ]
  },
  {
   "cell_type": "markdown",
   "metadata": {},
   "source": [
    "#### <練習問題 3-6>\n",
    "\n",
    "student-por.csvのデータを使って、`G3`を目的変数、`absences`（欠席数）を説明変数として単回帰分析を実施し、回帰係数、切片、決定係数を求めてください。また、散布図と回帰直線をグラフ化してみましょう。そして、この結果を見て、考察してみましょう。"
   ]
  },
  {
   "cell_type": "markdown",
   "metadata": {
    "collapsed": true
   },
   "source": [
    "***"
   ]
  },
  {
   "cell_type": "markdown",
   "metadata": {},
   "source": [
    "## 3.5 総合問題"
   ]
  },
  {
   "cell_type": "markdown",
   "metadata": {},
   "source": [
    "### ■総合問題3-1 統計の基礎と可視化\n",
    "\n",
    "以下のサイトにあるデータ（ワインの品質）を読み込み、以下の問いに答えてください。\n",
    "\n",
    "http://archive.ics.uci.edu/ml/machine-learning-databases/wine-quality/winequality-red.csv\n",
    "\n",
    "（1）要約統計量（平均、最大値、最小値、標準偏差など）を算出してください。\n",
    "\n",
    "（2）それぞれの変数の分布と、それぞれの変数の関係性（2変数間のみ）がわかるように、グラフ化してみましょう。何かわかる傾向はありますか。"
   ]
  },
  {
   "cell_type": "markdown",
   "metadata": {},
   "source": [
    "### ■総合問題3-2 ローレンツ曲線とジニ係数\n",
    "\n",
    "この章で利用したサンプルデータstudent_data_mathのデータを使って、以下の問いに答えてください。ここで扱うローレンツ曲線やジニ係数は、貧富の格差（地域別、国別など）を見るための指標として使われています（なお、本問題は少し難易度が高いため、参考程度に見てください。詳細は、以前に紹介した統計学入門などの文献を参照するか、ネットで検索してください）。\n",
    "\n",
    "（1）一期目の数学データについて、男女別に昇順に並び替えをしてください。そして、横軸に人数の累積比率、縦軸に一期目の値の累積比率をとってください。この曲線をローレンツ曲線といいます。このローレンツ曲線を男女別に一期目の数学成績でグラフ化してください。\n",
    "\n",
    "（2）不平等の程度を数値で表したものをジニ係数といいます。この値は、ローレンツ曲線と45度線で囲まれた部分の面積の2倍で定義されて、0から1の値を取ります。値が大きければ大きいほど、不平等の度合いが大きくなります。なお以下のようにジニ係数は定義できます。$\\overline{x}$は平均値です。\n",
    "\n",
    "\\begin{eqnarray}\n",
    "GI=\\sum_{i}\\sum_{j}\\left| \\frac{x_i-x_j}{2n^2 \\overline{x}}\\right|\n",
    "\\end{eqnarray}\n",
    "\n",
    "これを利用して、男女の一期目の成績について、ジニ係数をそれぞれ求めてください。"
   ]
  }
 ],
 "metadata": {
  "anaconda-cloud": {},
  "kernelspec": {
   "display_name": "Python 3 (ipykernel)",
   "language": "python",
   "name": "python3"
  },
  "language_info": {
   "codemirror_mode": {
    "name": "ipython",
    "version": 3
   },
   "file_extension": ".py",
   "mimetype": "text/x-python",
   "name": "python",
   "nbconvert_exporter": "python",
   "pygments_lexer": "ipython3",
   "version": "3.9.7"
  },
  "nbpresent": {
   "slides": {
    "008a788b-b456-4a0c-8288-6f60967c483e": {
     "id": "008a788b-b456-4a0c-8288-6f60967c483e",
     "prev": "17036b1e-8781-4a7e-a909-a179f499bbc9",
     "regions": {
      "072dbee3-3b47-4389-a934-e0168ebd835e": {
       "attrs": {
        "height": 0.8,
        "width": 0.8,
        "x": 0.1,
        "y": 0.1
       },
       "content": {
        "cell": "378cb846-5485-41d5-9983-fec98a22072a",
        "part": "whole"
       },
       "id": "072dbee3-3b47-4389-a934-e0168ebd835e"
      }
     }
    },
    "01ab9067-898c-46a1-91d9-18ca4fe5a937": {
     "id": "01ab9067-898c-46a1-91d9-18ca4fe5a937",
     "prev": "008a788b-b456-4a0c-8288-6f60967c483e",
     "regions": {
      "42da7aa5-8de9-4631-8abe-4ab35c510140": {
       "attrs": {
        "height": 0.8,
        "width": 0.8,
        "x": 0.1,
        "y": 0.1
       },
       "content": {
        "cell": "7f0f7ef4-e90b-41de-8f73-6165e1b3c1cb",
        "part": "whole"
       },
       "id": "42da7aa5-8de9-4631-8abe-4ab35c510140"
      }
     }
    },
    "02225e5f-f35d-40ef-8f23-5431b19121ab": {
     "id": "02225e5f-f35d-40ef-8f23-5431b19121ab",
     "prev": "430a8f03-8947-469c-a376-2f271448284d",
     "regions": {
      "5bf42e3a-831e-4238-ae19-d2212b26edc0": {
       "attrs": {
        "height": 0.8,
        "width": 0.8,
        "x": 0.1,
        "y": 0.1
       },
       "content": {
        "cell": "c68c4e4e-072e-4620-a325-3ebb19ebe1ce",
        "part": "whole"
       },
       "id": "5bf42e3a-831e-4238-ae19-d2212b26edc0"
      }
     }
    },
    "094d2d0d-c7e5-40bc-bed7-bd80198e8e18": {
     "id": "094d2d0d-c7e5-40bc-bed7-bd80198e8e18",
     "prev": "de950ae7-a7c1-424c-afe2-42f481db181e",
     "regions": {
      "95429590-c6e8-4e00-a061-62d2a454c52f": {
       "attrs": {
        "height": 0.8,
        "width": 0.8,
        "x": 0.1,
        "y": 0.1
       },
       "content": {
        "cell": "aa08360f-e7dd-4647-bbfb-cadd5f19af31",
        "part": "whole"
       },
       "id": "95429590-c6e8-4e00-a061-62d2a454c52f"
      }
     }
    },
    "0aa8229e-9b5c-4f49-bd1e-34de4cd2e82f": {
     "id": "0aa8229e-9b5c-4f49-bd1e-34de4cd2e82f",
     "prev": "11f1d1c4-4848-4b7d-a62d-5427e055bbe3",
     "regions": {
      "9504ff07-d651-4294-ba2e-a89ec52ca708": {
       "attrs": {
        "height": 0.8,
        "width": 0.8,
        "x": 0.1,
        "y": 0.1
       },
       "content": {
        "cell": "e73995f2-c960-4881-b3d3-82c24b06c64c",
        "part": "whole"
       },
       "id": "9504ff07-d651-4294-ba2e-a89ec52ca708"
      }
     }
    },
    "0c50d9ca-fef0-4e5c-8a4e-f18d1c2dbb9e": {
     "id": "0c50d9ca-fef0-4e5c-8a4e-f18d1c2dbb9e",
     "prev": "b248eaf4-2e85-4c32-8f88-7b2ef510ee7c",
     "regions": {
      "8b734704-6740-44f7-8c87-17350c882ed3": {
       "attrs": {
        "height": 0.8,
        "width": 0.8,
        "x": 0.1,
        "y": 0.1
       },
       "content": {
        "cell": "cc42c471-e943-450e-a441-3dc962f1c40d",
        "part": "whole"
       },
       "id": "8b734704-6740-44f7-8c87-17350c882ed3"
      }
     }
    },
    "107cd2c7-0a77-4fd7-922b-56df6615dcca": {
     "id": "107cd2c7-0a77-4fd7-922b-56df6615dcca",
     "prev": "2e7deda1-5486-4b26-8e0a-c91e4c88dbe8",
     "regions": {
      "2ee1a19b-7a00-46b1-b393-485ddb7c2b9b": {
       "attrs": {
        "height": 0.8,
        "width": 0.8,
        "x": 0.1,
        "y": 0.1
       },
       "content": {
        "cell": "d27b23aa-809c-4965-8399-5e67901e2ae4",
        "part": "whole"
       },
       "id": "2ee1a19b-7a00-46b1-b393-485ddb7c2b9b"
      }
     }
    },
    "11f1d1c4-4848-4b7d-a62d-5427e055bbe3": {
     "id": "11f1d1c4-4848-4b7d-a62d-5427e055bbe3",
     "prev": "9461c0f4-d87e-441d-915d-95c69b105ecb",
     "regions": {
      "185d0c6f-1e15-43e1-81f5-1234d5ac3ade": {
       "attrs": {
        "height": 0.8,
        "width": 0.8,
        "x": 0.1,
        "y": 0.1
       },
       "content": {
        "cell": "18703937-12da-40b5-960d-e7a50467e7d0",
        "part": "whole"
       },
       "id": "185d0c6f-1e15-43e1-81f5-1234d5ac3ade"
      }
     }
    },
    "17036b1e-8781-4a7e-a909-a179f499bbc9": {
     "id": "17036b1e-8781-4a7e-a909-a179f499bbc9",
     "prev": "5494c0f6-12d4-4627-9481-26c7858f8f09",
     "regions": {
      "4757fb07-c8f0-49b5-bb28-9a5bb61995ff": {
       "attrs": {
        "height": 0.8,
        "width": 0.8,
        "x": 0.1,
        "y": 0.1
       },
       "content": {
        "cell": "6452b3ab-84b7-4f3c-b74f-ae118e4ed9f2",
        "part": "whole"
       },
       "id": "4757fb07-c8f0-49b5-bb28-9a5bb61995ff"
      }
     }
    },
    "1d02d174-1ae1-4900-bb8e-92083b3f723b": {
     "id": "1d02d174-1ae1-4900-bb8e-92083b3f723b",
     "prev": "466c6928-dc5e-4aeb-abad-2dbb2c797793",
     "regions": {
      "2e5e7aee-fec1-4322-82df-30c9bda076ce": {
       "attrs": {
        "height": 0.8,
        "width": 0.8,
        "x": 0.1,
        "y": 0.1
       },
       "content": {
        "cell": "e89daf11-82d5-4ae2-905b-b73662884e4e",
        "part": "whole"
       },
       "id": "2e5e7aee-fec1-4322-82df-30c9bda076ce"
      }
     }
    },
    "26984d6c-6cdd-4fb6-a80c-b16f643b3802": {
     "id": "26984d6c-6cdd-4fb6-a80c-b16f643b3802",
     "prev": "dfaeb098-c3a9-4980-ae35-70f9b6296a7d",
     "regions": {
      "e3a7924f-b4ad-4919-b97c-a9f0da0027ec": {
       "attrs": {
        "height": 0.8,
        "width": 0.8,
        "x": 0.1,
        "y": 0.1
       },
       "content": {
        "cell": "5683d4a6-3bdb-44ea-8a8e-6203da028f73",
        "part": "whole"
       },
       "id": "e3a7924f-b4ad-4919-b97c-a9f0da0027ec"
      }
     }
    },
    "2e7deda1-5486-4b26-8e0a-c91e4c88dbe8": {
     "id": "2e7deda1-5486-4b26-8e0a-c91e4c88dbe8",
     "prev": "67a167dd-f578-4c00-9a52-77864d640afa",
     "regions": {
      "eb91815b-1df2-4bfb-b2d9-b47359f388f3": {
       "attrs": {
        "height": 0.8,
        "width": 0.8,
        "x": 0.1,
        "y": 0.1
       },
       "content": {
        "cell": "2b936ae8-a540-4353-8b1d-42f7a3bdc763",
        "part": "whole"
       },
       "id": "eb91815b-1df2-4bfb-b2d9-b47359f388f3"
      }
     }
    },
    "35c31f44-06e2-4d75-a9b7-0c168d125d04": {
     "id": "35c31f44-06e2-4d75-a9b7-0c168d125d04",
     "prev": "8b46588c-ad23-4509-b67d-62702ed7afd1",
     "regions": {
      "82c3daba-b8de-42a1-b157-7274603802ae": {
       "attrs": {
        "height": 0.8,
        "width": 0.8,
        "x": 0.1,
        "y": 0.1
       },
       "content": {
        "cell": "35e93b3d-957c-4833-a2a5-b980ecffa5b1",
        "part": "whole"
       },
       "id": "82c3daba-b8de-42a1-b157-7274603802ae"
      }
     }
    },
    "3671ddb9-95b3-4245-b062-03cc90ea386d": {
     "id": "3671ddb9-95b3-4245-b062-03cc90ea386d",
     "prev": "3c3ef584-2982-4a35-afcf-4772c65dc2ac",
     "regions": {
      "faddc9ae-ef33-4d8e-a04e-e9f73ea0310e": {
       "attrs": {
        "height": 0.8,
        "width": 0.8,
        "x": 0.1,
        "y": 0.1
       },
       "content": {
        "cell": "bea98316-c64e-4810-b176-ed4947524f8c",
        "part": "whole"
       },
       "id": "faddc9ae-ef33-4d8e-a04e-e9f73ea0310e"
      }
     }
    },
    "37edb96d-7d51-438f-bd46-fc06e161e205": {
     "id": "37edb96d-7d51-438f-bd46-fc06e161e205",
     "prev": "58980228-1ba8-4ba6-89d3-dd7694662786",
     "regions": {
      "d1ee61d0-5e72-4925-b975-1cc103761137": {
       "attrs": {
        "height": 0.8,
        "width": 0.8,
        "x": 0.1,
        "y": 0.1
       },
       "content": {
        "cell": "b0fc1861-b979-45c5-abd0-3b05200de3b6",
        "part": "whole"
       },
       "id": "d1ee61d0-5e72-4925-b975-1cc103761137"
      }
     }
    },
    "3a9ce2a4-6dd4-463e-8d2d-4aa731447f39": {
     "id": "3a9ce2a4-6dd4-463e-8d2d-4aa731447f39",
     "prev": "0aa8229e-9b5c-4f49-bd1e-34de4cd2e82f",
     "regions": {
      "80f94dd5-569c-4105-9db9-746bc3a0d979": {
       "attrs": {
        "height": 0.8,
        "width": 0.8,
        "x": 0.1,
        "y": 0.1
       },
       "content": {
        "cell": "d3d6e29a-a939-4ab4-95e0-5645d4eb97a4",
        "part": "whole"
       },
       "id": "80f94dd5-569c-4105-9db9-746bc3a0d979"
      }
     }
    },
    "3c3ef584-2982-4a35-afcf-4772c65dc2ac": {
     "id": "3c3ef584-2982-4a35-afcf-4772c65dc2ac",
     "prev": "523566b9-8158-4001-91b2-f7d1d61ec04b",
     "regions": {
      "8182730f-8099-4a3f-815d-c92171a084a7": {
       "attrs": {
        "height": 0.8,
        "width": 0.8,
        "x": 0.1,
        "y": 0.1
       },
       "content": {
        "cell": "2ff35469-eeef-46b0-8b36-f2b6d4580bd4",
        "part": "whole"
       },
       "id": "8182730f-8099-4a3f-815d-c92171a084a7"
      }
     }
    },
    "3e8e0818-4535-4e50-b8da-423cfa6bda87": {
     "id": "3e8e0818-4535-4e50-b8da-423cfa6bda87",
     "prev": "bff971e4-b2b6-497d-8f6b-6401514ee2ca",
     "regions": {
      "859f95ab-5314-4f50-9fc8-7f8a76741c82": {
       "attrs": {
        "height": 0.8,
        "width": 0.8,
        "x": 0.1,
        "y": 0.1
       },
       "content": {
        "cell": "0893c4bd-30b9-4137-bc19-c40d5def546a",
        "part": "whole"
       },
       "id": "859f95ab-5314-4f50-9fc8-7f8a76741c82"
      }
     }
    },
    "430a8f03-8947-469c-a376-2f271448284d": {
     "id": "430a8f03-8947-469c-a376-2f271448284d",
     "prev": "ae384cc7-844b-4a3a-816d-4275e60a5020",
     "regions": {
      "cc346300-13a7-4c57-9eea-13d379d8f845": {
       "attrs": {
        "height": 0.8,
        "width": 0.8,
        "x": 0.1,
        "y": 0.1
       },
       "content": {
        "cell": "3b3885c1-a497-4d41-bb48-76a6d8b43a62",
        "part": "whole"
       },
       "id": "cc346300-13a7-4c57-9eea-13d379d8f845"
      }
     }
    },
    "43517c80-f987-4261-bad2-6844f9f11a43": {
     "id": "43517c80-f987-4261-bad2-6844f9f11a43",
     "prev": "02225e5f-f35d-40ef-8f23-5431b19121ab",
     "regions": {
      "386e1c27-adc8-4888-b278-a730e1a06a1b": {
       "attrs": {
        "height": 0.8,
        "width": 0.8,
        "x": 0.1,
        "y": 0.1
       },
       "content": {
        "cell": "c34d5c93-c65c-4e47-8c92-b38faead2dc2",
        "part": "whole"
       },
       "id": "386e1c27-adc8-4888-b278-a730e1a06a1b"
      }
     }
    },
    "466c6928-dc5e-4aeb-abad-2dbb2c797793": {
     "id": "466c6928-dc5e-4aeb-abad-2dbb2c797793",
     "prev": "01ab9067-898c-46a1-91d9-18ca4fe5a937",
     "regions": {
      "dadc7530-a88a-474c-93b1-a6b13fdeb671": {
       "attrs": {
        "height": 0.8,
        "width": 0.8,
        "x": 0.1,
        "y": 0.1
       },
       "content": {
        "cell": "07dd10e2-514b-4435-afa4-cab572e54611",
        "part": "whole"
       },
       "id": "dadc7530-a88a-474c-93b1-a6b13fdeb671"
      }
     }
    },
    "523566b9-8158-4001-91b2-f7d1d61ec04b": {
     "id": "523566b9-8158-4001-91b2-f7d1d61ec04b",
     "prev": "db6c2c84-14f3-4a3f-972c-ea1e9b45b091",
     "regions": {
      "fa40db73-7f38-419f-b6d1-2d0c9854ad3d": {
       "attrs": {
        "height": 0.8,
        "width": 0.8,
        "x": 0.1,
        "y": 0.1
       },
       "content": {
        "cell": "9c7b5502-7d21-45ef-9801-c8ab89c0cb1b",
        "part": "whole"
       },
       "id": "fa40db73-7f38-419f-b6d1-2d0c9854ad3d"
      }
     }
    },
    "5342b691-167b-4e0f-a28f-aee2f74648b3": {
     "id": "5342b691-167b-4e0f-a28f-aee2f74648b3",
     "prev": "9750cf96-7612-4159-bac1-bf26fe2f60c8",
     "regions": {
      "8bf6c96e-7113-4293-9db9-3999fd5dc82b": {
       "attrs": {
        "height": 0.8,
        "width": 0.8,
        "x": 0.1,
        "y": 0.1
       },
       "content": {
        "cell": "21eb3ee8-f72c-4842-a2b2-98bc6b4b06b2",
        "part": "whole"
       },
       "id": "8bf6c96e-7113-4293-9db9-3999fd5dc82b"
      }
     }
    },
    "5494c0f6-12d4-4627-9481-26c7858f8f09": {
     "id": "5494c0f6-12d4-4627-9481-26c7858f8f09",
     "prev": "3671ddb9-95b3-4245-b062-03cc90ea386d",
     "regions": {
      "8f4923d7-89d2-4193-a542-786412d24121": {
       "attrs": {
        "height": 0.8,
        "width": 0.8,
        "x": 0.1,
        "y": 0.1
       },
       "content": {
        "cell": "47413f67-a333-4cd6-8a6e-6b268aa4f4ff",
        "part": "whole"
       },
       "id": "8f4923d7-89d2-4193-a542-786412d24121"
      }
     }
    },
    "57d8f821-fdaf-412d-bc5c-fbaf939e7850": {
     "id": "57d8f821-fdaf-412d-bc5c-fbaf939e7850",
     "prev": "5342b691-167b-4e0f-a28f-aee2f74648b3",
     "regions": {
      "595c1191-37e3-41c2-8807-172c5221490d": {
       "attrs": {
        "height": 0.8,
        "width": 0.8,
        "x": 0.1,
        "y": 0.1
       },
       "content": {
        "cell": "885a45ac-f069-4988-b245-fcd79646e17f",
        "part": "whole"
       },
       "id": "595c1191-37e3-41c2-8807-172c5221490d"
      }
     }
    },
    "58980228-1ba8-4ba6-89d3-dd7694662786": {
     "id": "58980228-1ba8-4ba6-89d3-dd7694662786",
     "prev": "ee0491f8-b146-4b0e-99d3-ceb5eb2f3a1d",
     "regions": {
      "c5224b5d-aad4-4862-a3d1-7e6996d3d33d": {
       "attrs": {
        "height": 0.8,
        "width": 0.8,
        "x": 0.1,
        "y": 0.1
       },
       "content": {
        "cell": "8972370e-3b2e-4fe5-b7d5-e6f410f4df68",
        "part": "whole"
       },
       "id": "c5224b5d-aad4-4862-a3d1-7e6996d3d33d"
      }
     }
    },
    "58fe1e15-bd81-4c14-8c10-08606b7f56ae": {
     "id": "58fe1e15-bd81-4c14-8c10-08606b7f56ae",
     "prev": "8511eb84-692c-4a63-b3c3-7e1f86c137bd",
     "regions": {
      "c29ef705-df31-4240-987b-1697100d6ae4": {
       "attrs": {
        "height": 0.8,
        "width": 0.8,
        "x": 0.1,
        "y": 0.1
       },
       "content": {
        "cell": "b5e81c61-d695-4fc4-b784-45ed41026d4a",
        "part": "whole"
       },
       "id": "c29ef705-df31-4240-987b-1697100d6ae4"
      }
     }
    },
    "6156681f-3fe2-4d80-aab1-f7c28e200404": {
     "id": "6156681f-3fe2-4d80-aab1-f7c28e200404",
     "prev": "c17f7347-3cbe-420c-a499-3131e4eaac59",
     "regions": {
      "28d9588e-1085-432e-9b58-6e28c4d7c74f": {
       "attrs": {
        "height": 0.8,
        "width": 0.8,
        "x": 0.1,
        "y": 0.1
       },
       "content": {
        "cell": "3dbf6370-0a3a-44be-ade7-2a32586e4508",
        "part": "whole"
       },
       "id": "28d9588e-1085-432e-9b58-6e28c4d7c74f"
      }
     }
    },
    "67a167dd-f578-4c00-9a52-77864d640afa": {
     "id": "67a167dd-f578-4c00-9a52-77864d640afa",
     "prev": "b7ce05ff-6ab9-49ba-9235-05d97e6d8b19",
     "regions": {
      "b3a441dc-47d2-402e-b9fe-68a0472d5670": {
       "attrs": {
        "height": 0.8,
        "width": 0.8,
        "x": 0.1,
        "y": 0.1
       },
       "content": {
        "cell": "a67a0f57-b7bb-4ad2-89a8-f53f514d52d5",
        "part": "whole"
       },
       "id": "b3a441dc-47d2-402e-b9fe-68a0472d5670"
      }
     }
    },
    "76cecc6a-4ff3-4f36-9fcd-dc72da22db7a": {
     "id": "76cecc6a-4ff3-4f36-9fcd-dc72da22db7a",
     "prev": "107cd2c7-0a77-4fd7-922b-56df6615dcca",
     "regions": {
      "3d9e9ca1-88f1-4d57-b1ce-1cd3377e1f1e": {
       "attrs": {
        "height": 0.8,
        "width": 0.8,
        "x": 0.1,
        "y": 0.1
       },
       "content": {
        "cell": "c3f25ce7-4ac2-4e7e-ae0d-0d354b7aa34a",
        "part": "whole"
       },
       "id": "3d9e9ca1-88f1-4d57-b1ce-1cd3377e1f1e"
      }
     }
    },
    "7a3d7039-5de1-4759-9129-49437077ec67": {
     "id": "7a3d7039-5de1-4759-9129-49437077ec67",
     "prev": "76cecc6a-4ff3-4f36-9fcd-dc72da22db7a",
     "regions": {
      "f8ee8b52-b882-4e27-b1e2-4db18e65b256": {
       "attrs": {
        "height": 0.8,
        "width": 0.8,
        "x": 0.1,
        "y": 0.1
       },
       "content": {
        "cell": "4a0d9ca6-f3a4-453d-b52e-ad5d17ca5883",
        "part": "whole"
       },
       "id": "f8ee8b52-b882-4e27-b1e2-4db18e65b256"
      }
     }
    },
    "7c9758fa-71de-4938-8eed-be5dabd2d61c": {
     "id": "7c9758fa-71de-4938-8eed-be5dabd2d61c",
     "prev": "3e8e0818-4535-4e50-b8da-423cfa6bda87",
     "regions": {
      "94b0287c-da12-4bf9-ab24-b6041cab0a0f": {
       "attrs": {
        "height": 0.8,
        "width": 0.8,
        "x": 0.1,
        "y": 0.1
       },
       "content": {
        "cell": "5e5e8200-af66-4ffa-85d8-0ca019d398d8",
        "part": "whole"
       },
       "id": "94b0287c-da12-4bf9-ab24-b6041cab0a0f"
      }
     }
    },
    "8511eb84-692c-4a63-b3c3-7e1f86c137bd": {
     "id": "8511eb84-692c-4a63-b3c3-7e1f86c137bd",
     "prev": "3a9ce2a4-6dd4-463e-8d2d-4aa731447f39",
     "regions": {
      "d512994f-a930-4cb5-9feb-0c9e9b3eca21": {
       "attrs": {
        "height": 0.8,
        "width": 0.8,
        "x": 0.1,
        "y": 0.1
       },
       "content": {
        "cell": "93a5d1f3-e3b5-4840-95c2-503725844dc3",
        "part": "whole"
       },
       "id": "d512994f-a930-4cb5-9feb-0c9e9b3eca21"
      }
     }
    },
    "863c2f5d-5ed6-4abd-9212-ac3aa08b7c2d": {
     "id": "863c2f5d-5ed6-4abd-9212-ac3aa08b7c2d",
     "prev": "fa1e9266-57b6-41c8-9ad2-05119a8154fa",
     "regions": {
      "2efc3ace-624d-49f2-8602-18d3ce4fd9d1": {
       "attrs": {
        "height": 0.8,
        "width": 0.8,
        "x": 0.1,
        "y": 0.1
       },
       "content": {
        "cell": "1c22acff-5c31-4b42-a557-2be121021d1e",
        "part": "whole"
       },
       "id": "2efc3ace-624d-49f2-8602-18d3ce4fd9d1"
      }
     }
    },
    "8a00b47c-c1da-479f-b5e8-16224b1bc1ad": {
     "id": "8a00b47c-c1da-479f-b5e8-16224b1bc1ad",
     "prev": "c372f9ff-ce00-4768-8a0a-cb894e0fa65d",
     "regions": {
      "88f7e3bd-c1f1-4783-aa29-4b3871ed83c9": {
       "attrs": {
        "height": 0.8,
        "width": 0.8,
        "x": 0.1,
        "y": 0.1
       },
       "content": {
        "cell": "4bcabd6c-13d5-4a8e-a4cf-46d12550458b",
        "part": "whole"
       },
       "id": "88f7e3bd-c1f1-4783-aa29-4b3871ed83c9"
      }
     }
    },
    "8b46588c-ad23-4509-b67d-62702ed7afd1": {
     "id": "8b46588c-ad23-4509-b67d-62702ed7afd1",
     "prev": "37edb96d-7d51-438f-bd46-fc06e161e205",
     "regions": {
      "6e4458c9-28eb-4025-8ac9-d7fc0ffb8fee": {
       "attrs": {
        "height": 0.8,
        "width": 0.8,
        "x": 0.1,
        "y": 0.1
       },
       "content": {
        "cell": "575abe68-ac1a-489a-8b14-aef861c188e3",
        "part": "whole"
       },
       "id": "6e4458c9-28eb-4025-8ac9-d7fc0ffb8fee"
      }
     }
    },
    "92033db1-1754-4f97-a65f-d7fcd5e5ef5f": {
     "id": "92033db1-1754-4f97-a65f-d7fcd5e5ef5f",
     "prev": "7c9758fa-71de-4938-8eed-be5dabd2d61c",
     "regions": {
      "73b1869c-52b3-4f19-8918-f9d27d1ce96a": {
       "attrs": {
        "height": 0.8,
        "width": 0.8,
        "x": 0.1,
        "y": 0.1
       },
       "content": {
        "cell": "31f1dd1c-7279-4590-a581-4789248b9d95",
        "part": "whole"
       },
       "id": "73b1869c-52b3-4f19-8918-f9d27d1ce96a"
      }
     }
    },
    "9461c0f4-d87e-441d-915d-95c69b105ecb": {
     "id": "9461c0f4-d87e-441d-915d-95c69b105ecb",
     "prev": "92033db1-1754-4f97-a65f-d7fcd5e5ef5f",
     "regions": {
      "4dd7f598-05d6-4e49-883d-978967a66cc5": {
       "attrs": {
        "height": 0.8,
        "width": 0.8,
        "x": 0.1,
        "y": 0.1
       },
       "content": {
        "cell": "674e452c-7ba7-4c07-be5e-1e73553f8849",
        "part": "whole"
       },
       "id": "4dd7f598-05d6-4e49-883d-978967a66cc5"
      }
     }
    },
    "94c7954c-21de-44d2-81f0-746748834167": {
     "id": "94c7954c-21de-44d2-81f0-746748834167",
     "prev": "d806c3fb-ea3d-4b90-be5b-e78113b3e887",
     "regions": {
      "a853df0e-2a78-45f8-8841-72a437ba5d68": {
       "attrs": {
        "height": 0.8,
        "width": 0.8,
        "x": 0.1,
        "y": 0.1
       },
       "content": {
        "cell": "f581b3c5-979f-4ad2-95b7-e89dc86afee3",
        "part": "whole"
       },
       "id": "a853df0e-2a78-45f8-8841-72a437ba5d68"
      }
     }
    },
    "94c969b1-892d-4f1a-a832-8154573c893c": {
     "id": "94c969b1-892d-4f1a-a832-8154573c893c",
     "prev": "94c7954c-21de-44d2-81f0-746748834167",
     "regions": {
      "c1ade563-9e9b-490c-970b-37faba235b7e": {
       "attrs": {
        "height": 0.8,
        "width": 0.8,
        "x": 0.1,
        "y": 0.1
       },
       "content": {
        "cell": "e965b847-7d60-48e2-b72f-972816a1e6fc",
        "part": "whole"
       },
       "id": "c1ade563-9e9b-490c-970b-37faba235b7e"
      }
     }
    },
    "9750cf96-7612-4159-bac1-bf26fe2f60c8": {
     "id": "9750cf96-7612-4159-bac1-bf26fe2f60c8",
     "prev": "94c969b1-892d-4f1a-a832-8154573c893c",
     "regions": {
      "116d14ce-3f3d-44a1-aa86-61b1ac19354f": {
       "attrs": {
        "height": 0.8,
        "width": 0.8,
        "x": 0.1,
        "y": 0.1
       },
       "content": {
        "cell": "ddd82eaf-9b54-48bf-ac57-aa797a3a970a",
        "part": "whole"
       },
       "id": "116d14ce-3f3d-44a1-aa86-61b1ac19354f"
      }
     }
    },
    "a40bc8a7-660a-4478-8071-b97c5127c4b5": {
     "id": "a40bc8a7-660a-4478-8071-b97c5127c4b5",
     "prev": "863c2f5d-5ed6-4abd-9212-ac3aa08b7c2d",
     "regions": {
      "929e10a6-a0b0-4d31-99b1-311fcfc150a1": {
       "attrs": {
        "height": 0.8,
        "width": 0.8,
        "x": 0.1,
        "y": 0.1
       },
       "content": {
        "cell": "d7d32de7-bcdd-486d-b6c9-d5caad1164e3",
        "part": "whole"
       },
       "id": "929e10a6-a0b0-4d31-99b1-311fcfc150a1"
      }
     }
    },
    "ae384cc7-844b-4a3a-816d-4275e60a5020": {
     "id": "ae384cc7-844b-4a3a-816d-4275e60a5020",
     "prev": "26984d6c-6cdd-4fb6-a80c-b16f643b3802",
     "regions": {
      "b7a26fcd-98a6-4c24-893f-14ab3d6257bb": {
       "attrs": {
        "height": 0.8,
        "width": 0.8,
        "x": 0.1,
        "y": 0.1
       },
       "content": {
        "cell": "ddc73611-ffe2-434e-b3bd-cd417ef42b68",
        "part": "whole"
       },
       "id": "b7a26fcd-98a6-4c24-893f-14ab3d6257bb"
      }
     }
    },
    "b248eaf4-2e85-4c32-8f88-7b2ef510ee7c": {
     "id": "b248eaf4-2e85-4c32-8f88-7b2ef510ee7c",
     "prev": null,
     "regions": {
      "729796eb-5023-4fc8-b32f-83045cda3258": {
       "attrs": {
        "height": 0.8,
        "width": 0.8,
        "x": 0.1,
        "y": 0.1
       },
       "content": {
        "cell": "dad3a857-8628-4c15-a8ad-312792cb88ac",
        "part": "whole"
       },
       "id": "729796eb-5023-4fc8-b32f-83045cda3258"
      }
     }
    },
    "b7ce05ff-6ab9-49ba-9235-05d97e6d8b19": {
     "id": "b7ce05ff-6ab9-49ba-9235-05d97e6d8b19",
     "prev": "fd5b9f11-7cb4-4280-8955-7da1f2a0eafd",
     "regions": {
      "44f843a2-f9a7-4c01-be36-f2b39de5a725": {
       "attrs": {
        "height": 0.8,
        "width": 0.8,
        "x": 0.1,
        "y": 0.1
       },
       "content": {
        "cell": "852d31b9-64ee-4906-8865-dc217141338a",
        "part": "whole"
       },
       "id": "44f843a2-f9a7-4c01-be36-f2b39de5a725"
      }
     }
    },
    "bff971e4-b2b6-497d-8f6b-6401514ee2ca": {
     "id": "bff971e4-b2b6-497d-8f6b-6401514ee2ca",
     "prev": "7a3d7039-5de1-4759-9129-49437077ec67",
     "regions": {
      "07dd02d3-5ac3-4d96-9291-c3870d15f11e": {
       "attrs": {
        "height": 0.8,
        "width": 0.8,
        "x": 0.1,
        "y": 0.1
       },
       "content": {
        "cell": "31a44e48-3de3-4fa2-9c03-2063209cce11",
        "part": "whole"
       },
       "id": "07dd02d3-5ac3-4d96-9291-c3870d15f11e"
      }
     }
    },
    "c17f7347-3cbe-420c-a499-3131e4eaac59": {
     "id": "c17f7347-3cbe-420c-a499-3131e4eaac59",
     "prev": "57d8f821-fdaf-412d-bc5c-fbaf939e7850",
     "regions": {
      "7d4b25fd-aa9a-4d62-8181-05324639ff0d": {
       "attrs": {
        "height": 0.8,
        "width": 0.8,
        "x": 0.1,
        "y": 0.1
       },
       "content": {
        "cell": "35043c9c-279e-47cd-b82f-9dae8c5f9fec",
        "part": "whole"
       },
       "id": "7d4b25fd-aa9a-4d62-8181-05324639ff0d"
      }
     }
    },
    "c372f9ff-ce00-4768-8a0a-cb894e0fa65d": {
     "id": "c372f9ff-ce00-4768-8a0a-cb894e0fa65d",
     "prev": "35c31f44-06e2-4d75-a9b7-0c168d125d04",
     "regions": {
      "c3931b7b-0a33-46e0-a5b6-6b33b0075fd5": {
       "attrs": {
        "height": 0.8,
        "width": 0.8,
        "x": 0.1,
        "y": 0.1
       },
       "content": {
        "cell": "6dccff7c-9bb1-447a-9692-656ca1687626",
        "part": "whole"
       },
       "id": "c3931b7b-0a33-46e0-a5b6-6b33b0075fd5"
      }
     }
    },
    "d806c3fb-ea3d-4b90-be5b-e78113b3e887": {
     "id": "d806c3fb-ea3d-4b90-be5b-e78113b3e887",
     "prev": "094d2d0d-c7e5-40bc-bed7-bd80198e8e18",
     "regions": {
      "8ec4249f-2827-4eb0-bb27-152d4dea703f": {
       "attrs": {
        "height": 0.8,
        "width": 0.8,
        "x": 0.1,
        "y": 0.1
       },
       "content": {
        "cell": "25b7da30-19eb-4326-ba15-d969f9c1ad12",
        "part": "whole"
       },
       "id": "8ec4249f-2827-4eb0-bb27-152d4dea703f"
      }
     }
    },
    "db6c2c84-14f3-4a3f-972c-ea1e9b45b091": {
     "id": "db6c2c84-14f3-4a3f-972c-ea1e9b45b091",
     "prev": "ff25a0ae-0958-4983-b72b-6d655554983e",
     "regions": {
      "33e20b90-5ef8-482a-af30-6ebe50fa5247": {
       "attrs": {
        "height": 0.8,
        "width": 0.8,
        "x": 0.1,
        "y": 0.1
       },
       "content": {
        "cell": "b2282939-76b5-4358-8caf-bda59cd4dfc8",
        "part": "whole"
       },
       "id": "33e20b90-5ef8-482a-af30-6ebe50fa5247"
      }
     }
    },
    "de950ae7-a7c1-424c-afe2-42f481db181e": {
     "id": "de950ae7-a7c1-424c-afe2-42f481db181e",
     "prev": "58fe1e15-bd81-4c14-8c10-08606b7f56ae",
     "regions": {
      "157e2366-91bc-4374-b005-296b72401f19": {
       "attrs": {
        "height": 0.8,
        "width": 0.8,
        "x": 0.1,
        "y": 0.1
       },
       "content": {
        "cell": "6eff5466-e51a-40e9-b5d6-0e511d329721",
        "part": "whole"
       },
       "id": "157e2366-91bc-4374-b005-296b72401f19"
      }
     }
    },
    "dfaeb098-c3a9-4980-ae35-70f9b6296a7d": {
     "id": "dfaeb098-c3a9-4980-ae35-70f9b6296a7d",
     "prev": "a40bc8a7-660a-4478-8071-b97c5127c4b5",
     "regions": {
      "ff8a9509-83fc-43b8-b85d-05642f796426": {
       "attrs": {
        "height": 0.8,
        "width": 0.8,
        "x": 0.1,
        "y": 0.1
       },
       "content": {
        "cell": "139cbba6-15fb-4eb9-b2d8-a25bdbf3a874",
        "part": "whole"
       },
       "id": "ff8a9509-83fc-43b8-b85d-05642f796426"
      }
     }
    },
    "ee0491f8-b146-4b0e-99d3-ceb5eb2f3a1d": {
     "id": "ee0491f8-b146-4b0e-99d3-ceb5eb2f3a1d",
     "prev": "0c50d9ca-fef0-4e5c-8a4e-f18d1c2dbb9e",
     "regions": {
      "7e1317fc-37fb-47f2-9822-1b464ab3a0f1": {
       "attrs": {
        "height": 0.8,
        "width": 0.8,
        "x": 0.1,
        "y": 0.1
       },
       "content": {
        "cell": "93b648ee-643e-46b2-a289-f6b562875bc4",
        "part": "whole"
       },
       "id": "7e1317fc-37fb-47f2-9822-1b464ab3a0f1"
      }
     }
    },
    "fa1e9266-57b6-41c8-9ad2-05119a8154fa": {
     "id": "fa1e9266-57b6-41c8-9ad2-05119a8154fa",
     "prev": "1d02d174-1ae1-4900-bb8e-92083b3f723b",
     "regions": {
      "642cb521-a4bf-4bdf-94e4-c4e1db951bed": {
       "attrs": {
        "height": 0.8,
        "width": 0.8,
        "x": 0.1,
        "y": 0.1
       },
       "content": {
        "cell": "7bcdf43b-5617-4e59-b3d7-0c3706c527f1",
        "part": "whole"
       },
       "id": "642cb521-a4bf-4bdf-94e4-c4e1db951bed"
      }
     }
    },
    "fd5b9f11-7cb4-4280-8955-7da1f2a0eafd": {
     "id": "fd5b9f11-7cb4-4280-8955-7da1f2a0eafd",
     "prev": "8a00b47c-c1da-479f-b5e8-16224b1bc1ad",
     "regions": {
      "bafa4b52-8d5e-4af8-9b56-5cfb28caec46": {
       "attrs": {
        "height": 0.8,
        "width": 0.8,
        "x": 0.1,
        "y": 0.1
       },
       "content": {
        "cell": "d110e3f4-e865-4198-8668-17bd4f1e9540",
        "part": "whole"
       },
       "id": "bafa4b52-8d5e-4af8-9b56-5cfb28caec46"
      }
     }
    },
    "ff25a0ae-0958-4983-b72b-6d655554983e": {
     "id": "ff25a0ae-0958-4983-b72b-6d655554983e",
     "prev": "6156681f-3fe2-4d80-aab1-f7c28e200404",
     "regions": {
      "4536da0e-7194-48f1-a4eb-13fb6d74ecf5": {
       "attrs": {
        "height": 0.8,
        "width": 0.8,
        "x": 0.1,
        "y": 0.1
       },
       "content": {
        "cell": "72beaf23-bcc8-4311-b327-b67a3b07436a",
        "part": "whole"
       },
       "id": "4536da0e-7194-48f1-a4eb-13fb6d74ecf5"
      }
     }
    }
   },
   "themes": {}
  }
 },
 "nbformat": 4,
 "nbformat_minor": 1
}
