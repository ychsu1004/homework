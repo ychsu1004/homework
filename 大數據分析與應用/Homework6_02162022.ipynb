{
 "cells": [
  {
   "cell_type": "markdown",
   "id": "f380fc81",
   "metadata": {},
   "source": [
    "6.Find an alternative way to write a Fibonacci sequence function calc_fib(n) given in Chapter 1. The one given in the Chapter 1 causes too much calculation burden when the n is large ( you may check if the outcome is retuned at once. This exercise ask you to give some fixed n and return with its sequence; the second object is to use some other way to rewrite the code with better calculation speed."
   ]
  },
  {
   "cell_type": "code",
   "execution_count": 2,
   "id": "af3a8f19",
   "metadata": {},
   "outputs": [
    {
     "name": "stdout",
     "output_type": "stream",
     "text": [
      "input a number:10\n",
      "[0, 1, 1, 2, 3, 5, 8, 13, 21, 34]\n"
     ]
    }
   ],
   "source": [
    "def calc_fib(x):\n",
    "    \n",
    "    fib_list = list()\n",
    "    \n",
    "    if x == 0:\n",
    "        fib_list.append(0)\n",
    "        return fib_list\n",
    "    elif x == 1:\n",
    "        fib_list.append(0)\n",
    "        fib_list.append(1)\n",
    "        return fib_list\n",
    "    else:\n",
    "        fib_list.append(0)\n",
    "        fib_list.append(1)\n",
    "         \n",
    "    for i in range(2, x): \n",
    "        fib_list.append(fib_list[i - 1] + fib_list[i - 2])\n",
    "        \n",
    "    return fib_list\n",
    "\n",
    "fib = int(input(\"input a number:\"))\n",
    "lists = calc_fib(fib)\n",
    "print(lists)"
   ]
  },
  {
   "cell_type": "code",
   "execution_count": null,
   "id": "280c7d7e",
   "metadata": {},
   "outputs": [],
   "source": []
  }
 ],
 "metadata": {
  "kernelspec": {
   "display_name": "Python 3 (ipykernel)",
   "language": "python",
   "name": "python3"
  },
  "language_info": {
   "codemirror_mode": {
    "name": "ipython",
    "version": 3
   },
   "file_extension": ".py",
   "mimetype": "text/x-python",
   "name": "python",
   "nbconvert_exporter": "python",
   "pygments_lexer": "ipython3",
   "version": "3.9.7"
  }
 },
 "nbformat": 4,
 "nbformat_minor": 5
}
