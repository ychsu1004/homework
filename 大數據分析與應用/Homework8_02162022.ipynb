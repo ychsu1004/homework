{
 "cells": [
  {
   "cell_type": "markdown",
   "id": "ec55e321",
   "metadata": {},
   "source": [
    "8. Can the problem #4 be extended to some program that is given by fixed number N such that the program can show all the prime numbers in between?"
   ]
  },
  {
   "cell_type": "code",
   "execution_count": 2,
   "id": "4a42e550",
   "metadata": {},
   "outputs": [
    {
     "name": "stdout",
     "output_type": "stream",
     "text": [
      "input a number：10\n",
      "1\n",
      "2\n",
      "3\n",
      "5\n",
      "7\n"
     ]
    }
   ],
   "source": [
    "def is_prim(n):\n",
    "    for j in range(2,n):\n",
    "        if n % j == 0:\n",
    "            return False\n",
    "    return True\n",
    "\n",
    "x = int(input(\"input a number：\"))\n",
    "lists = list(range(1,x))\n",
    "for i in lists:\n",
    "    if is_prim(i):\n",
    "        print(i)"
   ]
  },
  {
   "cell_type": "code",
   "execution_count": null,
   "id": "8400bca1",
   "metadata": {},
   "outputs": [],
   "source": []
  }
 ],
 "metadata": {
  "kernelspec": {
   "display_name": "Python 3 (ipykernel)",
   "language": "python",
   "name": "python3"
  },
  "language_info": {
   "codemirror_mode": {
    "name": "ipython",
    "version": 3
   },
   "file_extension": ".py",
   "mimetype": "text/x-python",
   "name": "python",
   "nbconvert_exporter": "python",
   "pygments_lexer": "ipython3",
   "version": "3.9.7"
  }
 },
 "nbformat": 4,
 "nbformat_minor": 5
}
