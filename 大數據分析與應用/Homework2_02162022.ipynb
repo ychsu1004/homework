{
 "cells": [
  {
   "cell_type": "markdown",
   "id": "40923f09",
   "metadata": {},
   "source": [
    "2. Write a function to calculate the sum from 1 to a given number, e.g., 50, and return its outcome. Can you write the code with a given n instead of a fixed n (50)?"
   ]
  },
  {
   "cell_type": "code",
   "execution_count": 10,
   "id": "c00bcc67",
   "metadata": {},
   "outputs": [
    {
     "name": "stdout",
     "output_type": "stream",
     "text": [
      "input a number:50\n",
      "sum=1275\n"
     ]
    }
   ],
   "source": [
    "x = int(input(\"input a number:\"))\n",
    "sum = 0\n",
    "for i in range(1, x+1):\n",
    "    sum=sum+i\n",
    "print(\"sum={}\".format(sum))"
   ]
  },
  {
   "cell_type": "code",
   "execution_count": null,
   "id": "3cdfc30e",
   "metadata": {},
   "outputs": [],
   "source": []
  }
 ],
 "metadata": {
  "kernelspec": {
   "display_name": "Python 3 (ipykernel)",
   "language": "python",
   "name": "python3"
  },
  "language_info": {
   "codemirror_mode": {
    "name": "ipython",
    "version": 3
   },
   "file_extension": ".py",
   "mimetype": "text/x-python",
   "name": "python",
   "nbconvert_exporter": "python",
   "pygments_lexer": "ipython3",
   "version": "3.9.7"
  }
 },
 "nbformat": 4,
 "nbformat_minor": 5
}
