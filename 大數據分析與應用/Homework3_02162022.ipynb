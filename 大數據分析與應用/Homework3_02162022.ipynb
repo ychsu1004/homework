{
 "cells": [
  {
   "cell_type": "markdown",
   "id": "938dd0ee",
   "metadata": {},
   "source": [
    "3. 寫一個字串的 string_to_list 函數:\n",
    "輸入 : 'I am a good man'\n",
    "輸出: [ 'I',' ', 'a', 'm',' ', 'a',' ', 'g', 'o', 'o', 'd',' ', 'm', 'a', 'n']"
   ]
  },
  {
   "cell_type": "code",
   "execution_count": 1,
   "id": "84826803",
   "metadata": {},
   "outputs": [
    {
     "name": "stdout",
     "output_type": "stream",
     "text": [
      "['I', ' ', 'a', 'm', ' ', 'a', ' ', 'g', 'o', 'o', 'd', ' ', 'm', 'a', 'n']\n"
     ]
    }
   ],
   "source": [
    "string = \"I am a good man\"\n",
    "list_string = list(string)\n",
    "print(list_string)"
   ]
  },
  {
   "cell_type": "code",
   "execution_count": null,
   "id": "54dc58f8",
   "metadata": {},
   "outputs": [],
   "source": []
  }
 ],
 "metadata": {
  "kernelspec": {
   "display_name": "Python 3 (ipykernel)",
   "language": "python",
   "name": "python3"
  },
  "language_info": {
   "codemirror_mode": {
    "name": "ipython",
    "version": 3
   },
   "file_extension": ".py",
   "mimetype": "text/x-python",
   "name": "python",
   "nbconvert_exporter": "python",
   "pygments_lexer": "ipython3",
   "version": "3.9.7"
  }
 },
 "nbformat": 4,
 "nbformat_minor": 5
}
