{
 "cells": [
  {
   "cell_type": "markdown",
   "id": "8d5d1d10",
   "metadata": {},
   "source": [
    "7. To show all the prime numbers existed between 1 to 10. ( A prime number is a positive natural number that can be divided by itself and 1 only)"
   ]
  },
  {
   "cell_type": "code",
   "execution_count": 1,
   "id": "fc8daa3f",
   "metadata": {},
   "outputs": [
    {
     "name": "stdout",
     "output_type": "stream",
     "text": [
      "1\n",
      "2\n",
      "3\n",
      "5\n",
      "7\n"
     ]
    }
   ],
   "source": [
    "def is_prim(n):\n",
    "    for j in range(2,n):\n",
    "        if n % j == 0:\n",
    "            return False\n",
    "    return True\n",
    "\n",
    "for i in range(1, 11):\n",
    "    if is_prim(i):\n",
    "        print(i)"
   ]
  },
  {
   "cell_type": "code",
   "execution_count": null,
   "id": "6029b5a8",
   "metadata": {},
   "outputs": [],
   "source": []
  }
 ],
 "metadata": {
  "kernelspec": {
   "display_name": "Python 3 (ipykernel)",
   "language": "python",
   "name": "python3"
  },
  "language_info": {
   "codemirror_mode": {
    "name": "ipython",
    "version": 3
   },
   "file_extension": ".py",
   "mimetype": "text/x-python",
   "name": "python",
   "nbconvert_exporter": "python",
   "pygments_lexer": "ipython3",
   "version": "3.9.7"
  }
 },
 "nbformat": 4,
 "nbformat_minor": 5
}
