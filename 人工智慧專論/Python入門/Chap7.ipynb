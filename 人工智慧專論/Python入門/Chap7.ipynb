{
 "cells": [
  {
   "cell_type": "markdown",
   "id": "1f8889c1",
   "metadata": {},
   "source": [
    "#7-2"
   ]
  },
  {
   "cell_type": "code",
   "execution_count": 26,
   "id": "8f17bd84",
   "metadata": {},
   "outputs": [],
   "source": [
    "%matplotlib inline\n",
    "import numpy as np\n",
    "import matplotlib.pyplot as plt"
   ]
  },
  {
   "cell_type": "code",
   "execution_count": 27,
   "id": "a9bee60d",
   "metadata": {},
   "outputs": [],
   "source": [
    "x = np.array([[-3,2],[-6,5],[3,-4],[2,-8]])\n",
    "y = np.array([1,1,2,2])"
   ]
  },
  {
   "cell_type": "code",
   "execution_count": 28,
   "id": "0c274062",
   "metadata": {},
   "outputs": [
    {
     "data": {
      "text/plain": [
       "<matplotlib.collections.PathCollection at 0x19e0b843970>"
      ]
     },
     "execution_count": 28,
     "metadata": {},
     "output_type": "execute_result"
    },
    {
     "data": {
      "image/png": "[encoded data removed]",
      "text/plain": [
       "<Figure size 432x288 with 1 Axes>"
      ]
     },
     "metadata": {
      "needs_background": "light"
     },
     "output_type": "display_data"
    }
   ],
   "source": [
    "plt.scatter([-3,-6,3,2],[2,5,-4,-8],c=y)"
   ]
  },
  {
   "cell_type": "code",
   "execution_count": 29,
   "id": "89325a34",
   "metadata": {},
   "outputs": [
    {
     "data": {
      "text/plain": [
       "array([[-3,  2],\n",
       "       [-6,  5],\n",
       "       [ 3, -4],\n",
       "       [ 2, -8]])"
      ]
     },
     "execution_count": 29,
     "metadata": {},
     "output_type": "execute_result"
    }
   ],
   "source": [
    "x"
   ]
  },
  {
   "cell_type": "code",
   "execution_count": 30,
   "id": "c7845b55",
   "metadata": {},
   "outputs": [
    {
     "data": {
      "text/plain": [
       "-4"
      ]
     },
     "execution_count": 30,
     "metadata": {},
     "output_type": "execute_result"
    }
   ],
   "source": [
    "x[2,1]"
   ]
  },
  {
   "cell_type": "code",
   "execution_count": 31,
   "id": "0eccb846",
   "metadata": {},
   "outputs": [
    {
     "data": {
      "text/plain": [
       "array([-3, -6,  3,  2])"
      ]
     },
     "execution_count": 31,
     "metadata": {},
     "output_type": "execute_result"
    }
   ],
   "source": [
    "x[:,0]"
   ]
  },
  {
   "cell_type": "code",
   "execution_count": 32,
   "id": "1711a4d9",
   "metadata": {},
   "outputs": [
    {
     "data": {
      "text/plain": [
       "array([ 2,  5, -4, -8])"
      ]
     },
     "execution_count": 32,
     "metadata": {},
     "output_type": "execute_result"
    }
   ],
   "source": [
    "x[:,1]"
   ]
  },
  {
   "cell_type": "code",
   "execution_count": 33,
   "id": "97410bfa",
   "metadata": {},
   "outputs": [
    {
     "data": {
      "text/plain": [
       "<matplotlib.collections.PathCollection at 0x19e0bff6a90>"
      ]
     },
     "execution_count": 33,
     "metadata": {},
     "output_type": "execute_result"
    },
    {
     "data": {
      "image/png": "[encoded data removed]",
      "text/plain": [
       "<Figure size 432x288 with 1 Axes>"
      ]
     },
     "metadata": {
      "needs_background": "light"
     },
     "output_type": "display_data"
    }
   ],
   "source": [
    "plt.scatter(x[:,0],x[:,1],c=y)"
   ]
  },
  {
   "cell_type": "code",
   "execution_count": 34,
   "id": "ff8d2426",
   "metadata": {},
   "outputs": [
    {
     "data": {
      "text/plain": [
       "<matplotlib.collections.PathCollection at 0x19e0c064c40>"
      ]
     },
     "execution_count": 34,
     "metadata": {},
     "output_type": "execute_result"
    },
    {
     "data": {
      "image/png": "[encoded data removed]",
      "text/plain": [
       "<Figure size 432x288 with 1 Axes>"
      ]
     },
     "metadata": {
      "needs_background": "light"
     },
     "output_type": "display_data"
    }
   ],
   "source": [
    "plt.scatter(x[:,0],x[:,1],s=50,c=y)"
   ]
  },
  {
   "cell_type": "markdown",
   "id": "08acc97a",
   "metadata": {},
   "source": [
    "#7-3"
   ]
  },
  {
   "cell_type": "code",
   "execution_count": 35,
   "id": "91a02741",
   "metadata": {},
   "outputs": [
    {
     "data": {
      "text/plain": [
       "array([[-3,  2],\n",
       "       [-6,  5],\n",
       "       [ 3, -4],\n",
       "       [ 2, -8]])"
      ]
     },
     "execution_count": 35,
     "metadata": {},
     "output_type": "execute_result"
    }
   ],
   "source": [
    "x"
   ]
  },
  {
   "cell_type": "code",
   "execution_count": 36,
   "id": "ec82e7c9",
   "metadata": {},
   "outputs": [
    {
     "data": {
      "text/plain": [
       "array([1, 1, 2, 2])"
      ]
     },
     "execution_count": 36,
     "metadata": {},
     "output_type": "execute_result"
    }
   ],
   "source": [
    "y"
   ]
  },
  {
   "cell_type": "code",
   "execution_count": 37,
   "id": "626affc5",
   "metadata": {},
   "outputs": [],
   "source": [
    "from sklearn.svm import SVC"
   ]
  },
  {
   "cell_type": "code",
   "execution_count": 38,
   "id": "58b66722",
   "metadata": {},
   "outputs": [],
   "source": [
    "clf = SVC() #開學習機器"
   ]
  },
  {
   "cell_type": "code",
   "execution_count": 39,
   "id": "f0f46fe0",
   "metadata": {},
   "outputs": [
    {
     "data": {
      "text/plain": [
       "SVC()"
      ]
     },
     "execution_count": 39,
     "metadata": {},
     "output_type": "execute_result"
    }
   ],
   "source": [
    "clf.fit(x, y) #x=輸入資料，y=正確答案"
   ]
  },
  {
   "cell_type": "code",
   "execution_count": 40,
   "id": "966b225d",
   "metadata": {},
   "outputs": [
    {
     "data": {
      "text/plain": [
       "array([1])"
      ]
     },
     "execution_count": 40,
     "metadata": {},
     "output_type": "execute_result"
    }
   ],
   "source": [
    "clf.predict([[-3,2]]) #預測輸入要是array"
   ]
  },
  {
   "cell_type": "code",
   "execution_count": 41,
   "id": "f91c9414",
   "metadata": {},
   "outputs": [
    {
     "data": {
      "text/plain": [
       "array([1, 1, 2, 2])"
      ]
     },
     "execution_count": 41,
     "metadata": {},
     "output_type": "execute_result"
    }
   ],
   "source": [
    "clf.predict(x)"
   ]
  },
  {
   "cell_type": "code",
   "execution_count": 42,
   "id": "70cf2f94",
   "metadata": {},
   "outputs": [
    {
     "data": {
      "text/plain": [
       "array([1])"
      ]
     },
     "execution_count": 42,
     "metadata": {},
     "output_type": "execute_result"
    }
   ],
   "source": [
    "clf.predict([[2.5,3]])"
   ]
  },
  {
   "cell_type": "markdown",
   "id": "59bbcf3d",
   "metadata": {},
   "source": [
    "#7-4 meshgrid格點"
   ]
  },
  {
   "cell_type": "code",
   "execution_count": 43,
   "id": "1370a283",
   "metadata": {},
   "outputs": [],
   "source": [
    "xx = [1,2,3,4]\n",
    "yy = [5,6,7,8]"
   ]
  },
  {
   "cell_type": "code",
   "execution_count": 44,
   "id": "636a206a",
   "metadata": {},
   "outputs": [],
   "source": [
    "X, Y = np.meshgrid(xx,yy)"
   ]
  },
  {
   "cell_type": "code",
   "execution_count": 45,
   "id": "8129d8e4",
   "metadata": {},
   "outputs": [
    {
     "data": {
      "text/plain": [
       "array([[1, 2, 3, 4],\n",
       "       [1, 2, 3, 4],\n",
       "       [1, 2, 3, 4],\n",
       "       [1, 2, 3, 4]])"
      ]
     },
     "execution_count": 45,
     "metadata": {},
     "output_type": "execute_result"
    }
   ],
   "source": [
    "X"
   ]
  },
  {
   "cell_type": "code",
   "execution_count": 46,
   "id": "9779129b",
   "metadata": {},
   "outputs": [
    {
     "data": {
      "text/plain": [
       "array([[5, 5, 5, 5],\n",
       "       [6, 6, 6, 6],\n",
       "       [7, 7, 7, 7],\n",
       "       [8, 8, 8, 8]])"
      ]
     },
     "execution_count": 46,
     "metadata": {},
     "output_type": "execute_result"
    }
   ],
   "source": [
    "Y"
   ]
  },
  {
   "cell_type": "code",
   "execution_count": 47,
   "id": "623ad4f3",
   "metadata": {},
   "outputs": [],
   "source": [
    "X, Y = np.meshgrid(np.linspace(-6,3,30), np.linspace(-8,5,30))"
   ]
  },
  {
   "cell_type": "code",
   "execution_count": 48,
   "id": "586a64a0",
   "metadata": {},
   "outputs": [
    {
     "data": {
      "text/plain": [
       "array([[-6.        , -5.68965517, -5.37931034, -5.06896552, -4.75862069,\n",
       "        -4.44827586, -4.13793103, -3.82758621, -3.51724138, -3.20689655,\n",
       "        -2.89655172, -2.5862069 , -2.27586207, -1.96551724, -1.65517241,\n",
       "        -1.34482759, -1.03448276, -0.72413793, -0.4137931 , -0.10344828,\n",
       "         0.20689655,  0.51724138,  0.82758621,  1.13793103,  1.44827586,\n",
       "         1.75862069,  2.06896552,  2.37931034,  2.68965517,  3.        ],\n",
       "       [-6.        , -5.68965517, -5.37931034, -5.06896552, -4.75862069,\n",
       "        -4.44827586, -4.13793103, -3.82758621, -3.51724138, -3.20689655,\n",
       "        -2.89655172, -2.5862069 , -2.27586207, -1.96551724, -1.65517241,\n",
       "        -1.34482759, -1.03448276, -0.72413793, -0.4137931 , -0.10344828,\n",
       "         0.20689655,  0.51724138,  0.82758621,  1.13793103,  1.44827586,\n",
       "         1.75862069,  2.06896552,  2.37931034,  2.68965517,  3.        ],\n",
       "       [-6.        , -5.68965517, -5.37931034, -5.06896552, -4.75862069,\n",
       "        -4.44827586, -4.13793103, -3.82758621, -3.51724138, -3.20689655,\n",
       "        -2.89655172, -2.5862069 , -2.27586207, -1.96551724, -1.65517241,\n",
       "        -1.34482759, -1.03448276, -0.72413793, -0.4137931 , -0.10344828,\n",
       "         0.20689655,  0.51724138,  0.82758621,  1.13793103,  1.44827586,\n",
       "         1.75862069,  2.06896552,  2.37931034,  2.68965517,  3.        ],\n",
       "       [-6.        , -5.68965517, -5.37931034, -5.06896552, -4.75862069,\n",
       "        -4.44827586, -4.13793103, -3.82758621, -3.51724138, -3.20689655,\n",
       "        -2.89655172, -2.5862069 , -2.27586207, -1.96551724, -1.65517241,\n",
       "        -1.34482759, -1.03448276, -0.72413793, -0.4137931 , -0.10344828,\n",
       "         0.20689655,  0.51724138,  0.82758621,  1.13793103,  1.44827586,\n",
       "         1.75862069,  2.06896552,  2.37931034,  2.68965517,  3.        ],\n",
       "       [-6.        , -5.68965517, -5.37931034, -5.06896552, -4.75862069,\n",
       "        -4.44827586, -4.13793103, -3.82758621, -3.51724138, -3.20689655,\n",
       "        -2.89655172, -2.5862069 , -2.27586207, -1.96551724, -1.65517241,\n",
       "        -1.34482759, -1.03448276, -0.72413793, -0.4137931 , -0.10344828,\n",
       "         0.20689655,  0.51724138,  0.82758621,  1.13793103,  1.44827586,\n",
       "         1.75862069,  2.06896552,  2.37931034,  2.68965517,  3.        ],\n",
       "       [-6.        , -5.68965517, -5.37931034, -5.06896552, -4.75862069,\n",
       "        -4.44827586, -4.13793103, -3.82758621, -3.51724138, -3.20689655,\n",
       "        -2.89655172, -2.5862069 , -2.27586207, -1.96551724, -1.65517241,\n",
       "        -1.34482759, -1.03448276, -0.72413793, -0.4137931 , -0.10344828,\n",
       "         0.20689655,  0.51724138,  0.82758621,  1.13793103,  1.44827586,\n",
       "         1.75862069,  2.06896552,  2.37931034,  2.68965517,  3.        ],\n",
       "       [-6.        , -5.68965517, -5.37931034, -5.06896552, -4.75862069,\n",
       "        -4.44827586, -4.13793103, -3.82758621, -3.51724138, -3.20689655,\n",
       "        -2.89655172, -2.5862069 , -2.27586207, -1.96551724, -1.65517241,\n",
       "        -1.34482759, -1.03448276, -0.72413793, -0.4137931 , -0.10344828,\n",
       "         0.20689655,  0.51724138,  0.82758621,  1.13793103,  1.44827586,\n",
       "         1.75862069,  2.06896552,  2.37931034,  2.68965517,  3.        ],\n",
       "       [-6.        , -5.68965517, -5.37931034, -5.06896552, -4.75862069,\n",
       "        -4.44827586, -4.13793103, -3.82758621, -3.51724138, -3.20689655,\n",
       "        -2.89655172, -2.5862069 , -2.27586207, -1.96551724, -1.65517241,\n",
       "        -1.34482759, -1.03448276, -0.72413793, -0.4137931 , -0.10344828,\n",
       "         0.20689655,  0.51724138,  0.82758621,  1.13793103,  1.44827586,\n",
       "         1.75862069,  2.06896552,  2.37931034,  2.68965517,  3.        ],\n",
       "       [-6.        , -5.68965517, -5.37931034, -5.06896552, -4.75862069,\n",
       "        -4.44827586, -4.13793103, -3.82758621, -3.51724138, -3.20689655,\n",
       "        -2.89655172, -2.5862069 , -2.27586207, -1.96551724, -1.65517241,\n",
       "        -1.34482759, -1.03448276, -0.72413793, -0.4137931 , -0.10344828,\n",
       "         0.20689655,  0.51724138,  0.82758621,  1.13793103,  1.44827586,\n",
       "         1.75862069,  2.06896552,  2.37931034,  2.68965517,  3.        ],\n",
       "       [-6.        , -5.68965517, -5.37931034, -5.06896552, -4.75862069,\n",
       "        -4.44827586, -4.13793103, -3.82758621, -3.51724138, -3.20689655,\n",
       "        -2.89655172, -2.5862069 , -2.27586207, -1.96551724, -1.65517241,\n",
       "        -1.34482759, -1.03448276, -0.72413793, -0.4137931 , -0.10344828,\n",
       "         0.20689655,  0.51724138,  0.82758621,  1.13793103,  1.44827586,\n",
       "         1.75862069,  2.06896552,  2.37931034,  2.68965517,  3.        ],\n",
       "       [-6.        , -5.68965517, -5.37931034, -5.06896552, -4.75862069,\n",
       "        -4.44827586, -4.13793103, -3.82758621, -3.51724138, -3.20689655,\n",
       "        -2.89655172, -2.5862069 , -2.27586207, -1.96551724, -1.65517241,\n",
       "        -1.34482759, -1.03448276, -0.72413793, -0.4137931 , -0.10344828,\n",
       "         0.20689655,  0.51724138,  0.82758621,  1.13793103,  1.44827586,\n",
       "         1.75862069,  2.06896552,  2.37931034,  2.68965517,  3.        ],\n",
       "       [-6.        , -5.68965517, -5.37931034, -5.06896552, -4.75862069,\n",
       "        -4.44827586, -4.13793103, -3.82758621, -3.51724138, -3.20689655,\n",
       "        -2.89655172, -2.5862069 , -2.27586207, -1.96551724, -1.65517241,\n",
       "        -1.34482759, -1.03448276, -0.72413793, -0.4137931 , -0.10344828,\n",
       "         0.20689655,  0.51724138,  0.82758621,  1.13793103,  1.44827586,\n",
       "         1.75862069,  2.06896552,  2.37931034,  2.68965517,  3.        ],\n",
       "       [-6.        , -5.68965517, -5.37931034, -5.06896552, -4.75862069,\n",
       "        -4.44827586, -4.13793103, -3.82758621, -3.51724138, -3.20689655,\n",
       "        -2.89655172, -2.5862069 , -2.27586207, -1.96551724, -1.65517241,\n",
       "        -1.34482759, -1.03448276, -0.72413793, -0.4137931 , -0.10344828,\n",
       "         0.20689655,  0.51724138,  0.82758621,  1.13793103,  1.44827586,\n",
       "         1.75862069,  2.06896552,  2.37931034,  2.68965517,  3.        ],\n",
       "       [-6.        , -5.68965517, -5.37931034, -5.06896552, -4.75862069,\n",
       "        -4.44827586, -4.13793103, -3.82758621, -3.51724138, -3.20689655,\n",
       "        -2.89655172, -2.5862069 , -2.27586207, -1.96551724, -1.65517241,\n",
       "        -1.34482759, -1.03448276, -0.72413793, -0.4137931 , -0.10344828,\n",
       "         0.20689655,  0.51724138,  0.82758621,  1.13793103,  1.44827586,\n",
       "         1.75862069,  2.06896552,  2.37931034,  2.68965517,  3.        ],\n",
       "       [-6.        , -5.68965517, -5.37931034, -5.06896552, -4.75862069,\n",
       "        -4.44827586, -4.13793103, -3.82758621, -3.51724138, -3.20689655,\n",
       "        -2.89655172, -2.5862069 , -2.27586207, -1.96551724, -1.65517241,\n",
       "        -1.34482759, -1.03448276, -0.72413793, -0.4137931 , -0.10344828,\n",
       "         0.20689655,  0.51724138,  0.82758621,  1.13793103,  1.44827586,\n",
       "         1.75862069,  2.06896552,  2.37931034,  2.68965517,  3.        ],\n",
       "       [-6.        , -5.68965517, -5.37931034, -5.06896552, -4.75862069,\n",
       "        -4.44827586, -4.13793103, -3.82758621, -3.51724138, -3.20689655,\n",
       "        -2.89655172, -2.5862069 , -2.27586207, -1.96551724, -1.65517241,\n",
       "        -1.34482759, -1.03448276, -0.72413793, -0.4137931 , -0.10344828,\n",
       "         0.20689655,  0.51724138,  0.82758621,  1.13793103,  1.44827586,\n",
       "         1.75862069,  2.06896552,  2.37931034,  2.68965517,  3.        ],\n",
       "       [-6.        , -5.68965517, -5.37931034, -5.06896552, -4.75862069,\n",
       "        -4.44827586, -4.13793103, -3.82758621, -3.51724138, -3.20689655,\n",
       "        -2.89655172, -2.5862069 , -2.27586207, -1.96551724, -1.65517241,\n",
       "        -1.34482759, -1.03448276, -0.72413793, -0.4137931 , -0.10344828,\n",
       "         0.20689655,  0.51724138,  0.82758621,  1.13793103,  1.44827586,\n",
       "         1.75862069,  2.06896552,  2.37931034,  2.68965517,  3.        ],\n",
       "       [-6.        , -5.68965517, -5.37931034, -5.06896552, -4.75862069,\n",
       "        -4.44827586, -4.13793103, -3.82758621, -3.51724138, -3.20689655,\n",
       "        -2.89655172, -2.5862069 , -2.27586207, -1.96551724, -1.65517241,\n",
       "        -1.34482759, -1.03448276, -0.72413793, -0.4137931 , -0.10344828,\n",
       "         0.20689655,  0.51724138,  0.82758621,  1.13793103,  1.44827586,\n",
       "         1.75862069,  2.06896552,  2.37931034,  2.68965517,  3.        ],\n",
       "       [-6.        , -5.68965517, -5.37931034, -5.06896552, -4.75862069,\n",
       "        -4.44827586, -4.13793103, -3.82758621, -3.51724138, -3.20689655,\n",
       "        -2.89655172, -2.5862069 , -2.27586207, -1.96551724, -1.65517241,\n",
       "        -1.34482759, -1.03448276, -0.72413793, -0.4137931 , -0.10344828,\n",
       "         0.20689655,  0.51724138,  0.82758621,  1.13793103,  1.44827586,\n",
       "         1.75862069,  2.06896552,  2.37931034,  2.68965517,  3.        ],\n",
       "       [-6.        , -5.68965517, -5.37931034, -5.06896552, -4.75862069,\n",
       "        -4.44827586, -4.13793103, -3.82758621, -3.51724138, -3.20689655,\n",
       "        -2.89655172, -2.5862069 , -2.27586207, -1.96551724, -1.65517241,\n",
       "        -1.34482759, -1.03448276, -0.72413793, -0.4137931 , -0.10344828,\n",
       "         0.20689655,  0.51724138,  0.82758621,  1.13793103,  1.44827586,\n",
       "         1.75862069,  2.06896552,  2.37931034,  2.68965517,  3.        ],\n",
       "       [-6.        , -5.68965517, -5.37931034, -5.06896552, -4.75862069,\n",
       "        -4.44827586, -4.13793103, -3.82758621, -3.51724138, -3.20689655,\n",
       "        -2.89655172, -2.5862069 , -2.27586207, -1.96551724, -1.65517241,\n",
       "        -1.34482759, -1.03448276, -0.72413793, -0.4137931 , -0.10344828,\n",
       "         0.20689655,  0.51724138,  0.82758621,  1.13793103,  1.44827586,\n",
       "         1.75862069,  2.06896552,  2.37931034,  2.68965517,  3.        ],\n",
       "       [-6.        , -5.68965517, -5.37931034, -5.06896552, -4.75862069,\n",
       "        -4.44827586, -4.13793103, -3.82758621, -3.51724138, -3.20689655,\n",
       "        -2.89655172, -2.5862069 , -2.27586207, -1.96551724, -1.65517241,\n",
       "        -1.34482759, -1.03448276, -0.72413793, -0.4137931 , -0.10344828,\n",
       "         0.20689655,  0.51724138,  0.82758621,  1.13793103,  1.44827586,\n",
       "         1.75862069,  2.06896552,  2.37931034,  2.68965517,  3.        ],\n",
       "       [-6.        , -5.68965517, -5.37931034, -5.06896552, -4.75862069,\n",
       "        -4.44827586, -4.13793103, -3.82758621, -3.51724138, -3.20689655,\n",
       "        -2.89655172, -2.5862069 , -2.27586207, -1.96551724, -1.65517241,\n",
       "        -1.34482759, -1.03448276, -0.72413793, -0.4137931 , -0.10344828,\n",
       "         0.20689655,  0.51724138,  0.82758621,  1.13793103,  1.44827586,\n",
       "         1.75862069,  2.06896552,  2.37931034,  2.68965517,  3.        ],\n",
       "       [-6.        , -5.68965517, -5.37931034, -5.06896552, -4.75862069,\n",
       "        -4.44827586, -4.13793103, -3.82758621, -3.51724138, -3.20689655,\n",
       "        -2.89655172, -2.5862069 , -2.27586207, -1.96551724, -1.65517241,\n",
       "        -1.34482759, -1.03448276, -0.72413793, -0.4137931 , -0.10344828,\n",
       "         0.20689655,  0.51724138,  0.82758621,  1.13793103,  1.44827586,\n",
       "         1.75862069,  2.06896552,  2.37931034,  2.68965517,  3.        ],\n",
       "       [-6.        , -5.68965517, -5.37931034, -5.06896552, -4.75862069,\n",
       "        -4.44827586, -4.13793103, -3.82758621, -3.51724138, -3.20689655,\n",
       "        -2.89655172, -2.5862069 , -2.27586207, -1.96551724, -1.65517241,\n",
       "        -1.34482759, -1.03448276, -0.72413793, -0.4137931 , -0.10344828,\n",
       "         0.20689655,  0.51724138,  0.82758621,  1.13793103,  1.44827586,\n",
       "         1.75862069,  2.06896552,  2.37931034,  2.68965517,  3.        ],\n",
       "       [-6.        , -5.68965517, -5.37931034, -5.06896552, -4.75862069,\n",
       "        -4.44827586, -4.13793103, -3.82758621, -3.51724138, -3.20689655,\n",
       "        -2.89655172, -2.5862069 , -2.27586207, -1.96551724, -1.65517241,\n",
       "        -1.34482759, -1.03448276, -0.72413793, -0.4137931 , -0.10344828,\n",
       "         0.20689655,  0.51724138,  0.82758621,  1.13793103,  1.44827586,\n",
       "         1.75862069,  2.06896552,  2.37931034,  2.68965517,  3.        ],\n",
       "       [-6.        , -5.68965517, -5.37931034, -5.06896552, -4.75862069,\n",
       "        -4.44827586, -4.13793103, -3.82758621, -3.51724138, -3.20689655,\n",
       "        -2.89655172, -2.5862069 , -2.27586207, -1.96551724, -1.65517241,\n",
       "        -1.34482759, -1.03448276, -0.72413793, -0.4137931 , -0.10344828,\n",
       "         0.20689655,  0.51724138,  0.82758621,  1.13793103,  1.44827586,\n",
       "         1.75862069,  2.06896552,  2.37931034,  2.68965517,  3.        ],\n",
       "       [-6.        , -5.68965517, -5.37931034, -5.06896552, -4.75862069,\n",
       "        -4.44827586, -4.13793103, -3.82758621, -3.51724138, -3.20689655,\n",
       "        -2.89655172, -2.5862069 , -2.27586207, -1.96551724, -1.65517241,\n",
       "        -1.34482759, -1.03448276, -0.72413793, -0.4137931 , -0.10344828,\n",
       "         0.20689655,  0.51724138,  0.82758621,  1.13793103,  1.44827586,\n",
       "         1.75862069,  2.06896552,  2.37931034,  2.68965517,  3.        ],\n",
       "       [-6.        , -5.68965517, -5.37931034, -5.06896552, -4.75862069,\n",
       "        -4.44827586, -4.13793103, -3.82758621, -3.51724138, -3.20689655,\n",
       "        -2.89655172, -2.5862069 , -2.27586207, -1.96551724, -1.65517241,\n",
       "        -1.34482759, -1.03448276, -0.72413793, -0.4137931 , -0.10344828,\n",
       "         0.20689655,  0.51724138,  0.82758621,  1.13793103,  1.44827586,\n",
       "         1.75862069,  2.06896552,  2.37931034,  2.68965517,  3.        ],\n",
       "       [-6.        , -5.68965517, -5.37931034, -5.06896552, -4.75862069,\n",
       "        -4.44827586, -4.13793103, -3.82758621, -3.51724138, -3.20689655,\n",
       "        -2.89655172, -2.5862069 , -2.27586207, -1.96551724, -1.65517241,\n",
       "        -1.34482759, -1.03448276, -0.72413793, -0.4137931 , -0.10344828,\n",
       "         0.20689655,  0.51724138,  0.82758621,  1.13793103,  1.44827586,\n",
       "         1.75862069,  2.06896552,  2.37931034,  2.68965517,  3.        ]])"
      ]
     },
     "execution_count": 48,
     "metadata": {},
     "output_type": "execute_result"
    }
   ],
   "source": [
    "X"
   ]
  },
  {
   "cell_type": "code",
   "execution_count": 49,
   "id": "30253850",
   "metadata": {},
   "outputs": [],
   "source": [
    "X = X.ravel()\n",
    "Y = Y.ravel()"
   ]
  },
  {
   "cell_type": "code",
   "execution_count": 50,
   "id": "f89f40e8",
   "metadata": {},
   "outputs": [
    {
     "data": {
      "text/plain": [
       "<matplotlib.collections.PathCollection at 0x19e0c0c7340>"
      ]
     },
     "execution_count": 50,
     "metadata": {},
     "output_type": "execute_result"
    },
    {
     "data": {
      "image/png": "[encoded data removed]",
      "text/plain": [
       "<Figure size 432x288 with 1 Axes>"
      ]
     },
     "metadata": {
      "needs_background": "light"
     },
     "output_type": "display_data"
    }
   ],
   "source": [
    "plt.scatter(X,Y)"
   ]
  },
  {
   "cell_type": "code",
   "execution_count": 51,
   "id": "3ef0851a",
   "metadata": {},
   "outputs": [],
   "source": [
    "xx = [1,2,3,4]\n",
    "yy = [5,6,7,8]"
   ]
  },
  {
   "cell_type": "code",
   "execution_count": 52,
   "id": "34d8e032",
   "metadata": {},
   "outputs": [
    {
     "data": {
      "text/plain": [
       "[(1, 5), (2, 6), (3, 7), (4, 8)]"
      ]
     },
     "execution_count": 52,
     "metadata": {},
     "output_type": "execute_result"
    }
   ],
   "source": [
    "list(zip(xx,yy))"
   ]
  },
  {
   "cell_type": "code",
   "execution_count": 53,
   "id": "f170e245",
   "metadata": {},
   "outputs": [],
   "source": [
    "Z = clf.predict(list(zip(X,Y)))"
   ]
  },
  {
   "cell_type": "code",
   "execution_count": 54,
   "id": "a503f9a0",
   "metadata": {},
   "outputs": [
    {
     "data": {
      "text/plain": [
       "array([2, 2, 2, 2, 2, 2, 2, 2, 2, 2, 2, 2, 2, 2, 2, 2, 2, 2, 2, 2, 2, 2,\n",
       "       2, 2, 2, 2, 2, 2, 2, 2, 2, 2, 2, 2, 2, 2, 2, 2, 2, 2, 2, 2, 2, 2,\n",
       "       2, 2, 2, 2, 2, 2, 2, 2, 2, 2, 2, 2, 2, 2, 2, 2, 2, 2, 2, 2, 2, 2,\n",
       "       2, 2, 2, 2, 2, 2, 2, 2, 2, 2, 2, 2, 2, 2, 2, 2, 2, 2, 2, 2, 2, 2,\n",
       "       2, 2, 2, 2, 2, 2, 2, 2, 2, 2, 2, 2, 2, 2, 2, 2, 2, 2, 2, 2, 2, 2,\n",
       "       2, 2, 2, 2, 2, 2, 2, 2, 2, 2, 2, 2, 2, 2, 2, 2, 2, 2, 2, 2, 2, 2,\n",
       "       2, 2, 2, 2, 2, 2, 2, 2, 2, 2, 2, 2, 2, 2, 2, 2, 2, 2, 2, 2, 2, 2,\n",
       "       2, 2, 2, 2, 2, 2, 2, 2, 2, 2, 2, 2, 2, 2, 2, 2, 2, 2, 2, 2, 2, 2,\n",
       "       2, 2, 2, 2, 1, 1, 2, 2, 2, 2, 2, 2, 2, 2, 2, 2, 2, 2, 2, 2, 2, 2,\n",
       "       2, 2, 2, 2, 2, 2, 2, 2, 2, 2, 2, 2, 1, 1, 1, 1, 2, 2, 2, 2, 2, 2,\n",
       "       2, 2, 2, 2, 2, 2, 2, 2, 2, 2, 2, 2, 2, 2, 2, 2, 2, 2, 2, 2, 1, 1,\n",
       "       1, 1, 1, 1, 2, 2, 2, 2, 2, 2, 2, 2, 2, 2, 2, 2, 2, 2, 2, 2, 2, 2,\n",
       "       2, 2, 2, 2, 2, 2, 1, 1, 1, 1, 1, 1, 1, 1, 2, 2, 2, 2, 2, 2, 2, 2,\n",
       "       2, 2, 2, 2, 2, 2, 2, 2, 2, 2, 2, 2, 2, 2, 1, 1, 1, 1, 1, 1, 1, 1,\n",
       "       1, 2, 2, 2, 2, 2, 2, 2, 2, 2, 2, 2, 2, 2, 2, 2, 2, 2, 2, 2, 2, 2,\n",
       "       1, 1, 1, 1, 1, 1, 1, 1, 1, 1, 1, 2, 2, 2, 2, 2, 2, 2, 2, 2, 2, 2,\n",
       "       2, 2, 2, 2, 2, 2, 2, 2, 1, 1, 1, 1, 1, 1, 1, 1, 1, 1, 1, 1, 1, 2,\n",
       "       2, 2, 2, 2, 2, 2, 2, 2, 2, 2, 2, 2, 2, 2, 2, 2, 1, 1, 1, 1, 1, 1,\n",
       "       1, 1, 1, 1, 1, 1, 1, 1, 1, 2, 2, 2, 2, 2, 2, 2, 2, 2, 2, 2, 2, 2,\n",
       "       2, 2, 1, 1, 1, 1, 1, 1, 1, 1, 1, 1, 1, 1, 1, 1, 1, 1, 1, 2, 2, 2,\n",
       "       2, 2, 2, 2, 2, 2, 2, 2, 2, 2, 1, 1, 1, 1, 1, 1, 1, 1, 1, 1, 1, 1,\n",
       "       1, 1, 1, 1, 1, 1, 2, 2, 2, 2, 2, 2, 2, 2, 2, 2, 2, 2, 1, 1, 1, 1,\n",
       "       1, 1, 1, 1, 1, 1, 1, 1, 1, 1, 1, 1, 1, 1, 1, 1, 2, 2, 2, 2, 2, 2,\n",
       "       2, 2, 2, 2, 1, 1, 1, 1, 1, 1, 1, 1, 1, 1, 1, 1, 1, 1, 1, 1, 1, 1,\n",
       "       1, 1, 1, 1, 2, 2, 2, 2, 2, 2, 2, 2, 1, 1, 1, 1, 1, 1, 1, 1, 1, 1,\n",
       "       1, 1, 1, 1, 1, 1, 1, 1, 1, 1, 1, 1, 1, 2, 2, 2, 2, 2, 2, 2, 1, 1,\n",
       "       1, 1, 1, 1, 1, 1, 1, 1, 1, 1, 1, 1, 1, 1, 1, 1, 1, 1, 1, 1, 1, 1,\n",
       "       1, 2, 2, 2, 2, 2, 1, 1, 1, 1, 1, 1, 1, 1, 1, 1, 1, 1, 1, 1, 1, 1,\n",
       "       1, 1, 1, 1, 1, 1, 1, 1, 1, 1, 2, 2, 2, 2, 1, 1, 1, 1, 1, 1, 1, 1,\n",
       "       1, 1, 1, 1, 1, 1, 1, 1, 1, 1, 1, 1, 1, 1, 1, 1, 1, 1, 1, 1, 2, 2,\n",
       "       1, 1, 1, 1, 1, 1, 1, 1, 1, 1, 1, 1, 1, 1, 1, 1, 1, 1, 1, 1, 1, 1,\n",
       "       1, 1, 1, 1, 1, 1, 1, 1, 1, 1, 1, 1, 1, 1, 1, 1, 1, 1, 1, 1, 1, 1,\n",
       "       1, 1, 1, 1, 1, 1, 1, 1, 1, 1, 1, 1, 1, 1, 1, 1, 1, 1, 1, 1, 1, 1,\n",
       "       1, 1, 1, 1, 1, 1, 1, 1, 1, 1, 1, 1, 1, 1, 1, 1, 1, 1, 1, 1, 1, 1,\n",
       "       1, 1, 1, 1, 1, 1, 1, 1, 1, 1, 1, 1, 1, 1, 1, 1, 1, 1, 1, 1, 1, 1,\n",
       "       1, 1, 1, 1, 1, 1, 1, 1, 1, 1, 1, 1, 1, 1, 1, 1, 1, 1, 1, 1, 1, 1,\n",
       "       1, 1, 1, 1, 1, 1, 1, 1, 1, 1, 1, 1, 1, 1, 1, 1, 1, 1, 1, 1, 1, 1,\n",
       "       1, 1, 1, 1, 1, 1, 1, 1, 1, 1, 1, 1, 1, 1, 1, 1, 1, 1, 1, 1, 1, 1,\n",
       "       1, 1, 1, 1, 1, 1, 1, 1, 1, 1, 1, 1, 1, 1, 1, 1, 1, 1, 1, 1, 1, 1,\n",
       "       1, 1, 1, 1, 1, 1, 1, 1, 1, 1, 1, 1, 1, 1, 1, 1, 1, 1, 1, 1, 1, 1,\n",
       "       1, 1, 1, 1, 1, 1, 1, 1, 1, 1, 1, 1, 1, 1, 1, 1, 1, 1, 1, 1])"
      ]
     },
     "execution_count": 54,
     "metadata": {},
     "output_type": "execute_result"
    }
   ],
   "source": [
    "Z"
   ]
  },
  {
   "cell_type": "code",
   "execution_count": 55,
   "id": "cb1135f8",
   "metadata": {},
   "outputs": [
    {
     "data": {
      "text/plain": [
       "<matplotlib.collections.PathCollection at 0x19e0c0fa7c0>"
      ]
     },
     "execution_count": 55,
     "metadata": {},
     "output_type": "execute_result"
    },
    {
     "data": {
      "image/png": "[encoded data removed]",
      "text/plain": [
       "<Figure size 432x288 with 1 Axes>"
      ]
     },
     "metadata": {
      "needs_background": "light"
     },
     "output_type": "display_data"
    }
   ],
   "source": [
    "plt.scatter(X,Y,s=50,c=Z)"
   ]
  },
  {
   "cell_type": "markdown",
   "id": "31dbf297",
   "metadata": {},
   "source": [
    "#7-5"
   ]
  },
  {
   "cell_type": "code",
   "execution_count": 101,
   "id": "b2a9d873",
   "metadata": {},
   "outputs": [],
   "source": [
    "%matplotlib inline\n",
    "import numpy as np\n",
    "import matplotlib.pyplot as plt"
   ]
  },
  {
   "cell_type": "code",
   "execution_count": 102,
   "id": "e6d82486",
   "metadata": {},
   "outputs": [],
   "source": [
    "from sklearn.datasets import load_iris"
   ]
  },
  {
   "cell_type": "code",
   "execution_count": 103,
   "id": "e1f5f817",
   "metadata": {},
   "outputs": [],
   "source": [
    "iris = load_iris()"
   ]
  },
  {
   "cell_type": "code",
   "execution_count": 104,
   "id": "1728d415",
   "metadata": {},
   "outputs": [
    {
     "name": "stdout",
     "output_type": "stream",
     "text": [
      ".. _iris_dataset:\n",
      "\n",
      "Iris plants dataset\n",
      "--------------------\n",
      "\n",
      "**Data Set Characteristics:**\n",
      "\n",
      "    :Number of Instances: 150 (50 in each of three classes)\n",
      "    :Number of Attributes: 4 numeric, predictive attributes and the class\n",
      "    :Attribute Information:\n",
      "        - sepal length in cm\n",
      "        - sepal width in cm\n",
      "        - petal length in cm\n",
      "        - petal width in cm\n",
      "        - class:\n",
      "                - Iris-Setosa\n",
      "                - Iris-Versicolour\n",
      "                - Iris-Virginica\n",
      "                \n",
      "    :Summary Statistics:\n",
      "\n",
      "    ============== ==== ==== ======= ===== ====================\n",
      "                    Min  Max   Mean    SD   Class Correlation\n",
      "    ============== ==== ==== ======= ===== ====================\n",
      "    sepal length:   4.3  7.9   5.84   0.83    0.7826\n",
      "    sepal width:    2.0  4.4   3.05   0.43   -0.4194\n",
      "    petal length:   1.0  6.9   3.76   1.76    0.9490  (high!)\n",
      "    petal width:    0.1  2.5   1.20   0.76    0.9565  (high!)\n",
      "    ============== ==== ==== ======= ===== ====================\n",
      "\n",
      "    :Missing Attribute Values: None\n",
      "    :Class Distribution: 33.3% for each of 3 classes.\n",
      "    :Creator: R.A. Fisher\n",
      "    :Donor: Michael Marshall (MARSHALL%PLU@io.arc.nasa.gov)\n",
      "    :Date: July, 1988\n",
      "\n",
      "The famous Iris database, first used by Sir R.A. Fisher. The dataset is taken\n",
      "from Fisher's paper. Note that it's the same as in R, but not as in the UCI\n",
      "Machine Learning Repository, which has two wrong data points.\n",
      "\n",
      "This is perhaps the best known database to be found in the\n",
      "pattern recognition literature.  Fisher's paper is a classic in the field and\n",
      "is referenced frequently to this day.  (See Duda & Hart, for example.)  The\n",
      "data set contains 3 classes of 50 instances each, where each class refers to a\n",
      "type of iris plant.  One class is linearly separable from the other 2; the\n",
      "latter are NOT linearly separable from each other.\n",
      "\n",
      ".. topic:: References\n",
      "\n",
      "   - Fisher, R.A. \"The use of multiple measurements in taxonomic problems\"\n",
      "     Annual Eugenics, 7, Part II, 179-188 (1936); also in \"Contributions to\n",
      "     Mathematical Statistics\" (John Wiley, NY, 1950).\n",
      "   - Duda, R.O., & Hart, P.E. (1973) Pattern Classification and Scene Analysis.\n",
      "     (Q327.D83) John Wiley & Sons.  ISBN 0-471-22361-1.  See page 218.\n",
      "   - Dasarathy, B.V. (1980) \"Nosing Around the Neighborhood: A New System\n",
      "     Structure and Classification Rule for Recognition in Partially Exposed\n",
      "     Environments\".  IEEE Transactions on Pattern Analysis and Machine\n",
      "     Intelligence, Vol. PAMI-2, No. 1, 67-71.\n",
      "   - Gates, G.W. (1972) \"The Reduced Nearest Neighbor Rule\".  IEEE Transactions\n",
      "     on Information Theory, May 1972, 431-433.\n",
      "   - See also: 1988 MLC Proceedings, 54-64.  Cheeseman et al\"s AUTOCLASS II\n",
      "     conceptual clustering system finds 3 classes in the data.\n",
      "   - Many, many more ...\n"
     ]
    }
   ],
   "source": [
    "print(iris.DESCR)"
   ]
  },
  {
   "cell_type": "code",
   "execution_count": 111,
   "id": "e3d8a946",
   "metadata": {},
   "outputs": [],
   "source": [
    "X = iris.data"
   ]
  },
  {
   "cell_type": "code",
   "execution_count": 112,
   "id": "fe86d60f",
   "metadata": {},
   "outputs": [],
   "source": [
    "Y = iris.target"
   ]
  },
  {
   "cell_type": "code",
   "execution_count": 113,
   "id": "c55856ae",
   "metadata": {},
   "outputs": [
    {
     "data": {
      "text/plain": [
       "array([5.1, 3.5, 1.4, 0.2])"
      ]
     },
     "execution_count": 113,
     "metadata": {},
     "output_type": "execute_result"
    }
   ],
   "source": [
    "X[0]"
   ]
  },
  {
   "cell_type": "code",
   "execution_count": 114,
   "id": "cd8ce6f5",
   "metadata": {},
   "outputs": [
    {
     "data": {
      "text/plain": [
       "array([1.4, 0.2])"
      ]
     },
     "execution_count": 114,
     "metadata": {},
     "output_type": "execute_result"
    }
   ],
   "source": [
    "X[0][2:]"
   ]
  },
  {
   "cell_type": "code",
   "execution_count": 115,
   "id": "8e861480",
   "metadata": {},
   "outputs": [],
   "source": [
    "X = X[:,2:]"
   ]
  },
  {
   "cell_type": "code",
   "execution_count": 116,
   "id": "8c5f0d5a",
   "metadata": {},
   "outputs": [
    {
     "data": {
      "text/plain": [
       "array([1.4, 0.2])"
      ]
     },
     "execution_count": 116,
     "metadata": {},
     "output_type": "execute_result"
    }
   ],
   "source": [
    "X[0]"
   ]
  },
  {
   "cell_type": "code",
   "execution_count": 117,
   "id": "2d524369",
   "metadata": {},
   "outputs": [
    {
     "data": {
      "text/plain": [
       "array([0, 0, 0, 0, 0, 0, 0, 0, 0, 0, 0, 0, 0, 0, 0, 0, 0, 0, 0, 0, 0, 0,\n",
       "       0, 0, 0, 0, 0, 0, 0, 0, 0, 0, 0, 0, 0, 0, 0, 0, 0, 0, 0, 0, 0, 0,\n",
       "       0, 0, 0, 0, 0, 0, 1, 1, 1, 1, 1, 1, 1, 1, 1, 1, 1, 1, 1, 1, 1, 1,\n",
       "       1, 1, 1, 1, 1, 1, 1, 1, 1, 1, 1, 1, 1, 1, 1, 1, 1, 1, 1, 1, 1, 1,\n",
       "       1, 1, 1, 1, 1, 1, 1, 1, 1, 1, 1, 1, 2, 2, 2, 2, 2, 2, 2, 2, 2, 2,\n",
       "       2, 2, 2, 2, 2, 2, 2, 2, 2, 2, 2, 2, 2, 2, 2, 2, 2, 2, 2, 2, 2, 2,\n",
       "       2, 2, 2, 2, 2, 2, 2, 2, 2, 2, 2, 2, 2, 2, 2, 2, 2, 2])"
      ]
     },
     "execution_count": 117,
     "metadata": {},
     "output_type": "execute_result"
    }
   ],
   "source": [
    "Y"
   ]
  },
  {
   "cell_type": "code",
   "execution_count": 118,
   "id": "aaa6b030",
   "metadata": {},
   "outputs": [],
   "source": [
    "from sklearn.model_selection import train_test_split"
   ]
  },
  {
   "cell_type": "code",
   "execution_count": 119,
   "id": "d668f413",
   "metadata": {},
   "outputs": [],
   "source": [
    "x_train, x_test, y_train, y_test = train_test_split(X,Y,\n",
    "                                                   test_size=0.2,\n",
    "                                                   random_state=87)"
   ]
  },
  {
   "cell_type": "code",
   "execution_count": 120,
   "id": "8a480326",
   "metadata": {},
   "outputs": [
    {
     "data": {
      "text/plain": [
       "<matplotlib.collections.PathCollection at 0x19e0c2eca00>"
      ]
     },
     "execution_count": 120,
     "metadata": {},
     "output_type": "execute_result"
    },
    {
     "data": {
      "image/png": "[encoded data removed]",
      "text/plain": [
       "<Figure size 432x288 with 1 Axes>"
      ]
     },
     "metadata": {
      "needs_background": "light"
     },
     "output_type": "display_data"
    }
   ],
   "source": [
    "plt.scatter(x_train[:,0], x_train[:,1],c=y_train)"
   ]
  },
  {
   "cell_type": "code",
   "execution_count": 121,
   "id": "5a018bf4",
   "metadata": {},
   "outputs": [],
   "source": [
    "from sklearn.svm import SVC"
   ]
  },
  {
   "cell_type": "code",
   "execution_count": 122,
   "id": "e8653bdc",
   "metadata": {},
   "outputs": [],
   "source": [
    "clf = SVC()"
   ]
  },
  {
   "cell_type": "code",
   "execution_count": 123,
   "id": "a7181eff",
   "metadata": {},
   "outputs": [
    {
     "data": {
      "text/plain": [
       "SVC()"
      ]
     },
     "execution_count": 123,
     "metadata": {},
     "output_type": "execute_result"
    }
   ],
   "source": [
    "clf.fit(x_train, y_train)"
   ]
  },
  {
   "cell_type": "code",
   "execution_count": 125,
   "id": "ddab6395",
   "metadata": {},
   "outputs": [],
   "source": [
    "y_predict = clf.predict(x_test)"
   ]
  },
  {
   "cell_type": "code",
   "execution_count": 126,
   "id": "4c9a3cb7",
   "metadata": {},
   "outputs": [
    {
     "data": {
      "text/plain": [
       "<matplotlib.collections.PathCollection at 0x19e0c358550>"
      ]
     },
     "execution_count": 126,
     "metadata": {},
     "output_type": "execute_result"
    },
    {
     "data": {
      "image/png": "[encoded data removed]",
      "text/plain": [
       "<Figure size 432x288 with 1 Axes>"
      ]
     },
     "metadata": {
      "needs_background": "light"
     },
     "output_type": "display_data"
    }
   ],
   "source": [
    "plt.scatter(x_test[:,0],x_test[:,1],c=y_predict)"
   ]
  },
  {
   "cell_type": "code",
   "execution_count": 127,
   "id": "cf2fbcf9",
   "metadata": {},
   "outputs": [
    {
     "data": {
      "text/plain": [
       "<matplotlib.collections.PathCollection at 0x19e0c3b2e50>"
      ]
     },
     "execution_count": 127,
     "metadata": {},
     "output_type": "execute_result"
    },
    {
     "data": {
      "image/png": "[encoded data removed]",
      "text/plain": [
       "<Figure size 432x288 with 1 Axes>"
      ]
     },
     "metadata": {
      "needs_background": "light"
     },
     "output_type": "display_data"
    }
   ],
   "source": [
    "plt.scatter(x_test[:,0],x_test[:,1],c=y_predict - y_test)"
   ]
  },
  {
   "cell_type": "markdown",
   "id": "8527abd9",
   "metadata": {},
   "source": [
    "#7-6"
   ]
  },
  {
   "cell_type": "code",
   "execution_count": 128,
   "id": "5db7165d",
   "metadata": {},
   "outputs": [
    {
     "data": {
      "text/plain": [
       "array([ 0.3,  0.5,  0.7,  0.9,  1.1,  1.3,  1.5,  1.7,  1.9,  2.1,  2.3,\n",
       "        2.5,  2.7,  2.9,  3.1,  3.3,  3.5,  3.7,  3.9,  4.1,  4.3,  4.5,\n",
       "        4.7,  4.9,  5.1,  5.3,  5.5,  5.7,  5.9,  6.1,  6.3,  6.5,  6.7,\n",
       "        6.9,  7.1,  7.3,  7.5,  7.7,  7.9,  8.1,  8.3,  8.5,  8.7,  8.9,\n",
       "        9.1,  9.3,  9.5,  9.7,  9.9, 10.1])"
      ]
     },
     "execution_count": 128,
     "metadata": {},
     "output_type": "execute_result"
    }
   ],
   "source": [
    "np.arange(0.3,10.3,0.2)"
   ]
  },
  {
   "cell_type": "code",
   "execution_count": 129,
   "id": "6699143c",
   "metadata": {},
   "outputs": [],
   "source": [
    "x1,x2 = np.meshgrid(np.arange(0,7,0.02), np.arange(0,3,0.02))"
   ]
  },
  {
   "cell_type": "code",
   "execution_count": 130,
   "id": "db3d6887",
   "metadata": {},
   "outputs": [],
   "source": [
    "xx = [1,2,3,4]\n",
    "yy = [5,6,7,8]"
   ]
  },
  {
   "cell_type": "code",
   "execution_count": 131,
   "id": "02055f6f",
   "metadata": {},
   "outputs": [
    {
     "data": {
      "text/plain": [
       "array([[1, 5],\n",
       "       [2, 6],\n",
       "       [3, 7],\n",
       "       [4, 8]])"
      ]
     },
     "execution_count": 131,
     "metadata": {},
     "output_type": "execute_result"
    }
   ],
   "source": [
    "np.c_[xx,yy]"
   ]
  },
  {
   "cell_type": "code",
   "execution_count": 132,
   "id": "d3c45348",
   "metadata": {},
   "outputs": [],
   "source": [
    "Z = clf.predict(np.c_[x1.ravel(),x2.ravel()])"
   ]
  },
  {
   "cell_type": "code",
   "execution_count": 133,
   "id": "ef27f3df",
   "metadata": {},
   "outputs": [],
   "source": [
    "Z = Z.reshape(x1.shape)"
   ]
  },
  {
   "cell_type": "code",
   "execution_count": 135,
   "id": "7ff6594e",
   "metadata": {},
   "outputs": [
    {
     "data": {
      "text/plain": [
       "<matplotlib.collections.PathCollection at 0x19e0c4af040>"
      ]
     },
     "execution_count": 135,
     "metadata": {},
     "output_type": "execute_result"
    },
    {
     "data": {
      "image/png": "[encoded data removed]",
      "text/plain": [
       "<Figure size 432x288 with 1 Axes>"
      ]
     },
     "metadata": {
      "needs_background": "light"
     },
     "output_type": "display_data"
    }
   ],
   "source": [
    "plt.contourf(x1,x2,Z,cmap=plt.cm.coolwarm,alpha=0.8)\n",
    "plt.scatter(X[:,0],X[:,1],c=Y)"
   ]
  },
  {
   "cell_type": "markdown",
   "id": "732bdc8e",
   "metadata": {},
   "source": [
    "#7-7"
   ]
  },
  {
   "cell_type": "code",
   "execution_count": 137,
   "id": "7966a983",
   "metadata": {},
   "outputs": [],
   "source": [
    "X = np.random.rand(100,2)"
   ]
  },
  {
   "cell_type": "code",
   "execution_count": 138,
   "id": "c2b03264",
   "metadata": {},
   "outputs": [
    {
     "data": {
      "text/plain": [
       "array([0.04123091, 0.40680879])"
      ]
     },
     "execution_count": 138,
     "metadata": {},
     "output_type": "execute_result"
    }
   ],
   "source": [
    "X[0]"
   ]
  },
  {
   "cell_type": "code",
   "execution_count": 139,
   "id": "59d752dd",
   "metadata": {},
   "outputs": [
    {
     "data": {
      "text/plain": [
       "<matplotlib.collections.PathCollection at 0x19e0c520a90>"
      ]
     },
     "execution_count": 139,
     "metadata": {},
     "output_type": "execute_result"
    },
    {
     "data": {
      "image/png": "[encoded data removed]",
      "text/plain": [
       "<Figure size 432x288 with 1 Axes>"
      ]
     },
     "metadata": {
      "needs_background": "light"
     },
     "output_type": "display_data"
    }
   ],
   "source": [
    "plt.scatter(X[:,0],X[:,1],s=50)"
   ]
  },
  {
   "cell_type": "code",
   "execution_count": 140,
   "id": "dcb67c1e",
   "metadata": {},
   "outputs": [],
   "source": [
    "from sklearn.cluster import KMeans"
   ]
  },
  {
   "cell_type": "code",
   "execution_count": 141,
   "id": "731c9292",
   "metadata": {},
   "outputs": [],
   "source": [
    "clf = KMeans(n_clusters=3)"
   ]
  },
  {
   "cell_type": "code",
   "execution_count": 142,
   "id": "1925f9c2",
   "metadata": {},
   "outputs": [
    {
     "data": {
      "text/plain": [
       "KMeans(n_clusters=3)"
      ]
     },
     "execution_count": 142,
     "metadata": {},
     "output_type": "execute_result"
    }
   ],
   "source": [
    "clf.fit(X)"
   ]
  },
  {
   "cell_type": "code",
   "execution_count": 143,
   "id": "29a587b9",
   "metadata": {},
   "outputs": [
    {
     "data": {
      "text/plain": [
       "array([0, 0, 1, 0, 2, 0, 1, 1, 0, 1, 0, 0, 1, 1, 1, 2, 0, 2, 2, 0, 0, 0,\n",
       "       0, 2, 0, 2, 1, 0, 0, 0, 0, 0, 0, 1, 0, 2, 1, 0, 1, 1, 0, 0, 0, 2,\n",
       "       2, 1, 0, 0, 1, 1, 1, 2, 1, 2, 0, 0, 1, 1, 2, 2, 0, 0, 1, 2, 0, 2,\n",
       "       1, 0, 2, 1, 1, 2, 1, 0, 0, 1, 0, 2, 0, 1, 0, 2, 2, 1, 2, 0, 2, 2,\n",
       "       1, 1, 2, 1, 0, 0, 1, 2, 1, 2, 2, 1])"
      ]
     },
     "execution_count": 143,
     "metadata": {},
     "output_type": "execute_result"
    }
   ],
   "source": [
    "clf.labels_"
   ]
  },
  {
   "cell_type": "code",
   "execution_count": 144,
   "id": "d5ddeaa4",
   "metadata": {},
   "outputs": [
    {
     "data": {
      "text/plain": [
       "<matplotlib.collections.PathCollection at 0x19e0cc4adf0>"
      ]
     },
     "execution_count": 144,
     "metadata": {},
     "output_type": "execute_result"
    },
    {
     "data": {
      "image/png": "[encoded data removed]",
      "text/plain": [
       "<Figure size 432x288 with 1 Axes>"
      ]
     },
     "metadata": {
      "needs_background": "light"
     },
     "output_type": "display_data"
    }
   ],
   "source": [
    "plt.scatter(X[:,0],X[:,1],c=clf.labels_)"
   ]
  },
  {
   "cell_type": "code",
   "execution_count": 145,
   "id": "8bff6b51",
   "metadata": {},
   "outputs": [],
   "source": [
    "clf = KMeans(n_clusters=5)"
   ]
  },
  {
   "cell_type": "code",
   "execution_count": 146,
   "id": "e358be67",
   "metadata": {},
   "outputs": [
    {
     "data": {
      "text/plain": [
       "KMeans(n_clusters=5)"
      ]
     },
     "execution_count": 146,
     "metadata": {},
     "output_type": "execute_result"
    }
   ],
   "source": [
    "clf.fit(X)"
   ]
  },
  {
   "cell_type": "code",
   "execution_count": 147,
   "id": "2051a924",
   "metadata": {},
   "outputs": [
    {
     "data": {
      "text/plain": [
       "array([1, 3, 0, 1, 2, 1, 4, 3, 1, 0, 1, 1, 0, 4, 3, 2, 3, 4, 2, 3, 1, 1,\n",
       "       1, 2, 3, 2, 0, 1, 3, 3, 3, 3, 3, 4, 3, 1, 0, 3, 3, 0, 1, 1, 3, 2,\n",
       "       2, 4, 1, 1, 4, 4, 0, 2, 4, 2, 3, 1, 0, 4, 2, 4, 4, 3, 4, 4, 1, 2,\n",
       "       0, 3, 2, 4, 4, 2, 4, 3, 3, 0, 3, 1, 3, 0, 3, 2, 2, 0, 2, 1, 1, 1,\n",
       "       0, 3, 2, 0, 3, 3, 4, 2, 0, 2, 4, 0])"
      ]
     },
     "execution_count": 147,
     "metadata": {},
     "output_type": "execute_result"
    }
   ],
   "source": [
    "clf.labels_"
   ]
  },
  {
   "cell_type": "code",
   "execution_count": 148,
   "id": "3ab7eb03",
   "metadata": {},
   "outputs": [
    {
     "data": {
      "text/plain": [
       "<matplotlib.collections.PathCollection at 0x19e0dc7dfa0>"
      ]
     },
     "execution_count": 148,
     "metadata": {},
     "output_type": "execute_result"
    },
    {
     "data": {
      "image/png": "[encoded data removed]",
      "text/plain": [
       "<Figure size 432x288 with 1 Axes>"
      ]
     },
     "metadata": {
      "needs_background": "light"
     },
     "output_type": "display_data"
    }
   ],
   "source": [
    "plt.scatter(X[:,0],X[:,1],c=clf.labels_)"
   ]
  },
  {
   "cell_type": "code",
   "execution_count": null,
   "id": "441ba256",
   "metadata": {},
   "outputs": [],
   "source": []
  }
 ],
 "metadata": {
  "kernelspec": {
   "display_name": "Python 3 (ipykernel)",
   "language": "python",
   "name": "python3"
  },
  "language_info": {
   "codemirror_mode": {
    "name": "ipython",
    "version": 3
   },
   "file_extension": ".py",
   "mimetype": "text/x-python",
   "name": "python",
   "nbconvert_exporter": "python",
   "pygments_lexer": "ipython3",
   "version": "3.9.7"
  }
 },
 "nbformat": 4,
 "nbformat_minor": 5
}
