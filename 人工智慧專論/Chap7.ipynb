{
 "cells": [
  {
   "cell_type": "markdown",
   "id": "1f8889c1",
   "metadata": {},
   "source": [
    "#7-2"
   ]
  },
  {
   "cell_type": "code",
<<<<<<< HEAD
   "execution_count": 2,
=======
   "execution_count": 3,
>>>>>>> 0ab2ba9f0a156c0bfa6d3ed43d1d8d386558c409
   "id": "8f17bd84",
   "metadata": {},
   "outputs": [],
   "source": [
    "%matplotlib inline\n",
    "import numpy as np\n",
    "import matplotlib.pyplot as plt"
   ]
  },
  {
   "cell_type": "code",
   "execution_count": 3,
   "id": "a9bee60d",
   "metadata": {},
   "outputs": [],
   "source": [
    "x = np.array([[-3,2],[-6,5],[3,-4],[2,-8]])\n",
    "y = np.array([1,1,2,2])"
   ]
  },
  {
   "cell_type": "code",
<<<<<<< HEAD
   "execution_count": 4,
=======
   "execution_count": 5,
>>>>>>> 0ab2ba9f0a156c0bfa6d3ed43d1d8d386558c409
   "id": "0c274062",
   "metadata": {},
   "outputs": [
    {
     "data": {
      "text/plain": [
<<<<<<< HEAD
       "<matplotlib.collections.PathCollection at 0x1fae6b9dc10>"
      ]
     },
     "execution_count": 4,
=======
       "<matplotlib.collections.PathCollection at 0x27b0bd6ca00>"
      ]
     },
     "execution_count": 5,
>>>>>>> 0ab2ba9f0a156c0bfa6d3ed43d1d8d386558c409
     "metadata": {},
     "output_type": "execute_result"
    },
    {
     "data": {
      "image/png": "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\n",
      "text/plain": [
       "<Figure size 432x288 with 1 Axes>"
      ]
     },
     "metadata": {
      "needs_background": "light"
     },
     "output_type": "display_data"
    }
   ],
   "source": [
    "plt.scatter([-3,-6,3,2],[2,5,-4,-8],c=y)"
   ]
  },
  {
   "cell_type": "code",
<<<<<<< HEAD
   "execution_count": 5,
=======
   "execution_count": 6,
>>>>>>> 0ab2ba9f0a156c0bfa6d3ed43d1d8d386558c409
   "id": "89325a34",
   "metadata": {},
   "outputs": [
    {
     "data": {
      "text/plain": [
       "array([[-3,  2],\n",
       "       [-6,  5],\n",
       "       [ 3, -4],\n",
       "       [ 2, -8]])"
      ]
     },
<<<<<<< HEAD
     "execution_count": 5,
=======
     "execution_count": 6,
>>>>>>> 0ab2ba9f0a156c0bfa6d3ed43d1d8d386558c409
     "metadata": {},
     "output_type": "execute_result"
    }
   ],
   "source": [
    "x"
   ]
  },
  {
   "cell_type": "code",
<<<<<<< HEAD
   "execution_count": 6,
=======
   "execution_count": 7,
>>>>>>> 0ab2ba9f0a156c0bfa6d3ed43d1d8d386558c409
   "id": "c7845b55",
   "metadata": {},
   "outputs": [
    {
     "data": {
      "text/plain": [
       "-4"
      ]
     },
<<<<<<< HEAD
     "execution_count": 6,
=======
     "execution_count": 7,
>>>>>>> 0ab2ba9f0a156c0bfa6d3ed43d1d8d386558c409
     "metadata": {},
     "output_type": "execute_result"
    }
   ],
   "source": [
    "x[2,1]"
   ]
  },
  {
   "cell_type": "code",
<<<<<<< HEAD
   "execution_count": 7,
=======
   "execution_count": 8,
>>>>>>> 0ab2ba9f0a156c0bfa6d3ed43d1d8d386558c409
   "id": "0eccb846",
   "metadata": {},
   "outputs": [
    {
     "data": {
      "text/plain": [
       "array([-3, -6,  3,  2])"
      ]
     },
<<<<<<< HEAD
     "execution_count": 7,
=======
     "execution_count": 8,
>>>>>>> 0ab2ba9f0a156c0bfa6d3ed43d1d8d386558c409
     "metadata": {},
     "output_type": "execute_result"
    }
   ],
   "source": [
    "x[:,0]"
   ]
  },
  {
   "cell_type": "code",
<<<<<<< HEAD
   "execution_count": 8,
=======
   "execution_count": 9,
>>>>>>> 0ab2ba9f0a156c0bfa6d3ed43d1d8d386558c409
   "id": "1711a4d9",
   "metadata": {},
   "outputs": [
    {
     "data": {
      "text/plain": [
       "array([ 2,  5, -4, -8])"
      ]
     },
<<<<<<< HEAD
     "execution_count": 8,
=======
     "execution_count": 9,
>>>>>>> 0ab2ba9f0a156c0bfa6d3ed43d1d8d386558c409
     "metadata": {},
     "output_type": "execute_result"
    }
   ],
   "source": [
    "x[:,1]"
   ]
  },
  {
   "cell_type": "code",
<<<<<<< HEAD
   "execution_count": 9,
=======
   "execution_count": 10,
>>>>>>> 0ab2ba9f0a156c0bfa6d3ed43d1d8d386558c409
   "id": "97410bfa",
   "metadata": {},
   "outputs": [
    {
     "data": {
      "text/plain": [
<<<<<<< HEAD
       "<matplotlib.collections.PathCollection at 0x1fae735e790>"
      ]
     },
     "execution_count": 9,
=======
       "<matplotlib.collections.PathCollection at 0x27b0c52e6d0>"
      ]
     },
     "execution_count": 10,
>>>>>>> 0ab2ba9f0a156c0bfa6d3ed43d1d8d386558c409
     "metadata": {},
     "output_type": "execute_result"
    },
    {
     "data": {
      "image/png": "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\n",
      "text/plain": [
       "<Figure size 432x288 with 1 Axes>"
      ]
     },
     "metadata": {
      "needs_background": "light"
     },
     "output_type": "display_data"
    }
   ],
   "source": [
    "plt.scatter(x[:,0],x[:,1],c=y)"
   ]
  },
  {
   "cell_type": "code",
<<<<<<< HEAD
   "execution_count": 10,
=======
   "execution_count": 11,
>>>>>>> 0ab2ba9f0a156c0bfa6d3ed43d1d8d386558c409
   "id": "ff8d2426",
   "metadata": {},
   "outputs": [
    {
     "data": {
      "text/plain": [
<<<<<<< HEAD
       "<matplotlib.collections.PathCollection at 0x1fae73cf4c0>"
      ]
     },
     "execution_count": 10,
=======
       "<matplotlib.collections.PathCollection at 0x27b0c59b700>"
      ]
     },
     "execution_count": 11,
>>>>>>> 0ab2ba9f0a156c0bfa6d3ed43d1d8d386558c409
     "metadata": {},
     "output_type": "execute_result"
    },
    {
     "data": {
      "image/png": "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\n",
      "text/plain": [
       "<Figure size 432x288 with 1 Axes>"
      ]
     },
     "metadata": {
      "needs_background": "light"
     },
     "output_type": "display_data"
    }
   ],
   "source": [
    "plt.scatter(x[:,0],x[:,1],s=50,c=y)"
   ]
  },
  {
   "cell_type": "markdown",
   "id": "08acc97a",
   "metadata": {},
   "source": [
    "#7-3"
   ]
  },
  {
   "cell_type": "code",
<<<<<<< HEAD
   "execution_count": 11,
=======
   "execution_count": 12,
>>>>>>> 0ab2ba9f0a156c0bfa6d3ed43d1d8d386558c409
   "id": "91a02741",
   "metadata": {},
   "outputs": [
    {
     "data": {
      "text/plain": [
       "array([[-3,  2],\n",
       "       [-6,  5],\n",
       "       [ 3, -4],\n",
       "       [ 2, -8]])"
      ]
     },
<<<<<<< HEAD
     "execution_count": 11,
=======
     "execution_count": 12,
>>>>>>> 0ab2ba9f0a156c0bfa6d3ed43d1d8d386558c409
     "metadata": {},
     "output_type": "execute_result"
    }
   ],
   "source": [
    "x"
   ]
  },
  {
   "cell_type": "code",
<<<<<<< HEAD
   "execution_count": 12,
=======
   "execution_count": 13,
>>>>>>> 0ab2ba9f0a156c0bfa6d3ed43d1d8d386558c409
   "id": "ec82e7c9",
   "metadata": {},
   "outputs": [
    {
     "data": {
      "text/plain": [
       "array([1, 1, 2, 2])"
      ]
     },
<<<<<<< HEAD
     "execution_count": 12,
=======
     "execution_count": 13,
>>>>>>> 0ab2ba9f0a156c0bfa6d3ed43d1d8d386558c409
     "metadata": {},
     "output_type": "execute_result"
    }
   ],
   "source": [
    "y"
   ]
  },
  {
   "cell_type": "code",
<<<<<<< HEAD
   "execution_count": 13,
=======
   "execution_count": 14,
>>>>>>> 0ab2ba9f0a156c0bfa6d3ed43d1d8d386558c409
   "id": "626affc5",
   "metadata": {},
   "outputs": [],
   "source": [
    "from sklearn.svm import SVC"
   ]
  },
  {
   "cell_type": "code",
<<<<<<< HEAD
   "execution_count": 14,
=======
   "execution_count": 15,
>>>>>>> 0ab2ba9f0a156c0bfa6d3ed43d1d8d386558c409
   "id": "58b66722",
   "metadata": {},
   "outputs": [],
   "source": [
    "clf = SVC() #開學習機器"
   ]
  },
  {
   "cell_type": "code",
<<<<<<< HEAD
   "execution_count": 15,
=======
   "execution_count": 16,
>>>>>>> 0ab2ba9f0a156c0bfa6d3ed43d1d8d386558c409
   "id": "f0f46fe0",
   "metadata": {},
   "outputs": [
    {
     "data": {
      "text/plain": [
       "SVC()"
      ]
     },
<<<<<<< HEAD
     "execution_count": 15,
=======
     "execution_count": 16,
>>>>>>> 0ab2ba9f0a156c0bfa6d3ed43d1d8d386558c409
     "metadata": {},
     "output_type": "execute_result"
    }
   ],
   "source": [
    "clf.fit(x, y) #x=輸入資料，y=正確答案"
   ]
  },
  {
   "cell_type": "code",
<<<<<<< HEAD
   "execution_count": 16,
=======
   "execution_count": 17,
>>>>>>> 0ab2ba9f0a156c0bfa6d3ed43d1d8d386558c409
   "id": "966b225d",
   "metadata": {},
   "outputs": [
    {
     "data": {
      "text/plain": [
       "array([1])"
      ]
     },
<<<<<<< HEAD
     "execution_count": 16,
=======
     "execution_count": 17,
>>>>>>> 0ab2ba9f0a156c0bfa6d3ed43d1d8d386558c409
     "metadata": {},
     "output_type": "execute_result"
    }
   ],
   "source": [
    "clf.predict([[-3,2]]) #預測輸入要是array"
   ]
  },
  {
   "cell_type": "code",
<<<<<<< HEAD
   "execution_count": 17,
=======
   "execution_count": 18,
>>>>>>> 0ab2ba9f0a156c0bfa6d3ed43d1d8d386558c409
   "id": "f91c9414",
   "metadata": {},
   "outputs": [
    {
     "data": {
      "text/plain": [
       "array([1, 1, 2, 2])"
      ]
     },
<<<<<<< HEAD
     "execution_count": 17,
=======
     "execution_count": 18,
>>>>>>> 0ab2ba9f0a156c0bfa6d3ed43d1d8d386558c409
     "metadata": {},
     "output_type": "execute_result"
    }
   ],
   "source": [
    "clf.predict(x)"
   ]
  },
  {
   "cell_type": "code",
<<<<<<< HEAD
   "execution_count": 18,
=======
   "execution_count": 19,
>>>>>>> 0ab2ba9f0a156c0bfa6d3ed43d1d8d386558c409
   "id": "70cf2f94",
   "metadata": {},
   "outputs": [
    {
     "data": {
      "text/plain": [
       "array([1])"
      ]
     },
<<<<<<< HEAD
     "execution_count": 18,
=======
     "execution_count": 19,
>>>>>>> 0ab2ba9f0a156c0bfa6d3ed43d1d8d386558c409
     "metadata": {},
     "output_type": "execute_result"
    }
   ],
   "source": [
    "clf.predict([[2.5,3]])"
   ]
  },
  {
   "cell_type": "markdown",
   "id": "59bbcf3d",
   "metadata": {},
   "source": [
    "#7-4 meshgrid格點"
   ]
  },
  {
   "cell_type": "code",
<<<<<<< HEAD
   "execution_count": 19,
=======
   "execution_count": 20,
>>>>>>> 0ab2ba9f0a156c0bfa6d3ed43d1d8d386558c409
   "id": "1370a283",
   "metadata": {},
   "outputs": [],
   "source": [
    "xx = [1,2,3,4]\n",
    "yy = [5,6,7,8]"
   ]
  },
  {
   "cell_type": "code",
<<<<<<< HEAD
   "execution_count": 20,
=======
   "execution_count": 21,
>>>>>>> 0ab2ba9f0a156c0bfa6d3ed43d1d8d386558c409
   "id": "636a206a",
   "metadata": {},
   "outputs": [],
   "source": [
    "X, Y = np.meshgrid(xx,yy)"
   ]
  },
  {
   "cell_type": "code",
<<<<<<< HEAD
   "execution_count": 21,
=======
   "execution_count": 22,
>>>>>>> 0ab2ba9f0a156c0bfa6d3ed43d1d8d386558c409
   "id": "8129d8e4",
   "metadata": {},
   "outputs": [
    {
     "data": {
      "text/plain": [
       "array([[1, 2, 3, 4],\n",
       "       [1, 2, 3, 4],\n",
       "       [1, 2, 3, 4],\n",
       "       [1, 2, 3, 4]])"
      ]
     },
<<<<<<< HEAD
     "execution_count": 21,
=======
     "execution_count": 22,
>>>>>>> 0ab2ba9f0a156c0bfa6d3ed43d1d8d386558c409
     "metadata": {},
     "output_type": "execute_result"
    }
   ],
   "source": [
    "X"
   ]
  },
  {
   "cell_type": "code",
<<<<<<< HEAD
   "execution_count": 22,
=======
   "execution_count": 23,
>>>>>>> 0ab2ba9f0a156c0bfa6d3ed43d1d8d386558c409
   "id": "9779129b",
   "metadata": {},
   "outputs": [
    {
     "data": {
      "text/plain": [
       "array([[5, 5, 5, 5],\n",
       "       [6, 6, 6, 6],\n",
       "       [7, 7, 7, 7],\n",
       "       [8, 8, 8, 8]])"
      ]
     },
<<<<<<< HEAD
     "execution_count": 22,
=======
     "execution_count": 23,
>>>>>>> 0ab2ba9f0a156c0bfa6d3ed43d1d8d386558c409
     "metadata": {},
     "output_type": "execute_result"
    }
   ],
   "source": [
    "Y"
   ]
  },
  {
   "cell_type": "code",
<<<<<<< HEAD
   "execution_count": 23,
=======
   "execution_count": 24,
>>>>>>> 0ab2ba9f0a156c0bfa6d3ed43d1d8d386558c409
   "id": "623ad4f3",
   "metadata": {},
   "outputs": [],
   "source": [
    "X, Y = np.meshgrid(np.linspace(-6,3,30), np.linspace(-8,5,30))"
   ]
  },
  {
   "cell_type": "code",
<<<<<<< HEAD
   "execution_count": 24,
=======
   "execution_count": 25,
>>>>>>> 0ab2ba9f0a156c0bfa6d3ed43d1d8d386558c409
   "id": "586a64a0",
   "metadata": {},
   "outputs": [
    {
     "data": {
      "text/plain": [
       "array([[-6.        , -5.68965517, -5.37931034, -5.06896552, -4.75862069,\n",
       "        -4.44827586, -4.13793103, -3.82758621, -3.51724138, -3.20689655,\n",
       "        -2.89655172, -2.5862069 , -2.27586207, -1.96551724, -1.65517241,\n",
       "        -1.34482759, -1.03448276, -0.72413793, -0.4137931 , -0.10344828,\n",
       "         0.20689655,  0.51724138,  0.82758621,  1.13793103,  1.44827586,\n",
       "         1.75862069,  2.06896552,  2.37931034,  2.68965517,  3.        ],\n",
       "       [-6.        , -5.68965517, -5.37931034, -5.06896552, -4.75862069,\n",
       "        -4.44827586, -4.13793103, -3.82758621, -3.51724138, -3.20689655,\n",
       "        -2.89655172, -2.5862069 , -2.27586207, -1.96551724, -1.65517241,\n",
       "        -1.34482759, -1.03448276, -0.72413793, -0.4137931 , -0.10344828,\n",
       "         0.20689655,  0.51724138,  0.82758621,  1.13793103,  1.44827586,\n",
       "         1.75862069,  2.06896552,  2.37931034,  2.68965517,  3.        ],\n",
       "       [-6.        , -5.68965517, -5.37931034, -5.06896552, -4.75862069,\n",
       "        -4.44827586, -4.13793103, -3.82758621, -3.51724138, -3.20689655,\n",
       "        -2.89655172, -2.5862069 , -2.27586207, -1.96551724, -1.65517241,\n",
       "        -1.34482759, -1.03448276, -0.72413793, -0.4137931 , -0.10344828,\n",
       "         0.20689655,  0.51724138,  0.82758621,  1.13793103,  1.44827586,\n",
       "         1.75862069,  2.06896552,  2.37931034,  2.68965517,  3.        ],\n",
       "       [-6.        , -5.68965517, -5.37931034, -5.06896552, -4.75862069,\n",
       "        -4.44827586, -4.13793103, -3.82758621, -3.51724138, -3.20689655,\n",
       "        -2.89655172, -2.5862069 , -2.27586207, -1.96551724, -1.65517241,\n",
       "        -1.34482759, -1.03448276, -0.72413793, -0.4137931 , -0.10344828,\n",
       "         0.20689655,  0.51724138,  0.82758621,  1.13793103,  1.44827586,\n",
       "         1.75862069,  2.06896552,  2.37931034,  2.68965517,  3.        ],\n",
       "       [-6.        , -5.68965517, -5.37931034, -5.06896552, -4.75862069,\n",
       "        -4.44827586, -4.13793103, -3.82758621, -3.51724138, -3.20689655,\n",
       "        -2.89655172, -2.5862069 , -2.27586207, -1.96551724, -1.65517241,\n",
       "        -1.34482759, -1.03448276, -0.72413793, -0.4137931 , -0.10344828,\n",
       "         0.20689655,  0.51724138,  0.82758621,  1.13793103,  1.44827586,\n",
       "         1.75862069,  2.06896552,  2.37931034,  2.68965517,  3.        ],\n",
       "       [-6.        , -5.68965517, -5.37931034, -5.06896552, -4.75862069,\n",
       "        -4.44827586, -4.13793103, -3.82758621, -3.51724138, -3.20689655,\n",
       "        -2.89655172, -2.5862069 , -2.27586207, -1.96551724, -1.65517241,\n",
       "        -1.34482759, -1.03448276, -0.72413793, -0.4137931 , -0.10344828,\n",
       "         0.20689655,  0.51724138,  0.82758621,  1.13793103,  1.44827586,\n",
       "         1.75862069,  2.06896552,  2.37931034,  2.68965517,  3.        ],\n",
       "       [-6.        , -5.68965517, -5.37931034, -5.06896552, -4.75862069,\n",
       "        -4.44827586, -4.13793103, -3.82758621, -3.51724138, -3.20689655,\n",
       "        -2.89655172, -2.5862069 , -2.27586207, -1.96551724, -1.65517241,\n",
       "        -1.34482759, -1.03448276, -0.72413793, -0.4137931 , -0.10344828,\n",
       "         0.20689655,  0.51724138,  0.82758621,  1.13793103,  1.44827586,\n",
       "         1.75862069,  2.06896552,  2.37931034,  2.68965517,  3.        ],\n",
       "       [-6.        , -5.68965517, -5.37931034, -5.06896552, -4.75862069,\n",
       "        -4.44827586, -4.13793103, -3.82758621, -3.51724138, -3.20689655,\n",
       "        -2.89655172, -2.5862069 , -2.27586207, -1.96551724, -1.65517241,\n",
       "        -1.34482759, -1.03448276, -0.72413793, -0.4137931 , -0.10344828,\n",
       "         0.20689655,  0.51724138,  0.82758621,  1.13793103,  1.44827586,\n",
       "         1.75862069,  2.06896552,  2.37931034,  2.68965517,  3.        ],\n",
       "       [-6.        , -5.68965517, -5.37931034, -5.06896552, -4.75862069,\n",
       "        -4.44827586, -4.13793103, -3.82758621, -3.51724138, -3.20689655,\n",
       "        -2.89655172, -2.5862069 , -2.27586207, -1.96551724, -1.65517241,\n",
       "        -1.34482759, -1.03448276, -0.72413793, -0.4137931 , -0.10344828,\n",
       "         0.20689655,  0.51724138,  0.82758621,  1.13793103,  1.44827586,\n",
       "         1.75862069,  2.06896552,  2.37931034,  2.68965517,  3.        ],\n",
       "       [-6.        , -5.68965517, -5.37931034, -5.06896552, -4.75862069,\n",
       "        -4.44827586, -4.13793103, -3.82758621, -3.51724138, -3.20689655,\n",
       "        -2.89655172, -2.5862069 , -2.27586207, -1.96551724, -1.65517241,\n",
       "        -1.34482759, -1.03448276, -0.72413793, -0.4137931 , -0.10344828,\n",
       "         0.20689655,  0.51724138,  0.82758621,  1.13793103,  1.44827586,\n",
       "         1.75862069,  2.06896552,  2.37931034,  2.68965517,  3.        ],\n",
       "       [-6.        , -5.68965517, -5.37931034, -5.06896552, -4.75862069,\n",
       "        -4.44827586, -4.13793103, -3.82758621, -3.51724138, -3.20689655,\n",
       "        -2.89655172, -2.5862069 , -2.27586207, -1.96551724, -1.65517241,\n",
       "        -1.34482759, -1.03448276, -0.72413793, -0.4137931 , -0.10344828,\n",
       "         0.20689655,  0.51724138,  0.82758621,  1.13793103,  1.44827586,\n",
       "         1.75862069,  2.06896552,  2.37931034,  2.68965517,  3.        ],\n",
       "       [-6.        , -5.68965517, -5.37931034, -5.06896552, -4.75862069,\n",
       "        -4.44827586, -4.13793103, -3.82758621, -3.51724138, -3.20689655,\n",
       "        -2.89655172, -2.5862069 , -2.27586207, -1.96551724, -1.65517241,\n",
       "        -1.34482759, -1.03448276, -0.72413793, -0.4137931 , -0.10344828,\n",
       "         0.20689655,  0.51724138,  0.82758621,  1.13793103,  1.44827586,\n",
       "         1.75862069,  2.06896552,  2.37931034,  2.68965517,  3.        ],\n",
       "       [-6.        , -5.68965517, -5.37931034, -5.06896552, -4.75862069,\n",
       "        -4.44827586, -4.13793103, -3.82758621, -3.51724138, -3.20689655,\n",
       "        -2.89655172, -2.5862069 , -2.27586207, -1.96551724, -1.65517241,\n",
       "        -1.34482759, -1.03448276, -0.72413793, -0.4137931 , -0.10344828,\n",
       "         0.20689655,  0.51724138,  0.82758621,  1.13793103,  1.44827586,\n",
       "         1.75862069,  2.06896552,  2.37931034,  2.68965517,  3.        ],\n",
       "       [-6.        , -5.68965517, -5.37931034, -5.06896552, -4.75862069,\n",
       "        -4.44827586, -4.13793103, -3.82758621, -3.51724138, -3.20689655,\n",
       "        -2.89655172, -2.5862069 , -2.27586207, -1.96551724, -1.65517241,\n",
       "        -1.34482759, -1.03448276, -0.72413793, -0.4137931 , -0.10344828,\n",
       "         0.20689655,  0.51724138,  0.82758621,  1.13793103,  1.44827586,\n",
       "         1.75862069,  2.06896552,  2.37931034,  2.68965517,  3.        ],\n",
       "       [-6.        , -5.68965517, -5.37931034, -5.06896552, -4.75862069,\n",
       "        -4.44827586, -4.13793103, -3.82758621, -3.51724138, -3.20689655,\n",
       "        -2.89655172, -2.5862069 , -2.27586207, -1.96551724, -1.65517241,\n",
       "        -1.34482759, -1.03448276, -0.72413793, -0.4137931 , -0.10344828,\n",
       "         0.20689655,  0.51724138,  0.82758621,  1.13793103,  1.44827586,\n",
       "         1.75862069,  2.06896552,  2.37931034,  2.68965517,  3.        ],\n",
       "       [-6.        , -5.68965517, -5.37931034, -5.06896552, -4.75862069,\n",
       "        -4.44827586, -4.13793103, -3.82758621, -3.51724138, -3.20689655,\n",
       "        -2.89655172, -2.5862069 , -2.27586207, -1.96551724, -1.65517241,\n",
       "        -1.34482759, -1.03448276, -0.72413793, -0.4137931 , -0.10344828,\n",
       "         0.20689655,  0.51724138,  0.82758621,  1.13793103,  1.44827586,\n",
       "         1.75862069,  2.06896552,  2.37931034,  2.68965517,  3.        ],\n",
       "       [-6.        , -5.68965517, -5.37931034, -5.06896552, -4.75862069,\n",
       "        -4.44827586, -4.13793103, -3.82758621, -3.51724138, -3.20689655,\n",
       "        -2.89655172, -2.5862069 , -2.27586207, -1.96551724, -1.65517241,\n",
       "        -1.34482759, -1.03448276, -0.72413793, -0.4137931 , -0.10344828,\n",
       "         0.20689655,  0.51724138,  0.82758621,  1.13793103,  1.44827586,\n",
       "         1.75862069,  2.06896552,  2.37931034,  2.68965517,  3.        ],\n",
       "       [-6.        , -5.68965517, -5.37931034, -5.06896552, -4.75862069,\n",
       "        -4.44827586, -4.13793103, -3.82758621, -3.51724138, -3.20689655,\n",
       "        -2.89655172, -2.5862069 , -2.27586207, -1.96551724, -1.65517241,\n",
       "        -1.34482759, -1.03448276, -0.72413793, -0.4137931 , -0.10344828,\n",
       "         0.20689655,  0.51724138,  0.82758621,  1.13793103,  1.44827586,\n",
       "         1.75862069,  2.06896552,  2.37931034,  2.68965517,  3.        ],\n",
       "       [-6.        , -5.68965517, -5.37931034, -5.06896552, -4.75862069,\n",
       "        -4.44827586, -4.13793103, -3.82758621, -3.51724138, -3.20689655,\n",
       "        -2.89655172, -2.5862069 , -2.27586207, -1.96551724, -1.65517241,\n",
       "        -1.34482759, -1.03448276, -0.72413793, -0.4137931 , -0.10344828,\n",
       "         0.20689655,  0.51724138,  0.82758621,  1.13793103,  1.44827586,\n",
       "         1.75862069,  2.06896552,  2.37931034,  2.68965517,  3.        ],\n",
       "       [-6.        , -5.68965517, -5.37931034, -5.06896552, -4.75862069,\n",
       "        -4.44827586, -4.13793103, -3.82758621, -3.51724138, -3.20689655,\n",
       "        -2.89655172, -2.5862069 , -2.27586207, -1.96551724, -1.65517241,\n",
       "        -1.34482759, -1.03448276, -0.72413793, -0.4137931 , -0.10344828,\n",
       "         0.20689655,  0.51724138,  0.82758621,  1.13793103,  1.44827586,\n",
       "         1.75862069,  2.06896552,  2.37931034,  2.68965517,  3.        ],\n",
       "       [-6.        , -5.68965517, -5.37931034, -5.06896552, -4.75862069,\n",
       "        -4.44827586, -4.13793103, -3.82758621, -3.51724138, -3.20689655,\n",
       "        -2.89655172, -2.5862069 , -2.27586207, -1.96551724, -1.65517241,\n",
       "        -1.34482759, -1.03448276, -0.72413793, -0.4137931 , -0.10344828,\n",
       "         0.20689655,  0.51724138,  0.82758621,  1.13793103,  1.44827586,\n",
       "         1.75862069,  2.06896552,  2.37931034,  2.68965517,  3.        ],\n",
       "       [-6.        , -5.68965517, -5.37931034, -5.06896552, -4.75862069,\n",
       "        -4.44827586, -4.13793103, -3.82758621, -3.51724138, -3.20689655,\n",
       "        -2.89655172, -2.5862069 , -2.27586207, -1.96551724, -1.65517241,\n",
       "        -1.34482759, -1.03448276, -0.72413793, -0.4137931 , -0.10344828,\n",
       "         0.20689655,  0.51724138,  0.82758621,  1.13793103,  1.44827586,\n",
       "         1.75862069,  2.06896552,  2.37931034,  2.68965517,  3.        ],\n",
       "       [-6.        , -5.68965517, -5.37931034, -5.06896552, -4.75862069,\n",
       "        -4.44827586, -4.13793103, -3.82758621, -3.51724138, -3.20689655,\n",
       "        -2.89655172, -2.5862069 , -2.27586207, -1.96551724, -1.65517241,\n",
       "        -1.34482759, -1.03448276, -0.72413793, -0.4137931 , -0.10344828,\n",
       "         0.20689655,  0.51724138,  0.82758621,  1.13793103,  1.44827586,\n",
       "         1.75862069,  2.06896552,  2.37931034,  2.68965517,  3.        ],\n",
       "       [-6.        , -5.68965517, -5.37931034, -5.06896552, -4.75862069,\n",
       "        -4.44827586, -4.13793103, -3.82758621, -3.51724138, -3.20689655,\n",
       "        -2.89655172, -2.5862069 , -2.27586207, -1.96551724, -1.65517241,\n",
       "        -1.34482759, -1.03448276, -0.72413793, -0.4137931 , -0.10344828,\n",
       "         0.20689655,  0.51724138,  0.82758621,  1.13793103,  1.44827586,\n",
       "         1.75862069,  2.06896552,  2.37931034,  2.68965517,  3.        ],\n",
       "       [-6.        , -5.68965517, -5.37931034, -5.06896552, -4.75862069,\n",
       "        -4.44827586, -4.13793103, -3.82758621, -3.51724138, -3.20689655,\n",
       "        -2.89655172, -2.5862069 , -2.27586207, -1.96551724, -1.65517241,\n",
       "        -1.34482759, -1.03448276, -0.72413793, -0.4137931 , -0.10344828,\n",
       "         0.20689655,  0.51724138,  0.82758621,  1.13793103,  1.44827586,\n",
       "         1.75862069,  2.06896552,  2.37931034,  2.68965517,  3.        ],\n",
       "       [-6.        , -5.68965517, -5.37931034, -5.06896552, -4.75862069,\n",
       "        -4.44827586, -4.13793103, -3.82758621, -3.51724138, -3.20689655,\n",
       "        -2.89655172, -2.5862069 , -2.27586207, -1.96551724, -1.65517241,\n",
       "        -1.34482759, -1.03448276, -0.72413793, -0.4137931 , -0.10344828,\n",
       "         0.20689655,  0.51724138,  0.82758621,  1.13793103,  1.44827586,\n",
       "         1.75862069,  2.06896552,  2.37931034,  2.68965517,  3.        ],\n",
       "       [-6.        , -5.68965517, -5.37931034, -5.06896552, -4.75862069,\n",
       "        -4.44827586, -4.13793103, -3.82758621, -3.51724138, -3.20689655,\n",
       "        -2.89655172, -2.5862069 , -2.27586207, -1.96551724, -1.65517241,\n",
       "        -1.34482759, -1.03448276, -0.72413793, -0.4137931 , -0.10344828,\n",
       "         0.20689655,  0.51724138,  0.82758621,  1.13793103,  1.44827586,\n",
       "         1.75862069,  2.06896552,  2.37931034,  2.68965517,  3.        ],\n",
       "       [-6.        , -5.68965517, -5.37931034, -5.06896552, -4.75862069,\n",
       "        -4.44827586, -4.13793103, -3.82758621, -3.51724138, -3.20689655,\n",
       "        -2.89655172, -2.5862069 , -2.27586207, -1.96551724, -1.65517241,\n",
       "        -1.34482759, -1.03448276, -0.72413793, -0.4137931 , -0.10344828,\n",
       "         0.20689655,  0.51724138,  0.82758621,  1.13793103,  1.44827586,\n",
       "         1.75862069,  2.06896552,  2.37931034,  2.68965517,  3.        ],\n",
       "       [-6.        , -5.68965517, -5.37931034, -5.06896552, -4.75862069,\n",
       "        -4.44827586, -4.13793103, -3.82758621, -3.51724138, -3.20689655,\n",
       "        -2.89655172, -2.5862069 , -2.27586207, -1.96551724, -1.65517241,\n",
       "        -1.34482759, -1.03448276, -0.72413793, -0.4137931 , -0.10344828,\n",
       "         0.20689655,  0.51724138,  0.82758621,  1.13793103,  1.44827586,\n",
       "         1.75862069,  2.06896552,  2.37931034,  2.68965517,  3.        ],\n",
       "       [-6.        , -5.68965517, -5.37931034, -5.06896552, -4.75862069,\n",
       "        -4.44827586, -4.13793103, -3.82758621, -3.51724138, -3.20689655,\n",
       "        -2.89655172, -2.5862069 , -2.27586207, -1.96551724, -1.65517241,\n",
       "        -1.34482759, -1.03448276, -0.72413793, -0.4137931 , -0.10344828,\n",
       "         0.20689655,  0.51724138,  0.82758621,  1.13793103,  1.44827586,\n",
       "         1.75862069,  2.06896552,  2.37931034,  2.68965517,  3.        ]])"
      ]
     },
<<<<<<< HEAD
     "execution_count": 24,
=======
     "execution_count": 25,
>>>>>>> 0ab2ba9f0a156c0bfa6d3ed43d1d8d386558c409
     "metadata": {},
     "output_type": "execute_result"
    }
   ],
   "source": [
    "X"
   ]
  },
  {
   "cell_type": "code",
<<<<<<< HEAD
   "execution_count": 25,
   "id": "30253850",
=======
   "execution_count": 26,
   "id": "c4261848",
>>>>>>> 0ab2ba9f0a156c0bfa6d3ed43d1d8d386558c409
   "metadata": {},
   "outputs": [],
   "source": [
    "X = X.ravel()\n",
    "Y = Y.ravel()"
   ]
  },
  {
   "cell_type": "code",
<<<<<<< HEAD
   "execution_count": 26,
=======
   "execution_count": 27,
>>>>>>> 0ab2ba9f0a156c0bfa6d3ed43d1d8d386558c409
   "id": "f89f40e8",
   "metadata": {},
   "outputs": [
    {
     "data": {
      "text/plain": [
<<<<<<< HEAD
       "<matplotlib.collections.PathCollection at 0x1fae4843e20>"
      ]
     },
     "execution_count": 26,
=======
       "<matplotlib.collections.PathCollection at 0x27b0e9788e0>"
      ]
     },
     "execution_count": 27,
>>>>>>> 0ab2ba9f0a156c0bfa6d3ed43d1d8d386558c409
     "metadata": {},
     "output_type": "execute_result"
    },
    {
     "data": {
      "image/png": "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\n",
      "text/plain": [
       "<Figure size 432x288 with 1 Axes>"
      ]
     },
     "metadata": {
      "needs_background": "light"
     },
     "output_type": "display_data"
    }
   ],
   "source": [
    "plt.scatter(X,Y)"
   ]
  },
  {
   "cell_type": "code",
<<<<<<< HEAD
   "execution_count": 27,
=======
   "execution_count": 28,
>>>>>>> 0ab2ba9f0a156c0bfa6d3ed43d1d8d386558c409
   "id": "3ef0851a",
   "metadata": {},
   "outputs": [],
   "source": [
    "xx = [1,2,3,4]\n",
    "yy = [5,6,7,8]"
   ]
  },
  {
   "cell_type": "code",
<<<<<<< HEAD
   "execution_count": 28,
=======
   "execution_count": 29,
>>>>>>> 0ab2ba9f0a156c0bfa6d3ed43d1d8d386558c409
   "id": "34d8e032",
   "metadata": {},
   "outputs": [
    {
     "data": {
      "text/plain": [
       "[(1, 5), (2, 6), (3, 7), (4, 8)]"
      ]
     },
<<<<<<< HEAD
     "execution_count": 28,
=======
     "execution_count": 29,
>>>>>>> 0ab2ba9f0a156c0bfa6d3ed43d1d8d386558c409
     "metadata": {},
     "output_type": "execute_result"
    }
   ],
   "source": [
    "list(zip(xx,yy))"
   ]
  },
  {
   "cell_type": "code",
<<<<<<< HEAD
   "execution_count": 29,
=======
   "execution_count": 32,
>>>>>>> 0ab2ba9f0a156c0bfa6d3ed43d1d8d386558c409
   "id": "f170e245",
   "metadata": {},
   "outputs": [],
   "source": [
    "Z = clf.predict(list(zip(X,Y)))"
   ]
  },
  {
   "cell_type": "code",
<<<<<<< HEAD
   "execution_count": 30,
=======
   "execution_count": 31,
>>>>>>> 0ab2ba9f0a156c0bfa6d3ed43d1d8d386558c409
   "id": "a503f9a0",
   "metadata": {},
   "outputs": [
    {
     "data": {
      "text/plain": [
       "array([2, 2, 2, 2, 2, 2, 2, 2, 2, 2, 2, 2, 2, 2, 2, 2, 2, 2, 2, 2, 2, 2,\n",
       "       2, 2, 2, 2, 2, 2, 2, 2, 2, 2, 2, 2, 2, 2, 2, 2, 2, 2, 2, 2, 2, 2,\n",
       "       2, 2, 2, 2, 2, 2, 2, 2, 2, 2, 2, 2, 2, 2, 2, 2, 2, 2, 2, 2, 2, 2,\n",
       "       2, 2, 2, 2, 2, 2, 2, 2, 2, 2, 2, 2, 2, 2, 2, 2, 2, 2, 2, 2, 2, 2,\n",
       "       2, 2, 2, 2, 2, 2, 2, 2, 2, 2, 2, 2, 2, 2, 2, 2, 2, 2, 2, 2, 2, 2,\n",
       "       2, 2, 2, 2, 2, 2, 2, 2, 2, 2, 2, 2, 2, 2, 2, 2, 2, 2, 2, 2, 2, 2,\n",
       "       2, 2, 2, 2, 2, 2, 2, 2, 2, 2, 2, 2, 2, 2, 2, 2, 2, 2, 2, 2, 2, 2,\n",
       "       2, 2, 2, 2, 2, 2, 2, 2, 2, 2, 2, 2, 2, 2, 2, 2, 2, 2, 2, 2, 2, 2,\n",
       "       2, 2, 2, 2, 1, 1, 2, 2, 2, 2, 2, 2, 2, 2, 2, 2, 2, 2, 2, 2, 2, 2,\n",
       "       2, 2, 2, 2, 2, 2, 2, 2, 2, 2, 2, 2, 1, 1, 1, 1, 2, 2, 2, 2, 2, 2,\n",
       "       2, 2, 2, 2, 2, 2, 2, 2, 2, 2, 2, 2, 2, 2, 2, 2, 2, 2, 2, 2, 1, 1,\n",
       "       1, 1, 1, 1, 2, 2, 2, 2, 2, 2, 2, 2, 2, 2, 2, 2, 2, 2, 2, 2, 2, 2,\n",
       "       2, 2, 2, 2, 2, 2, 1, 1, 1, 1, 1, 1, 1, 1, 2, 2, 2, 2, 2, 2, 2, 2,\n",
       "       2, 2, 2, 2, 2, 2, 2, 2, 2, 2, 2, 2, 2, 2, 1, 1, 1, 1, 1, 1, 1, 1,\n",
       "       1, 2, 2, 2, 2, 2, 2, 2, 2, 2, 2, 2, 2, 2, 2, 2, 2, 2, 2, 2, 2, 2,\n",
       "       1, 1, 1, 1, 1, 1, 1, 1, 1, 1, 1, 2, 2, 2, 2, 2, 2, 2, 2, 2, 2, 2,\n",
       "       2, 2, 2, 2, 2, 2, 2, 2, 1, 1, 1, 1, 1, 1, 1, 1, 1, 1, 1, 1, 1, 2,\n",
       "       2, 2, 2, 2, 2, 2, 2, 2, 2, 2, 2, 2, 2, 2, 2, 2, 1, 1, 1, 1, 1, 1,\n",
       "       1, 1, 1, 1, 1, 1, 1, 1, 1, 2, 2, 2, 2, 2, 2, 2, 2, 2, 2, 2, 2, 2,\n",
       "       2, 2, 1, 1, 1, 1, 1, 1, 1, 1, 1, 1, 1, 1, 1, 1, 1, 1, 1, 2, 2, 2,\n",
       "       2, 2, 2, 2, 2, 2, 2, 2, 2, 2, 1, 1, 1, 1, 1, 1, 1, 1, 1, 1, 1, 1,\n",
       "       1, 1, 1, 1, 1, 1, 2, 2, 2, 2, 2, 2, 2, 2, 2, 2, 2, 2, 1, 1, 1, 1,\n",
       "       1, 1, 1, 1, 1, 1, 1, 1, 1, 1, 1, 1, 1, 1, 1, 1, 2, 2, 2, 2, 2, 2,\n",
       "       2, 2, 2, 2, 1, 1, 1, 1, 1, 1, 1, 1, 1, 1, 1, 1, 1, 1, 1, 1, 1, 1,\n",
       "       1, 1, 1, 1, 2, 2, 2, 2, 2, 2, 2, 2, 1, 1, 1, 1, 1, 1, 1, 1, 1, 1,\n",
       "       1, 1, 1, 1, 1, 1, 1, 1, 1, 1, 1, 1, 1, 2, 2, 2, 2, 2, 2, 2, 1, 1,\n",
       "       1, 1, 1, 1, 1, 1, 1, 1, 1, 1, 1, 1, 1, 1, 1, 1, 1, 1, 1, 1, 1, 1,\n",
       "       1, 2, 2, 2, 2, 2, 1, 1, 1, 1, 1, 1, 1, 1, 1, 1, 1, 1, 1, 1, 1, 1,\n",
       "       1, 1, 1, 1, 1, 1, 1, 1, 1, 1, 2, 2, 2, 2, 1, 1, 1, 1, 1, 1, 1, 1,\n",
       "       1, 1, 1, 1, 1, 1, 1, 1, 1, 1, 1, 1, 1, 1, 1, 1, 1, 1, 1, 1, 2, 2,\n",
       "       1, 1, 1, 1, 1, 1, 1, 1, 1, 1, 1, 1, 1, 1, 1, 1, 1, 1, 1, 1, 1, 1,\n",
       "       1, 1, 1, 1, 1, 1, 1, 1, 1, 1, 1, 1, 1, 1, 1, 1, 1, 1, 1, 1, 1, 1,\n",
       "       1, 1, 1, 1, 1, 1, 1, 1, 1, 1, 1, 1, 1, 1, 1, 1, 1, 1, 1, 1, 1, 1,\n",
       "       1, 1, 1, 1, 1, 1, 1, 1, 1, 1, 1, 1, 1, 1, 1, 1, 1, 1, 1, 1, 1, 1,\n",
       "       1, 1, 1, 1, 1, 1, 1, 1, 1, 1, 1, 1, 1, 1, 1, 1, 1, 1, 1, 1, 1, 1,\n",
       "       1, 1, 1, 1, 1, 1, 1, 1, 1, 1, 1, 1, 1, 1, 1, 1, 1, 1, 1, 1, 1, 1,\n",
       "       1, 1, 1, 1, 1, 1, 1, 1, 1, 1, 1, 1, 1, 1, 1, 1, 1, 1, 1, 1, 1, 1,\n",
       "       1, 1, 1, 1, 1, 1, 1, 1, 1, 1, 1, 1, 1, 1, 1, 1, 1, 1, 1, 1, 1, 1,\n",
       "       1, 1, 1, 1, 1, 1, 1, 1, 1, 1, 1, 1, 1, 1, 1, 1, 1, 1, 1, 1, 1, 1,\n",
       "       1, 1, 1, 1, 1, 1, 1, 1, 1, 1, 1, 1, 1, 1, 1, 1, 1, 1, 1, 1, 1, 1,\n",
       "       1, 1, 1, 1, 1, 1, 1, 1, 1, 1, 1, 1, 1, 1, 1, 1, 1, 1, 1, 1])"
      ]
     },
<<<<<<< HEAD
     "execution_count": 30,
=======
     "execution_count": 31,
>>>>>>> 0ab2ba9f0a156c0bfa6d3ed43d1d8d386558c409
     "metadata": {},
     "output_type": "execute_result"
    }
   ],
   "source": [
    "Z"
   ]
  },
  {
   "cell_type": "code",
<<<<<<< HEAD
   "execution_count": 31,
=======
   "execution_count": 37,
>>>>>>> 0ab2ba9f0a156c0bfa6d3ed43d1d8d386558c409
   "id": "cb1135f8",
   "metadata": {},
   "outputs": [
    {
     "data": {
      "text/plain": [
       "<matplotlib.collections.PathCollection at 0x1fae9819af0>"
      ]
     },
     "execution_count": 31,
     "metadata": {},
     "output_type": "execute_result"
    },
    {
     "data": {
      "image/png": "iVBORw0KGgoAAAANSUhEUgAAAXIAAAD4CAYAAADxeG0DAAAAOXRFWHRTb2Z0d2FyZQBNYXRwbG90bGliIHZlcnNpb24zLjQuMywgaHR0cHM6Ly9tYXRwbG90bGliLm9yZy/MnkTPAAAACXBIWXMAAAsTAAALEwEAmpwYAAEAAElEQVR4nOy9dZTbRvv+fclsL2Ngw8y4YWZmZsaG07RhThpqmBuGhpmZmZk5G9osk1nvH7JHGkuzTZ/mPb98z8l9zvM0luXP3iPJo7HmmuvmeJ7Hz/gZP+Nn/Iz/u6H6f53Az/gZP+Nn/Iz/Fj878p/xM37Gz/g/Hj878p/xM37Gz/g/Hj878p/xM37Gz/g/Hj878p/xM37Gz/g/Hpr/F380ODiYz5Ily/+LP/0zfsbP+Bn/Z+PGjRtfeZ4P8dz+/6Qjz5IlC65fv/7/4k//jJ/xM37G/9ngOO6N0vafj1Z+xs/4GT/j/3j87Mh/xs/4GT/j/3j87Mh/xs/4GT/j/3j87Mh/xs/4GT/j/3j8P5ns/Ldhs9pwfP1ZHPzrOFISzQivXQTNBtVHSIYg2b6vH7zD1pl78PjqcwSl80ejfnVQrnFJcBxH7We12HB83RkcXHEC5iQzStYtiqYD6yE4TM58df8tts7cgyfXXiAonT8a96+Lso1KKDKPrT2NgytOwJJsQcm6xdB0UD0Epw+UM++9wdZZewVm+gA0GVAXZRqEy5lmK46uPYNDKwVmqXrF0WRgXUXmy7sC8+n1FwgOC0STAXVRun5xReaRNadxeNVJWJItKN2gOJoMqIegdAEy5os7r7F15l48u/kSwWGBaDqwHkrVKyZjWlIsOLrmNA6tOgmb2eZi1kVgWjnz+e1X2DpzL57feoWQDEFoOrAuStZVZh5ZfRqHVwvMMg3D0WRAXQSk8Zczb73C1pl78Pz2a4RmDEKTgfVQsk5RGdOcbMGR1SdxZM1p2Mw2lG1UAo3711FkPrv5Eltn7sGLO28QmjEIzQbXR3itIorMw6tO4uiaU7BZ7CjXuAQa9a+LgFA/GfPpjRfYNmsvXtx5gzSZg9F0UH2UqFVEtl9KkhmHV53EsbWnYbPaUa5JKTTuVxv+IXLmk+svsG3WHry8+xZpsoSg2aD6CK9ZWJm58gSOrj0Dh82Bck1LotEvDOa159g6cw9e3X+HNFlC0HxwfRSvocBMTMGhlSdxbN0ZOOwOlG9aCo1+qQ2/YF/Zvo+vPsO2WXvx6v47pM0aiuaD66NY9UKKzIN/HcfxDWfhsDtRoVlpNPqlNnyDfGT7PrryDFtn7sGbh++RLlsomg1ugGLVCsr2S04QmU6HExWbl0bDvsrMh5efYtusvS5mGjQfUh9FqyozDyw/hhMbz8HpdKJSizJo0KcWfAMVmJeeYOusvXj7KALps6dBi6ENUbhyftl+/2tw/y9Ms8LDw/lvVa1YzVYMrTIer+69hSXZAgDQ6DTQGbSYe24SshbMTPa9vP8GJreeDZvFDqfDCQAweOlRoVlpDFv9C/kCWs1WDKk0Fq8fvKeYeqMOc85NQtYCmQjz4t5rmNp2roxZqUUZDF3ZlzAtKRYMqTQObx6KTK1OA51Rh7nnJyNL/oyEeWH3VfzRbh5sVppZpXV5DF7eizDNyRYMqTgGbx9/oJkmHeZdmILMeTMQ5rkdlzG90wJZnlXbVcCgJT0p5qDyo/H+6QdYkq0CU6+B3qjHvItTkClPGGGe2XYJM7sshM1sg9PJE2b1DpUwcHEPsl9KkhmDyo9GxLNPYp56DfQmPRZcmooMudKTfU9vuYBZXRfDZqGZtTpXQb8F3URmYgoGlhuNDy8+UXkaTAbMvzwVGXKmI/ue3HQOs7svlTFrd62KX+Z1pZj9y4zCp1efJUwtDF56LLg8FWE5ROaJv89hTo+lsFps4CXMej2ro/efncl+yQkp6F96JD6/+UIzvfVYdGUa0mVLQ/Y9tv4M5vVeLmPW710TvWZ2JPslxSejf+mR+PImEpYUkWn0NmDh1T+QLqvIPLLmFBb0WwGrmWY27FsLPaZ3EJlxSehXeiQi334lTJ3BzZyGtFlCyb6HVp3Aov6rBCYvMhv3r4NuU9uR/RJjk9Cv1Ah8fR9FM32MWHR1GtJkFlVyB1ccx+JBq2FNkTBNejQZVBddJ7cl+yXEJKJfqRGIioimmCZfExZdm4bQjMFk3/3Lj2Hp4DVUnnqTHs2H1kfnCa3JfvHRCehXcgSiP8aIx9OghbefCYuuTacGhPuWHsGyX9dReepNerQc1hAdx7UUmVEJ+KXEcER/joVVkqeXvxcWX5tGDQj3LDqEv37fAGuKFe7uVm/So83wxmg3ujn+TXAcd4Pn+XDP7T/8o5X9y47h1d03pIMAALvVjuT4FEzrsIBss1ps+KP9PFiSraQjAwBzkgXndlzGrZP3ybY9iw7j9f13MmZSXDKmd5QwzVZM6zBfkXlm2yXcOf1AZC48jNcPaKbNakdyfDJmdF5IMad3WgBLipx5avN53Dv3iGzbPf8g3jyKkDPjkjGz8yLxs8kWzOi8UDHPkxvO4cGFx2Tbzrn78e5xBOl0AMBmEdo+qwvNnNV1kcB08hTz+PozeHjpCdm2Y/Y+vH/ygc7TYkdSbDJmdV1MtqUkpmBWtyVC2z2Yh1efwqMrz8i2rbP2IuLZR1meibFJ+LO7yExOSMHsHksVmYdWnsSTa8/Jti3Td+PD808eTBsSY5Mwp+cysi0pPhlzXEzeg7l/2TE8u/mSbNv0x058fPlZzoxJwuyeS0VmXBLm9l6uyNy3+Aie335Ftv09Zadws0nxZCZibq/lZFtibBLm910BS7KcuWfhYby8KyrVNkzegc+vv1BMq9mGhOhEzO/zF9kWH52Ahf1WCnnyNHPXvIN4df8t2bZ+4jZ8ltxsKOYvEmZUAhYOWCXkKWUmW7BjzgG8efiObFs3fit1s3Ez46MSsKDfSrIt7ms8lgxaLcvTkmzBtln78O5JBNm2duwWREpuNgBgM9sQ9zUBC/uLzJgvcVg6ZK0sT0uyBVum78b7Zx/JttWjN+FrRBTpxN15xkXGY9HA1WRb9KcYLB+23sUExfx76k58ePEJ3yN++I5839Kj1AmQxvtnH/Hp9RcAwK3jd5kMc5IFB1ccJ68PLD/OZL57HIEvbyMBADeO3QXAKe5nSbbg4IoT5PX+Zceok+oOngfePHiHyPdRAIBrh2+DS4V5aKXIPLCczXx59w2iPsaITJXyqbSkWHFo5UkJ8zisZpsCk8fz268Q8zkWAHDlwE1wKlaeVjrPv04wmU9vvERsZBxhqtTKTKvZisOrxDwPrTjJZD6+8hzxUQkAhF9hKkbbbWYrDq8WmQdXnoTNosB08nhw8QniowXmpb3XoVIzmBY7jqw5RV4fXnWKybx//jESY5MAABf3XIeaybThqIR5ZPVJ2Cx22X5OJ4+7Zx8iKT4ZAHB+11Xm8bRZ7Ti69rSEeYrJvHXqPlISUwAAF3ZdZbfdasexdSLz6NrTsFsVmA4nbh67B7Prxn5ux2XmOXLY7Di27gx5fWzdGdgYzOtHbsOSIjDPbr/MvD4dNgeOrz9LXh9ff5aZ59VDt2B1nb9z2y/LHpsRpt2JExvEPI9vOAu7zaHIvLzvOmxWgXl222VFnnvf4xvPMt//N/HDd+TJccnM9zRaNfmiJMYmI7XHRHFf4sm/k1JhqrVq8n5ibBLAYPK8MCogecZ/O9PpdCrux/NArCTP5IQUJlOjE9ueFJsEnsnkERf5bUy1VkPyTIpNAu9gtZ1HXGQCeZ2SGlOjkrQ9mfrFQDGdPOnwAZCORSk0WjXpzJJik+BwyL9QgNBJUXkmmlPJU42UBLMrzyQ47Aymw0mdo9SZKnK8E2OTFL/47jxjJXmakyyK+wGASq0ifzMpNgkOFtPhpM57qkwVR5iJscmw2+SdnpsZ+41MTgWYk1x5xiUrdqSA0EHGRX1b2wGQXz5JsUmpMB3Ud9Oc/E9M4f3E2CTFm7LIFPNkDQQB4XvsHoQITOU87TYH4r8mpprbt8YP35HnL5ebeed1OpzImFt4/pq7ZA7mRa0z6lC8hjipkq9MLuadl+eBMNfz1zwlczC/0HqjjppUyVsmNxhIgAfSZxeea+YtnYv6GUwxTToUqy5hls7FZHLgyPPXPKVyUo8VPJlFJcw8JXMykhS+0GmyhLj+dk7wUGYaTHoUrVZAwszBZKo1avKsNG9p9t82eOmpia9c4dmZ+2q0GvKsVDhGygfJ4KVH0apinrmKZ2MydQYtgsMCCZM1Kv03TL1Rj6D0wmRvnlI5mSNyg5eBYuYompXJNHrpEZDGz5VnTqi1auX9vA0oXEXKzMJkmnxN8A8VmRqtsgbC6G1A0SritZS9MJvpHeBNJhLzlMoJrZ7NLFxJnPTLVjiz4n4A4BfkA59Ab1eeuaAz6JjMQhJm1oKZFPcDAP8QX3j7e5E8dSY9m1kxH3mdpUBGxf0AIDCdP0w+RleeOWHwYjB9DChYIS+T82/ih+/I245qBp1BK9uuN+nRdGA96I3CQcqQMx2KViuouK9Wr0Gd7tXI6/ZjmkNnVGY2G1yPXCAZc4ehcOX8MibHCZNPdbqJzA5jmyteWAYvPVr82pC8lylPGApUyAstg1m7a1UJswV0RjnTPfmi0wuMLPkzIn/ZXNDq5UydQYdanauQbR3Ht4RegWkw6dH698bQ6gRG1oKZFb+AHMdBZ9SiZqfKNNOknGebEU1Ix5C9cBbkCs+ukCcHnUGH6u0rkm2dJrRi5tlmZFOoNUIHlqNoVuQslk2ep4qD3qhHNQmz88TWinkavPRoN7oZYeYOz45shTJDq5MzDSZhApnkOZGdZ/sxzaFWC8w8JXMgS8FM0CgxvfSo0qa8mOek1opMvUmP9mNbEGbe0rmQKW8GGVOl4mDwMqBK67ISZhvltpv06Di+BXn0kb9sbmTME6bINPoYUallGbKty2Tl46k36dFxfEvCLFghL8JypoNGR990VGoVTL5GVGxeWsJUzlNv0qPTpFbkpl2oUj6ky54GGq2c6eVvQvmmpb6J2XlSa8IsWrUA0mYJUWR6B3ihXJOSZFu3KW0ZTB3NrFYQoZmCZTdclVoFnwBvlGtcQsb4X+KH78hzFMmKoSv6UB0ap+JQpkFxdJrYitp39JYhyF4kC/VY2yfQG9OPjKHkUDmLZcPg5b2oDppTcSjbuAQ1Mw0AY7YNRbZCmSmmd6A3ph8bQ0mXchXPjkHLelEdtMAsiXajm1HMcduHIltBmukT5IOZx8fCJ8CbbMtdIgcGLO5JdXycikOFZqXQdhTNHL/zN2HkIWH6BvlgxvGxZMQBAHlL5US/Rd1lzIotyqD18CYUc+Lu35Elvwcz2AczToyDl5/IzFcmN/rN70p1ppyKQ5XWZdFyWCOaued3ZM4XRjH9Qnww69R4ePmayLYC5fKgz9wuVIfCqThUaVsOLYY2oJiT9g5HpjwZPJi+mHV6HBkZAUKH0uvPTjJm1XYV0HRgPYo55cBIZMhD5+kf6odZp8fD6GUg2wpXyo9eszpQTJWKQ/WOFdG4fx3x73Acph4ciQy50lHMgFA//Hl6AgySkWCRKgXQY0Z7GbNmp8po9EttivnH4VGCgkeaZxp/zD4zgQxyAKBYtYLo9kc7qpNSqTjU7lYV9XvV9GCORliOtHSeaf0x+/QEarBSvEZhdJ7UmmaqVajbvRrq9ahOMacfHYP02WlmYFp/zD4zkWKWqFUEnSa2ojo+lVqF+r1qoE7XahRzxrGxSOfBDErnj9mnJ5JBDgCUqlsMHce1lDEb9KlJDXI4jsOM4+OQNmsozUwfgNlnJpBBDgCUqldcuFF7MBv1q4OaHStLjrEKM0+OR9osIRQzOCwQf56ZwPz182/jh+/I477GY9mv66jndryTx6W913H9yB1q372Lj+Dl3beQPhEwJ5mxoN8K6vOxkXFYPmwD9cySd/K4uOsqbhz1YC46jFf339HMRDMW9FtJPXaJ+RKH5b+tpx7v8E4eF3Zdwc3j9yjmbpfC5R+Zn2Ox4vf11DbeyePc9su4dYJm7pp3AG8evqeYKYlmLOy/knqGHP0pBit/3wCHnT6eZ7ZdxO1T96VI7JizH28fR8iZ/Whm1McYrBjxtyzPU5sv4O6ZhzRz9n68f/KRYiYnCHlK5w6+RkRh1Sg58+TfFyhlDwBs+3OvoCiQMuNTsLD/KooZ+T4Ka0ZvljFPbDiL++cfS5HYMkNQuFDMuGQsGriaYn559xWrx2yhmE4nj2PrzuLBxSdSJDZP24VPL79QzKS4ZCwetJqa3/nyNhJrx22FQ3LNOp08jq49jUeXn1LMTX/sEib8pczYJBnz85tIrBu/VZbnoZUn8fjqcykSf0/Zgc+vIylmYkwSFg+mmR9ffcbGSTtopsOJQytOUGohANgwaTs+v/lKMROiE7Fk8Bqa+fIzNk7eAacH88DyY3hy/QXFXD9hGyLf0sz46EQsHbqWYkY8/4i/p+6UMfcvPUopkABBNfP1fTTNjErA0qHrKOb7Zx+xedpuWdv3LjqC57deSZFYM3YzvkbEUMy4r/H4a9gGfK/44Tvy7bP3IT4qAU47PUlmSbFibu9l5OAmxSVh7dgtlAQOEFQGbx5G4MKuq2Tb1pl7kRCVIJt4E5jLCTMhJhHrxm9VZL5+8A4XdovMLTN2IyE6Uc5MtmKehBkfnYANE7fJmFazDS/vvcWlfaK+fvN0BtMjz/ioBGycslOR+eLOG1zZf5Ns2zR1lzDh6jGRaUmmmbGRcdg8bZecmWLF89uvce3QbbLt7yk72Mw+olwu5kscts7cI5t8sqZY8fTGS1w7LDI3TNqBpNhk2XyCJdmCeRJm9KcYbJu1TzHPJ9deUDfm9RO3ISkuSYFppeRyUR9jsGPOARnTkmLFo8vPqJvo+glbkRyvnKeU+TUiCrvmH5K13ZJixYMLjyl57JqxW5AUlyybZxeYK8jrL+++Ys/Cw7IJQkuKFffOPaJuoqvHbEZyfIoic0E/kfn5TST2Lz2qmOfdMw+pm+jq0ZuEtnswzckWStb38dVnQSmmwLx96j4lj1058m+kKORpTrJg0QAJ8+VnHFp5Qp5nshU3j9+lbngrR/yN5AQWcxV5/f7ZRxxdc0qReePIHeqGt2L4BmEiW8Y0Y9FACfPpBxxff1be9mQrrhy8Kbvh/a/xw3fkpzZdYM76JkQn4t2TDwAEqaDnMzh3mJPMOLZelA6d3nxBUeIEAHFfExDh0ovePHaXOZlkTjTjxMZz5PWZLReZs+gxX2Lx8eVnIc+jd6Fm/JwSmKIc6fSWC0ylQ/THGCK9vHb4tuy5Hot5ZttFJvPr+yhEvvtKmO5nxorMv8W2n912iTnR/OVNJJFeXj14E6pUmCf/Pk9en9txmTnR/PHlF3z9EO1i3oJao3wZmxPNOLn5Anl9fscVOOzKqpmIZ58o6WVqzFMS5rlUmO8efyBKnMv72dJLc5IFp7eIzAu7rzLVPW8evifSyyv7b0DFlIjSzIt72MxXd98gIUZQT1zadx2sGXZLsgWnt14kry/tvc6cZH9+6zVRFl3ed4M5aW9JtuLMtkvk9eV9bObTGy+JCujS3ussQZmcuf8GU2Dw+OpzpLjUNam1x5JixbkdIvPKgZtM5sNLT4lM8uKea9QvAWlYzVac28GWJ/6b+OE7ctaXGRCeabnfd9idsrujNKSdl4NxQQPCM1OR6fgHpthxs77M8jwdTEkjANitkp9qqTFVHPmbDruDqTAR8vw3bXcznanKOR2Sm1aqTNk5Si1PyaOEf8jTKTmeqS1O/vY8QZ0j1pcUAHXDZklJ3XlS5yg15re2nRPbkdo54nmPPFNhguPI+067k5nnv2F6fo/YTJ5ueyrHU/o3hfPOltw6qEex/4KZWp5W6SO51M+R+4aQ6veI52FPpX/7N/HDd+RlG5Vgjoq1ei0y5RWWlBepkh82hv7V4KVH5ZbiDH6ZBuHM0abeqEMGl6SxSNUCzNGrwcuAis3FGfzSDYozR3FGbwORNBapWoB5czJ4G1CxhcgsVb84UwZn8jESSWPRagXhsClfWAZvOs9SdYsxmd7+XkR+WKx6QeYX1ehtQPlmotKgZCpMnyBvIj8sXqMQszM1ehtQUcIsUbsIc7TpH+yLEJf8sFiNQswvldHbQKkXStQuwpSyBqTxR5DLv6Z4jULML58nM7xmYSYzOH0gAtP6C0wF7xN3GLwNKN9YZBavUZgpqQzJGAz/EF8XsxBz9Gz0NqBsY1FlUax6IeaoOG3WUCIGKF6rMPO4G70NKCdhFq1WkMlMly0N8RwJr1UEHOP6MHobULahqNwoIpE3ekaGXOnIxH14rcLM77DR24AyEmZqniaZ8oaRSfbwWoWZv+oN3gaUbiCujJfKGz0jS4FMZEJcYMoVcgCg9zKgdL3iTM6/iR++I2/1e2MYvPSyC1tv0qHnzA5EihWQxh8NetWQaTY1WjX8Q/1QuXU5sq3NiCbfxAxMG4C6PapBb5IzA9L4oXIr8ebQdmRT6E162YWtN+nQc1ZHIsUKTh+IWl2rKjKD0vqjkqQjbzeqmStPObPX7E6EGZIhCDU7V5YzdRoEpw9ABYm8q/2Y5rL93Mw+szsTZmjGYFRvX1EmsdLoNAgOC0SFZmLH02Esm9l3ThdynNNkDkHVNuUV8wzJGISyEimWIGlUYBp16D2nM2Gmy5oGlVqVle2r1WkQmjkEZRuJzE4TWlLqECmzj4SZPntaVGxRRtZ2rV6DtFlDUUbyhe40sTUzz75zxbZnyJkO5ZuWUmSmz5YGpeoVI9s6T0qFKckzY+4wlG0YrszMkRYl6xYl2wQJngGe4Wa6I3PeDChVr7gCU4sMudIhvJZ4Q+o6pW2qbXdHlvwZUbJOUZmkUqvXImOeMOom1+2Ptsxz1HeOyMxaMDPCaxaWMXUGLTLny4CikjUe3ae1Z19Ls8W25yiSFUWrFVJkZi2QkdL6d5/Wjs38sxN5nbNYNhSpkl+Rmb1w5u9mnPXDd+ShGYPx68q+VAfNqThUbl2Okg4BQI8ZHWQLSXwCvTF+12/UxZEmcwiGruwDvQezatsKlHQIAHrN6ihb9OET6I0Ju4dR8q60WUIxdEUf6uRyKg7V2ldE9XYVqc/3md0JOYvRiz58g3wwftdvlBQrXbY0GLysl4xZo2MlVG1dnvp837mdZYs+CFMixUqfPS0GLe0hY9bsXBmVJL9aAOCXBV2R3WOBhl+wD8bvGkZJscJypMPAxTRTpVahTrdqqCAZZQNAv4XdkM1jgYZ/iC8m7PqNYmbIlR79F3WnOhSVWoW6PaujgmREDAADFveQLdDwC/XDhF3DKHlXxtxh6LegG/WlUqlVqNe7BjXSBICBS3tSRmeAID8cv2sYNRLMnDcD+s3rQsljVWoVGvSthdL16dHWoGW9kElidAYIAxBPZpb8GdF3bmdKHitI22qjlMcIbsiKPsiYO4zaFpA2ABN2DSMDEgDIWiATes/uRMljVWoVGg+oixK1i1KfH7qyN2V0BgiLXMbtpJnZCmVGr1kdaaZGhaaD5e6Lv67qg7Bc6ahtQekCMHb7UGr5fvbCWdBzZgdKHqvWqNB8aAOZU+KwNb8gfU6aGZg+AGO3/0oxcxTNiu7T2lHyWLVGhRbDGsmcEn9b2w/psqehtgWFBWLc9l+pgV+u4tnR7Y+2Hkw1Wv3eGEUkC7EA4Pf1A5A2Wyi1LTgsEGO3DmH+8vq38cN35B9efMKMzguppdC8k8fpzRexe+FBat95ff7Ck2u0RCnuawJG1Z1CLU1//+wjZnZeBLMH8+Tf57F38WHq83N6LsPTG3LmiDpTqWXk759+wMyuiykFgSBtO4f9y45Sn5/dfalM9hQbGY8RdSaTiRcAePs4An92XypjHlt3lvKOAYBZXZfIZE9xkXEYUXsKNQv/5uE7zOm5jJpF5528y4L2BPX5mZ0X4cVtukRg7Jd4jKgzhUzmAIJ18NzeNNPpcOLQyhM4svYU9fkZnRZSZk4AEPM5DsNrT4bVLC57fnXvDeb1+Ysyo3I6nDj413Fq4hoAprdfgNf33lLbYj7HYnitycRHAxD8aeb/soJaXu10OHFg2TFq8hYA/mg7T5CdSpmfYjGi1mTiowEIlrwL+q+iPHGcDif2LTmCk5vPU5+f2mauIBGVRNTHGAz3YD67+RKLBq6ivGacDif2LDqMM5LJRgCY3GoO3j6KoLZFf4jG8FqTqWfPT2+8wJLBa2DzYO6ef1A24Tap5Ry8e0wzoyKiMaL2FOqx4OOrz7B06FqaaXdi55z9OL/rCs1sMRvvXcIEd3z9EI2RdaZSzEdXnmHZsHXUUnmH3Ynts/fh4t5r1OcnNPsTEU89mO+jMbLuFEoe+/DSE6z4fQMlmnDYndg2cw8u779BtvE8jwlNZwqyU0lEvovCiDo08/6Fx1g5fKMH04Et03fjysGbFHNc4+n48OKzjDmy3h//OCfwrfHdOnKO49Qcx93iOG7/92ICwKapO6kvszssyRasGbOFXKxfI6JwYuM5mczH6XAiMTaZ+vL/PWWHoleCJdmC1WM2E+aXd19xestF2d93OpxIik2ijHk2TN6haHBlSbZg1ahN5GL98jYSZ7ZfUmQmxiThpEQJs2HSNlhT6Pa4mStH/E0urI+vPuP8zisypsPuREJ0Ak5tEjuU9RO3M9pupZkvP+PinmuyfR12B+KjEnF6i9ihrJuwlc0cvpFcrBHPP+LK/huKzLivCTizVVQFrB2/lXE8rVjx+wbCfP/0A64euiln2hyIjYzHWYl6Yc3YzYzjacVfv60nzLePI3D96B3Z37fbHIj5HIdzO8ROas2Y1JnuZ+2vH7zDzRP3ZEyHzYHoT7GUPHb16M2Ma96K5RLmq3tvcOfUfeoG6M4z6kMMLu4RO75VozbJvhuAoMZYPkzUSL+48xr3zj6UGZbZbQ58fR+Fi3tFeazAVMgzxYplv4rM57de4f6Fx3Km1Y7Id1+pznTlyI3MtkuZT2+8wMNLTxWZn19H4urBW2TbiuEbla/PFCuW/bqWvH5y7TmeXHuuyPz06guuS+SxK4ZvSIW5jrx+dOUZnt14Sd3sAMGA7MPzT7J1K/9rfM8R+UAAj/5xr38Z147cZk66OZ1OMhq5e/YRc6LCkmzBRYnm+8bRO0ymw+bA+6eC/PDe2UdsWV+Shbqobxxl52m32okF5p3TD6FhSfA8mDeP3WPKoawWGxk53D3zkC2XS7LgkoR568Rd5sy8JdmCT68ESePtU/eZE5jmRDMuSUZHt07cYzKTE8zC4hIAd049YLo0ejJvn7zPnHBMiktG5LsoV54PmD9PzYlmqpO4c+oBU+GSEJOErxHR5G+zfvCmeDLPPGQy478mIMolk7x96j5TsWNONOPKAXEUd/fsQ8X9AOHXi1smeevkfeb1keLB9FxEJY2oj7HEDOv2yfvMUWJKohlXD4pt91xEJY2vEdFIiE4kebIm+FMSzbh2WOx0H5x/orgfIEhZ3UZxt07cZ5p7pSSacfWQyHx46anifgDw8dUXJMUJzNsn7zNNs1ISzbh25DZ5/ejyM8X9AODD84/k1/qtE/cUXTzdzOsS5n+J79KRcxyXAUA9ACv+ad9/G56+HNJwOnjybFJn0Kb6vMkgWVadKtPpJM8mdQYtUxUgMMXnoqnnSTNTy9MoeW7PMhoSme6265jKCQDUXABrBl2RmUqe0okzT08ST6b7GarWoGUqIgBBGfBNTKeTHBudQctsO8eBmlvx9A+RBu95jr6RmXqePHU8WVauHMfReTIGD4Age3NfazqDjqlN5ziOPu//wNRJjiczT5eHC2EyBk6A8EjBfby1eg1UauV9ORVHza2kzhTPoc6gZZqQqVQcjN7f1nbwIOs6hOOpvK/KI0+WYkYIjryvM+jYeapVihOm/0t8rxH5XAC/AWA+8OE4rifHcdc5jrseGRn5zeCanSorGmEBgldDWI60AFzSNobu2uBtoCZGq3esxOx4g9IHElfB4jULM8X8Bm8DanYSmTU6VGJ2vCGZgklVl/DaRZjaUYO3ATUkZlTVO1RkMtNmCSGyvhK1i6QqP6zZsRJ5Xa1dBWbnky57WlItpWTdomyZpJcBNTuJzKrtKjA7yQy505OydKXqFUtVelm9g8is0rY8k5kpbwZSQk5gKrddb9JTRlxV25RnfqmzFMxESp6VblCc+evKk1mldTkmM3vhLMSPp0yD4kzppd6kQzWJEVflVuWYHUWOYtmIH0/ZRuGpul5WlzArtSzLZOYukYN455RpVILNNOpQta3IrNi8DJOZt1RO4nNTrnFJ5i82nUGHqhLDsArNSiv+EuQ4wQnVLesr16Qk85eQ1qBFFYkYoHzTUkxmwYp5iRCiXJOSzHGbwBSVb+WblmQyBaM9HdmPNSjQ6jSo3Kqc4nv/Nv5zR85xXH0AX3iev5HafjzPL+d5Ppzn+fCQkJDUdqWi6cC6CEofSBsyccLdcejKPmTUaPQ2os+cTrI7nN6kQ54SOVCqvijvaj64PoLSBygzV4hMk48RvWcrM/OVzknJu5oPbYDAtAEy4yi9SY+hf/Um27x8Teg1q6NM3qU36VCgXG6UqF2EbGvxa0MEpPWnOl43c8hffcg2b38v9Jgul0PpTToULJ+Hkne1/r0x/NP4yYyjDF56DFnei2zzCfBGtz+UmYUq5aPkXW2GN4F/qO8/Mn0DfdBlShsFph5FqhSg5F1tRzaFf4gyc/AykekX7ItOE1vJJGt6k2CLK5V3tR3dDH5KTG8DBi7pSbb5h/gpyh/1Jj3CaxWhrEfbj2kO3yAfmcGVwBTL4QWk8UeHsc1leRq89ChRuyjyl8tDtnUc3wK+Qd4yMyqjBzMwbQDauWSvnsxS9Yohb+lcZFunCa3gE+gtM3ky+hgwQFK2Lzh9INqMaCyT8Rq89CjTsARlWdx5Yiv4BHgpMxd1J9tCMgSh1W+NFJnlm5RE7hIis+uUNvAJ8MyTg8HbiP4LRWZoxmC0+LWBIrNi8zLIWUxUmnWd2hbesjwFN8d+88VSgGkyh6DpoHqKzMqtyiFHEVFp1v2PdvD2N1E3MqHtRvSdJ8ok02VNg8b96ygyq7arIBjyfYf4HiPycgAachz3GsBmAFU5jvtubjBefl5oN7qZcEd339g4YcFKAcnFDwCVW5ZFhlzpyB2Q44SD22liK0o25e3vhbYjm8qY4TULIX/Z3DSzVTmE5UhLOneOA9RqNTqOb0kxfQK80XZUM2E0I7kBl6hVmPpCAcIoLn12D6ZGjQ7jWlI/a30DfdBmRFM4eZpZsm5R5ClFe4BXbVcB6bKloZlaNTqMa0Ezg3zQZnhj4fmzlFmvGHJ7+IpXb18RabOEUEyNVoOOHky/YF+0+l3OLNMwXCYHrdGhEtJkljI5aHRqdBjbnHqU4x/ihxbDGsqZjUogp4cctFbnygjJFEQxtXoNOoxtQTEDQl1Mp5NilmtcUiYHrdWlCkIyBkquJYHZfnQzmpnGHy1+pZk8gApNSwlOnJKo3bUqgsI8mVq0G0MzA9MGoNnQBlTbeZ5HhealZR7gdXtUR1D6ALrtBi3aeeQZlC4AzQbXkzErtywr8+uu26MGAtL6U0ydUYs2I5tQzOCwIDQZWFfObFUOWQrQzPq9ayIg1I9iGkx6tB5BO24GhwWhyYA69HnngaptyyFzPlq62aBPLfh7Mr0E62RphGYMRuN+tenvOw9Ua19BJgdt0KcW/EJ8aaa3Aa1+b0wzM4Wg4S+1PfLkUb1jRaruLQA06lcHvkE+FNPobUTLYQ3xveI/d+Q8z4/geT4Dz/NZALQGcJLn+fb/OTNXPLryDAt+WSGssHT9lOKdPG4ev4vlw9ZR+45rMhNvH74nP+N4HkhJMGNk3SmI/hRD9nt46QkWDVwlY14/egd/DafvQWMbTcfbxxFk4o3nhSo7I+tMJZNOgCBHWjxwleA5ImFeO3IHq0b9TTHHNJyOd08+0Mz4FIyoPZmqknPv3CMsHbJGxrx68CbWjN5MMUfXn4b3Tz3yjEvB8FqTqWopd848wLJh62XMK/tvYu24LRRzVL2piHj2kWImxSXj95qTSFk0QJjIW/H7Bhnz4p5rWDdhK9mP53mMrDMFH55/kjB5JMUm47caE4nfBwDcPHEPq0b+LWfuvoYNk7ZTzBG1p+Dji88UMzEmCcOqTSCTYwBw49gdrB61ibJz4J08zu+8gk1Td1LM4TUn4+PLL5JrSWD+Wm0CmRwDhMn4NWM3y5hnt1/Glum7KebvNSfh0yuamRCdiGFVJxBfEgC4eugW1o/fKmOe2XoJW2bsoZjDqk/A59eRdNujEzG08nhKHnvlwA1smLRdsH2QME9uuoDts/dRzN+qT8CXNzQzISoRv1YeT8ljL+695nIVpJmn/j6PHXNF8ZrT6cSvVcfj89uvFDPuazyGVh5HyWMv7L6KTdN2UUynk8fx9eewe8EhmlllPCLfeTAjEzCk4lhKHntux2VsmbFXeFwmYR5bc4aSGzudTgyrOh6R76Jo5pd4DKk4llIHndl2Cdtm7ZMxj6w6jX1LRbmxw+HA0Mrj8DUimmLGRsZhSKVxlDz2v8QPryP/e8oOmbwKEORIB5YfJxfrm4fv8PjKM0UzLIfNgf3LjpHXGyfvYEqc9i89Ri7WV/ff4un1F4pmWHabHQeWS5ksWZ8FexYdIRfry7tv8PzWSwbTQdUB3TBpGzPP3QsPkYv1+a1XeHn3DeUFIWUekjInbmfKOXfNP0SO9dMbL/D6wTtFiwK71Y7Dkjqg6yey89w59yC5WJ9ef4G3jyMU1QZ2qx1HVoua8/UTtjLz3DF7P9FdP776HO+fflDM02a1UfU116XC3PbnPpLXo8tPEfHik6IRmN1ixzGJ7FRwx1Rmbpmxh8wJPLjwGB9fflacI7BZbDi+QWSuHbeFzZwuWqfeO/cIX958lTF53s0Upaxrx7Hz3DxtF5Gd3jn9AJHvomTzDkL5MitOSYzN1jGY5mQLNk3dRdQvt089QFREtGzegecBa4oNpyUmZKm1fePkHYR568Q9RH+KUciThyXF6iFllbuiuvPcOHkH6WBvHL2DmC9xCnnyMCdbKCMuIU9lafDGSdsJ8/qRO4j7Gi9nOnmYE804t/0HNM3ief40z/P1vyfzyfUXzEkNtVaNCJcE7/mt10y5nNVsw72zovzq6Y2XivsBgFqtwieXU+HzW6+YHhFWsw33JPKrZ//EdMn6nt18yVSDWFOsVJ7PPBb4SINTcfjkkvU9v/WKOUljTbFSMjFptXYZE8CXt4L74fObr5jyP4sH88Xt10wmeJ44Kj67+SoV6aMV986LbfdcNCQNp9NJpILPb76U2edKmQ8uiHK2l3ffKu4HCDf7qA/Cr7anN14yJ7nNyRaq7a/usZl2m4MUyH528xVzotecZKHyfH2fzbRZbIj5Ivxqe3bjJdPF05xkwUOJH/rrB+8U93Pv667v+ezmK6YEz5xkwf2LYtvfPHqvuB8gSOvcLo3PbrxkSvDMSWbKt91zcZM0khOSkRiTRJhKHb77bz+8JDLfPf6guB8gyE7dv9qe3XzFrBlqTjRT1rjvn7KZcVEJZAHisxsvmXVdUxLNeHSFLWP8N/HDj8h9g7yZ79mtdqIK8A3yTkUyxiEwXQB57RPopbgfIIy03XUBfYN8mHI5juMQRDHZedqsItMv2Jd5w+FUHKnxCAA+/qm13QFfKk+2FCtQwpRWC5IxbXZ4Bwjv+wb7MBUJKrWKOp7uz7CYbpWFb5B3qkzp8fTyMynuBwidrrsdvkE+UGvZ8i4p0zsVpt3uIH/TL9iXaTUstN3/2/KUMH2DfJjVYNQaFXXeU2M6HU54+QpqEN9gH6YCSa1Re+RpVNwPEEacRpfCxDfIm6noUmvVCEor5imtvqTIdMlJ/YJ9mOorjZbO0+TLZoIXpZ++wb5MNZtGp0ZAWpFp9JF7zLiDg4QZ5MOsA6rRaYhSCgBpm1KoOI7YQPgF+yiW7QME1UpAWj8m59/ED9+RN/qljqLWklNxyFYoMynCW7RaQWYnoTPq0KCPWM6qUb86ivX2OBWH7EWyIjhMkOAVr1GI2enqjDrU71WDvG74S21FpkrFIVd4NtKhFK9ZiNnp6gw0s1E/NjNPqRwISOMPQJA0MiVOBi1Vdqth31qKF5ZKrUK+MrmJBK9knaKyfQhTr0G9nhJmHzazQPm85GZbql4xpt2uVq9B3R7fxixUKR+5OZSqX5xpNazV0bVaG/SpqVgDVaVWoWiVAuTmUKZhONNRUavToG53Mc8GvWso1n9VqVUoXqMQcdYr2yic+QtHrdWgdhdRylqvVw3FTkqtUSG8VhEYvUVZH0sqqNaqqfqv9XpUZzJL1ilGZH3lm5ZiLghSa9SoJWHW7VGNwVSjTIPixIuoQrNSzF9iKrWKqv9ap1s1WT1bwmxUgnS0FZuXZjNVNLN216qKNye1Vo3yTUsRj5+KLUozz5FKxaF6B1F2KjDlNyeNVo0KLcqQm3allmWZeXIqDjUkUtb/Ej98R16nW1XkL5eb6sy1eg28/b3w+/oBZJtGq8HYbUNhMOmpDl1v0qFu92qUwqVej+rIVyYX1UlqdRp4B3jh93X9KOaYrUOhN+mplZN6kw71e1VHvjKiwqV+rxrIUzInzdRr4B3ojd/WiEytTovRWwZDb9JD5cFs2LcWVeW+QZ+ayB2eQ8b0CfTGsNW/kG06vRajNiswjTo06V+Xknc16lcHOYtnkzF9A73x66q+ItOgw+jNg6E36cSbGSfk2WRgPUre1XhAXeQolo3qeLV6LXyDfPDrSlEmqTfqMWqTAtOoQ7MhDSh5V9NB9ZCtcBYZ0y/YB0NWiEyDSY+Rfw9SZLYY1oiSdzUf0gDZCmWmmQYt/EJ8MVgiESVMo5zZenhjykyrxa8NkbVAJlme/qF+GLRUlDQavY0Yvn4AxeRczLYjmyJzPpHZ6rfGyJw/oyxP/1A/DJDID00+Rvy+rr/AlCi19EYd2o9pTplptR7RFJnzZaCYOoMWAWn90V8iFfTyNWHY6n7QKTA7jmsh1Ad1RdtRzZAxT5iMGZjWH/0WdBOZfl4YtvoX6I06SrGjN+rQaWJrhOUQme3HNEPGXOllzKD0ARTT298LQ1f2lTF1Rh26Tm1L1m0AQMdxLRGWMx11E3cz+0hcGn0DfYRavgrMbtPaIW0W0fiq4/iWSJ9DzgwOC0Kf2aL7oW+QwKTyVAnMHjM6IDTTt0uxU4sfviPXaDXIFZ4dDpudPAfmnTyCwwKJL7M7QjMFw+CtJ3Igt7F/rhLZZcycxbLDYXOITJ5HSIYgGTNN5mDhp5drR5WbGa7ALJ6VZjoFpp8nM0soDCZx5SSnFpi5FZg5imcVFvu4mE6eR0imYKqYNCAsENIbRaZKLRQLyCHpcAHhhpWjWFZhctCDKS0m7c5TumpUpeLgtDuRS4lZJIuw0IkwnQjNHCx75JQ2qwLT4UTOorT8T6vXikxXOJ1OpMkSosjUKjBzeMj/tHrBOpRiOpxIy2SKq3BVKhWcTh45itJt1xl0yFZYnmfarKEyZrpsaaDRi0zOzfTIU2/UIXvhzHRtUYcT6bKlgY/HY6z02dNAo9cQ6wM301OmqDfqkLWgvO1KzLCcaaHR0Uye55FNgZmtYCZZ3cp02dPIHuGlz5EWaq2a/Brl1JzA9NBR6016ZFVgps+eRvbIKSynB9N1/rN6SB8NXnpkLpBRVrMzLEc6ePvTzIy50kOtofNkMbMUyAinxEjL4XAiLFdaWZ4ZcqWHSq2iOnIOkLlr/pf44Tvyi3uvYff8g7DbxEowdpsD7558wKxui8l+PM9jZN0piPuaQNQGvJOH3WrH3J7L8O6JOIlyftcV7F18WM58FIE/eyylmCPqTEG8hOl0MWd3X0pNeJzfeQX7lx6TMd8+eo85PT2YtScjPipRzNMhMGd2WYQPL0TntbPbL+Pg8uOCmsLFdFgdePPgHeb2FutWOp1ODK81GQnRItPp4GGz2jGz80JSZg4ATm+5iMMrT1KyPofVgdf332J+3788mJOQGCNnTu+4gJSZA4BTm87jyJpTMuaru2+xoJ9YZ9HhcDCZ09rPx5e34orf4xvO4tj6M5RyxGFz4MXtN1SdRcJUaPsf7ebhi2uiFQCOrTuDExvPyZjPb7/G4oGrKebvNSchMSaJdChOhxM2iw2TW88mZeYA4MjqUzj593k58+ZLLBmyRtxmF5hJsXLmpJazyaQoABxacQKnN9Ml+ew2B55ef4Flv66XbLNjeM1JSIpNljEntphFyWMPLD+GMx4l+ew2B55cfY6/fhOZNqsNv9echOQ4mmk12zCh2Swy0QoA+5YexdkdV2R5Pr7yHCtGbKSYw2tNQnJ8isi0u5kzKcntnkWHcX7XVRnz4eWnWDVSlPFaLTYMrzWZZjqcsKZYMa7JDDLRCgC75h/E5b3XZcwHF59QMl6r2YrhtSYjJcEjzxQrxjaaTklud807iMv7blBKMYfNgfvnHmPtOFFya0mxYETtKUhJNJOKX067E5YUK8Y0mk7JY/9L/PAd+ZbpuxVnku1WO64eukU00g8vPUXUx1jF51F2mwN7Fol6URbTZrXjyv4b5IQ9uPAYMZ/jFJ+b2e0O7F18hLzezGJa7Li45zrRSN879whxkfGKTIfdgb1LJMxpu5jM8zuvED3z3TMPkRCdyGA6KV3r5uls5tkdl4me+fapB0iMSVJUDDkcTsqal912G85svSgxELqvWFQYcFdKF615mefIYsOpTReIRPTmsbuURTHFdAq2t/+Yp9mGE3+fIxLR60fuwJykrDRwOnhKzrl5+m5FGZrVbMPxdWeJRPTqoVuUtlkaPM/j0EqRuWWGvEC1m3l0zSki57x68BYsCtJcQBjEHF4lSkS3ztzDzPPQqlNEznl5/02maoV3OnFUIufcNnMvg2nFoRUniJzz0t7rzLq7TiePo2vPiMxZDGaKDQeWHyMd7KU915g1cnknT7mdbv9TXpxbYFqxb9lRIr08v+sqU1kkWFKLEtFtDKYlxYp9i4+QeYbzO1NjOql6uv8lfviOXDqa9AytTkNc8D6+/Mx0rHPYHXgt8ZaWjiY9Q6PT4Ov7aBfzC9OxzmFzUJIut7yQladbLvdBsnDFM+w2Os/Pb9ieNBoJ8+PL1Jh2vJHk+eXNV8X9AECjUSPaNTL8+OITc9LLbrXjzQNRepZanmqNGlEfY0merDqkNqudavsX13lVCpWaQ+znOBfzC7Pws81ip/y/I9+x265ScYh1jTY/vvisqMkXmDbqvH+NYOcJjiOyvo8vP8PO6MysZhveSvJMlQkg3jV4+fDiE7PTtZptVNvd14pS8DyP+ChhoPHp5WeZ5aqU+VrCjPrAZjocTiS4pIIfX35RXAsCCJ3pW4mMMVryy0TGtDvJCPbDi8+K6zYAoTOVtj36UyyTabfYkRSX7MrzM1N+aEmx4q3Eo136a8czrGYrUlyDiw8vPlGLqChmslXm+/6/xg/fkaeVTFp4hs1iR0jGINd+ocz91BoVtbw3TWb2vjarHcFhgYTJ0nyrNWpSLxQAqXX5T8x02dhMjVZN5RmaKZjJtFvtpMZkanlqtBpklOQZkhrT7iCywnTZ0jAVOxqdhlranFqeDruD1K1MmzWUmoyVMfNJ8swQyGQ6HU74h/oSJrOmq05DLZd2G4IpMp08/EMFxU66bKFMwy5pnVgAxBBMKXieJ/MjabOGQsOQ4LlLnrkjKBUmADKXkS5bGmj1ytI2nYHOMzUmx3Hkeb57boDFzCzJUypB9QyVSkWeP6fNGqqoFgIE9VfGPGI1IqnEzzPUGhV5/pwuW6iiogsQnt1Lz3tAGrbET6PTEGVRuqyhMk8UKVNaNSkglM3UGrTEyTNdtjREESRjmnTI4FHd6X+NH74jVzLbAYQTEF6rMJn0y182N/zT+Cl2aBqtBg1/qf1NzJK1i5IvSoHyeSjfBZqpRiOKKTcaAoTOpHSD4kQuV7BCXpfvgrytao0aDfrUIq9b/85g6jUo26gEmVAqXDk/vAO8FJkqjQoNpUxG27V6Lco3Lkku6iJVC8DL16Scp1qF+r1FmSSz7XoNKjQrTfTGxaoXZGqP1WoV6vcSJaJsphaVWpYlErziNQtR1qrS4NQqSibZchi77VValyOGVuG1ijC1vyoVR8kPWzLy1Bm0qNa2ApHglaxTlKlRVqk4SibZclgjxbqVOoMW1TtUJJxS9Yox9dkcx1Hywxa/NlSU8eoMWsFh1CXPK92gOFVyj2KqONSSyCRTY9buWoVwyjQMZ3rwcxwoF9HmQxsoM4061O1encj6yjYqQXkdeUJrSBw/mw9hMbWo27M6UbmVa1KSOdAAx6GGxJ2z2ZAGijcSQZZck+TGcl4UkBzlevlf4ofvyMs2KoEGfWoJIyRXp+IuLiuV4HEch6kHR8E32Id4GnMqDhqdBv0XdUdmyQiyfNNSqNuzOs3UaRCWMx2GSuRyAnMkfCROdCq1wBy4tCcl76rYvDRqd6sqY2bInR5DlovSNpVKhamHRsEn0JtclG7m4L96U/KuSi3LolaXKjJmxtxhGLysJ8X84/BoeAdI8nS1feiK3kifPS3Zt0qb8qjRsZLseGbKG4aBS+VML38vSdtV0Oo0+HVVX0reVa1dBVRvX5EaxWr1GmTOn5Fy1lOr1a48RSc6lVoFrV6DYWv6EVteAKjRsRKqtCkvY2YpkBH9F3ajmNOPjIa3vydTi+Hr+lPyrlpdqqByq3IyZrZCmfCLxLFOrVFj2pHR8PI30W3XazF8wwBqZF+7axVUbF6GYmp0GmQrlBl95nYWt2k1AtNPzhyxcSA1sq/boxrKNytF56nTIHuRLFSxYI1Wg2mHBaZn20dtHkyNbuv3qoHyTUrK2p6zWDb0mtVB8ne0+OPwKJh8jRRTZ9BizJYhZO0CIKxJKNsoXJZnzuLZ0WO6aLek02vxx+HRMPrImWO3/UqNbhv1q40yDYrLmLnDhRqZhGnQ4Y/Do2D0NpCO2M0ct+NXStXVZGBd4abnwcxbKhe6ThGZeqMeUw96MDUCc/zOYZSqq9ngeihRu6gsz3xlcqHzpNZkm8Gkx9SDI2HwEplqjQp6ow4Tdv1GBnj/NX74jtzpcOL1g3dQaThx4QcPxH6OJct13RH9MQbmJDN415Jt3slDrVbJ6iQ6HU68ffheuPu6mZzw3MtzFjn6YywsyRYyiep08FCpVdRzZ0B4hPD2YYSMGf0xRoEZA0uKlTyDTp3pmSeH6E8xSIxNpvaN+hADq9lKFog4nS6mx5Jnu82Ot48ihIIE5LE6h6gP0UjyyDPqQzRsZpuE6QTHYj6O8Chy4GLG0Xl+jYiG1WwTj6fTCU7F4e1j+hzZrHa8exzhMZpJhWnxZIJ6pkmYT+R5RkZEIymenjD9GhENm8VOt10lX5ptt9rx/ukHislxHCIjopDsyXwfDZvVRs47z2DaLDa8f/qRajun4hD5PgrJ8XTbI99HwWa1kQVMvNMJjgPePVFgPvsoy/PLu6+yPL+8/Qq7zU7lCQ5456qc5Q6r2Z2nhKniEPnuK5ITzDKmg2IKx/X9MzpPq9mGiGfytn95+1U2qf3lreAz48mMYDCli+Y4FYfPbyLJs2x3RL79CodDwnT1JR+ee7Q9xYoPLz5RK785FYfPr79QtYAB4NObSDglTKeDB8/z+JDK/N+/jR++Iz+86iTunnkIa7I4AWOz2pEQk4Q/2s8j2xx2ByY0mwVLspUy8LekWLF38RHKz+HgX8dx79xjWCVeDTaLHYnRiZjWYT7ZZrfZMaG5nGlNsWL3wsN4KPFeOLD8GB5clDMTohMxvdNCSe42wnR6MHfOO4An156TbfuWHsXDy089mDbERyViRmeRabXYMJHB3PHnPqp49N5Fh/H4yjNYU2wy5swuiynmpBazhRuOm8kLzG0z91CeLbsXHMKTq89lzLjIBMzqKmGarZjcajasMqYNW6btxos7r8m+u+YdEDw6Uui2x36Jx5/dlpBtlhQLJrVUZm6auhOv7omeLTtm78Pzm69kecZ+jqMkouZkC6a0nqPIXD9xO948FG+422fvw/PbrxWZc3stI9tSksyY0mYOrCk24g3jNo1aN34bddPZOnMvXt59TbXdarYh5lMcJTtNSUzBH23nyZlmG9aO3UzdIDZP341Xd99QeVrNNkR/jMX8vmJhr+SEFEzrsADWFJs4IHLluXrUJkRIOrRNU3fizYN3MmbUhxgs6Ccyk+KSML3TAuEGTpg8rGYbVg7fSElu/56yA28evpe1/euHaEp2mhibhBmdFlKDAjfzr982UIKG9RO24e2jCMrvxWq24ev7KCweJMpOE2ISMaPLIqHtHsxlv66jJvXXjt+Kd48/yJiR76KwePAasi0+KgF/dl2imOeSQaspeex/iR++I9+98JCizId38nhx+zUi3wsz/LdO3mfKkawpVkqCx2I6nTye3XhFdMI3j99jKiKsZislwdu98LCiiY/TyePJ1efERvfmsbvM6jM2sw37JXnuYTEdTjy6/Ixoeq8fuc1cBmyz2Cjnxz2LjijO9jsdTjy4+JjIOa8dusVUwtistPPj3lSY9849JHLOKwdvMZfT26x2Siq4dzGbeefMAyLnvLz/JlhyJZvVTrlJ7ltylMm8efwekXNe3nedyXTYaObexUcVi0Q77E7cOHqHjCIv7bnGnJB22B04vEpk7l96lOocpftdP3ybyDkv7L7GtGZwOJyU/HD/0mOKxlUOuwNXDt4gcscLu64y/YWcDgcOSxwqDyxnMy/tvU6UKud2XmW23elw4uja0+T1wb+OKzNtDlzYdZVIL8/tuMxsuyBpFJmHVpxQVPfYbQ6c23GFSC/PbrsEFSNP3snjuETSeHjlSSbz7LZLRHJ4ZtslZp48z1Oul/8lfviO3C3fUgqNTkM6ntgvynpvQDhgURL5lXSxgGdo9RokuN6Pi4wXijooMZ08ccsDhEK7TKZOQ+RdMV/klpbucDp5fJUyU8lTo1OT9+Mi45lSQaeTR7SE6S6Iq8jUasj7sV/iiL5WxnQ4ERUhyfPfMBmaWqfDSS20SYhhL5RQa9TkcVVcZDyzzJ3T4aTOkdTvXJanRk0eV8V+iWfewB12mpkYy2aqJHnGRsYziwU77A58jZAy2W1XqVXkMVDslzim+6HUzREA5aHuGRzHkUc2sV/imJJGu81BSQ49H3HJmK6bWFxkPFNHbpflyWaCA3lsEfslnumoaLfaKRkja50B4LKodUkOYyPjmbp8m9VOLdpKjel0OsmNMfZLHHP9gM1iR7RLmvtf44fvyHMWz860aHXYHGQiL3uRLMwOUqvXIn950WvFc5m1J9MtZcxRNAvTPEln0FLVhHJ4VJihmA4nYeYslpVpy6szapG/nMj0rDAjDd7JI61L8pijaGpMHfJJmNkKZ1beEcJF7ZYS5iiWjTmK0ht1yFf225gAEOIyNstRNCtzdKI36pC/rHiOPKvWSINTqYicM0fRLMwCxHqTDvnKiNWZUmOqNKKrYY5iWaFiqCz0Jj3ylxWZqS2z1mjVRHqZo2hWpqOiwUtP5Sn1XZEx9RoyOZizWDam+6HBS09VpvKshCMNnVFHZJLZi2Zluh8avPTIV1o87xnzsKVzRm89kTTmKJqF6VRo8DYgbynRXyhjKnI8o4+ROG3mKJaVKT80eBuQp5TY9gy50inuBwhOk25JY46iWZnyQ6O3gfJBCsvJZvoGehN1Vs5i2YjCSomZ28M+5H+NH74jbzeqqaIGVW/UoXa3quSAZS2QCbnCsyvqfzVaNRr0FqVt7UY3U7wI9EYd6vaoTg581oKZkaNIVsXK3mqNmnIqbD+6uTLTpEP93jWInCx74SzIVigzg6lBvZ4S5hg2s0GfWkTalrNYNmTJn1HRJlWjUaOuRNrWYWwLJrPRL7WJtC13eHZkyhOmWFhYrVWjTjdR2pYas/GAOkTalqdkDoTlTKeo+xbc+kQZWsdxLRQlY3qTHk0G1iXStrylcyF99rSKzpcarYaSy3UY15KRpx7Nh9QnzPxlcyNd1lBFplanoZz1BKZyns2H1CfnpGCFvEiTKZgyX5PmKZXLKdULBYSOtOWvDUlehSrlQ0jGIEV5m0anodz6mEyTHq1+a0zkckWq5EdQ+gDFPLV6Laq1E4sad5rQitn2Vr+LzKLVCiIgrb8sT44DdHoNqrQVmR0ZTINJj7YjmhIPlOI1CiEg1E+ZadCicquykrYzmF56tB0pMsNrFYZfkNxmWmDqUKllGbHtqZyjtqPEMnsl6hSBb6C3AlOovVupRRkZ43+JH74jz1cmN36Z31Uw8SFmQxyKViuI3n92ovadsPs3ZMoTRpnTGL0NmLx/BOVLXaBcHvSZ01nGLFa9EHrO7EAxJ+79HRlzS5icULR1ysGRlLyrYIW86DWrEzRaNfkFwak4hNcsjB7T6Mp3k/cNR4Zc6SmmydeIPw6NpKRYhSvlR89ZHWXMErWLotvUthRzyoERCJPWK1W5mIdHEWtaAChSpQC6T2sPtQezZJ1i6DKlDc08OBLpc6SlmF5+Jkw7MpqSdxWrVhBdp7almCoVh9L1iqPThFZkP47jMO3IaKFeqQdz+tEx8A0U5V3FaxRGl8mtodbQzDINiqPjuBY08+gYYaGVlOlvwozjYyl5V4laRdBpQiuhI5QwyzUugXajm1PM6UfHCAutJEzvAC/MOD6WVJwHgFJ1i6HDuOYyZvkmJdF2VDOaeWws0mSmmT6B3ph5chzR7wNA6frF0W50U6EzlTKblkLr4U0o5ozj45AmS4iMOevkeEqzX7ZhCbQd1YRmqlWo2LIMWv3WiOynUqkw88Q4hGQMppi+QT6YdXIcNbos17gkWv/eWMas0rocWgxtSDH/PDUeIRmD6DyDfDDr1ARqwUyFpqXQ6reGIpNzMduVR9NB9SjmrFMTEJKBZvoG+2L26QmUDr9SizJoMbS+B1PQcDcZUJfsp1ar8efp8QiW1lVVcfAL9sWfZyaQgRMg1PJtNqie0EFL8qzRoRK1vkRgTkBQugCaGeKLP09PYK4t+Lfxw3fkSfHJ2DJ9DzgOVM2726fu47FHdY0Lu68i4vlHcXbYycPhcODvqTup571JcUnYOmMvYbn/e/PEPTy++pxint95BR9efKJmnB12BzZN3Uk9l06KS8K2WXsBjhMfc/A8bhy9SylRAODczsuyepB2mwOb/thFMRNjk7Bt5l6AA8W8fuS2rMrR2e2X8OnVZ6rtdpsDf3swE2ISsf3Pfa7jKTKvHb4lq3J0ZutFfH4TSTOtdmz6Yxc1HxEfnYAds/dTTB7C5ObzW68p5unNF/Dl7VeKabPasXn6bpoZlYAdc/aDU9HMywduyioSnfz7HCLfR9NMix2bp9HMuK/x2DnvgHBjkDAv7b2Ol3feUMzjG84KdRYppg1bZtDMmC9x2DX/kIx5ce81WfWg4xvOIvpjDMW0mq3YMmOPjLln4WFhKChhXth9lbIxAIBj604jWuIx5GZunbWXZn6OlTN5Hud2XJFVDzq69rQw5yRhWlKEcnjSiPoYI9S89GCe3X5JJvk9vOqk4DEkZSZbsN2D+fVDNPYuPio2mheYZ7ZclMlJD608gbivNNOcZMb22ftpZkQU9i895sEUDOQ8ZZoHV8iZKUlm7JxLMyPfR+HA8mPieecF+MlN52Vy0gN/HUN8dALNTEzBrvkH8b3ih+/Id80/iMh3X+nJEl4oOzWzy2JysaYkmbGw/yqZysOaYsODi49x9eAtsm3H3AOIjIiiVS68UG9vVlcJMzEFiweuVmBace/cI1w7JDK3zd6PrxHRFJPnBSnbLIlcLjkhBUsGrZGpZqwpVtw58xA3jt4h27bO3IOoD9GU7wfvavuf3UVmUlwSlg5dp5jnnVP3cfP4PbJty4zdiPoYo8icLXF+TIxNwvJhG2RMS4oVt07cw60TInPztN2I+RRLM11fKqmsLyEmEX/9vkGx7TeO3sGd0w/Itr+n7kTM5zg5M9GMORJZX3xUAlaO/FuRee3wLdw9+5Bs2zh5B2K/xFMueMKXimbGfY3HmjGbZUxLshVXDtzEgwtiubMNk7Yj7kucnJlgpqSCMV/isHbsFpkZliXZisv7ruPhJVHKun7CVsRG0hOubua8PhLm51isn7BNMc+Lu69SZcTWjtuKuMgEBWYK5XoZ9TEGGybvkHmOWJKtOLfjCjUoWTN2M+XiKWUu+EWUH379EI2/p8rN2izJVpzZdhFProvy2DVjNiMhOoGqxelmLpRIGiPfRykaq1mSrTi1+TyeS8okrhz5NxJiEmXM5PhkLBogunN+eRuJrTP3yq/5ZCtObDhHyWNXjNiIhJgkiul08EiOT6GcND+9/oIds/crMo+tPU3JY/9L/PAd+dE1p5mz01Efo0nNzhtH7yg+1wMAc6KFkmIdXXOaaQz09X0UMcC6fuQOs+qQOclCFfY9tuY0c7b/85tIomu9dvg2cyLNnGimmevOMGf7P774RGxfrx66zW57koWSYh1bd5Yp03z/7CMxbLp68CazhJo5yYKj60Qp1vENZ5nqibePIshs/+X9N1I9ntI8T2xg5/nmwTtiWpQa05JswXFJnif+Psdkvrr7htipXtp3g7ms2pJMt/3UpvOKhZ8BoZaqW1l0ae915jmyJFtxfIOUeYGpmnl6/QVR31zcc414hsuYKVbKWe/0lgtMxdDjK8+IquXibrb80Gq2UnK5M1svKjJ5Hnhw6QlRdlzYdZU5yW0123Bqk1jQWWDKBQY8D9w795gYUF3YdVWRBwgy3pObxMLT57ZfZjLvnH5IVCXnd6bCtNpxSlIk+vyOy4riCp7ncevkfSKTPL/zSqoy3lNbLjL/5r+JH74jZ7mmAcIzKbeG12q2MQ8YAMqWlNXhupnuUdM/MaVFVa2W1PN065etKVamo6In85/yJEyzlakjB0CtXnNrZpVCLWFaUv6BmShh/kOe7nMkXSWqzJS0ndHhAsLzUYvkvLPUSjzveTxTYapVZMBglay6VWKavzVPtYpcv1azNZU8eY+2s48np1aR400t1vJkOvlvbjun4mB1vW8125gOle5fRO5gOUQCwvN7903TmmJlFrN2/3L7JqZKZFpSrIqdMyBIblMSxZE660YrQCHmabamKo+l8kyNCWG9AcmTsa/T4YSF4Yz4b+OH78iL1yjMHB2pVCrinFagfB7mRaA36VG6QTh5XbQ6uxanSq1CxtwCs2CFPMwTZvCimcWqF2KOZDRaNfFQKVgxL/NiMXjpUbq+yCxStSCTqTNoifSyUMV81MpTObO4yKxSgDk60hl1RCZZqFI+Zidh8NKjjDTPygWYUkWjtx6hmYMJkyXnNHobqDwLVcrHZJp8jUQmWahSPuaN0ehtQKl6nkzFXeHlZyKSxsKV84G1IsiTWbB8XibTJ8CLuA4WrpwfrB2N3gaUrFOMvC5QPq8yEEJhaLffSZEqBZjXh9HbgFIUM7fifgAQkMafVMYqXDk/0zjK6G1ACUktV6kM0zOC0wcQ+WHhKvmZDpVGbwOK1yxCXktlmJ4RkiGIGMUVqZKf6VBp9DagRC2RmUcib/SMNJlDYHJNNBeqnJ8pkzR6G1C8RmGRWTKH4n6A4MzonhQuUqUA0/nR6G1AMQnzv8R/7sg5jsvIcdwpjuMecRz3gOO4gd8jMXe0GcmQH5r06Di+BZGMhWYMRuVWZWXyMpVaBZOvkZKMMSWNJj06TWxFJGOhmUJQsXlpBtNEuaG1G92cyew8sRX5+Z82SyjKNSklc9dzW3RKJWMdxqbCnNSaMNNlS4OyDUvImCq1Ct7+XqgqcVjrMLYF9Aoz5XqTHl2ntCGSsbAc6VCqfnHFPH0CvVGlTTmyreP4Fow8hfqJbmaGXOlRok5R2b5uplQy1mlCKyaz2x/tiGQsU54wFK9ZWIGphm+QDyUZ6zyRxdSj2zSRmTlfRhSrVlDO1KrhF+KLCs1Lk21dJrdm5tljRgdyM8paIBOKVM6vyPQP9UOFZqUkzDZMOWePGe0JM1uhzChYMa+s89Fo1QhI449yTUp+E7OnJM8cRbMif9k8iszAdAEo26iEyJzSNpU8RWau4tmRt3QuRWZQWCDKNhQHBd3+YDN7zhSZuUvkQJ6SOWSWuxqdGiEZg1CqvngT685iGnXoNbMjYeYtlVPQ5us9mRqEZg5BybriTaz7tPaKDplCnh3J63xlciF7kSyKzLRZQ1GidhEZ43+J7zEitwMYyvN8XgClAfzCcVy+78AFAGTImQ6/r+0Ho7coUeJUHCq3KosmA+pR+w75qzdVaBgAfIN98MfhUZS8K2PuMAxb/QvxDHYzq7Yph8b96lCfH7qyD3IWp0X7fiECUyrvypQnDL+u6kstKOBUHKq3r4BGv9DMYav7ImdxelGSX4gvph0ZQ0mxMufLiCEr+siYNTpWQoPetajPD1vzi2xRkn+on4yZtUAmDFrei9LAqlQcanaujHo9alCf/31df9miJP9QP0w/MpqSYmUtmBmDlvakviwqtQq1u1VDna7VqM8P3zBAtoAoII0/ph0dQzGzF86CAYt7UF8WlVqFuj2qo1bnKtTnR24aJKupGJDWD9OOjqbkXTmKZEX/hd2pzlTlsrqt2bGyB3OgbLFPYFp/TD86hujiAUHD329BNxmzQZ9aqNaWtigdvXUwMuejF7wEpgvA9GNjKOvY3OHZ8cu8rlTHp1Kr0LBvbVRtXZ76/JhtQ5EpH73YJzB9AKYfG02tK8hTMif6zOkiYzbuXxeVWpalPj9ux6+Uhz0g+JlPPzqGYuYrnQu9ZnWiOlO1RoWmA+uhYnNaHz1+5zBkyJ2e2hYUJjClcxz5yuRGzxkdqI5PrVGh2eAGKN+kFPX5CbuGUR7hABAcFiQwJRa3BcrnRfdp7SnLX7VGjRa/NqRuTBzHYeKe35AhZ1qKGZIhCNMOj6KYBSvkRbc/2sqYLX9rhDKSX+ocx2HS3uEIy0EzQzMF44/Do8ng4b/Gf6bwPP+R5/mbrn8nAHgE4Pu4pUOYnf6z+xJqdpp38ji95QJO/H2O2nfVqL/x9NoLaltidCImNv+TWib75d1XzO6xBBYP5slN53Fq83nq8yuHb5TJ8hKikzCx+Z/U8/svbyMxp9cyanaadwpeCqe2XKA+/9dvG/D85itqW3xUIiY0n0UmSQBhxnte7+WUKoF38ji29jTObLtEM4etl0n94qMSMLHFLOqZ68dXnzG/71+wSo6H08nj6JpTOLfjMvX5ZUPX4oWHLC/+awImNP+TYn548QkL+q2gPEecDicOrziB87uuUJ9fMngNXt2lZXlxkfGY2HwWtYQ94vlHLOy/kvJGcTqcOLj8OC7uuUZ9fvGAVXj9QM6c1GI2xXz/9AMWDVwly/PAsmO4vP8G9flFA1bLJHSxX+IwscWf1KOxd08isHjgahlz3+IjuHLwJvX5Bb+sxFsP58jYz7ECUyKPffPoPZYMXkNN8jsdTuxddBjXDt+iPj+/z1+yKjMxn+IwscVsmvnwHZYOXStj7p5/ENclSikAmNtrGd57yPKiP8ViUqvZ1NzBq/tvsXzYeko44LA7sXPuAdw8fpf6/JyeyxDh4Z4Y/TEWk1p6MO+9wV+/b6DmXRx2J3bM3odbJ+9Rn/+zx1J8eObJjMGkVnOoua0Xd15j5YiN1DyBw+7Atll7KaUUAMzqtgQfXtCuhFEfojGlzVyK+fzWK6wauUnG3Dp9D6WUAoBZXRfLKp19fR8lY/6X+K7PyDmOywKgKIArCu/15DjuOsdx1yMj2aXBPGPLjN0wJ5plDbYkW7F0yFpysbq1t57yLrvNgeiPMTgtmR1218JUYi4ZvJZcWDGfY7F3yVGZvMtutSPqQzTObBU707+n7mLmuWTwGsKM/hSD/cuOyfO02vE1Ihrntoud6cYpOwRbXo9zbUmxYvGg1YT59UM0Dq08oZhn5LsonNshno6NLmmZjJksMN35R76PwuFVp2RMm9WOL2+/UqqBDZO2KzNTrFgyaA1hfnkbiePrzigyP7+OpDrodQqyOmnb3cxPr7/g+IZzMnmXzWLHx5efcWmf2EGvG7+VunlLmYsGriLMj68+49Sm8/I8LXZ8eP4JVw6IHfQaBUkhyVPC/PDiE85svaiYZ8TTj5Q8du3YzYolx4Q8xba/f/YR53ZeUWDa8P7JB1w/fJtsWz16M7PtUgfAt48jcGHPNUXm24fvKXnsqlGbYEmWT9Z5Mt88eo9L+67LDMtsFhvePHhHyWNXjJBLSd3MJRJXwdcP3uHKgZsyptVsw6u7b3Dr5H2ybeXwjczjKWW+vPsG14/cVmQ+v/2a6vT/Gr6Bed6lRbef336FG8fuKjKf3Xwp6/T/1/huHTnHcd4AdgAYxPO8zOmK5/nlPM+H8zwfHhLCLovmGRc8KmpLQ6j3J4xG7py6r7hEHRCkbVLp0MU915gzyeYkC1kkcOvkfcUl6u79Tm/1YDJm0VMSUhDhGjncPH6PzUw047Rk9H5533UmMykumYwcbh2/x5Q0piSacWabeBO7vO86cxIzISaRSC9vHLvLlMulJJpxVvKL4PL+G0xm3Nd4Yv9549hd5iSzkKfIvHrwJpMZ8zmWuF7e/Afmue0i88rBW0zVTPTHGGIIdf3IHeZEa0qiGWclzOuH2c6TkRHRpF7k9SN3FPchee4Ub+DXjtxhjtS+vI1ErMtI7vrh28yJ3pREM/Vr6PrR20zmx5efiflcak6ansybx+4yBVgRzz4SmeT1w7fBM85lSqIZF3aLg4JbJ9jMt48jiEzy2qFbcDJM3VISzbi4W8xT2ql7xusH74hM8trh20zBhDnRjIt7xYHGnVMPFPcDBCmrWyZ57dBt2BkqJEuSGZf2XWdy/k18l46c4zgthE58I8/zO78H0x2sLykgyLbc76e2HwDqOVzqz6WEYhSAIMdjVnT2ZDKMmxTz/FbmN+apUqtSQ1JMLtXjKR5HtVrF7MwAQKX9tjz//2g7D1DMVNKk1BLfeo6E887elzqeDNWIC+qR57cxWVaqLiR13r81z396Fvstx5PjAJVaykwlT8n7nIpj5slxoAYMLF285/upHU+O46iBTarnSPK+Sq1i78uJx/2fmDwvtj31885RzP8S30O1wgFYCeARz/Oz/3tKdFRpU47p8Obt70WKrBarXohpE2rwNqCGRA1SqVVZpnTJJ9CbOJsVq1GIOXI3eBtQrZ3IrNyqLHOk7RfiS6SC4TULM5lGbwOqtReZFVuUYTID0vgTqWB4rcJsSaO3gZp0q9i8DFMKFpw+gMj6wmsXYTKN3gZUbSNOulVsUZq5KCc0UzApjVayTlHmLwyjtwHVJOZJ5ZuWYjLTZgkhpdFK/AOzSmtPpvIlnz57WuKdU7JesVRlklUkbS/XpCRzEJEhV3rinVOqXjHmrwGDtwFVWokqoLKNSzCZmfKGkZJjpesXY47IDd4GahKzTKMSzI43S/6MxJNGKgH1DL1JTymLSjcozmRmL5SZeNKUaRDOvDkIxlESZv3izE4yR9GsRGBQpmE4253TpKOYpeoVYzJzl8hOxABlUmmPwaRHBckEbsk6RZl/P2/pXGTivmyj8FScNHWo0Ky04nv/Nr7H7aAcgA4AqnIcd9v1v7r/9KFvjeZDGsA70Fv2pdYbdRi4pCc5mN7+Xuig4JinM2iRMVc6lG8qzni3HNYIPgFesi+1J9MnwBttRzVTZGbKE4ZyjcUZ71a/NYZ3gLcyc7HI9A3yQZsRTWTFdXUGLTLny0BJsdqMaAJvfy/Zl9ozT79gX6EIsAIzS/6M1JezzYgm8PYzKTIHLO5BmAGhfmiuUFxXZ9Aia8FMKFVPlHe1HdkUXt/CTOOPZoPry5lGLbIVzoJwiRSr/ZjmMPkZ5UyTDgMWiXVAg9IFoOnAuvK2G3XIUTQrwmuJOt0OY1vA5GuSfVn1Rh36L+pOXgenD0SjfnVklqY6ow65wrOjWPWCZFvHcS1h8jXKmSYd+i8UmSEZgtCwb01ZnnqjDnlK5ECRqgXItk4TWn0TMzRTCOr1rCE7nnqjDnlL50SRKiKz88RWMCoy9VQN1LRZQlGnezXFPAuUy4NCFUVBWpfJbWD0Mco6Sb1Jj18WiMx02dKgVpcqinkWrJAXBSQW012ntIGJwew3vyt5nT57WtToVFmRWbhyfkqP3m1qWxi9DTKmwaRH33kiM0Ou9KjWvqK87SYdilQtSNntdp/WDkYfA9WZc5ywxqKvpFZrxtxhqNq6nDxPkw7FaxSirHH/S3wP1cp5nuc5nucL8TxfxPW/7+YG4x/ih75zu1AjU47jUK5JSUrXCQBNBtQV5HKS82Xw0mPQ0p7U8/OAUD/0mdOZGplyHIcKzUqjZB2a2WxwfWQrlMmDacBAT2Yaf/Se3Un2s7tCizIyrWjzoQ2RpSAtbTN4GzBoWU/q84FpA9Drz45021UcKrUqi+I1ClGfb/FrA2TOT8vQjD5GDPZgBqcPRI+ZHem2qzhUaVMexarTzFbDGiKThwzN5GvCoGW9KClWcFgQes7sIGt71XYVqM4EANoMb0x+RUmZA5f2oJghGYLQY1p7j5/dHKq1rygsrpEyRzZFmIfntJefEQOX9KAeKYRmDEb3ae1kedboXJnqoACg7aimSO8hGfP2N2HA4u4UM03mEHSb2lb2U75WlypUBwUIN6d02dNQ27z9vWR5ps0Sii6TWtNMNYfaXatSHviAoOFPlz2U2uYT4IWBi3pQnUy6rGlcTMnxVHOo17M68pWhmZ0mtELabB7MQG/0X9SdYqbPnlZwk5TcbFVqDvV61UA+iRc6AHSe1Jr45xNmkA/6LaSZYTnSocO4ljJmg741ZZ1el8mtkca12MwdvsE+6LegG8XMkCs92o9pTg0KVGoODfvVQu5wWlrcdUobhGQKorb5Bfui3/wuFDNj7jDMP10dZWonQqtzQq3hUbxyEmYfK4NcHnLlQctaodtYJ0LS28CpeASG2tBhmA2jN9GuqP8luO8lf/k3ER4ezl+//m0P+V/efYMBZUfJZrINJj2a/9oAncaLNqljG0/HjaN3KIkVxwFe/l5Y+3QB+Un6/PYrDCo/RsbUm/Ro9VsjdBgr2qSObvAHbp24J2N6B3hjzdP5xHr1+a1XGFRhtGy232DSo/WIJmgnsTQdWW8q7py678Hk4B3ohXXPFpLVa09vvMCQSmNlTL1Jj3ajm6GNxNJ0eO3JuHf2oYzpE+iNdc8XkJ+5T649x9Aq4xSZHcY2R6vfGpNtv9eciHvnHlNSMLdN6rrnC4k2/9GVZxhWbbwis9OElpSl6a/VxuPhxacypm+QD9Y9X0h+Oj+89AS/1ZioyOwyuTWaDapPtg2tMg6PLj+lpGBu+9F1zxeQVXb3LzzG8JqTZAoCvUmP7n+0ReP+4g/JwRXH4Mm1F1SeKpf96NrnC8nP8XvnHmFE7cmKzB7T21FrCAaWH4VnN15SeapUHPxC/bDu+UIyErxz5gFG1Z0qYxpMevSc1YGsIeB5HgPLjsLzW68oqwCVWgX/UD+se76A/MS/c/oBRtWfqng8+8zpRNYQ8DyP/qVH4sWd15QvjUqtQkBaf6x7toBo82+euIexDacptv2XeV1Qp1s1wvyl5HC8uvdWxgxM54+1zxYSbf7N43cxtvF0hTyFX021OlUhzL7hv+P1g7fUBKVKLRQdWfN0PtHmXztyGxOazVRkDlzSkyzs43kevYsNw9tH7ymmWqNCUFgg1j5dQAZvvOUM+Jj+ADxVOwbAdzJUpoaEyUc1AOwvISy5IVRAnQ5c8BEIU4zfFhzH3eB5Ptxz+w+/RH/jlB2KfivmZAu2z95P9OEfXnySdeKA8AjRZrbh0EqxJuLGSTsU6yxaki3YNmsv+Xvvn32UdeJuptVsxeFVosHV+onbFOssmpMt2DpjD9GHv3sSgTunHygweVhTbDiyWjT3Wj9xOzPPzdN2ES33m4fvcO/cI0WmJcVKmVGtG7+Vydz0xy4yz/D6wTs8uPBE5qPCO3lYU6w4JjGOWjd+q2JtUUuyBX9P2UmYL+++weMrzxSZlmQLTkgMmdaOYzM3TNpOnt8/v/0KT649l3mJuD08TmwU1wWsHbtFsWanJdmC9RO3ESnrs5sv8ezmS1meTpd/yWmJAmrN2M1s5gSR+eTac7y4/UaWp9Pl7CeVx64Zo8w0J1uwdtxWIjt9fPU5Xt1/K/N7cTqcSElIoeSxq0ZvYh7PtWNF5qPLT/Hm4TuZuZjT4URyXDLOSuSxq0dvYrZ9zZjNRCXz4MJjvHscochMik3Gecn6BcHJUolpxZrRIvPeuUd4//SDTGXidDiREJ1IyWNXjWIzV4/eRJh3Tj/AhxefZUyH3YmEqERc2C2qVviE2ZB34hC2Jc4WFULWS4DjPehOHAAcgDMGsJz0BPxP8cN35PfPP2bKoVQch/euRQaPrzxju+C5bFLd8eDiY7YQnwORCgpMtmPdzWPioocHF5+wa4aCx0dXpfBHl58xJ1QsyRbckDAfXnzClGLxTh4fXwpSwUdXnqfOPCoyH115xmQ67A58ei1IBR9eespUGpiTLNSCj0dXniruBwB2m6A7B4ROghXmJLrtj68+Y+5rs9hJ9fFHl58xj7s5yYKbJ0Smpy+8NCwpVlLX9eGlp8xrzrPtTyUWrEr7umsyPrr8jCmXMydZcEuSp+cCNGmkJKQg5rPg0vjo0lPmxHlKoplaQPP8JpuZGJdEauM+vPSUKRrwZL64/UpxP0CQsrqdHx9eeso07UpJNOO2RJ8ttYr1jNjIeCJpFJjKsr6URDNuS+SBr+6yrWJjPseROqGPLj+DVUEb7mbePSORHNqfMJlwfgF4V41U222AZ9T35JPAW64pv/cv44fvyE0+BuZ7druD1Nsz+ZpSlQS5H6sAwrNjVjhsUqYRHMc+RD5BYvUZqYWAEtNtzCNMYikzOc4jz1SYdpsDJl+hHV6+RqZsi+OE54aE6ZVKnnYnOd5evkamXI/jODrPVJkOcrxNvvIJUYopydPwD0z3IxgvXyP1bJ1iqjiq6hCrHiMAOO1OYtlg8jUyBwUqFd12z4kxKk+Hk5xDgamslFJ55KlPLU8nT9ph8jUyFUgqtYqYVgFQLEvmDt7Jk/dNvibmegyVWkW1XWqpkBrTy8/EVImpNSqqipOSf4kI5cn7Xr7G1JmS7ybLtMrNdNsWmHyN0DDqlao1aup4gmNfn8L7rr/JeQNg/X0NoPJlvPfv4ofvyOv1rME8uemzp0XaLMKkTLHqBUmVEs8weOlRR1K3sl7P6kxmhlzpEZpJmJQJr1kYPANq8NKTZ4DuPFkXTKa8GYgEr0TtIswRpN5EM+v2qKZYCorjgCwFMlISPJZcTm/So3bXquR1ne5VFR3eOE4ooiyV4DkdjDyNOg9mNSYzR9FstASPsTBEZ9ShtqS+Zp1urDw55A7PTkrNlapfnM006KianbW7VlUsLMxxHPKUzkk607INw9mFvA061JR4vdTqUkWZqeKQv2xuMt9RtlEJpjWu1qBFzc6VyeuanSpTHh5SZoHyecjcRLkmJdl56jSUJ03NTpUUOz6VikPhSvnIjbH8PzBrSmqLVu9QUVEarFJxKFq1ILnJlW9aitl2tUe90uodGHmqVSheszC5eVRoXpr5q0mj1aC6RMZbrV0FRRmvSq1CidpFyXesYvPSTDmnWqNCNYn5HAwNACjdSFSAvjI4d0duqK2wD6GCMzZM5f1vjx++I2/YtxYy589IdbxqjRpGHyN+X9ePbNMZdPh9XX/oTTpqZG7w0qNsoxKUIqPRL7WRKW+YjGnyNeK3tTRz2Op+isxyTUqhqEQy1rh/HWTK48HUuphrfiHb9EY9fl3VV5FZsXkZwZbVFU0G1kOG3OmoG4TANGHYapFpMOnx60oXk6OZlVuWRcEKoi1qsyENEJaTwVzVl2wzehkwdEUfRWaVtuUp9USLoQ2QPkdaiqnRqWHyM+FXCdPkY8Tg5b0VmdU7VKDUEy2HNUK6bGloplYNLz8Thq7sQ7Z5+ZowaFlPRWbNTpUpyVir3xsjXbZQ6gah0Wrg5W/CkOW9RaafFwYs6eFigmLW7lqFUjq0GdEEabKE0EydBt5+Xhi8vBfZ5u3vhf4Lu8mYepMedbtXR85ioola+9HNEJpJgenvhcHLRKZPgDf6LVBm1u9dA9kLZxGZY1ogNFOwjOkV4IWBS3qSbb5BPugzt4sis+EvtZG1oGh41nF8SwRnCKJMszQ6DbwDvDFgiSgR9Qv2Rd85nQVTNY/j2aR/HcqcrNOElggOC6Ty1Oo08AnwoqSX/iF+6DWroyKz6aB6yJxXVHB1mdQGQekDoTNKmHoNfAK90W+BKD8MSOOPHtPbK5735kMbIGNuUW3F+QwGVKGgR9s6QBUAzneMuJ86FPAZCsBzBG8EvHqA02TB94gfviPXGXSo0rocbDa7a4WY8Mw5R+HMMuez3CVzCNW6XWdBpeLgdDhRtW0F6kuuN+pRqZUCs0gWZPCQseUtnRP+oX5yZptydMdh0qNiizI008kjR9GsMhlbvjK54BciZ1ZuTTONXgZUbFEGdptd2O5i5iyWTeamlrdMLvgF+4orylQcnA6ewSwtY+YOz4502Wlm/rK54BPoI2Gq4HTyqNSyLM30NqJiM5rpdPDIUzIHWbTkjgLl8sAn0Fuymo4TmJIFHIDQ6ZdvWopmOnnkKa3ALJ8X3gE0k+d5VGxBL7bw8jWhXJNSsNscEqYT+UrnQhoPaVzBCnnh7e9FrSTkechc/bz8vFDek+lwIF+5XEiTmWYWrpQfXr4msrrW/ZhJamELCI83yjYpKWPmL5ebLNgizMr5XbprN5MDxwHlm3q03c+Eso3CXUy4mE4UqpBXxixSpQCM3h5MlTBal4a3vxfKNgyHw8XkXHkWqpSX/AKlmF4G8ljRveKxbGOa6RPgjTINipO2c5zwiKpQ5fwIzhBI7Vu0WkEYvPQSJgdOxVGOhoAgnVxyLj06DHmPLHnMyJjTghZ9P+GviwEIyUgzG/XJhambPqBUjUSkz2pB8UpJGLvyLTqPpSWv4AIAfRUIk5iuAwoHoCvt6uAlu+rLux7FuH8VqACowRmq4nvFDy8/vHniHsY2mi6TCuoMWlRqWRa/rRFH0L2LDcOre29lPw31Jj1W3J9NHsNcP3oH45vOVGRWaVMev64URpE8z6NXkV/x9tF72epBg0mPlQ/nkMcw1w7fwsTmf8qMdHQGLaq1q4Ahf/UhzJ6FhuLt4whZngYvPVY9mke+BFcO3sSklrPleRp1qNGhIgYt7UWY3QsMxvunHxWZqx/PQ3CYwLy8/wYmt56jwNSiVucqZLENz/Pomm8QPjz/pMhc83QBgtIJj2Eu7r2GP9rOk7fdqEOdblXRb343wuySZyA+vvgkW+Vo8NJj7bMF5NHO+V1XMK3DAsW21+tRHX3ndiHMTrn64/OrLwpMA9Y9X0AKMZzbcRkzOi+UGSjpjTrU710Dvf/sDEDo3Dvl7E8VnnaH0duAdS8Wwj9EeFx0ZutFzOy2WGZIpTfq0PCX2ug5owNhdszeD1/efVVkbni1mDx/PrX5Amb3WCLP06RD43510H2aoD92OBzomL0fIt9FyR7XGX1cTNfjopN/n8Ocnstk50hv0qHpoHroOrktYbbP2hdRETEypsnHiA2vF5Nn2sfWn8H8vn8p5tl8SAN0nthaYNodaJelj1Ak2pPpa8TG10vII6gja05hYb+Vinm2HNYIHce1JMy2mfsg5lOM7GmIydeIv98uJY+gnMnbgPjJADwnHQ2Ady+ovIVftzxvAx9ZCXBGQfaclvMBF3IGnEpouzNpC5AwVYFpBLz7QOXd28W0upjRCkxfF9ML3xr/Z+WHm6buVHRDs5ptOLP1IhJjhdnhpzdeIOKZvCMDhJO+Z9Fh8vrvVJinNp0nxjxPr7/Ax5efFZeAO+wO7F18hGIquaFZzTac2HgOSfHCzPjjq8/x6fUXZp77lkiYU3Yo55lixfH1Z0m5tYeXniLyXRSD6cT+pUfJ642TtzOYNhxdc5qY/Ty48BhREdGKTKfDiQPLj0mYO5TbniJINN3v3T37ENEfYxSXqjsdThz86zjFZLX94IoTRHZ65/QDxH6OYzAdOCSp1bpx8namC97+ZceJ7PT2qQdUJXVpOBxOSna6YfIOpqvgvqVHiez05vF7VCV1z7YfXi0ymXkmW7Fn8REiO7157C4SYpIU51ycDieOrjlN5ano1pdsxZ4Fh4lS5frh20iKS1ZkOhwOSnYquHMqM3fNP0gkolcP3UJyQooy0+6k6oCyvkeWZCt2zj1A5JxXDtxESqLcGdTd9hMbJBbXSUsg73ABwAwkrQbPu5Q/lpMuhYkClLeDT9n/DcwUIGkleN4pYZqZTJgPKDD+ffzwHfmbh++Y72l0GlLU+O2jCKb3gd1qp/y/3z1+r7ifm/n5zVfCZEnwbFY7nkmYnj7TFFOrQeQ7wa3P0+OaYlrseCaRib3z8ISWhkqjxhcX8+2j90wfD5vFRuX53sMTmmKqVUSC9+Yhm+m24PwmpoojroJvH8l/hdBMMU93UW2l4DgQWd/bRxFMrxXPPP+J6Zb1vX34ninrs6ZYKSnfx5dsJu/kEfvFxXz0nln42ZJixfNbUuZnxf0AgHc4EfdVkPW9efieKcGzJFvxXCIP/PSKzbTbHUQq+PZRBLMwuSXZSlWn/+xyylQKm9VOpIJvH0UorrEQmBa8uP1aZL5mM61mG5JihQHRm4fvFW/0gCDnpGSMDvb3CHwKwAt5wv6SLRVECmB/LL50sq958EkAn+xiPhf/LYtk8LbHjPf+XfzwHXlQWCDzPZvFjsC0/gAg1FtkqA9VahW15DjQ9UhAkWm1I8DFDAoLZJr9qNQqpJMwg9L/AzON8FM8JEMgU34oMMUl3O62KYXdaidqkOCwQKZUUK1RIa2EGZDWj820OeDnqt0YnCGI6cym1qg98kyd6a4HGRwWyDQQUmtpZkAoW5blsDuJVDE4LJApwdNo1UiXVWT6h7LzdNidRF4WnCGQaVam0Wqoa8n9iEUpeKeEGRbIlMtpdHSe7nOgFE4nTx5DhGQIUlS3AMIEIcUMTkXmxovMoLBAWfk0wtRrqGveNxUmBxDJrefkpSczbVZxLkEqb5QxOeGRESCcI5byTGfQUkxw/kwmoAY4V/UwVRrIJyXdoQfUEmuJVJkaUZ6oSguAJXf2YP6H+OE78uaDGyjqf9UaFQqUz0OeqRaqlA8mH5NsP0C4WBr9IsqA2Ew1ClXISzrIwpXzMbXcWp0GDfqI5daaDa7PZBapnJ98kYpULaBYP1CJ2XwII0+tGsWqFyQXfbHqhRTrcAr7atCwT00xz0Fy0ypA6PTCaxYmzz/DaxaGhtFJqLVq1O8lMpumwixZpyixByhRuwi0OkYHqVGjfi+x1FzTQfWUmTo1StUrRp5/lqhTBBrGoi2VRo26Pap/A1ODMg3DiQSvVL1ilF0rzVRRJfGaDKyreD41Og3KNS5JNPalG4Szb+AqFWp3Eye+mgxgMys0K01kfWUaspmciqMkok0G1FXs+LQ6DSq1LEskeOUal2Dbw6pUqNVFZDbuV5vJrNK6HFl2X65JSeYgi+M4SibZqF8dZaZeg6rtKpBl91ITPAUqanYSmTC1g3IHrQOMjcQl8oZaqdosc8bG38hsAo5zfXcMtQGOPQ9JMf9D/PAdedW25VGheWnhju46yFqDFkHpA/H7uv5kP5VKhcn7h1OLDziOg1avRacJrZCjSFayb7X2FVCuSSla4qTXIih9ACU/VKvVmLxvhLBQwDVC41QCs8uUNpS8q0bHSijTqATF1Bm0CMkQhGES+aFarcbk/crMrn+0pWpP1uxcGaXrF1dkDl0pyvrUGoFp9JEze0xvh8z5RHlXne7VUKpeMbrtBi1CMgZjyIreFHPK/hEw+hjIiNfN7DWzA2V8VbdHNZSsU1SWZ2jmEEqCp9FqMGnfCBi9PZgGLXrP7kSpkOr3ronwmoVkzDSZQykJnlanJUzPtved2xkZcooqpIZ9a6F4DTkzXdZQDJTI5QTmcBi89CRPlYvZb0FX6pdD4351UKRqQTkzWxrKUVGn12LSXg+mWmD2X9SdGj03HVgPhasUkDHDcqSlnAp1Bh0m7vldYGrcTBW0Bi0GLOlBqWaaDqqHQpXyy5k50+GXeV3INr1Rj4m7f4feRDN1Bi0GLe2J0IyiwqXFrw1RoEJeGTND7vToM1dkGkx6TNj1m4yp1WsxZEUfMhEPAC2HNUT+crllzIy5w9BndmeyzehlwPhdv8HgpYPOoHKdNw56oxa/ru5LJuIBgPPuBWiLAJDexPWAJjs4n9/F/VRe4PwXQeigpQoTPeA3HZxaPJ6cd29AW1iBmQOcz28Spjc4/4UM5kxwalrd87+G8pDrBwsyQeS+sfFQXlTj3u56z72YR3FChLFAgZmD+79utsLzY89FOTwjT/d2MT/2HdvzOTVzyT7PQ2ixhMnL9+d5Xp47T/5P/rd4yR/l2fl6Hk9W2z1ZIHkqMZXazrBB4HmRQfL03En5vDtTyZP3ZCnt6nQqHT3lHP8DU/la4l2H0M10ArxamckrMBl5ArwkTyd4XvkXirtNss8rXqhSZirXkhJT8ll3FC0fj7WXH+HQRh+8eqRFWFY76rSNR2j+GKVEZURWjsrbFE+SAlPh44rBYP6P8cOPyE/+fR7nd16hDKFsFhuiP8ZgWof5ZJvT6cToBn8gOT5FLA3HC/uuG7+FmqQ5seEcLu25JmNGfYjG9I4LyTaHw4FR9QWmw4O5ZsxmakLl2LozuLzvhoz5NSIaMzsvophjGvyBlAQzHDYnxVw14m+8uif6QhxZfQpXD9yUMSPfR2FWVwnT7sDoBtPkTKsNK4ZvxOsH4oTx4ZUncfXQLTnzXRT+7LbEg/kHUhLNZDKRd+W5/LcNeCsp+HvwrxO4fuSOnPn2K2b3WEq22W12jGk4TZG5bOg6vHsiMvcvPYqbx+/JmJ9fR2JOz2XiNqsNoxv8AXOSRcZcMngN3kuK8+5dckRmgmY12/D51RfM6/OXuM1iw5iG02FOssBJmDxsFhsWDliFDy/ECc7dCw/hzukH1ASh1WzDx5dfML+vhGm2CjJaKdMpMBf0X4mPksnInfMO4O6ZhzLmhxefsaDfCoo5rtEMWJKlTKHt8/v+RUrsAcDOuQdw79wjOfPZJywcsIpss6RYMK7JDFiSrWRi2s2c23s58bgBgG2z9uLBhccyZsSzj1gkqdlpTrZgXGNPptD2OT2WkrJ9ALB15l48uvhUxnz/5AOWDllLtvHOZPCxv8A/KBFtBnzEyCVv0em3DwjNkAjEjQDvEI8nn7gMsN8BIJ0ctQKOl+ATpkmYieBj+0Eww3JPdjuFfeOGg3dESphLAPtdBeZz8AkzvpH5G3hHFL5H/PAd+fbZ+xQlTg67Ew8uPEH0J+Hue/fMQ1J7zzNsFjslP9w+h828d+4RYj7HAgDunH4Ic5KSw5kwgbl3sYTJzNOB26cfIDZSUC/cOnFf0YnNzdy3RJQK7pizX1GK5bA5cOvEPaI0uHn8rqJDJCBMiu6TyA93zN2vONtvtzlw49hdsc7ikduwM4yOHDY7JZPcMYfNvHb4NpGIXjt8GzZGTUS7zUFJGnfOPcBkXjl4g8g5rx26zVStOO0OHPzLkyk/TnabA5f2XifXz5UDN5kGV067EwdXiDLJXfMOKjOtdlzYfY3IOS/vv8H8Feh0OHBohejOmRrz3I4r5Jq4uOcanLJRoYvp5CnHz53zlZk2qx1nt10i18+F3dfY5m8OJw5L5Jy7Fx5WZlrsOLPlIpFent8pq8UuMnkeR9aI0svdCw8pOiraLHac/PsckV7CciSVAS0PPmWX+DJ5I5SdCq1Ayl7wvItpPprqIFnOVFLNWIGUXeB513fHfAjg2Q/eKeZ/iB++I3dL15RCq9eQ4rZfI6KZJ8HpcJKiwoBQaDc1pluGFhURzXyUITDFO7RbDqfI1GkQ+yWe5Mn+QjupkZm7bUqh0WkR45K2fY2IZvqiOB1OfJLI2WI+xbGZWjVxwfsaEQ0HQyrosDuJ7BMQZXtM5ldJ2xnl4xx2B3FzBICYL7L63STUGjXiXRK8rxHRTKmg3ebAR8l5d0sBlZkqJEQLN7GoiGhmwW+7zY5PkjzdN2ilUKlF5teIaKb80G51UMfTfbwUmSqO3Bi/RkQzXQXtVjvFjE+FCU5kRkVEM+WHNqud+h6lxuQBJLtutlEfYmQWy4RpsePza/F7lOAanCgyeSAlwdUhOz5DuSMFhJGxRA7MxzKZgEOUBzo/Q7nDh/C3pDJGnn3eATsE7bibyZI0WlKXRv6L+OE7culEnWfYrHayWjNzvgzMkYRGp0bO4qKXRaY8GRT3A4QvgLvqSKa8YQBDS63VaZCzmDiB6llJh2La7GQZdOZ87L+t1WuoPDPmSc/c12FzIDRjkOtvZ2DKJD2ZnhYEFNPhJHLPzPkyMN0kdQYt5Q2SGtPpcCIovchkuR/qDFoqT08LAmnwPBCYzh+AcNxZVsOeeabGBEAkopnyZWC6H+qMOirP9NnZTE7FEcljprwZmK6CQlk6kSmdTPUMlVoFP5f0MnO+DEz5od6koyb402ZlMzUaNVFAZcqXgSk/1Jv01DWfxsMqQRqCP4qggMqUN4zyOZGGwaQXqnq5mVnYTJ1BCy9/lzJNkyMVB0IjoBH9haBmf4/AGQHOJXnUZBNeM5mSik8q9jUPzkuUNGpyiP+WhQmcNg/jvX8XP3xH3mZkU0XJmM6gReWWZYn+NWexbAjLmU7xS63WaNCwryjrazuKzazSpjyRy+UKz470OdIqMlUatQdTXtvTzazWriKRtrn9R5Q6NLVGTaq/AEC7Uc0ZTB1qdKpIKt/kK5MLoZlDmEyprK/daAbTqEOtzpWJXC5/uTyC5l2BqVKrUK+nlNlM0c5VZ9Shdreq5L2CFfIiKH0Ak1lX4lDZbrTy8dQbdajbvRpxwStcOT8C0vgp+rGr1GrKTZLVdr1Rh3o9qxMJXpEq+QV/HQWmWq2iHBXbjW6uaDurN+rQoHdNIsFzy0WVbo5qtYpyfmw3urni8dSbdGjYtxaR4BWrUQg+Eo8Zuu0qylGxPeMc6U06NOpfm9xkwmsVFjxmFEYGarUKNTqKzHajminKY/UmHZoMqEtuhiXrFBVsphWYKo2KKozedmRTJrPZ4HqiZbG+squDVBhscB6ugl59oKzlNgBeXUSran1VV0euxNSAM4pVqdhMI+DVzYNpYDJhqC/f/j/ED9+RF6tWEJ0ntoJaqyZmVGqNCrlL5KAkYwAw5cBIhGYOIR2vSs1BZ9BizNYhZOQOAMVrFEbH8S2g1tDMPKVyUvIujuMw5eBIhGQMJrUO3cxx24cSnxUAKFGrCNqPbS5j5i2Ti3JY4zgOfxwahZCMQXSeRh3G7RhGmQ2VrFMU7UY1lTHzl8uNvnO6UMxph0cjJIOEqRKYE3b9Rsm7StcvjjYjmsiYBcrnQW+JvIvjOEw7MgZB6QMlbVdBb9Rhwu7fKXlX2YYl0PK3RhRTpVGhUMW86DWrI8WcfnQMgtIFSNqugt6kw6S9w8maAAAo36QUWvzaQJZnoUr50GNGe4o54/g4BKYLoPM06TF5/3CyJgAAKjQrjWZD6kOtUREzKpVGhcJVCxD/EuHYqTDj+FgEeDANXnpM3j+CWgRUqUUZNB1Qh2KqNSoUrVYQXae0oZgzT4xDQBp/qu0GLz2mHhxJLYSp0rocGvevLcuzWPVC6DJZZKrVaoEZ6kflafQ2YOrBUZTHeZU25dGgby1ZniVqFaHKJbqZ/qG+5IbrZv5xZDQZOAFA9fYVUa9XDeEcSfIsUacoVS5RrVFj1snxCM7gA6M3B62eh9Eb8AnQY9qRMWTgBAgWvg37VoNWr4LexENn4KEzcCjfpCjaSsolcpwGXOAGQBUAStbHeYELXEM8UQCAMzYHjM1d+7kNrtSAoSo4r94SphZc4HrXYh83Uw1w3nKmqSVgbKrArAbOq6eEqWMwfcAFrgWnYo3W/1388B25JcWCU5svQK1RC7I515OO57dfy5awP7n6HFEfRH8Qp4MHp+JwYuNZ6rGLJcWCU5suQK2VMjk8v/VKttz80aWniP4UA96DeXzjOYppTrbg9OYLUGtVFPPZjZcy5sNLTxHzOY48g3Y6eHCcYGwkZaYkmXF660UPpuAB47nc/MGFx4j5EisynWzmGU8mJxy7Dx7M+xceIy4yTnI8nQAHnNp0nmYmpuDMtksUk+M4PLryDB9e0EvD7557hLioeDJB6Waf2nKB2i85IQVnt12CWiPNk8PDy0+pZ+mA4OESH51AlBsCk6fKpwFAUnwyzm2/LFxLLtmjiuPw8OIT6tkvINTNTPBg8jyPs9su0cy4JJzbcYVichyHBxeekGpL7rh9+j4SYxOptvM8jzMezMTYJJzbeRUqjzzvn39MPfcGgNun7iMxLonK0+l04pykfJqQZzIu7LpCMTmOw50zD0kFJ3fcOnkfSfHJ1HlXYibEJOLi7mvCOXLnqeJw9/RDSt0CAOnTn8S6S9cwevkL9Bj9Ab/Ne4VNt+8hd16PyT4+Dt1+XY+1l56i9/j36DkuAstOPsNvs7ZBBfr65C0XAGcyKDUI7wCfcsyDGesqqaaGKPtTAZbLrmfYUuZ51zNzN9MB8Hbw5uOgd4xhMC8ymCkeTBt48wl8r/guHTnHcbU5jnvCcdxzjuOGfw+mO/YtOYo3D95RdSYddqEmoVQqaDVbMb3jAlhTbNQEpSXZikt7b1DlufYsPIy3jyM8mA4kx6dgRieaObPLIkXmxd1XcevkfbJt94JDePeE9pRwM2d2EaWClhQLZnZdLPxtD+a5HZdx98xDsm3XvAN4//SjB9OJpLhkimlOtuDP7kuE/TyYZ7Zdwr1zj8i2HbP3IeKZB9PmRHJ8MmZ1XUy2pSSZMbv7UmGSyoN5essFPLgolrra9uc+fHzxyYPpQHJcMiVpTE5Iwdxey2W+G5ZkK05sOIeHl0Tm1hm78fHlF2qSTGCmYHZ3kZkUn4x5vZWZx9adwaMrYsm4LdN349Mrmmm3OZAUm0zJJJPikrCg7wpF5uHVp/BEUt5t0x+78PlNpIyZGJuEub1EmWRibBIW9lulyDy08gTlCbNxyg58eRtJTToSZu/lZFtCTCIWDVBmHlh2jPJa2TBpGyLfRSky5/URmfFRCVgyaLUic9/iI5Q8dv2EbYh8H0W33epAYkwiFvQVZZK8MxpImAaVyozwyglo1O0rytaJh1abAiRvAG8TSwDyCfMBx2cEpU1C3fbRaNApCumzJAF8HPi4CeJ+jiggYTrkk5NmIHktePtzCXOuq3OVqmFsAB8LPn6ihBkJJMyCfBLVDCStAm8XzxGfMAdwRjKYkyTML0DCn8p5Jv0F3v4a3yP+c0fOcZwawCIAdQDkA9CG47h8qX/q2+PA8mOKciRAKLjsVnncPH6PubzWnGSm5F0H/jquWIAYEAouu/W314/eYS5XNidZKHnXgeXHmMZAbx+9J1rZa4dvEx9yz7Ak08yDf51g5vnmwTt8dSl6rh26xSz1Zkm2UJKxQytOKioIeF4ojuyWc149cJPp32JJtnowTzCZz2+9JOqaK6kwrSlWygHw0KpTioZQPM/j6Y0XRNlxZf8N5gSq1WzFEQnz8KqTTObjK88QHy0oJi7uvc5k2sxWHJXI5Y6sPqWoHOF5Hg8uPiFqkIt7rqXCtFFOhUfXnFZmOnncP/+YSC8v7LrKZlrtVNHto2vPyIo0u5l3JNLd8//ElLgfHl9/VlGJ43TyuHXyHpFewnwU7K7GBt68R3xp3g1A6XvkBKznwbvVIJYjYK+nt4FP2Sth7oW8+LGLaTkLnnd13ObUmA7wKdI8U2OeBs+7vrfmwwr7SJl7U3n/2+N7jMhLAnjO8/xLXsh+M4BG34ELAEhOYMmBhNn25HjhAkyOT2aWfgJANNeAUMCWFWqNisimkuNTRDtKhUiIShSZiew81Vo1xWTJD3neI8/UmJK2J8WnMEu98TyIVA+A+OVSZKrI8U6KT2FKGnmep/NMlakmxztZ8nNdkSnJk6XfB4RJTHfHkxSfQqxNZUwnTzpngcmSqwnPds2u450cn0IsWD3D6aTbrqTzd4darSLnUGAqSwWdHnmyXP0A4dGFux3UQjVPpqua/LcwORVH3k+OT2YWX3Y6nFTb3VbCLCYZhPCJUO6cAaGafKz4kmefd6EKilvW9z2ZFkmeygMnwA44JXJLnt124X1p27+R+R/ie3TkYQCkXrPvXduo4DiuJ8dx1zmOux4ZGen5NjMKVsjLlME5eR4ZcwvSojylcjK/fHqjDsVrFiavC5TPwy7UzANhLn8OgcmqhalDsRpi+bgC5fKwzYbAkeo7+crkYtrD6k16Ks/8ZXN/k/ti3tI5mTcxg0mP4jXFPPOWzsVkqjVqpHVVyslXJhdTzmnw0qO4pO35SudW3A8QjJ7cnh/5yuRi7ufJlJZo8wydQUs8P/KVycU87gYvPYpVE5l5UmHqjToivcxfNjfzF47By0CVDcxdIgeTafDSE5lk3jK5mEZcBm8DikryzCUpJecZJl8TkUnmK5uL6fxo9DagaNWC5LVUMukZPv5exHExX5lcTJmkJzNH0ayK+wGAT6CPOIGrLQpwyvJDcCZwOkk1I20qP+ZVgQDnmmjWFQU4RvFnzgucTmKqJZUiypjBovxQW5QtaeRM4PSSakYa9jUPVaggQSRMhqSR8wKnL6H83r+M79GRK32LZD0Az/PLeZ4P53k+PCQkROEjytFuVFPFAsR6kx4thjYg76XPnhbFaxaW2WVynGAKVYeStjVnM4c1JO9lyJkOxaoXUmBy0BmE6jfuaD+muaJW1mDSo+VvjYgMLUOu9ChSJb8y01WlhzDHNlcs6Kw36dF6eGMiQ8ucNwMKVszLYOpQs1Nlsq3juBaKTINJjzYjm5IvcZb8GVGgfB6ZpphTcdAb9ajeoZLIHN9C0a3P4KVHu1HNiAwta8HMyFs6l6xYMafiYDDpUV0iQ+s4vqWiC57epEf7MSIze+EsyFMih0xPrVJxMHgZUK1debKt04RWinnqTXp0GNuCSNtyFM2KXMWzyfJUqTgYvfWo0kZkdp7Yiplnx/EtCTN3eHbkKJpFMU+TtwFVWoul7jpPas3Ms9OElsTxMHeJHMhaMLOsALJKrYLRx4jKrURml0ltmHl2mtiKMPOWzoXM+TPKLHdVahW8/Eyo2EIsdddlMoupQ+dJrcQbrLYYoM4OwPP7oQY4X8F10BWc92AouwoaAe8hEmY4oM6SClOUx3I+QxhMA83UlQTUmRjMAEAvOmlyinU43XkOlTBLA+oMkNtaqQXFjb6aJ+B/iu/Rkb8HIF21kwHA91muBOHLP2z1L9SFzak4lGtSAu3HNKf2HbVpkDDykNxafAJ9MP3oGEqKlb1wFgxd2Yfq0DgVh/JNS6L9aA/m5sHCyEPKDPLG9GNjyYIHQPjyD1neW8as0Lw02o5sSjHHbB0qLIKQMH2DfTDrxDhK3pWreHYMWtaL6qA5FYfKrcqg1W+Naea2ochaKDPF9AvxwcyT4yh5V+4SOTBgcQ85s005tPyVrug9bsevyFowE8X0D/HFzJNjiY0sAOQpmRMDFnWnOn1OxaFq2wpoNpjWyU7Y9RuyFKAXefmH+GLWqfFEFw8A+crkRr8F3ajOlFNxqN6hIpoMqEcz9/yOzPkz0m0P9cOs0zQzf9nc6Du3C9WZqlQcanaqhEb96lDMSfuGyxZ5+af1x6zTEyg9doHyedF7TmeaqeZQu0tlypIYACbvH4GMeWhmQFp//Hl6AtHFA0ChivnQc2ZHqjNVqVWo060qpd/nOA5TD45EBo+FY4Fp/TH7zARqsFK4cn70mNFBxqzbszrqdq9OMf84NEq2yCswnT9mn5lIBiQAULRqQQxb1Qq+ARyM3g6YfBwwegFdJlZBna7VKCYCVrk6XkmoQoHAjWLFeQCcvhzgPQR0Z6oGTG2hMjXxYK4B1Jm/gVke8B4IujNVA6YOUJnEp8Ai02MRoiqNiym5FvUVAe8BCsyOUJkaeDDXKjDTAgEbRbvb/xjfoyO/BiAnx3FZOeHotQbwfZ7gQ1gCvWjgKmqSinfyuLDzKq4evEXtu3PeQTy/9Zr6PZCSaMacXstEjwYAMV/isHjgatitNPP8jiu4evAmxdwxex9e3HlDMc2JZszpuZR6lhjzORZLhqyV5Xl2+yVcO3ybYm6btRcv776lmMkJKZjdcxn1eCjqYwyWDllLTVLxTh6nN1/E9aN3PJj78Ob+O5oZn4I5HsyvH6Kx/Nd1MuapTecpZQ8AbJmxB28fvqeYSXGC8kT6XPprRBSW/bqemvjinTxObDhLKXsAYNMfO/HOo5pSUlwy5vRaRjEj30dh+W/rZefo+PozuHP6AfX5v6fuxLvHH+g8Y5MwzyPPL+++YsXwjVSeTiePo2tPU2ohQCg1F/GMlo0mxiRhXu/l1BzH5zeRWDnCg+ngcXj1adw/T1d/2TBxGyKe0RK6hJgkzOvzF8X89PoLVo/eBIdNynTi0MqTeHCBZq4bvxUfntNyt4ToRMzr+xf1aOzjq89YPUbOPLj8GKVAAoC1Y7dQNgSAMB/kyeTtb1Gh8gRsvnMX07a8wOT1L7H13l00aTsfvPU29XkkzgUcHtWxnDFA/HgP5hsgaQHoiUQHkPw3eCt9zSNxNr0U381MmOjBfAUkLVJgbgBvo695JP4JODyq/zijFZgvgaTFcmbKevA2+ppH4izA4VFJyhkFJExK1fn038R/7sh5wR2mH4AjAB4B2Mrz/IPUP/XtsW3WPiRGJ8om3iwpVsztvYwciISYRGyYuE02qWOz2PD+6Qec33mVbNsyYzcSY5OUmX3EizU+OgEbFep7Ws02vHvyARd2iczN03cjMSZR9qzakmzFvD7LRWZUAjZP2yXP02zDm4fvcXHPNZH5xy4kxSbJmSlWzJfkGRsZhy3Td8sm3qxmG14/eIdL+8RC15um7kRirHxi2DPPmC9x2D5rr2yC0Gq24tW9t7iyX7zhbZyyQ6jzqJCnlBn9KQY75h5QzPPFnTe4dug22bZ+4jbXZDO1q5CnxFXw64dol8mUnPn81itcPyJ++ddP2OqqRylnzv9FwoyIwp6Fh+RtT7Hi6Y2XuHFM/PKvG7+VkaeFYn559xV7Fx+V55lixeNrz3HrxD2ybc3YLWxmv5Xk9ec3kYKqy4NpSbHi0eVn1E10zZjNSGEcz4X9Rangx1efcWjlCdk5sqRY8eDiE+qGxyfMBvgkqDVO5Cmagvwlk6Ez8ADM4OMlUkH7WyBlB+SeI2bAdgOwXZcw/wT4JMifzqbQUkH7GyBllzLTegWwidcnnzALyuXWUsDHT5YwXwIpe5WZlkuA7baEOdOVp0fwyR7M50DKfgbzAuB5I/kf47voyHmeP8jzfC6e57PzPD/lezDdcXrLBUXZFCCM5Nx2qrdO3GNO0pgTLVSB17NbLzENjBJjEslI7Nbxe8ySX+ZEM078LRZ4PbP1ItNoKe5rPLE+vX70DnOCypxoxomNIvPs9ktMZsyXWLKI5cbRu6nmeXLTeZG54zJzUjjqYyxZHHL98G2m30hKohknN4vMc9uvMJlf30dR0kuWL4pnnhd2XWUyP7+JJNLL66kwUxLNOL1ZXGh0ftdVpmrm48vPovTyIFvOafZgXtjNZkY8+0ikl1cP3lJc8k+YW8XFS5f2XGMy3z2OIMqRKwdugjVzbU404+w2CXPvdeYk++sH74nr5ZUDNxX3AQBLEp0nrKcgWLIqhP0JeKdL4WI5BaajHZ8CPuWQ5I+kxnwE3ulS4lhOpsI0g5fK/ixn2EzbffDO5H/+2zCDN4uOn7CcZf992x1RJmk+BXEh0D8w/0P88Cs7WRc0IDx/kq4+S+1HitSWNNWiEhxHVkc6HM5UbS2lihaWVE8pz1SZ35gnB06yMvQf2i7pEPlUj6d4vB2uVYffwkw1z3/R9m9mAvR5TyVPqYPjt54j4bynwpQez1QkrwD37XlK257KfhwH6rx/a57/VEiFzlN5H56nv0fywgoyquS/rDx50B3dPz1qcL//D0zeTr9ONdwe/v9/5On4h31Znfy/ix++Iy/XpCRztKkz6siEVJGqBZijbIOXHpVblSOvyzYqwRwVG0x6ImksWrUAc0Rs8NKjcktRFVC2UQnmCNbkYySSxmLVC7KZ3gZUbinmWbpBOHO06eVvQvrsgqNd0eoFmXpig7cBFVuIeZZuEM5c8OET4I20Lke74jUKMaWXRm8DKjYX1Qul6xdnMv2CfYn88B+ZEkVEybrFmMyANP7Ek6Z4zcLMDtrobUCFZqK0rVTdosxRcWC6AOLSGF6rMLPT9Wx7eO0iTClrSMYgUkA7vFZhxX1Ink3FPEvUKsxkpskcQopZh9cukiqzfBNRghdeswhTppkuWxpSU7ZE7SJMeaonE/pyYC6gUWcBp3JJBfUVwOxqOBM4icIEurJspiYbOJVLtKCrCNG75J+YpZX3AwBNTtFDRV8BzKJpnAmcVGEilTfKmLnBuSWH+oqQq2DcTCM4w4+jWvn/NVr/3hgGb4PswtabdOg9uxORd/mH+KFx/zoyhzeNVo2g9IGUFKv18CYwehlkF7beqEOfOZ2IFCsgjT8a9q0pc8zT6DQIDgtEpZbiF7rtyCYweOvlTJMOved0JszAtAGo36uGIjMkQxAqNBcvuvajm8OglKdJh75zuxBmcPpAwRHQg6nVaZAmUzAqNBMvunajm8HobZB9WfVGgen+WyEZglC7axU5U69BaOYQoaCuKzqMbQGDl16ZOU9khmYKQc3OlRTbnjZrKMo2EjW1Hcd9GzNN5hBUb19RMc902dOgbMNwkTmhFdOpsN/8roSZLmsaVGlTXpEZljMdStUrRrZ1nthK2a3PqMMv80Rm+uxpUallWZmsUKvXIkOudChZt6jInNRG2anQqENfCTNDznSo0LyMIjNjnjCqo+8ypY1i23VGHVWzM2PuMJRvWkredoMWmfNloNY5cN5DGRppAzjf0eJ+mhwumZ2nXE8PaHK5Om/Xvj6pMH0kTG1OwQFRkZkH0InfTc7nVyhbyRrA+Y6SMPO4OnMlZl6q8+Z8hoHlqEgz8wH68gxmAUD74+jI/3+N4DCh0LD0wuJUHCq3LodqbStQ+3ad0ga5StCLKXwCvTF22xBK3hWaMRiDl/eiLmxOxaFqu/Ko0ro89fluf7RDLo/FFD4BXhi7fSgl7wrNFILBy3rLZJLV21dEFcmvAQDoMaM95esMAL6B3hi7bSgl70qTOQQDl/aUMWt0rEyNCgGgx8z2yCHxdQYAnyAfjN02lOjNAaGTGrC4B3RGuu21ulShRq8A0OvPjshWmJZ3+Soxs6XBgEXdKemlSsWhTvdqKNe4JPX53rM7I1uhTNQ2/xBfjNk2lJrjCMuRDv0WdKOOsUrNoW7P6ijbkL74+87vIpM0+oX4Yuy2odSvpAw506Hf/G50nmoO9XvXQKl6xanP91vQVeYd7x/qh7HbhlDMjLnD0HduFw+mCg361kLJOkWpz/df1B2Z8tLMgDRC29WSxUKZ8oSh9+zOlERUpVahYb/aKFGrCPX5AYu7I2NuT0mjH8ZsHUIxM+fNgDknWqBgGRvUah5qDY+s+ayYuLUCitegfy0MW9MdLQeY4O3ngEbLQ290ok57FWYcH0gGD4CrM/X+HYD0RqIGTJ3A6ctSTPhNAjRZ6G2qEMB/rmj5CoDT5ga8f5MzvbqC03uMrH0nK8sP/edQgx9OmxfwHqrA7AZOR1+f8J3q0pJLmWkUmPkAn6GQySS9eoDTeXTOvlNdWnJP5mzmr6R/G9z3kr/8mwgPD+evX7/+zztC8D7pU/w3snzaHXqTHl0mt0azQaJOeUbnhTi7/RJVfkqlVsEvxBerH88j2ud3TyLQN3y4bBm43qRHtz/aokn/umTbtA7zcX7nFcrvRaVWwT/EF6ufzCc+428fR+CXEr/LlA56kx49prdDo19EnfLUdvNwcfdVGTMgjR9WP55HtM9vHr5Dv1IjFJm9ZnWgvMsnt56Dy/uuy5lp/QWmy2f81f236F96pEzpoDfp0WdOJ9TrIf4kndjyT1w9cFPGDEznj9WP55NR46t7bzCg7CjFPH+Z34XSFI9vNhPXD9+mmGqNCkHpA7Hq0Vxyw31x5zUGlhutmGe/BV1Ru4u4GGts4+m4cewO5XWj1qgRFBaA1Y/mkZvB81uvMKjCGAWmDgMW90DNjpXJtjENp+HmiXuU141ao0ZIhiCsfDSX3HCf3niBIZXGykqe6U06DFrWC9XbiYucRtabijun7lO+NGqtGqEZg7Hy4Rxyc3xy/QWGVlZmDvmrN6q2EQcwI+pMxt0zDymmRqtGaKZgrHw4l9wceesd8NEdAJhhSeHgdHIwejkBGAC/aVAZxWveGd0ZsN6A02lBSqIKBpMTao0GUGcAF3yA6Kl5623w0R0hN4QyAH4zoDLWljA7AtZboA2pNIA6o4vpzvMm+OjODOYsqIw1RWZUB5eSRMrUAupM4IL3SZjXwUd3VWRy/rPBGQQdPc/z4KPbuZQkVg9mZhdT7WJeAx/djcGcC85QVcJsA9juy5marOCC9lI3sn8KjuNu8Dwf7rn9hx+Rb5q6U9E4ypJswfoJ24g+/Mu7rziz9aLs4nc6nEiOT6EMhDZO2alY49KSbMHasVuIPvzzm0ic3XFZZtrldDiRnJCC/6+9sw63qmjf/z1rd5yiUdJApctAFAMUUMLExO7E7nrt7hbF7g4QxcTGQkkpFek6tXuv+f0xs9fMrDWzzkF4X/H7O891cenZZ/bnPLP2WrPWnrnnfj54WhgIPXvdK8Y8J0jMZYtW4IvXv9Ey66tT+PAZoVp5+j8+zCtecBazlsxfhq/e+k7PXFePj56VmS8b+/74Zc87i61/zVuKb975XsusW1uvKDeeuvplbe3GbCqL8Zc85zAXz12C7yb+6GEWC8wXRLadffKqF419f/zS55zFuz9m/4XvP5juMSwrFoqoWV2HT18SFrETrnoROY0/SDaVw/iLn3WYv8/8kxVp9uRZRPWqGnz+irBznXCFKc8cHrvoGYe58JffMf2TGR5zsWK+iHUrqvH5q6Ku5ROXP284njk8etGzzvz9/J8X4ZfPZ3mYhXwRa5dXK/JYWncnSoNOJEb5IA72Wu3Noqp9fiaQ+wFAFpYFJMptBIIA8wVZAWSnSEydq5+O+QuQ+xleV0ENU+sUyJl1MnM6H3DdzDxgLwOynzSKSaU8kf8ZyM+A1xslD9hLuPqlxLzVlyne+iNQmKVnFv8Ccp9hY8QmP5B//8HPRuWKbdtsIwiAX6fONi5gZlNZfC1pqX/4cLqZWbQdn/Nfp85G0LCAmanXMA0KhmK+6PiH//LZLOOiaKY+i6/fEcyfPvrFyMxlC46k8ZfPZxkXBhnze8H8+Fej0iKXzjmSxumfzvRlfiXn+cmvxsXBbCqLFb+vcpgmWV+6LqPkOf3TmUZmqjbtyCTdG3mUPOsy+OZdN1Pftr46xeq+ghXdpgalQdrF/GXqLCOzdm29Ux/2Z5/+pOsy+HaikP39OnWWth3ApKyiOPgM40Jvui6DbyQmct9r2wFgm1PsNbzdNzAqKWgKVBrM2BO2ibkCTq3M3LcwGlzReubXXQpJq+2J4jKAcpOp7DcNMMXDC/I/69sBbDClXNKY+wZGgyuacuXpo/8u/gFq1wumyWCL1jNP9Y0Qm/xArvNEKYVdtJ25yUgs7DvfFE2IxQa3J4mbWZoyCDfAjCUlZsScZ7FoO54U4VjYqP11M021EwEm1YvIfTeZgAGIlYlFmXDEzJTzbJApbX13e5IozIL4jMKxsFE1Qoir7z5M25Wn6YbjZZq3Q9tF2zkvWJ4mJkGsTGKGG2I2Jk+i5hk2950WbefY+DItlQliPj8BKn5PojCqQWABEHYPRiOsEtOZk47AqAaBpS5uNsjkvycR/zyVxc0GtsGX/mZDfVeq+fjlKTP9+h4wG2qtZ2zyA/nQY3c3DrwtNmvmFNTt6yNtiyajGHacmFPd+2gzs2X75o4Er//ePY2bUqKJiGJwtdcxuxsHnzadWjql5rYf1ttYST6ajCrMvY8yM9tu2cYpNbf9sN7mvieiimnWkLGDjANau63bOmXhdtinL4r5RjKPNDM7bLe5UxZux337mh0q4xGFOfiIXY2DZMdu7VHVurJRzCFHCXOvwUfs6jGDKsUWvTo5JdwGjOxn/MYWiYexl2QYNvjwXY3y2K36dHYcAHca2d/XSXPIkYK5x2EDjcwu/bd0PH52Hr290b44ElOZiO4L44AS6iVkfZEhMG+KiYDEJT+e6D4GJgFCfUAsPuhH9/JhhtX6mtHhZma4vyiNFt1b00ZmCr8TRIdBP0ATILwDSMnxUJYs6phRyeMnOtSHOUB4vUSHwuxxHgL5/6Vm5/5n7YtWHVp4zJMi8QjOf/w054k5lojizPuO90ixIvEIug/cRpGMHXjOCLRo19zDjMYjOP/x0wUzGcPp9xynYYbRY1BXbC+pEg4+dwRatmvmZSYiOO+xU53X4mUxnHrXMdo8e+3WVZF3HXz+KDTfrKpBZqIigVPvONojGYvEI+i9Z3fFHvaQC/dDs7ZVLpMnC9FEVGEmKxM4+baxWmbfIT3QZ8/uzmuHXrwfmrWp8hgyRZNRnPuoqIlYVpXEiTcf6el7NBFB/6G90Wv3bs5rh196AKraVCqDucN8RDDLm5fhhBsP1+a5wz590XOQsEU94rIDUdWqwsOMJaMY97Cos1jRopzJ9VzMaCKCnUb0Q7eBovL5EVcciMpWFa6+s6f2cx4+2XmtqlUFdzX0MgeM6q9Y/I69agwqWpZrmDGMe0jkWdW6krlEapgD998R2+4gLHZJ8ixe31J+MLAAkgQpF9vpSaAlkDwDHmkdiQHRYSAhcS6R5DjAqoTHOIokQCpkZmsgeZrm6TMGxPYFCYlziSTP4UyXGoQkQcqvkphtgOTJ3jwRA2Ijmaqk1LbsXDD7W3eeSZDyKyXmZkDiRANzNFO/OMzzfZhXSMzNgcRxBuYBICGztfP6xCY/kMfLYhhzwSjYtu0UeAVYpXO3v/TOo7fHZlu2caYECCEgBDjskgOUr8qJ8rieOaQHtnHJFwfuvwPabtFaZVoWDrt4P5VZkcDB53uZfYb08HhW73rATmjbWWVaAeLJM1mZwEHnjfQw++3dyyOJ3PXAndCmU0sXk+UpTw+VVSVx0LkjeU1PxqSUYvthvbCVSxI56OABaNWhhcIMBC0cepHKLG9WhgPPGcEW9ggc5g7D+zCXRyl2O2QgWrV3MQMWDrlwtMpsXoYDxu2Doou54759PJLIPQ7dBS02byaYFkEwHPQwK1qUY/+zvcydRvbDFj1V5uDDd0XzzapUZiiIgy8YpTBL+xdK9UwZExgwqr9HEjn4iF3RrE2lwgyFgzj4fJVZ1aoCD36xA/Y/YTmatymgskUBQw5aiwc+6+BhjjlvZ1z+WB269k+jvFkRnbbL4owbVuKCR4eocrlACyB2JNiTsfSEGNkbCKrnPIntB1jNpXYEQASIH6e2C7QEYocDpcKvAPv/yFBuWyszDwBIM5VJIkDsWLVdoBUQO8yVJwUiw4CAes6T2IH85iQzo0D8GBezDWe689wHCKjnPIkfzG8kpeuQsBtQ/GgN8xBNniM8Lo8kPgawKlx5xoD4WGys2OTlhzO/moML9/qPVoo17Lg9ccY9our9ubtdiVnf/ObZ4RlLRvH47LvRgu/c+3XqLFw87Dotc58ThuC0u8TJNW6XyzFn2jwUcurX91hZFBPm3ONUfv/l81m4ZLieOeKUvXHKbeJEOGvny/Db9/M9OzxjZTE8OfceZ9rg509n4LJ9b9AyR502FCfdcpTz2hk7Xoz5Py3yMONlMTw5715n2uDHj37BFaNu0jAj2O+MYU41eUopTt/+Yiz85XcvszyGp+bd5+wG/GHKL7hytI4ZxgFn74vjrj/cYZ7a70IsmvGnZydqoiKOp+bd50xFTJv8M64+4BZtngeeOwLH/udQh3lKnwvw+8zFnimWREUcTy+435mK+G7Sj7jmoNu0zDEXjMJRV41xmCf1Oh9/zl7smQ5JVMbxzIIHHLvhb977AdeOuV3LPPSi0TjyioMd5ok9zsXiuUs8zGRlAs8svN+xG6aZj0HXnQ2vKiIGJE+BlTzVYdJVw4Hi7/AsUJJykJafOLsWaWYK6LpzDMzTYSVP4kwbdNUwoPinhlnBmaU8J4OuuwBeQ6gYkDwTVvIEiTmUux/KTCIx45z5Pmj1hWDFil3MsnGwEsdKzL24+6HtYlaCtPrE2V1J0++BVl/izZPEgOQ5sBLHcGaRM5cYmJ860zA0/Q5o9WX6vpedDysxVjBXDmZKGjfTasb6biqQoYl/rfzw2eteNcq7Jo3/yCn5tfDXPzB32nztNv1Cvoh3Hprs/PzMda8a5V3vPfoh0nWMuWD675j300LPIA4wJco7D4tq3c9ca5Lg5fDOQx845dDm/bQQC6Z7B0fGLODdR0W17meufcXIfOuByU6prbnfz8eiGYu1zEKhiPekeqXP/MfEzOLN+yc50sS50+bjzzl/GfIsYuL4j5yfn77mJWOer987ETlu7Tv723n467elWjuBQq6g1Ow0M7N4/a53HebMr+Ziyfxl2nnyQr6g1Ox86hqzTPLVO95xpKwzvmDV6nVz2oVcER889YlgXm3O85U73nFkp9M/m4nlf6wyMAv44GkhQ6N1d0MvbUsD9Y+BlnxEct/wAUKzRkDzSo1JWnePD/NRUMoZua95UWET820XU1c2MQ3UPywxvwTsVRomBWgONP2OeKX2bs0gzpl1D4nSi7mpXGnjPp6UqUTS7zWcJ3Uxs58xG1wdE1kg0wgm0kD9A0KhlP0UoNWGPNNAZqIb8Ldikx/If/thgVHeFQgFHAne/J8WmYvGZvOY8YXwXJ4vVRfXMUsSvPk/LTLK5XKZvOLjPO/HRWZmwMLyRSuddibRSi7jztPMtAIEyzhz/k8+zHQOMyXmgum/G5mEEEfWN+/HhWZJYTqHmV/KzD/MTAAr/5SYBukjs0kVXtsLf/1T2w5gT6Krufvh/J8WGSV42VQOM78SFdoX/WrO0y7aWLN0Hc9zkXFBOpvKYsaXgvn7THOehXwRa5atc/IsGmphZlJZJU8U5huZoHkmFwSAwkz2szbSqpTPl5kR8sPCLLNcDimgIEkOC+brCDTNBzAA+YaYUp5FP2a9xJwJcy3OFKjc9+IiH2Yt+wcAhdmGmwiY/DAnSQ6L5usIdrWwuC3MNFjolpi/6H+3nrHJD+SlWoK6KOQKztf7ylYV5pqZhKBFu2bOz+XNzcx8toAy/vW+slW5seI9sQiab1YlmC3KtO0AVn28vDn7ilvVqtx4w7Esghaby3mamYVc0fl9ZasKo1zOsohTi5Ixk9p2AHuCLWuWdJgBQ41JK2Ch+eZS35utB9OgobcClqOYAYCyZgltO4BtzClNbVS2KkcgZOh7wFI+I7mikyfPQhHJyrjE1OcZCFrKZ5SsNDNtJc8Ko81yIBhAC+l4wjKfn0ARTo1Jq7mPXC8IBFpJTPO5BFCgZBxlNYO6ld3FtFqLH4kfE3DqVvoyQ2xb/Xozm28kJhGLsFYzGOuAIgQEpBKVxPy5s0XkqJSnoQ4owipzA2KTH8j3O2O41pSIWARb9u7suOD12bO7UVoWjoUx8hQhV9rvjGGelX6ADXpd+m3hzKX3GdzDeEGHo2Flizxjek8sK2Bhmx22cubS++3dyziQh6IhjJDyHG3KM2Ch64AuqGrF5r37+7jlhSIhjDhZyKpGnTZUW2fRCljoNnBb4YI3vI/xxhgKB5WSY6NONzN7DurqlNnbcZ8+RiVWKBzEvieKkmOjTjUze+/e3RmUZTWSjrmPxBx56t5aZiBooe+QHs4c9U4j+xudRwOhoFKrddRpe2troAaCFvoN7e1YOAwY1d/4DScQCmCYZGOA2KFg2mt3BIHIbkKCFxkCs0VqACQmlS2MHebD3ENy69urAeaB4sf4IT7MPcXcb3QozPJDiy2ENoYZ3VuS9Q3zydMCie0vMQ/2YQ5VmUZrXhczdjD0N5IQEN1HlHCLDvfJk7CF5Y0Qm/xAPuy4PdFzt67KIBmKBFHeLIlLnjnLeS0QDODq1y5ANBER1q+E6WlHnzEMXQeIqtf7nDgEPQdt52GWNS/DRU+f6bwWDAVx1avnc2bAYYZjYex/1nCl0vuIk/dG913czBDKm5fhoifPUJhXv3oBonGVGYmFceA5I7CNVEF95Cl7o+vOXTzMihZluHDC6eK1cAhXvXo+InHRd8KZB50/Elv3Fav9o88Yju120jBbluOCJwQzHAnhylfO8zDDsTDGXDgaW/UWq/37nTkc2+6wlYdZ2aoc540/TTCjYVzxkp552CX7K8qRA8btiy79t1QG3lA0hKrWFTj3MSE/jMQiuOLFcxGJh2E5TIJILIzDLzsAnbsLA6QDzx2JrfttoTDD0RAqW1fiHEnSGI1HcHmJGRDMcCyMo646GB27CuXIQeeOxNZ9OnvybNamCudIksZYIorLXzgHkXgYwRC7m1kWEImFcPQ1Y9BBquVJkicBoe2gPslFAKslSLmokkOsBEjFnbydpLJABCg7ByTY2cXcVsNsBVJ+tcRMglTebmCeBxIUnxFJnsLcCz3M1iAVKhMVtxmYF4AExWdEkqcBwa01zDaqo6JVBlTcqmFGgbKLQYLCpIokzuDKHBcz0NbFrAAqbma/8+R5MZMnOnmeCQS3gHqDKDEvlZiVQMWN+jzLL2fql40Qm/xAbgUsdNiuHVsk4k9zlFJUtKpAskr9+l3VppJdUERI24pFW7lISsz2223uYVa2qlCKHwOskG04GnbalQoQuIvoWgELHbZ1M21UtvYyq9pUsg1JErNoe5mBYAAdtvEyq1pXIlGh2nI2c5hEYbr7HggG0H6bzTx9r2qjYZb05hLTtm2020Yt9hsMBdHe03eKZm2rPEymi9cxN/cwN9+mrVIYgtomZjOEwkHnGwSxWN/bdVHzDIWZDa1SbMKmaLFZFRLlMRezCsFQUJEKUtt2fOWdPMNBbL51GzXPIkWzzaqUHbUAsMPeMTz80QKMOnYNeg6oxZCDq3H767/hoNPdFqsh7uonz9PbbLrAck05BVqDaZnlQYKCuAsdIwxYOmbr9WC6nAYRMeTZGm7bWBJsA7aBRmZCGcSdPAMdXEzKihUTNU82CLqZ1MskEcBqr8mzrTfPwGYuJr+RB119J1HA6gD1m4Yf03L6zP6fgrgdETcgNvmB/Ms3v8M7D01mahT+DaWQK2LJvGW49dj7nXaUUly6z/WoWV3nqCKoTVHIFXDv6Y/h91mi8OvU177Be4986GH+9dtS3H78gwrzkuHXo3ZNrYd5z6mP4s85ovDrZ698jYnjp3iZc5bgjhMF07ZtXDr8etSudeWZLeCukx7GYqng7ycvfon3J3zsYf45+y/cefLDCvOSYdejTmLanHnHCQ85C8IA8PHzU/HB05+6mAX8Oesv3H3KIwrz4mHXoW5tvZd5/INYulAU/J3y7Of48JnPPMzfZ/yJe6T6msViERcP1TNvPeY+LFskCv5+8NSn+OT5LxQVUiFXwKJf/1DqVhaLRZbnupRgFm0UsgXccvR9WPHHSqft+098zEryuZgLfvkD95/1uGAWWJ711Sozny3gprH3OKXrAGDS+I/w6ctfq8x8AQun/44Hx01wXqM0D7rmOLTtsBonX/0Hbn11Ac67cxG27lkNVJ8HKhXnpakXgcxkqF4ieaAwG7TmBg8TqIMoAmwDyIGuGwdaXCExXwCyH2iYM0FrbpKYOe7qp2OeDVpcJTGf5YZXbuYM0JpbNMx6FzMLuvYs0OJqifkML7kmM3NA4RdWe9NhZkHXGpjrzgAtLd4CoPVPcnMqV575n1ndUYeZ4cyUxCxy5umg9lqJ+bgP806JmZaYRRfzNFC7GhsjNvmB/MWb3/DYowLsApz2/s+oXsVMdGZ8OQfrlldr5yEL+QLeul/U8HvxljeNzG8n/ejURPx16mzUrKrVqmYK+SLelJk3v65l5nMFfP3OD6hZw5i/fDYLNWsMzEIRbz8oavi9eIu+7/lcAV++OQ1169jK+M+fzEBddb2WWSwU8ZbEfMHQ93w2j6lvfIv6GrbC/uOUX5Cq0a/gF4s23n5QyDlNn1E+W8Bnr37tSER/+PAXjx2xzHz3ESHnNPY9W8BnL33pSES/nzzdY0dcCrto491HhJzT9LnnM3l8/MIXTsHh7yb9pJW8MibFe48J5ku3vumxxQWYAmnKc587ElFW49Gk3LBBUy+LH1OPQS9tywLpN0FLCpDsxzCaPIGCpl+RmI/6MF8DpTmJaVLCUND0q+LH+vE+zFcl5hSo1eZd1PRrjWS+BFpS6WQ+gNnci4Km3hA/px73Yb4o5JyZD2Ccy6dUkXMiNQFGl8b0C0J6mXm/8cwNiE1+IJef0twRigSx8k92Ny9JBnVRLNj4faZ4Il/+uw8zHHRc8JYtXGFcoCoWivhjlngiX/77Km27EnP1EnY3X7pwhVGCV8wXlTxLUkBdBMNBR4K3zIdZyBfxp5TnSj9mMOC49S1buEKtzygzcwX8OVswV/zZAJNL8JYtXGH0RSnkCvhjppTn4jXadgCbxlq3okYwDWXu8rmCU5wbAFb9tVrbTjCrHaap4Hc+m1c+91IRaF0QQlC9krv1FRf7SAVzQHGB+LFoPj8BcK1ziWkayLNAQWauNLQDAArY6ySm6YaTVWWMth/TBkrFlwuLfaSCGbXvfkxaFFLB4mKzVNDDNJ+foHk47ofFxWapIDKq3NKXmRWchvL0k3CuR2zyA3nbLVsbf5fPFdCqQwsAcOpX6iIQDChbm9t0Nrct5AqOVLHtlq2Nyo1AKIBO3WRmK227Up4ldc1mPsxgKKjm2cksTSrkC44MbrMt25iZ4SA6Snm29mMWimjGDa7abtnGqK5hTDG/V6rJqYtioYjmbSt5nq2dBUl3hMJq30ufqy7sIkVl6wqeZ2ujsigUCSl9b9neh2mzNZISMxg2M+XPvWU7MxOUCvlsoIOPVDDCF/h4BMznJwAu5ysxTRK8CBCUrCF8mRbflg4g0N5Hghd1Mc3nPIglZJTB9kKOp2MGJKblxwwCRD6eJudAV56+zLCQJwbaN8CULAIsn8+dRMR8fqCDZ85cRMxjj/B3Y4MGckLIrYSQ2YSQ6YSQ1wkhlRslKykOvWh/rfwwFA5ix+F9HS31djt1QbO2VVoZXjAUwOjTRbWSQy/aT8+MBLHjiH6OXK7bztugsrVenx4MBjBKZl5syDMSwsD9tncWPHvsuh0qW5VrmYGghVGnCknjIaa+R4LYZf8dHblcj0Hbobx5mZ4ZsDDyVCFpNPc9hEEH7uRUUeq9RzckK5PajUaBgKVIL/36vtshOzuWt30G90CiIq5lWgEL+54kpIKmPMPREPY4bKBT8ajvkB6OxM/LJIqk8TBDnuFoCEOO2NWxL+4/tJdi0+vOc/gJQip4yIWjzcyjdhMlBiO7+gwSlioVTJxkaBthRkulwTuyG/SyOgDExYyfBH2NyQgQP0hi7uHDJC75oc5gqpTnGKeSECJ7wlyAmIDEJVmf1rQKAKJA7FBJ1jcE5kLJBCQ2WmIe78M8zKn6w9wPffKUpYKJE8zM+BGi6k90b5iLRBPV+XEDYkOfyD8A0J1S2hPAXACXbHhKagwY2R/7n70PgqGAMwAEw0wlcf7jwq2PEIIbJ16GypbljgWoxU2Jzn3sFKWu4cD9dsDoM4ZpmedJbn0lZoXMDFgIhoM4d/ypaCcpGHbZfweMPHUoaycxO3bdHOMkFzxCCG6YeDkqWpYpzFAkiAsmnIHNthRypEEH7YQRJ+/lYXbq3kFxwbMsCze9fznKW3iZFz55BtpK30B2G7Mz9jlxiIfZuUcHnP3giQrz5smXo6y5l3nR02cpT+F7HDoQw47b08PcsldHnHnfCa48r0BZs6TzFM2YIVzy7NmOLS/ADKb2Pnp3L7N3J5x+jzBvCgQCuHmynnnpc+Ocb0IAs/AdMnaQh7lVn844VfLXKTErWiQQS7JLJBIjiMRDuOLFc5x9BgAw9Ng9MOTIXRCOBhDgYpxoPIBtd9gCp94h/HUICYJUPcGfKEsDUABABKTqbmYWVWobOxiIjoA6qISAUA+Q8oslZgik2QT+ROliVt7LjLJKbeNjNLazIWZhW3ahi/m4gXk/SKC5xDyU67ndefbmxYlLzLBPng+AWM0k5uF88HMxw32Yi6GHmXQxoyCVD4JYVRJzLB/43cx+IGXjJGaE9z2hYT7E5IkO82gg6r5BhYDw9sxp0mFGfZgPg/hu/mp8bNBATimdTJ2VAnwNYOPpaXgU8gXM+XY+rGBAWcxb8ecqrOXzpKVY/vtKpGrTsHlD26awghZmfzOvQSbbSr4a61a6mauQrk07lXrsoo1A0MLc77zMudMYU9b/L/9jlZgnLb22aAVStRmFaVkW5miZCxQm4e8vLfKWYunCFUjXqUxiWZgzTd2anc958xTMWqXtsoUrkKnPOuXKSsy50+Z5mL/9sIBNm0jMpQtXoEbHTOVcTIK5PyxQmdk8fvthocokwNIFy1G7WmUuXbAC2bQ7T4LfflDnH3OZHOb9uMjDXLJgubPAXYqOW87FM9/9iHG3/I7Dzl6Gk6/+E899Pwvb7/YV1MjizGs/wAOT5+GoC5biiHOX4cYXFuCWFz9GOLxWbVr8g88/lxa/uGop765ylGHb2pXL0wIKv7Pt31LQwu98nry0TsDc+GjeVWWIpnnJMfnpcH2Ymjxphm1r9zAXaZgLDczZUBumfZjqOc+YeReTghbmQG2YAgpz4D2eC8U8fqlpfgFACxrmXKgNU0BhrpdZXCjm3B3mwsYxNyA25hz5cQCMDjCEkJMIIdMIIdNWrvRbJFFj4viPMPPLOYqKoJAroH5dCjeNvUe8li/gPwczFzpbMibKpnKYOH6KUj7r3Uc+wKxvflOY+VwBdevqcfPYe6XX8rj24NuRTeeUQgPZVA7vPPyh4rXyzsMfYPa3v3nyrFtbj1uOuU9ljrkDOTczncNbD7yPWd/85rz21gPvY860ed48XcxcNo/rD7nTw8ylc3jzvonKDeLN+ybit+8XeJi1a+oUOWcuk8N1h5aYVGG+fs97+E0aeN+45z3M+2GhUjezxLzt+AekPmZx/WGMSV3MV+94G/N+FAPvq3e+gwU/L1KZ2QJqVtfh9hMecl7LpErMvIf58q1vYv7Pi1Tm9N+9zFW1uOskIeekdgq0+jyEI2nsvt8aHHPRcuw7djWSFfVA3SOgeXEB0rpHgcJctN+qBoeeuQJjz1uOrv3XgdA1oNVXSMx60OrzwZQrsoohC9Q9CFqY52L+BlXlkgXoGtAa4Z9N7Tqg+kLertR3Clbf8j5QaWGS1j/CFyrdzFWgNVe7mBdpmFmg7l42eDrMB/mCqryQmQXoatCaayRmDVB9sYF5F7txOMwH+AKgi2mvBK35j8SsBqov1TNr7wAtCF8dWncfuxG4+26vAK29TmKuBWouNzBvAy0IIQKtu4fdBN3M4jLQmusl5hof5i2gxSXYGNHgQE4I+ZAQ8qvm32ipzWVg+qJnTRxK6SOU0v6U0v4tWzbeX+DN+yY6sjAXDwun/+4oJn6c8otREZFN5fD2Q0La9ub9k7SSMWpTzP95kaNu+OHDX4yVYnLpHN6R5HJv3T9J64JHbYq50xZgNVeDfD95urlmZiaHdx8Wsj4T07Yp5nw736ndOG3ST0Z1TT6TV/N84H1P8eMSc9bXc7FuJXuS+nbij8adxflMXpH1GZlFGzO+mO087X7z7g/GWin5bEGR9b390GQj85fPZqJ2LXvq+ead7432BPlcAZMkl8a3H5yslRXaRRs/fvyrI+dE9iPAnCloWpIKpl+AXlZYBHJfsoER4BI8E7MAmpKkgn7M7FRRDzL7oQ+zqEoFU37MT0FtrrLITIZ5WHAzXzQwC0D2Y9CSUqVBpiQ/TL0EvaSyAGSnCOll5n1oF1sAADZo+nXxY/plMzMzWcgkM+/75GmDpt+QmK/4MN+XZJKTYP6M7P+d/JBSOoRS2l3z700AIIQcDWAEgCPof8HcvGZNnfF3wXDQGSRqVtcZB0hKqSOrA4DaNfVmZiiIWv43a1bXOtM0DTPNeYbCglm9qsaZAvAwbYrV3IEPAGrX+eQZDjjHpmZ1rZFp2xRrJWadHzMURN1a9vuaVbUoGuSHtq32vSFmadCtWV1nLHdmF23nZgewYsimCIQCzt+sWV1rLEnnZtb5MIPBgPib9lr+VVgXRVUiZ5s/dyAg5HL2ugaYkuTQ9XXfy6wTeRo13wVVckj98rTguPXRtTBr0wtq36n5cweIkOA1lOffZRqll3lVHmiUFJZ+n5byNEkv3Uy/PG0h4WyIKW2w2pDYUNXKMAAXARhFaUNH6+/FNv23NN54i/miU7Nzqz6djE/P4WgIPQaJMk1d+m1hZhZttNmiNWd2BvVj7iJKfm3tqtjjYXJ54tZ9tzA+PYdjYSXPrfuYmdQW8sSt+nb2ZXbfVTBljxQPE0L2t3W/LYySxkgsjO5S391VgJQgxJH9bd23s/HpORIPo8cuIk93xR45mFMiWyDbqu8WsAImZkTJ048ZCAWEU2KoO0AC+oYkBoT6iZ/9SnWREGDxb5+hrkw+pw0XM+jHjHBHvVKeJkljHAhJhmKyvNHDjAlJY7Cbj6QxDgTlPLcytANb3CuJ2EL+TKLk6SPHI0mw8mrgfTdIGkkcJNxH/Bwwn/OwyoWkMdTNrCwicZBwb4lpvjZhVQn5YaibWX5I4iDhXmbOesSGzpHfB6AMwAeEkJ8IIQ819Ib1jSMuP9CpRC5HJB7GiJP3cmRiHbu2x7Y7bq0t2BsIBRUHwCMuP1DrWBeJhzHy1L0daVvn7h3Qpf+WWlfFYEh1ADzyioO1znqReBijTx/qSNu26NkRW/XZwsAMYB9J2jb2yoO0joqReBj7nTnMkbZt1bsztujZyciU3frGXnWwgRnBAWfv4xzrrftugU7d2mv11MFwEMMk5lFXjTEyDzxnBMK85miX/luiw3bttIWFg+Eghh67h5SnmXnQuSOdSvPb7rAV2nXZTMsMhYNKQeejrzYzDz5vpLCZDfXmHiK6gTekuOAxhYJuQIkBiZOEXC7Uj+mUPUwCkLAilyNljWX2BwKb+zCFtM2YJ4kByZOFBC+8I/ML8UjmCEAiIDFRLJgkzzbnmTxFSPDCO3H7Wz0TMVHU2J95msQcwG+SGiaiXKHDXynzYSZEjV6Ed+E3SV2eMe5k2BjmGRJzV36TdDMtNsBHh7kBfys2VLWyFaW0PaW0N/93SsPvWr/YdoetcdYDJ7JBqmQyZRH026sXTrxFrXl3zesXoGO39ko9yHh5DDdOvNSxkQWArgO2wRn3Hu9hbj+0N0648QiF+Z83L0LHru08zBsmXeaUZAOY5vy0u4/1MHcY3hfH3XC4wrz2rYvQYbvNFWaiIo6b3r/cKckGAN132Q6n3nmMh7njvv1wzLWHKszr3rkY7bfZTBhHEYJEZRw3f3ClY00LAD0HdcXJtx2tSPCIRTBgZD8cdfUYhXn9e5eiXZfNlDyTlQncPPkKR2sPAL1274YTbxnrYe48enuMvVJomUtyzs23bqsyqxK49cOrFL/wvoN74Pgbj2CSQom5y/474IjLD1SYN71/Obbp3xKRGEW8rIhYgqJV+xhu+/hKxbCs75CeOP2eQxFNWIiX2YgniwhHgH2O74/DLj1AYZJmT3DzptLTPmFPmM2edsqnAQCJ7AokzwEbTCVTpOgwkMRJKrNqAh/MZWaFhrkbkDxLwxwOkjjBxXwSCLTT5PmMqGIPgET34EWVXczICBCpFifr+1MaZhXQ7FlhoQuARPcEEqfBozCJjQKR6mYSYoE0e5rfdGRmM8aUnoJJdAiQOFXD3I/JCN1MazMDMyoxhzJtvod5AEj8CIWJqmf4jUxmNgeqnlNKspHoMK55dzMPYrJMhxngzDYq02oOVD0v9PsbGJv8zs766no8c+0rAKiz+EZtiu8/mI5fp6rSpU9e+hJ/zlnizJVTSlHIFzDhiheV+d66dfV49tpXPcxp7/+sKFEA4OMXpmLxXC/zyatUZu3aOjx3/WsAVZnfTfoRM6WKMgDw0XOf46/flinMfC6PJ696SZnrrllT62VSim/f+8Ejqfzo2c+xZP5yZ4qFUop8No+nrnpRZa6uxfM3vsZwEvPrd77HnG9V5odPf4qlC1YoeeayeTx1zcsKs3pVDV646XUP86u3vsOc71T54/tPfoxli1aqzEweT139kjI9tG5lNV68hS8EScwv3vgWc12SyrLoS7jj1c9w36Q5OPeOP3HD8/Pw1Nc/o3OHWxUmLa7G0BE34aXpM3Dpg4twwd1/4JlpM3HKpRNAijMUJk29AhSXij8OyuR2dfe5mKu4NwrUttn3WXUYmZl+iZdmczPvdzFXcn8Q6mJO4hJCmfkiUFzuYqY1zBVA6gkN8z0u95P7/jy3CZCZKbWEGcCMvlIToAYFMu9wuZ/MfI7P2cvMeqBe/RJvZr7FlTwy81k+b+1mPqK2Ky4FUk9rmG8CBfWcR+ppgK52MeuA1MPqu4tLDMzXgaKrGlPqKYCuUZl2rYe5IbHJD+Sv3f0eVi9Z46mbmU1lcfsJ4sRK16Xx4LgJHjVKLp3H7O/m4Zt3fnBee+XOd7B62VoPM5PK4vbjH3SYqdo0HjrvKY9yJJfOY9bXv+Hb934UzNvfxpplaz01LjP1WdxxomDW16TwyIXPaPOc8eUcfDfpJ+e1l259E2uXr1OZVDBLUbeuHo9e9KyW+cvU2fh+8s/Oay/c/AbWLa9W/UlKTEmCV7u2DuMveU7DzGH6pzPxw4eiRNXzN72OdStqtMw7TxYXas3qWjxx+Qta5k+fzMCPH/3qvPbcDa+heqWeeZfk0kjtNUDdXQDS6LB1FrvuW42u/VMgJA3kvmJ1LUtt6x4A7LWIxHLYfs9a7Dy8BhXN8wBNgVZf6WLeC6/RUgbIfQHkp0nM+/iClryQSb3M4iqg7n54fTcyzEUv/73EvJd7n7isXGkKtOYqibkSqHtQn2f2EyAvzk9adzfXdruZ9ar8sLicD4QaZmYKkJ+uMqmJKckPi8uAep0RWAbIfAAqM2vvBGhNI5hLgfonDMxJoHlxLtHa28151l4rXiks5oOuhpl+T9HR09rbfPKUJI2FP4HUMwbmO14d/d+MTX4gn/zkJ8hl9Cvea5ZV4y9u+/r9B9ONnhuZugwmPSFkaB8+9SnyBubqpWuwdAGzaP1+8s/G0mSZugwmP/mx8/MHT3+KfFavSlj552rH/GvapJ8Q9GNOEMwpz3xuZC5buALLf2er/d9N+slY7ixTl8Hkpz4VzGc/NxpCLZ2/zLFo/fa9H819r8/gA4n50bOfa4teA8DiOUsdY6lv3vvBt+9yUeOPn5tqZP4xazHWLONqlOwnMG7VpmnQjCTvyrwNowtfYa6wPs18BBDDpUHTqgwt864Pc7awPs1+BONWbZoBTb/VOGZ+prA+zU4xM+FmTvRh/gpaUspkp8A8LGRVuVxmEowOhPmfhfQy8wHMEryMUnwZWT/mj5JM8gN9GydPiZmZDL0DIQVy00BLg2z2Q4inZnfkQDPvNpL5jeRQObnxzA2ITX4gz2dNsiXmpVEa5HOZvFG5AUB5CvRlWpbCNFZ+BpCplzbV+OZpNTrPTEpmmq0/rWDAqXify+SM0ksAyErWrYVcQ3lKTN/jKTZsmG4MJWbpppnP5J2dpw3l6cu0LHFsaA7mMmLU9SRk7juT9ZX+ftbnc18fpiWYyo7OBphGmSLAJHg5iWkY9EChPK0anRd1TFOeNpSNOg0xnWOzHp+Rb98hmL59t12fUQPM0t9siGnLTFM7NzPn8/dtmF0h1y82+YF8+2G9zcWKAxY6bMc8VHoO2s4zrVGKaCKCnffbwfnZr25mIMQq6ADMjMqXOaq/xDTnGQwHHV+WXrt3RcGwcSmaiGLg6O2dn/vu1cPIDEdD2IxLL3vu1tWoz44mIhgg5dlncE9YRglgxJFJ9t6ju1HOGU1GMWCUyLPP4B5GWWG8LOo4LvbaoxuoQe8eczF779ndKH9MVMTRsj2X4IV3hPGJh8RBIkIJg/BOMD4ZWuVwCguHd/JhJkAiQrGD8A4+zCoX0xRxkMjuEnN7H2Zz4bwXHgDjJezp+/b6dgBzMSzJD8M7+TATbCHWYfbTtwOAQBshPwwPgNk4Kg4SGSQx++rbAWyxtCQVjAyA2eDKlWeoj74dAATas7JxAO+7YfGRxNnCtsPs7cPsKBaawwNgNiFzMTcgNvmB/LBLDjBKxo699lBHMtZi8+YYcsSunrZWwEKiIo69xooP9vDLDjRKBY+97jBnSqFV+xbY47CBWmayMoEhY8UJeKRR0hjBcTccLpgdWmK3MTt7mIGghbJmCexx+C6CecXBRunlCTce4VS5b9u5NXY9cCdPnwJBC+XNy7DHYYI59qqDjdLLE26SmFu0xsD9dtAwAyhvnsTuh+zsvHbUVWOMx/OEm4+EZbHTbPOt2mKnkf29zFAAFS3KsduYAc5rR19tZp5461iHSYKdgcju8ErBQmzQkyVjybMN2uMoUHaRI20jwS2ByCANM8gG0ahwkyTJcZp2MpOrc0JbA5GBemagFXfe48yyc6C/+Hk9SofZBYjspGkbYjeQiJCyMsMpg1tfUmZux29OOmYbF/M8c98VZlcg3N/A3Iw7LnJm8nwjk5RdIjG7A+E+emZgc+4MWcrTjylMyBDqCYR6aZhhpjaSbjjMFMzALJe8A0O9gFAPA7MjkzxuhNjkB/LNtmyDi548A7GkJCeyCPY8bCBGnz5caXvmAydi2+3VTQoVLcpxw8TLFKvTdlu3xQUTTvcwBx+xq2IjCwDjHjoJXaSCyABQ0bIcN0y8VLE6bddlM5z/+GmIuphDjhyEEZLeHADOfeRkdHFtIKpoWY4bJ17maNgBoMO2m+P88acqNqnEItj7qN0x/PjByvvPG38KtuqrbnyobFWBGyZe5mjYAaDjdu1wziOnKK9ZFsHQY/bEsGP3VN5//hOnYcs+nVRm6wrcNOlyYc8KoFO39hj30EmIKEwLw48fjL2P2l15/8VPn459jm2FSMxGLFFEKGxj+8Fh3P3lJcpNq3OPjrh50tHotB0QitiIxGxUtbJx1t0DMeSIQQoTFbd4N9FYzYGqJxR5FwltC5RdDfUCDACxw2HFRrqYt2mYLYGq8S5mV6D8SqgXaom5r/r+iju8m2islkDV4y5mN6D8Ci8zPhZWTD3nUXGXD1M8sZJQd6D8Ug3zaFixvdX3V94FBFwbc6zWnCnWI0ioJ2fKN9wAED8WVkw951F5j3cTjdWaH0+JGe4FlF+sYR7P5I4K817AXZs00AaofEzo4gG2OajsQg3zBCbLLLUjBKi6T8+sGu9i9gXKLnAxg0znL99ECAGq7udSVpnZFqh6TOjiNzA2+YF8xR8rcetxDygluqhN8dHzU/G+tDAIAI9d+LRH7lazphZX7XeL4teybNEK3H78g0qJMGpTTHn2c0yWFtwA4OHzn8LcaaozX+3qWly1362ijBeApQuX444THkTWxfzwmU/x4bOfKe9/8NwnMff7hWqeq2px5X63OHPUAHP6u+Okh5T5fWpTTH7qE3z0/OfK+x8Y9wTm/bhIea16ZQ2u2u8W5KT5+7/mLcVdpzyiHA/bpnh/wkf4+MUvlPfff+bjmP/T78pr1StrcOV+tyAvzbUv/m0p7j7tUSVP27Yx8bEp+OwV1S0wkL4ap1z+EV7+9VfcP3kuXvh5Bq55/HtUBk4UnhcAaGEBtt36Ajw85Wc8+dUsPPzRHDz3wy8Ysu9DsNOTFSZqr+ZOdFLYq4G1pwjPC4CZSNVeA9WQqQikn4Oddi2e1VypZ647TZQGA5jZVe21ULdhc2Zmiot5hVfuZq8G1p2qMvO/AbXXe5mpp0Ez6jmPmkvVqj0Ak+StO02UGwNA83OA2hs1zCdBs5+q76++VK2wAzALgXWnupizgJoboW7pLwKpJ0Cz6vmJ6ouZM6CHeTooFdNtND8TqLlZwxwPmlXPT1RfBBTV8xPF5UD1GS7mDKD2Vg3zMdDsly7mhXrmOjfzVw2zANQ/App1OWRWnw8U/3QxlwHrzvRdh1qf2OQH8hd4PUh3h7OpHB654ClHy712+Tq8/fAHHoOtYr6IdSuq8fHzUwXzptc5U/1b2VQOj5wvmKuXrsV7j07xyOUK+SLWLl+Hj18QJ8FzN7yGbErPfPi8pxzd9aola/D+4x9pmWuWrcOnL4mT4NnrXzXm+ZDEXLl4NSZP+FTLXL10LT57WTCfufYVrWFYNpXDw+c+6TBX/LESHz7zmZeZK2D1X2vw+atC1vf0f17Wmntl0zk8eM4EoW0vLAbSbwNIIxKj2LxzDskKG8xzYqmiRKB19zoLQc3bFNC2Yw5sNiUD1F4vMf8A0u/BWz8xD9hLuBKBM2vvMSwuZYDaG1RmZpKGmWOlu7JigKa1d/sw5TwXcqWDjvknr5VZ6vudGrkaY1KFOZ9JArXM3wFpgPZl1sjMeVwJpGMu4rVHS32/Q9NOMJ12+bn8fTrmAiAnBn1aezv09TXdzNlAdqqeWZgH5MS1yYo2m46nVMw6PxPIfqlhZtlNPSeuI1p7i6ZdiXmjxPwVyH5rYM5W5LEbEpv8QP7VW9PMNRmzBad+4k8fz0AopJehZeqz+FQazL56+3uzU2Imj8VzmLXkzx//qt36XWLKT5vfvPODccExU5/B4rlMJvnTR7/6ShpV5vfGBcd0bRpL5jOZ5I9TfvGVH37+6tfOz99O/NHIrKuud2qf/jDlV+NCa7oug89fFXl+58OsXVvnyCTZxWWSy6VAM9KTdvZzGJUO9hrAXioxDQuD1MXM+TFXAfZy3u6LBpjS03tuqplZXCkModxPkx6muOGwv294UisuY0/xjWFmpTyzX/ow/wIzywIfHA39oSlQ6SaG3Nc+zD9BS3VAc1NhLpScApW/ufgNbMVFzBIX4MdoIzALCySHyqkwKkxoSv02lPvOh/mbkElmp8JoQkbToNmP9b9bz9jkB3LToAcAlFLn94GgZZaqAsqAHDAMUACbuhDMgC9T9nUJGGpRlvIs/X3GNENlbxNTfUuRp+UwiU+i69N3kadlVI2wPMX8a2OPJxD07btqKuV3alKIG0IDTPe8qC9TruDil6eslvDL0xZ9IvLW+IaYDeRZmqv1ZRIoqg6TCViJ6fzNAMx9IlA0+77zu/LxDDbAbOzxpNLv/T4jsh6fkfR7shGZymfk03ejkdr6xSY/kO95+C4IRfSdLWuWdKSC/fbq6dmpWYpoMoq9pEW3PQ7bRWuuBQAVLcuwOZcK9tu7l/HbQDQZxZAjxaLb7ocO1JpWAUBVq0q05Y6K/Yf2QjGvv+szplgo2f0QM7P5ZlVo04lJBbcf1tssk0xGMVjKc7cxOxu/ZbRs38JxKtxheB/jt5ZYMorBhwvZ1KAxOxs3Y7Xu1FKUW4vsBlDDUxSJq/ULo8Nh3OgTaA9SKibcIFOYPDGDIgMz2FGURovsDuNTKYmDRGXmUBgH3uCWooxZZHf4yiSj0sJodC8f5laijFlkTx9mTGVG9oLxcg9uK8qYRQf7M+UF3MgQMzPUVfjH+OYZBYkJgyv2903MHi6madCNgkimWaytidlT+Mf49QdR5q/iMPfwYfYRviwRn/4gojI3IDb5gfygc0eivEW5Z6CIxMIY99DJzlNjoiKBY649RFFOAExv3alrOwzcT+hox1wwCmXNyzxP+5G4ykxWJnDU1WP0zG7tsbOk+T7kwtGsbqSbGQtj3MMnOcyyqiR3IHQxYyFs2bMjdhohtLmHXrw/yqoS2jzPlvIsb16GI684UMMMY8tenbDjvkKbe9gl+yNZlfR8g4jEwzj7wRMdZkWLchx2yf5a5lZ9OmP74b2d1w6/9ACUVSYMTMk4KtDcUFw3CgR7MKe4UtvkaWA1Ht0DWhSk4j8SsyUrhOuxH40CwZ5AeKDEPN3MLBfbv0mgFZA4Vp9nqDfXBpeYZ3Gm+1KKgpRfLTHbAPGjDMy+is6cySSTGmbMlWcbIH6kgdmfywh527KzNXkSzhTb/klgMyB+uJ4Z3oFxnTzP0eRZYgp7AhJsB8QPMzAHKHa7JHkumAWsi0niLmYHID5Gz4wM5DLCUt/P92GKKk4k2BGIHag/lyK7Mnmiw7zAh3m5xOwMxPbX5BkDIruDhHpgY8QmP5CXNy/Dybcd5eibASbpGTB6e/Qf2ktpO/LUodiiV0flRh2JRZjToTR/XtGiHCffOlYZeAgh2Hn0Dui3V08ZiVGnD0Pn7u1VZpwx5QG2smUFTtIwBx6wI/oMVj+s0acPQ6duKjMaj+KMe49TmFWtKnDizWOVuWpCCAYdtBP67NldYe535j7o2LWdwowlIjjjvuOVY9esTRWOv+lwWPLxtAh2G7Mzeu+hMo+4bDjOvTuE9ltnEQxRVLUs4NAz63Dje0cozOZtq/DAl6Mw5KBqxBI2QmEbfXatx63vbIeeg7oqTJI4Dgh2hpIoSQDlVyhSLBJoDSTPhedCiY5UBhMAQPw4wOrYCGYbIDnOy4ztp/qBA0D8BJf7IWeW6ZhnQ705ECB2gHcjSuIkl6sg2EBYdrkyjUUCm3H3QzlPiw0IIfWcR+JkzpT/fBlQdqmLuTmQPFPT94OVAYoxT+FOhXLTciDpYgbbAYnTNcwx7MasME9lkjuFWQEkL3Ex2wOJM7zM6KFMQqkwT2PSQDezzM3swPrkyfMwJvWUI3kmQFqrr5FKRb/PmB3ZsVe+FRAgdgSTpCrMswGrlfoaqeSSyI0T5L9Q1KfB6N+/P502bVrDDQHM+2khxu1yuUcVEYlHcOC4fXHsdYc5r10+8kb8OOUXjzdLojKOJ+fe69i5/vbDApwz6Aot86DzRuCYa4QN5aX7XI+fPp6hbMEnhH0DePK3e1HenO0KmzNtPs7b/UoPMxqPYMyFozH2yoOd1y4eei2mfzbLy6xM4Kl59zl2rnO+m4fz9rhKm+dhF++HIy4XFrEX7nUNfp06W9nWTwiQrEriqXn3OXauM7+eiwsHX+MpoxaNR3D4ZQfgsEsOcF6zV4/lxktyWwKQCpCWU5wdcTT3I+iao+FdmY8BydNhJcVTub36CCD/s4ZZyZlJzpwGuuY4A/MsWMnjJeZhQP6XRjC/A11zvJ5ZNg5W4liJeQiQn+FiWpz5kfN1nOa+BV1zgoF5LqzE0awdpaCrx3BHxLzKtKpAWkwRzOzXoGtPMjDPh5UYKzEP4u6FbmYzliffAEWzX4KuPcXAvAhW4nCJuT93GnQzm7Pj6TCngq49zcskMSB5CazEoRJzP84suJgtODPCmZ+Drj1dn2f55bDiB0vMUVx66Wa25MwwZ34CuvYsA/NKWPEDJeYIXt/T3fdWIC0/FMzMx6DrzjYwr4YV358zbdBVI5jiR8kzAFitQVp+oOj9GwpCyPeU0v7u1zf5J/Lnrn9VKZZbimwqi9fuftfRci/+bal2EAd4PchHhSrgmWtfMTJfvVMw/5zzF37+ZIbHR4VSVvB44nixMs6Y3tXpTCqLl297y9GH/z5rMX6ZOlvLzGfzmPS4MPd66pqXtcxsKouXbn3L0YcvmvEnZnw51+PNQinzTHlfMgx7+pqXtbUwM6ksXrj5DUcfTvNzNAMuAF44Vq6zSOvugV6KlQbqH3a03DQ/UzPgcibNKGZU/swHHd01zc/QDLgyUxhH0dq7zcy6ByTmL3xwdDNtznxbYt7lw7xf6K7z07ku3X3e2YCd4kZZpb7f6cO8T2L+BBTn6Zk0BaQbyay/V2ik8z/wQUfHrOfmW5xZa2DSNFB/j8ScphnISsw6LvUsMU2SxjRQd7eQIee+5dpsE1OolYx5Is2KPzvMr5iCR9v3Gpc81i9PF9NeosmzCNBqRR67IbHJD+QzvphjFM1bAQt/cqngnG/nGRfccumcYrs686u5RiYhwJJ5ywAAs7+dZ1TN5NI5/DBFMGd9Ncfss0TgSAVnf/Ob0eskm1LznP3NXCOTgjoujQ0xf5wiLD1nf/ubth3ANgYtX8TlcvmfYFxMomlFUytbm3qjCJQqhfu2SyvaX0g2pN6/z3XnAL/ZmA68K8+CHzMnyQ9/AqhhsRMpIC/3fYahHZi+vFSLM/8zzEZLaVDleM4ytAMboEu1I/M/mRd6aQo0J2Snvky7Tkga8z/BaIblZrp8zFVmDUDXcebPDTC/lZhz9O0AXqezxPwJwuTMzawHlSWH7o1dCnMNG6SdPA0mVjQFKksOC+brCPZKODU98z8Z9Ps8z2zjZiYaik1+II9XGOrdgW14KU0ZJCvjvnK5ilaiSk7Ch1nMF53fJysTMEnbCIFSeSde7s9MVgpmySdEx6yU8pRtBdxRyIm+JyoTIEYmQUXLxjGL+YI4Nla5j7yMCJMlAE59Ql3QAlAyJSJlMMvgLDi1KAEY6xwCAApASb1Ayhtgynk2wCScaZXDLAG0ACIxLT9mURwbqwxGxYwnT/NnxCSNnEnKG2BWSUy/PG3xe1IOsyQuoPbdN08qfk+SMBpcIQBYlY1kSr+3yn2YQVffdZ4oJqapYs/6MjmHlDXArPTnNDI2+YF85Cl7a82TAKBdl7aOBK/PkJ7aNgBzANz3xCHOz/ueNETLJATosF07tOrA3Pr67dXTKHCKxFXmiJP3MjI7dmuPFpuzQWr7Yb1BDU+QkXgE+5wg5Xny3lqDK0KALXp1RPO2VYJpcBWMxMIYLtUB3fekIQhHvRcAIQRb9dlClK/zleBFQWJizp+pB3QmT4RLxiQJnvFJNwISE3P+iJmYFhDqLUnwGmDy+c+GmX2EBC8yGGbb1bCLebCZGe4PYpXc+obA/EQeBomJtQnED4L+4reA8A5CghfdqwGmnOcBPswBwq0vupfP8QypefoyB4oSbtGhMB/PoFIDFbH9oB+gLSCyqyjhFh0K8zexIEhsP/Fj1I+5u/C5iQzzYQaUuqqIjjYwA0BksGDKMsiGmBsQm/xAPuKUvbFFr46KW2AgFEC8PIaLnzrTeS0cCeHSZ89GJB5WphmiiQgGHTRAUWSMPn0YOvfooAy8jBnHhU+eIZjRMC5+5iwvMx7B7mN2Rs/dxOr0fmcOR6fu7RVmkDMvcjOf0jP3PHwXper7/mcNR8eu7ZTBPBgKIF4RxwVPnK6898Inz0QkHlbsZKPxCAaP3RXddt7Gee2AcSPQYbt2yvEMRQJIVMZxwROnOa8REgPKbwYzmJJPkxgQ3V+pUk4SxwPBLaCaUYUAUgZSIbZAEysBVNzI28m3yBgQP0ipKE4SJwDBTo1gJn2YY5ixk8M8EQh2hDrwhgBS7mWWX2dgqkoHkjiJ1+F0MytAykX1GWKV+TBVpQNJnOrDlKSXVjlQfo2BORYkJD53kjyDK1FkZpgxKyRJo1UJlF+tZyaOYS6OCnMzDbMSpOJqiVnFjcV0zONBJNMvkjxbz7SqVDmn1Qwov1zPTJ4IEtxCtC0bx9UtbmYzVX4YaA6UXWJgngwS7CQxzwECrQ1MSX4YaAGUXaxhRoHkqUxRsxFikx/Iw5EQBozaHoVc0Zk6oZSiU7f2aLOFKhPasncnVLQodwYzK0BQzBcxcP8dlGmXcDSMAaP6o5BXmR27tXM27sjM8uZlKrNYxM77eZk7jVSZNqXo3KMDWndSpUdb9emEsmZe5oBR2yvMSCyCnUb0QyFfUJhb9uyINtzjuxRd+m2BZFXSuTk4ebqY0XgEd77fDqdc/Tu69E6j0zYZHHDSCjw6FWjXpYXCJKHu/Otm6f0WAJtvsJDakRh/gs9LbW0g2JVflDKzB58SKJ16nBneQ21nxYGwhhnq6pGxMaasZy4xd4faMA6EdwNbeJKZ3T0yNhLuBVUnzJiKxzfA2oQHafJsLJOqXuQOc1cNswcfPGRmHz4tIu94pCBRE1Pue5HJGV3SOBLuzacbXEzZNxxg0wbhXTTM3syB0ZOn/FDApq48ftykjGv/XcxgHzg+7A6zH0AiLiYBcVvDknI9M9RXw+zfSGYFENp5PZhhFzMAIu1x2NDYKAM5IeR8QgglhLRouPX6xbTJP+PZ615FsVB0Fijtgo3ffliIu04WNSYppbh0nxuw6q81jueJXaTI5wq44fC7nIVBAPhu0o947obXPcx5PyzE3XI9SEpx6fDrsXrJWpWZLeD6w+50yrcBrIzZCze94WHOnTYf957xmMK8ZPj1WLPUy7zukDuw4o+VTtuv3p6Gl259C3bBVpizv52H+858XGFePPRarNUw/3PwHVjx5yrRNvMhwsXx2OfIFbj3vbl4+OM5OO6SxWhW9T1ozbUKk649li+slb6+2wCyzLWtuExiTgbqJ/B2pa+mRVaaq+YGF/MYgGqY1aezAsEOcxKrn+hm5n4ArZFMiajNmWs0zNNYXctSZCay+oke5jRugiQx1+iZdN0poMXVEvNdIPM8/73M/I6bNZWYRdA1R2mYGdB1J4sycwArSZd+UcP8lptKycyjwXxSiqIdMqBrTxRl5gBWaDj9sqbvX3NVR4lZ4Mx1BuY60Tb9GpB+VcP8kiuE3MxqFzMNuvYEUboOAE2/AqRf1zCnMiM1h5nnx9PNTIGuPU6UrgNAUy8C6Te9zOxnrI6rw8w1wKyTmM8D2bc1zE9B6x90MY+GWt+zCKAedO2xCnNDYoMHckJIewB7Afhjw9PxxvM3vqZ168tn85j62jeoXcsOxNzvF2DpguVa86Zi3sabDwiJ03MGZi6Tx2evfIW6dWzFec5387D895V6ZsHGWw+8L5g3vGpkfvLCF6ivYSY6s76eixV/rNYy7YKNtx8SsqnnbzDn+dFznyNVy1bDZ3w5B6uWrNWWUbOLRbzzsCTFqn/QsIqeBdJvgtql1fZp3PBJN7dZZBdHiaktAFxivi5qIua+5eoIDZOuD/NV0JK6IPcNUx5omTarXF/6sd7EzACpl0WdxdxXfCDTzJfSImj6ZZVpcBVE+kVhzZv7EqC1ZmbqFfFj3QPmPBXm5z5MGzQlS0R9+p5+Xtj9Zj/nigtT318XP9c/5MN8VljzZj9hahtTnnINVD9m6mkhvcx+bFaDwFZri6Ye9mE+qTLhvd5YnkW1Bmr9w+bPvX6CkF5mPvRh2kDmHf3v1jM2xhP5nQAuhHmVYIPiz9l/GX8XDAcdZ70/Z/9lVK0U8gXMl7y6S+6GJuaKP1Zx5hKYVCuFXAHzf5KZS83MUBAr/2RPcX/MXgLTocrnCpj3o/BsXvybmRkIBZ1CyX/O/stYszOfVfuOwu9GJkhAyOUK830WvXJAQZKzuf2bFaYFlJ60iwvWg+n3XEBcTNOCXxaQq5T7MQmErK8wH+bakVk1z8KfhnZgH3NJ1ldYYJbglSxNnTzN5zyozWR4DtPgrIfMejALQOlJu7jALOtDxnU8zdcRaEHI+goLfZhpVXLoy8xJzAU+UkE303wdgWYAWicxTTeHtCpjtJcZ2oHdtCh3PywuEP/viRSz+N0IsUEDOSFkFIC/KKU/N6LtSYSQaYSQaStXrmyouRMtSoZLmshnC45yo2X75jBJTKyAhc22EnOLLTZvpm/Imc3aVjpMk6LRCljYbEvBbO7HzBVQ1ZopIlq1b26UCgaCllOHE2DGWKYoSMyW7VuYa5C6mJ6twnLQgpAABtr6yPqCasUT13yol8mPjdXGhxlqPBNFidnWRy4XBOTFJMtn5o8W4dSYDPgxQ6xEVykCfrOJNptLBXgNS5Nczt138zkPUKCkrgm0FTI3T/DyZA7TfH6y33N1jdWGzxEbmMrxbIBZknMGGmA2Ok8LjvQy0NaHGXExzdcRk1TGRZ7a8m0lpmSFUDpXdEFCkqSxLfQl9sD+lpznBkSDAzkh5ENCyK+af6MBXAbgyoYYAEApfYRS2p9S2r9lS7+LVI2DzxullDorRSAYQM9B2zlyuR67bodkhV7PHIoElbJwB51rYIYC6L17N1S2ZBdKz926Il6m19+GwkGMOm2olOdILTMYCqDvkB6O5rzXHt0QS+pPwGAoqJSaM/U9GAqg3969UN6M6bP7DO6OqKauKetTECPl8nVaMygACAGRQUIuFx4IY9FYBEDiwhoB8eN9mHuI4raRXWHW1LqZfnnuKbng7Qo/jTKJHSIxjzMzo3sLCV5kN5j12QGX9PIYAzPMmSVnvT3gp00ncYmZOAb6ASUMRIcLCZ6vsx5RmXEfZmxf4dYXHQLjExEsVdIYP8qHOVKS4O3lwyQu6aUfc7TE3LsBpiRpjI/1Ye4vtshHhpqRIKqkMeHDjB4oysJFh/kwARL/H8kPKaVDKKXd3f8ALADQGcDPhJBFANoB+IEQ0saPt76x+yE7M9vZiLhYQ5EQWrZvjosk+aFlWbj+3UuQqIw71q/EIghFQjj+xiOwRU/xFLXn4btgtzE7q8xoCK3aN8cFklTQYVbEHZ9wxgzihJuPROcegjnkyEHY9aCdGJNIeXZogfMfF7K+QCCA69+9lDFDKvOk245Cx67iDj1k7CDscsCOiMSDzt6cWDKINp1b4vzxp2qYMUTjjBkMA+FoEKfecTQ6bCsMkEjsQH6xygNqGAhsDlIhKrAQEgRp9hh/qioNahZrW345c3UrtY0fxAcVN7M9SMW1Luaj/KnKzbyCGRE5zEO4EsbN7OBihkCqTMyrFXkXiR/KC+i6JGOBjqq0jYQ5M65hXsOMnRzmEUBkFxczYmA+YmBex0ytHOZYXqg5rDKDnVQHQF/m9SCSuockjuKujW7mFiBlklyORECqHuZPlC5mxY3MJMxhHguEd9QwtwQpu1RiRhkTbmYEqLhZWBIDzFTNU/w5AgS3VgolExIDqXzIwLyVuWI6zBM1xZ8jQLALSNlFop0VB6l80MUMcOZtwuYYYLLTcF8NcxuQ8gskZgKk8gGwQT/gYt4u9lhsYPxtV3NK6S8AnO/pfDDvTyldZXzT3/s7SNdlXFMcFPls3uOXncsWYBdtZ3MMtSkIWDWdhpnMP8XNzGfznEklJlHqfZaYmbosY/LpakLY+91e4Xmep01VZrpOZRJCccFdszHq8Pn46JU40vUWth+cw4BhSxGqUucct+pejae/+xVTXk5i7k8htNy8gKGH1qFNN/ccLgXsengeE2jOO9fseY13zDPnx304PMysgSmrMUpM99ykbcgzC+8mGB2TaPKkzNfEHTQLrxdGDswfoSGmrWFSPXO9+p6C2ncK2DkNM+tigr9Pw6RpeI6nnYHneNJS3+X1DFPfdcwsPIvPNMtzlF+nmr4bPiM742XCzeSflzFP95/SnUul3N1MXZ4GJi26PrpSnq7PXevV8vdio7kfrs9Avj7uhx889SnuOf1RpfgywOaoe+y6HW776GoAQLFYxGHtT8HaZes8jEg8jDs+/Q+69NsSADDpiY9x/1njtcyeu3XFrR9e5TAP3fxkrFtRrWXe9fl12KoPezJ977EpePCcJzzMQNBCr9274+bJbONBsVDEIZufhOqVNV5mLIy7v7weW/bqBACw618Eam+A96IMAOGdYTUbDwBM3rViZzg+FEpEQZq/7GwOseufA2pv1jCDQHggrGaPcmaeM719Z8xXnc0hdv0zvBCthhkZBKvqIc7Mga4YaGBGQFq8ARLckjOfBOru0FxAQSCyO6yqByTmAK7e0DHfdDaH2PVPAFoDpSAQ2RNW1X0ScyexCOZhvuN8e7DrxgN1dxuYQ2BV3cOZWZ6nifmu8+3BrnsEqLtPw2RTQFblnZyZ4cx6A/M959uDXfcQUPeAgTkMVuXtnJnmTN0CXQSk5STn24Nddz9Q97CBuQ+sylsZ006BrtzZhznZ+fZg194L1D+qZ8ZGwKq4mTPrQVcO9GF+4Hx7sGvvBurHa5hhIDYKFt8MRu06ztQteEaY+yH/9mDX3gHUPwGvIoVN11j8WyO1a0FX7AK9aibCHCoDjZ9q/q+7H1JKO23sp3EAePWudzyDIwDYRRuzvp6L1UvZCv70T2d6npJLkc/kFanga3ebmTO+mIO1y9cBAH7+eIbjhOhhZgt468GGmcWCjV8+n4W1/Gbww5RfkNc4NAJsUfQdSX6I1AToT4AikPtGaI9zX8Dr2FaKHGjqBYn5pIFZAHJfCZ2wX/1C5BvPzE4VdRazn/swC4r8EKmnDBdUgel/Szrh7Kcwb/8ugqaE/BD1T0H/FFQAsp9ItRs/hlmEpUoakXrah/mRkHNmP/JhqpJGMzMPZD4Qck65zqc2TyFpZPp5E/N9IefMfAjzpK4NmnpVYj7nw5woZJLZyeaug7qYz5qZ6fck5vv+TFkmacwzB6TfFtLLzPsANfWdqjLJ1PPQywpzQPoNIb2U3CK1VJm5AbHJ7+xcs3St8XfBcNAZdFcvWWv8YBVXP0D71F6KUCSItcurHabpC4tdtF1M3VMmZ4aDzhP46iVrnUr1Oqa8yciRw+mChLh+GkyKZ5T12azyu/PjakM7MKVGSdpmL/dOizhRBGxJztZo5gp/ppLnGkM7AAi4mOabgyK7oz5MEhDfFIrLfZj59cuzJJcrroBZfujKU9p04w2LOQsCvO8m+WFelfL5MglQujHaK2CWCubXI08ivn0UV8JYgBg5bvPKQ/ttzfml+PZRXAGjPhs5te++TFs81dsrYJ7uyKkyRur9Ri2iCEca6cvM+ksj1yM2+YG8U3ezF0EhV0DbzmyavlO39toNMQAb8Lv039L5WV5Q1DFb8+3vHbu1M+qzQ5EguvQXfg4du/kw80W06sAWSjp3N7cLRULYRsoTwS2NbUGLgMW3vwe39lkZD7Ot3Q5zC1NDdjMoLWYFu8DsfhhhW9AblScV28qDWzWeGehsaFf6fYm5tY+kMQLIFWB8mURIHoNdfJhRICj3vZMPUnJ0DG7lI2mMAkEpT2nR18sMCIlesIuPpDHm6ruPpwcJCYlecCsfWZ+b6SOdI2G2Nb4xzKBUUceXGZWYXWB2IHQz2xnagS0UkzIpT5NUMAYEt5OYmxvagQkESpLG4NYwO0/GvdWE/mZs8gP5EZcdqBg8lSIcDWGPw3dBgksOt+rTGR2221zrHx4MBjD6dCHBO/wyb31Lxgxj8JGDkOCWtF36bYl2Xdp6alECTP4oy/qOuOwAfZ6xMPY6epBjH9ul/5bYfCsT08KIU/Z2fibJ06GXtkWB2AFC2hbqxS8AzeBDAkytoTB1F0AUiB8sHOtCffiNwsCUZH0kcZo5z/gYIZcL9Wc65cYw/foeP1TI5ULbc2285lQmAZD4GJWpvVCjrOxXSdoW3pEP6iamcGn0/4yOkJgD+KBuYgpZn3/fxwq5XHhnPqjrmJYi6/NnHg1SusmEd+Had0OekqzPl5k4RjAjg6Cva1pi7id+Tpxm+IxiQOI4IetzmJonGBICiY1Umdo8uWlX6eEisgdXP5mYIxrJPEFi7skHcj0TcjHrDYhNfiDvtXs3nHDjEQiEAsxkirBFya4DtsFZ952gtL3+nUvQpnMrtjmGAJZFEI6FceWr5zvWtADQd3APHHf9YQgEA2w3KGd2G7gNzrjnOIV5w3uXonUnlRmJhXH1axegVXshR+q3Vy+ccNMhCEctxBIUkRhFOErQf68uOO0uwSSE4Pr3LkX7bZojmgAiMRvxJEWiIoT/vHmhY3cLgBkKJc8AExcR/i/A7FHLL1WYpGo833xQGiQtAFGg8mFWTNhh7gYkT9cwd1ClWISANHtcw4wBlY+o8q7oHqwmIzcYEsydQKS6hIw5wTWYW+zCrXyUuc85zMGsxqWHOYAV01WYTwJWaxczDlQ+psi7SHQvVovTzYwMBCk7t5HM8cJCFwCJDgUSx2mYuzLXPYdpgTR7it8gZGYCqHycuQ46zOFcS+5mDmLFnmVm1VOumw5nVk0QewIAkNi+QOIoDXN35mLoMAM8zxbePKueEHsCACA6ghd/djP34Dd3mfkMv5HJzCTPMynlORqIHa5hDgZJnCIxgyDNnnbdHC02uHuY+wPxQ73M6F5MRqgwnwHzXA8oTNLsKbHPAGAy3tgYDXMoc+50mCHOrHLlWc6YDfmvNzI2+YE8k8pi4uMfIRC02DQHn+mY8908LPxVldZN/2wWVi5exXxMKJsbJwSY+NgUpSJQuj6DSSUmFczZ3/yG32cuVpmfzsSqxasVJggwcbzKpHYKow59BM/9MAdn3vQHTrlmMR6YPBdXPfwGQpZaTaSqcioemjwVNzw3DyddtQTn370IL/w0E736TnAx67mBEHOfcxLN/8hrFYqg2a+5N4psyAQg/bKLWadhEiD/Pdui3CCT6pmZ18FuDjJzGtuerTC/8BpxUQpkXnExa5nRk6fv3/Gaim6my4yK2kDmVQ3zLS8z963HZoBmp2qYFMi8prazqzVMAuS+9jIzn/F5ZZlZ5MfOzXzbwFTPeZr9FLCrIRZ8OdO1iEbtdbycnJv5pQ/TnedbUBv6MVVLAJr9mM/Dy8wC76fccC2QeU/DnKquTQCg2Y8Au87V97yXaa/hi44uZvYzb56ZKXweXs4zr5T3Yy+vBrKTXEyLLb67bAZo5kM+Dy/nmQOVSvFtaGzyA/lbD7yPv+YuVWps2kUb6boMbj3mPue1XCaH2094wFOLM5vK4btJP2HaZOEi8OZ9k/DXvKVKfc8S8xaJmU1ncfuJD3nqgGZTOXzz7o/44cPpzms09SRQ+B1llSkMPnAd9jlyDdpvlQJoPWi12MhAaRqouRyEZNBt+3qMOGo1Bg6vQTiSArJT2MXqMJ/gF5m8qFPkzEtEOzsF1FwJ7+JPhtUElEpp0fon+Mkrty1wpnjKp3Y9UHOVgTmZDdIOczw/eTXMGplZB9Rco2emJ7F6kQ7zEc6UF8l432suk5i1ZmbmPV6yrsR8mC8uuZl1oNVXSMwaoOZaDTPNVA45cS7RuofY4qjCLHCm2LxD7WouJdX1/Q1WJ9Rh3m9g1rryXAvU3gTvYlqGGYtJZeho3X3mPGuukphrgNpb9HmmXgaVSsbR2nv5jV6Tp8wsrgZqb9PnmXqR1Yd1mPfwG72bWQNa8x+JuQrQ1vfMAKnnQfPi4YnW3eXDlBw/iysAbW3TDJB6FrQwT2LeyRf5ZWYeoNWgtddJzOWAtv4sN+xyPTz93djkB/L3Hv1QWywYAJYtXOHY037/wXSjaVamPoOJj00RzMc+1BZfBli9zpJy5PvJ0421MDP1GUyUCiUj9TKMq+iFhaCl1ensZzBu1aZplwztFR/mfGElm/sMxkVEmlFlaGm/POcKK9nsJxuBSYH8bHbROUzTImIGNC3J0NKvQa90oEB+hpBeZj+G+XhmlCLRzHLVxJwubF+zU8xMV+Fp9u3GxPxJWLRm/Jg50JT0VJ5+A3o5KWXWwCWFSeZD82eEnCrBMzJtZuNbkl5mPmg8M/OmD/Mb9oABsBu/cTU+pzoV+jK/FNLL7Ps+zDxoRma+Db3s1Wb2uCWVTqYBpux+mH7HzMx+JmSSUmFpbxS9T/p/Mzb5gdy921GOQCjgWLmma9PGgsoAHGtaAMg0wCztBE3Vpo2qFQCoWyttxDA6nAEgQSGbovUw654hpGUAzE5sYANiiWnXwyw/pPxrcmOYQdEP2hCzkXkiIDHrYJYfrmeedmOOp5vpt5MuIP6mLX+1docNVc7WUN/572kdzBp6F9M3T0ti1vscT9v1GZmkeiVmRmL65bkeTEjMRvfdj0nE720/ZnE9+i79ntbDvB+jKCSaAMzSxxIz1wgm+/ayMWKTH8h77dbV+FRMbYr22zAJ3nYDuqCY15/UkXgY/Yf2dn7uMairUhJNDgKCzbswZtcBXTxb9hXm3r3EC+Ht4Wdg5Mi/Qn3NFx+JcROoErMfzE8IAcEM94F5MFsfZlDIqsJ9AeOOixivDMMj5MMkYVElKNTXwAOAOK9gU2L28WkbaTSTROQ8e5ubkhhf3IT/MSJxECXPXvp2AGAlhNtkuB+MT+QkDhKRqsVI5em8zDLh4hjuZ/6GQ+IgkZ0lZg99O4C5KZZkkqF+MDp3kIRa1UaWi3qYVXyBr8Q0yCRJAiQ8oJHMFnDcJMP9YHR+JAmQiMSUpYgeZis48sNwPxgljSQOEtlJYm6nbwdwt0e+MBryYyZAwjuYOesRm/xAfvhlByIU9X5g0XgEh1y0H8L8d207t8aO+/b1FCsmhClXhh+/p/PakZcf6LxPjkg8gkMv3g9hbqa12ZZt0H9ob0+xYkIIIrEIhh0nmEyKpdPKxoDEKY4MjQQ7cUMkd1umMlElY2eYmcnTHBkaCW4BRHbSM0nMJRk704d5usTcit+cNEwrrhSNJWV+zDMdGRoJddGYF8nMUVKeZ0ErkyQxIHmWI0MjoW34jcz9eVpsII0KyRhJjtMzEQOSZ0vM7fgArWGSpCIZMzOjQHKcI0MjoW58kNIxy5QivaTsHJ88z5GYPfgg5WYGAFIORIevB5PfuEI9gdC2PkwhuWVKH1Pfz5OYvZnu2zOYB9jAHJUlt37McyVmXyCwpT5Pq4oXuy7leZ6ZWXa+xOzP9xpo8rSaKyUOmXKqEX0P7wAEOmmYQXZjcpVN/LuxyQ/knbq1x4UTTld038QiGHjAjjj80gOUthc9fRa69N1CeZgqb16GmydfgbIqIUfq3KMjrn3zRLRqF0A0XkS8rIhonOKQ8/rg0Iv3V5iXPnc2djtgc4QjFImyAiJRG1v2jOLuqZchWSnJkULbAhXXQ/1wLWY7mjhR7VTFnd6nBFIFVD2pyLtIqCtQUSrYKzP3BYmrMklU3AMEt1Vfs5pxpiTFCnUDyv8DdTC1gOhIkPgx6vsr7wWC22iYT7mYPXgRYBczNpo5+SnM+/hFLTdtDjR7WujiAVbfsvxKTZ77McdBhfkA23ihMFv4MOWL32KafNlCFwAqH2QbRDzMZ4QuHgAJ9+VFgN3MMbDih6jvr3zIu3nKaqlh9uNFgHXMg9X3Vz7i3eTlMKVrJrw9LwIsDygWED8MlqxhJwSofNS7ecpqxZkiJxLeASi7wMUMAPEjYMX3U5lVjzWOGdkJSJ6vYR4JS7J8ZczHVW94gH2rqnpaaO0B9s0kea6XmTgGlqQNZ8wnNMw2GuZAIDkO6reXAJA4FpZ8o3fydG10CrRh15Fxk9j6xSY/kK9dvg73nv4YchmxoERtiqmvfY0v3vhWafvyrW+yCjvSjECqNo3bjn0A+ZyYp6LFlejV/UI89c1PuOvtebjx+QV4cfovOOLUJ/lCl4hQ4WGcf9tkPPvDDFz37EI89NEc3D/xB2zW/ByxoAG+4u1ROthMOZH9WO1U/cNq9RaAzaHWXCx8H8BXvGuu0zDfAXKfqu+ve0CtYAKwecKaS4TvA8AWSGuvh7pAZzNpWe4zF/N+oKBKJ2HXAtUXu5hLuSLDxUy/wX1gZOY9gLT67+RZfbEouQWAFv/iigw383Umb/MwXav/drWXWVjMmfKcpc0WQXNfqe+vvxsoqtJJxrxElPECQAt/chMyN/MlJt9U8rzTI52EvU7D/AOou03DfBE0p57zqLvdW/VJy/xdz0w9B5r7zsW81VtNyV4LVF+myjkLi7jKQ2YWmcIj972LeYtH5gh7LVDjZi4A6nXMZ0BzP7qYN3kkibDXADWXu5jz2efpZtZPAM39pL6/9kZvNSV7NVBzhYs5D6i/F+o8fYn5s/r+2hu9W/GLq4Daq3zX9dYnNvmB/KXb3kJddcqz6JhN5XDvGeMd35KaNbV4/sbXkXHVuMxn81gyfxk+f0WS9dU/CtA6EGKj83YZbNs3hWicAsiA1lztHFxqrwXqHwGQRnlVEV37p7BZpxxYWbI/gMxkifkw9PUTM6A110jMNdyJzb1IlgWKi5hcsMSse4gvkmmY1VKexdVA6gkNM8dKTUk3J1r3IPQ1GV15FlcazLCyQHE+N4EqMR/wYcp5ruDmTRpm4TemanGY9zeSuYwbLWmY+blcJcSZ9feaj2fNNaJdcRkzRfIsuGZZmbfc51Ke9/geT8H8i6t7dMyZyg2P1t3dOGZhMVfiuJkZoDBDuTnRursMC/IZVYJX+IMrXHTM6ao8tvYOH6YkFSz8DqTf0jPzP6vy2Fqd46Uuz4VcOaJj/qjKY2tvM+cpSwUL87iGXcecpspja241MNOgtcLXnzHf1zOz3yjy2A2JTX4g//Slr1DI6VenUzUpp6bnj1N+RTCk/5qSqc/iw2c/l16YBONKsl3LBj8AyH4Js5dFClTeeJB5H8ZVdHud2ByS/QLGxSSaUuVIWT/mGvGEk5u6HszJZmZxlXgayX0OozcITambGTJ+zOWAXZJeNsCUC9FmPoBROVJcxky9SkyjrC8FmpHznALjonDxL1V6aZQ0pkDT74mfs37MPyXp5WcwLqDSFGhGZn5kZhYWSdLLTxpgSs572Y99mPMl18tP9G20zE98mL9Jrpcfw7hwTtOgskTPz82yMLtxDpU0DZoWzqTsHDG0zc+QHCp9/jbNgEoPbuxmbmL+IrlJfgSzusbF3IDY5Adyo/0gABAifk0pqE/9Z/UrjD9T/J76NkVjmcrvpR2F2nAZ7xvDladJiOJmNvhVjjb8pz0N1iNP/wPa0B/VtG3scW+oLUHj2/rIR41/f2Pl6X5PY4/nxvr7f2cqoCHexr6OKBp/HTWW2RjOf5tpjk1+IN/lgB2dkmjuiMYj6LAdk8v13rM7Cjn9E1w0EcGeh0oytMheMEus4kCALx6FB8D45E7izL+iMUyrTCyghHeG+Q4dB5FUFmzl3cQsl+SHO8Os/Y2DRKU8o4NhfNq0qoRTXGQgzDLJOEhMKCL8mc2FS2NkF3+mpLJgNS4Np2egJfdr4UzTkzuJg0SHNZLZWkgFI7vCOFh78tzNh7mZJBXcBeaLNg4SEWoQhAf5MNsL/5jIbgZeKU+hBvFndhT+MZFB8JVeSqoVduwNbYNbCK+XyG4NMPdqJHMrqf7rbvCVcyp939mHuY1YuA8PgnlciIFEhRIGsmTSw9xOeKhEdoNZehljnkIbITb5gXzMhaMRK4t5tOSRWBin3X0sLF6RvqJFOQ48Z19EXa6GwXAQLdu3wG5jxIEnyZO4ztPd/ShQdoWQdwWa82KwbmObEDOTkuVdyVPYTaBBZgtmNOQxywkDwc1dUqxTfZhXOhInEmgFxA83MNvx4rcl5mnQu7FFQcplZmsgfoim72G2Ai/LuxKnN5LZhhsN6Zgded3PUp5nNJK5GRA70MDszAfvEvOsRjI3B2L7a5gRdpOXBlCSPJsf9waYwQ5AbKQ+z9BWfADlzLJzfJhiiz5j7qvPM9hF0eULpjvczE5cCqljbsMHxRLzXDOzTGZuwWWLbrlehOmxpUGRlJ3fyDy34rVndcxuvJZoiXmBD1PYPZBQF36+6Jg9mNOmwtTZ07qZ2/Lzxc2MMolryFPs52/FJj+Qt9isGe774mjsskB3qAAANHBJREFUuFcOgSCFZVG03yqHSyd0w+5jdlbaHnvdQTjhP83QrHUeVoAiHLUxZEwBd392mqIbJ4E2GgkeAWIj1Cc4AEie7RX/k3Kg4k5VNmVkjlSfDgAgeQ4QaAxzM6D8KqgyNMJkffLTAQAkzwMCLqmglrk5UH61K0+LDVxuTWvyfK9UkFQAFXepUqxgO71UMHYgc0aUo+xCr1SQVAKVdypSLBLsAJRdAa8E72CQyO4u5kVeqSCpAipv1zAv0zAPAZEGUsa8RCMVrAIq7xBWquADn04qGD9M3YwEsL/tkeA1AyrczM5cKuhmHq5uHALYMQp00jBvF1aq4INp2YUa5pHq5hkAKLtcI8FrzvOUmVtx+aHMDADxo0AiO6rvL7tSw2zBihq7mVr54TFMQqkwr/LK+qyWQOVtil0HCXXRyw/jx3mZ5dd4/cutVkDlrS7mtkBinIZ5PJOPKsxrNcyWQMUtRluR9Y2NVrNzfWJ9anbSwgLQ1QcANIViASjkCSIxCraR4SxYyeOdtva6c4HMh6A0g2yaIBShCAQsgFSyGn78axktzANddSC8K8kxoOxsWInjJOY4vmAhb5u2AKsKpMUHztcymv8NdM1B3hV3wjZcWIljBHPtWXyhyM1sBtJissScC7r6YEOe58FKHCUxz+ALam5mc85McOZs0NVjXO1KzAthJYRG2157Gl8okpVAAYkZ58yZoKsPM+R5CayE8EO3157MFpE9zBasdiN/cqL5GaCrD9czyy9VNNr2mhO5msLNbMmZUc78lTNdfScxoOwKWJLPuL3meK6mcDNbcWaEM6eDrj7Sy0QUKL8aVlzsdbDXHAvkpmmYrTmTDYg09zPomrEG5n8Ujba95mgg94OLGQQCbUBaTJKYP4GuOcrAvA5WXGzGsleP5WoKN7MtZ4Y483vQNcfqmRU3KBpte/URTKGiyEmDQGAzkBYTJeY00DXHGZg3w+JTepRS0DWHA/lfNMx2rF4pv4nT3Lega04wMG+FFRsqMQ8B8jM1zPasrmqJmf0GdO2JWiapvN2ZLqKUsuutMMvFDAGBDqz+q9F/yBv/9Zqd/61gEjx2sAJB8EEcANJA/f2OlpsW/+JKhwwIAaJxikAAAK8eLhsy0boHofdKSAN1ErOwmCsd3B+WDdgpxTyJ1t8PracDTQN19zr6cFr4g6+465j1ioEQrbvPJ897HS03LfzOV9x1zDrF7MefeZfEXKgZxAHmOVGnWIVSbaHgEvNOR8tNC/M1g3iJWQtIShhae4+ZWSsz52kGcc6kNYCkMKG1d+n7TtNA3R2O7prm5wK57wzMaqUOI2Pq8swAdbdLzFlA7nsDc51irkS1Dnwl5m1CepmfCeR+1DALTKMty2PrdE6Bcp4l5i9AfrqeWVzNr7FS332YtbdKzOlA/ld4zcUK3A5WksfW3u7DvEWIFvLTNQNuiblSlcf6Metk5o9AYY6Budwlj9W5OTImrb1F/Jj/Hij+pmHmAXsZv243PDb5gZzpa31MkUq+3LkfzNI2pNVNObmvfJi22LSR/x5mt760KtXKfu3DLAr5YX5aA0w5z298mHnBzDXAzEl55r6BWbaVExssct/BfHqkQOW++zIzkqTxO5jlNSnmWV2K/Hc+zJTYYOHHpK4889+bmXYdu7AA/iRu/ttUvvjy3+vbAezmZK+Q8jRJ21Kgkt6dPWGbmNXcOraUp4lZD5qVJLfuzTQKczWcuqu572BejE+BShp69oRtYq4C6FqJaRAN0Hrm/d4o5go4Blu5b9aDOd3MLC6FY1yV+1b/MAbwz0ja3CbZDnuZi4VMMvctjCZotB7Uvbntb8YGD+SEkDMJIXMIITMIIbc0/I71/QO6RQoetCgWHBqqtEGS0g8GExuHGZOYPnNYMtNYP9DN1C22SWHJTFOdQ2j6vhHyhCtPo50pgWM0tL5MP2OxxvYd7s/IjynlqfWDKYUt+kHiMGvTietcaihPiWm82Vquz8hgBuXJM+aTpwXHuKlBJm1k39eTWTo2JAqjGmS9+k7FedFg3xvLlH5P4j55BtTz06RE8TBj/kz5eG5AbNBATgjZA8BoAD0ppd0A3LZRspIjdiCMF0ugrZDgRQbCVzIWE/OfiPsxNwMJ8gWU8C4wWrmSuFJn0T/PDmyREWBKAj+mnGfsQHhNgXgEO4EE2rL/jwwyy/oQU4y4mBrDxNyCqVUAttJulApGNUzDiR3cWpSFi+wOs1QwxspnlSK6n0+e24iycJE9zExE1XqQsdHmPEPbCVlfdM8GmJIfjy+zuyjhFt3T5zOKqHlGR0F/8RMg1FPI+qJ7wfyNLQIizaUjOtKH2VtI8CJDYJZJhl157mtmhvuJ0mgRvzzDan1NX+YOQtbnFhD4Mof7MHcSPjfRvWF+IAqp0uDocOhvJBYQHigEBtGh/kw5zw2IDX0iPxXATZQ7s1NKV2x4SmqQ+FF8xdeliEAMpOImIe8iMaDsP/A+bceYA5ksGYsfzW1QXUwSB6m4WbSz4lzhoWPupMq7EsdypksVQOIgFTdIzARXeLi/QcSYtEuyCSWJ4xrJTALlV+jzjOyiSsYSJzLDngaZZUD5ZYa+D1LlXYmTfJhiuzKxyoGySw19312VdyVPAQKtNMyEi1nBVCu6PKODFXkXSZ7KteIulQVJgJSL7d/EquQKD1eeJMYudslilyRP41pxl3qBJF3MZkDZ+fq+R4cpdrik7AwDMwFSLra+M+Y5emZsHxDJDpeUnWXOs0Js+yeBFkyppWWOBJFsZknybKaQ0fb9aonZCkieZWCOZkZuDvMcpg5SmEHOvEpitua1Z3XMA5iDpcM8F7AqDcwrJWYbIHmKgXkQc9ostS07zydPSSYZ2AxInuxlkhgQP4SpdDZCbOhA3gXAroSQbwghnxJCtm/wHesZxEoA8aPBnpCkO1uoHyCdAABAooP4oF/qFt+tFz9elThZSQOzPyCdAIy5G/foLrXj/40fq2GO1TB3AEKq0yGJ7sG+TSh5Es6UJE5WGRA/QsPc0eN0SCJ7Np4Z0zEHaJiD2UYZD/MYF7OcF8wtijYAuym55IskOgRqsWDC/j9+tItZAcQOMzC3djH39jIJl8EpzEpehFdmUnZD1jKbu/IM8Cr2MrOK6+1tF3OQR75IosOgVr0v5elmNnMxwZm7e5wOSXQfPqCUmBZAgkDsSLWd1Yxr+OXPnQLhPcUGuFLb2D584JOZIf4ZS+0CLYDYQfAezz09MksSG6FhhhvJtNlTvUu+SGIjAatCwzzUxWwFxA7QMId6mdFRfDpOZkaA2CEuZmsgur+GOUzMEijMpMpEhH8eGycaHMgJIR8SQn7V/BsN9n2lCsBOAC4A8BIxCCMJIScRQqYRQqatXLmy0QnS3DTurFeA+MpnA/lpoDXXqW3XnsKMp5yvcRRABlh3siiLBjC3t9qbvMzct6A1N8hI0DUn8UVFecttmjOXi3bZb3itw6KL+TVo7U0u5oncJ0XOMwWsO5GZVTnMr4Da2zXMr5SVcUop6NrjDcwThN8HwBZs6u7UML8Arb1Vw/xLzyz5fQBsYanubonJt0hnP+fKBpl5HGC7mfXAuuNczE+Buvs0zM+4UkRmHgPYS1QmrQPWHivKtwGgmY+Zo6ObmfuUmV/JzDXHcI8YN/MYUb4NAM18BNQ9rMnzY67mkZlH8wVVN/No4UsCsGK9CpN/RtkpoPUPSEybSQrt5RLTZot3a48SC24A8/RIPcrbyczJoPUPNYJZw/OUmZO4WVuJSSXmIy7mkRpmNc9TVNqi6feA+gleZmYiqw3rMIucuULDHCvKzAGg6XeA+qc1zHdB6x/XMFe5mOsYU5IW26k3uQGcu+9vg6YmSMwCZ6725rnmSOHJsoHR4EBOKR1CKe2u+fcmgMUAXqMsSkvoLQycRyil/Sml/Vu2bNnoBJlU0CAdSr/unFg0PxvIz4J2xZ0WQFPPS8z7fZivSsyZ3Bq2Ecx6H2bqZefEovkZ3MZVs+JOi6CpFxqXZ+olcWIVfuGWq7o8i6DpFyWmSSqYAVIviBMrP52rdwzMlMy818xMPytqIuZ/4jcbzVwxLYKmXnHlqXfBQ/oZYSGc/54XaTYxZdmpoe80DaSekpjT+CCuYxZU2WndvYY806y4bsmWOPcNH8hMzNddTIP0sn6CxPyaK1h0c+8aptZVMA3Ujxe2xLmvXIOOnKdat5LW3tMAk+eVm8rkkFpmTjF18z2e9Y8Ia97c58yMzpAnJLO0RjOzn7IbliFPWcqKesP5SdNA3cNC0pj9hN1YPUwKIMvdFjc8NnRq5Q0AewIAIaQL2OTjKr83rHcUZpl/R0LCN7kwB2ZVQE6VXxXm+DCDQoJXmAO/QrSKBWXejxkQErz8bMC4myvLtKyNytOSmHPM61PIArLnsttfXGESIesrzIIZmlFlYn5MEOZWCDAPdmMd0Ix6PN2e5XJQKjHn+CwiuvIs+jBhC1lfflYDTDnP+T55FvnTXSlPk6wv7TqeC3yYeaD0zaUwG5A88dV2aVV2V1jow8zxgbbENEjw3HmW5K9aZgaOVDA/x59ZkPIsLvJhpiXmbJhrm6aYdr1RedbBkR8W5hhuTCWmJDl0+7UrzBo49XQLs2Gs50tToLlfzZz1iA0dyB8HsAUh5FcALwA4mm7sraKlWoK6oHk+5whhTqSH8Pnj0o/NfJgFF9M06Fp8ga8xzDyfxwQQaIjZ2DxdfTfecNzMKh9mgc9jgs05+8nlrL/DbO7DDKhMUmlmoigxW8C8fyCgfkbEL88inHqQgZY+zKCr7xX+eZZkmlZzmC2Rg65zyY9pS8yWMEvr1odJhbTOat54pixB1TFL0rpAcxgVSAjBqZUKAKTchwnBtFrCLP10M/3yJHCkrFZzH2aYL743hhmAI+e0WsAszw2rx3MDYoMGckppjlJ6JJ9q6Usp/ajhd61fkPjR8K4iA4AFhLqxlWaAqUiMH0IEJC4tqsSO8mH2YIsjADfzMZ2AYZWpNdcqMfuwRRyAK0hMg4SOqTsJAkC4r+SCNxBmTW0YJC4t/sTH+jC3l1zwdoX59AiDyGXMfJk7soVLgMsPfaRYCvNIH+YAyVlvfZhHGJhBILKLJMHbw8Bjf5/I5daMeQaByCDBjA6G+RtOACQmMw+H/lwOApHdRfm6SENMWXJ7mA9zT8mtb68GmJJE1C/P6BBRai6ytw/TcjFNeYaA6FCXrM+HKVkjsAVuE3MfiTnMh0lU2Wn8EDMztq/w+IkOh9k6mii1bzckNv2dnbH9+UAlXyxh5nVSIWTrhARAqh6AKuonACJA4hhWr7H0avwgXqxYw6y8VWIGQaruNzCPV+Vd8YOZzNHDbAZSKUkaScicZ/IkVYoVP4QXQJaZEcasuEVihhkT8iaJEvMUVvvTYR7GK7q782wOUnGjyqw0MU9lpkEO8wgg3FfDbKFKGkkYpPJ+A/MMZm5UejUxlle9dzNbqvJDEgGpvNfAPEuRd5HE0Vzm5z6eLVWpIImCVN7H27mYZeeASGoUkjiWV6h3M1u5mDGQynsMzPOYUZbDPIEXanYzW4OUS1JBKw5SebeBeQFIsKPEPJGrvNzMNiAVV0vMBEjFXQbmRcx4rPRq8mSu8nIxA21VqaCVBKm808C8mJmuOcxTuHrKzdxMlfVZSaDiNj2z/HIm+3OYp3H1lJu5uepUaJVLTEvDbCsxz+BGbW5mO5CySyRmBVBxq4F5tdi3sYGx6Q/ksMD8rOU5SwqgDChtOHCaVgDU5RQIm2uxXUyiY5bDY01pVQJU/kpsYgb0eZIKL5NUAlR+KudM+Su7kWlzpluXWgF2Y5BlkjYc324nSlMDjcjTMjHdfTcxK9eDqckz0KaRzCqwi9nF9HxtDfK/o2O6jqdV2fg8jUzXk7qTZyn8mK2hLpBR9n4tU76MuQTQcg8QQYC08uZpNYPnG4UikWwM05UnadaIPC0AVHyjdiIEpvVvmMk2hcnfxjjTagU1QnwqRsdUn6pJoBlnlrilPN19X588dUyIjXIbITb9gTw7Gci8DFXlkQfsxaDrLnJeYfKuEwBUQygtbNa25nrQvLQgl5kIZF/TM6vF3ZTJpk4AUKNhXssMmxzmu0DmDS+z+AdotbjrU2ozWZ+WeQ0rPusw32ZFkT3M30GrL3cxTwBQq2FezYrkOsw3+Yp+Q8wiz1PHvJyZfznM14HsexrmQtAa8WTGmKY8L2eFjEtt06/yUndu5gIXs8Dd8uq8zOpLmfFZqW3qFV7qTmbmgOJ8tcYkLYCuOd7AvJgVm3aYL/I6q27mPNDaayVmnjPrIQbTEvNCVR6bep577uRUZmGuWg+S5jgz5WLmgOoLVHls6jlesNuVZ2EOaO2NKnPtCQbmeaIcHgCaepqXPHPnORu05iaJmeVOgTKzCCAHuu4cVR5b/ySQn6phzgStuUXDTGuYZ6tS1voneMFuN3MGq+fpMNOga0/SM9ee5WKO555Nbuav3KRLZp6sYWZB156pyGM3JDb5gZwVStatJBeYnrp0cPPTwEx6dPNRedDUMxLzMQMzD2SnupjrzMz6Z1WmVuKUB7KfipqIuW/FKrmmTzQlMx/1YX4i9My5r9jqu5H5XCOYOSD7EahdMhD6yrzaDtsl5zQdzxyQmSwZCE31UQUUQdNCeon68Q0wS3UWdQ6NMlPIJJEyfUY5plMuaY+zn/kwbUV6idR4MzP9rpCIZj+B0eQJNmjq5UYy3xZyzuzHMBtc2aBpIefUF/wGgCyQflNIL7NTGmAKOSfqH/dhvi6YmQ9htjygKjP1hOFzzzJpcEl6mfkA5m3/AE0JiShSE6CXc2aB9MtCepmZDB/5F2jqzUYyXxLSy8wkH6UWVeScGxKb/EDONMKGICEhQysugXnRq6hKuuyGmPypoyTvMzGLkqRLekprmGk6WQqqTEx6SvMyg0IuV1zic7K4mcsN7dzMxT4SvLwoUA0I10Ajc5WUpw9T+Yx88oQl3PrsJT6yvrzadz8msYSsr7jYh5lT85SeUPV58ieu4hKmNDIx5eMpbQrTJCox/zLLD5Fz9d1PFUy5JruUp+km5mauboBZ2whmVpUc+uZZFA9BxcU+8sOMi+mTJy2Ih6DiEp8HDTdzjaEd2GdSeggq/gX9zY4z5W/LGxCb/kDurioiB82LuepAJ5gHyCAg+ST4MwtCrueuvKJESN1+Li0C6fPkc4FBn7+NECun5eTpxyyIudVgJ5i16SFAWkT0VFRRmEU4dSsDnWCWCoZdebYztHMzOzbAlCwCSiZj2rCZRNDJ06wCUvK0fJiUcmko+PE0MSOuc8m9XuCKknw22BFm+WFEPZcC7rUSOYiQnQY6wSwVjKq2A34yNxIQcs5AR8+8scqU+94QkyuLgh38mQEpT888vMwMwZEnBjt55+GVPBvLjMCREgY6etdKnIi5mO55eJkZhZBedvKu6TjtYt7KVn8zNvmBnCRPNhzcMBDZQ7jLhXryBTddl4IgceE9QRI+zOhgIZcL9eYfmI4Z8DK18sMwk02VTupQP6i+IG6mkB+S5Ek+zGFC2hbqD9UXxMWMHSYxTXlGmNGSU4h2B7Zgp/2WYymSRpI4xXA8I8xoqSSXC+/EF2VNTCEVJIlTfPIcLeRy4QH8QjQxhayPaA2RSsz9hQteeCCYDaqBGZOZfsfzACHBC+8Ko4UxUZkwnksRIH6QkMtFBpkHHkJU+aHxnI8CsTESczfzAEkISFyW4J3kwzxElAOM7AmjNNjNTJjO+SgQO1zI+iJ7wigNJpbq0pg4sQEmf7iIDoG5UDIBiY1qHDM+VvgwRfeCn4WvwtyA2PQH8sjuQPx4qAqCELNHVaRtBKTqUb6Jp3TgLNa2/CZWW7HUNronED/GxQwyZvl1LuZ4Pki6mTerUqzoECBxlIa5jepY5zCbuZhhoOJWYaELsIrlibEa5raquxwhIFWPc2WAm3m7Iu9CZCjX/7qOZ2g7kDJJMkYskGZPaPMklXcq8i5Eh3OjIleeoa6qZKzEJN48SeXdqoIhui83FXIzu4OUX+5iTuA3HRez6h4XcyQ3ZHIze4CUS5IxEuDMCokZABABqbpX7DMAmN1u7AANsxdI+cUu5pP8idLFrLxf7DMAmEVwbD8NszdI2UUSMwhS9aQ+z8oHhNUvwAZ1xx5XYob7soLHDjMEUjVBk2cUpPJBsXcBAImPAaIjpHYlZj/mDigzm5mYD4m9CwCTx8b20TC3Byk7W2KGObMMQgnEmVWPiIcxgD0cRYdpmDsamElvnlWPiocxgD3ERffWMAcwaaLDjEhMOc8YZ/ptLGp8bPIDOaU5XgklAGXqpPCHd86z+Dtgy14JNntf/hvIG04Z8zuwD6H0OuFM15xncZGB+a2GOU3D/F3DXMjnD2WmxaviuPs+zdX3EtM1l1hYANh1DTKZtYCbCSC/SMNcqGXS3Lca5vfePPMLgaImT1qvYbrzzAL5H1xMC8jP9zBpfj6fk3Qxs9NczIyGSfjnoc6j0vw8Pl9aYjKXO5r7XkXSNLdVcDPna5i/8Xndv8O09MzCXD0z/4OLmeLWAi5m4TfPfC9jZqGqLCiobE0AsM/RYZbCYv5ELjUGdbbpy0yAuisC0Xog97OBuU7DzLn6TkFlSwonTx1zjoY5i69luPqe0+SZn65hzgYkUzWVKedpqzYCGxib/kCeeomXVZIXS/IA6kDXXSDa0TzourPBVpLlhb8MkH6DD14l5vO8hqC8WKJj5kDXjeN/2818TSnzRVPPAfkZGmYtaLUsk2SSKy0z9TKo5AlD65/mdQndfXczs6DV5xqYLyonIZN3zdEwa0CrxRMkpRkf5vOK7wStnwDk5xqYspwzDVp9noH5DDMUc5iPc8MymZljzJpLRTs7BdScb2A+xYzPSm3rHuMeLq487bWq9NKuB6ov1DPrn2AGbU6ej3G/FR1TfBuhdh1QfZGBOZ7VCXWYD/NFRVff7TWg1Ve6mJfomXWPKPJYWv+QmVlztcSsBaov4+3kNacsUPcQq7vqMB9gDxVapti4RO1qoOZyDTPDauRKC6i07j7uY+JmrgKtkeSc9jqg5gpDnveyOrYO8x5u1tYQcw1Qc7WBebciuaW1d/GFTDdzpSoRtdcANdfombV3KvLYDYlNfiBH6lnoV30pUPgNtKRqyX0Jsxwpo8jlkHoOeukQZVrdklok+wXMC6gZxamQ5Wlg5mcKTa9cS1DHlCV4aVOeNpD/VVjeyvUePZFVmakXfJjTQYv8ic+3KGyO3WAd5vM+zJ+EnDP7CczKIjfzBeglgDaQ+17IObMfw3wa51RZX/pFH+Z3wko2+zH8zNIUWZ8v82sh58xO8ckz72K+5MP8Usg5sx/4MAuK8yNSL8NbABgAisxuuCS9zEz2Z0rOj0i94sP8VDhpZib7HM+i4tKItB/zIyG9zLy/Hkz3nhHRH2SnSDLJ9+GnfKPpN8SPmdcMeRaYPNaRSU70Ydqgmf9f5Ie0xvw7EhJfjexqmAddqn4d92UGxVcjWg3zzYGqX3PthvLkvzdZb+ryLA0CJmbJCc6u9pEf2kBRytOoYQfrO5XyNEoFbSFTbAyz1A+7ej2YJl08AEhMWu0jFbTV6SI/JgmIfthrG8+0/fIMiL9pyxvV3FFcTybX0NvrYNamFxvfd1iCSddBP0ABrJq8zKw3tAMAIiR49jqYpZdupmnvgo7pl6d8zvsxISSH9jr4912agvJlUjhyS3sdzHsS8uq1uQGx6Q/koV4w3tFoUUgEQ918Lr4IENlB/Bjs6cO0hZQw1N1n4IlyH5RSnj0M7QDABkqLmKHuPoNulPu1QLQ1BhVSwlB3mG9ibmY3QzsAIEL259ufKKt81Cim5L4Y6g7z00lMzTO4nU+ape37JabhNCYx9TPyYyIoJGWhnmYmYkpJOkieM96/H+EKJZ6nUXq5vky+MBrqAbOkMQ6i9H0bQzswNU1pETPUA2ZJYxxEztNVVUllJuE4WPoxSRxEKsfny7TK4ThUhnrAKGkkcZBwP4m5pb4dwGSXJUljqIePYicOEu4rfg74MZsJ+WGoh4/8MAES7mPmrEds8gM5SZ4KvXQpCsQPd6RtJLglN4PSnDAk5JLgnebDPNKRtpHgVty4SccMqhK85BnQu+DFgNhRjrSNhLrwQdKQpyKX82HGj3GkbSS0LR9MNRc1CTGTsEYxj3VkaCTUlRsi6ZhhpfA0SZ5pZiaOl5jduabdkKdU0Jkkz2qAyRnBHlyL62YSsCK8QtrmzzxJMEM9eUk1t2yMACSiONYZmSQGJE4WcrlQH/7QYWIKGRpJnm3OM3mKkMuF+vG9BnompGLBTJ1hYp4qMbfnN3MdMwrE9m1knqcJCV54R+7Po2PGuEqlxBxnZiZOl5g78X0U7pujxQbO6PBGMs8QZfbCO3PNuY6Z4MoXzizzYSbPlJi78Buvibm3hrH+sekP5KEeQMW1UAc+wixCJdkUAOZYF+wC8dRHmDyparwqxQr34kWV3czdQcrOVZlVD/KnBDfzcVWKFe4NlF8FdUCxmNa9bJyL+RAffGRmOVD1hIvZlxdVdjP35AOIzHxYw6wAqiYIrT0AEu4PlF2mYQ5RZFOM+Qgf0HRMSd4V3h4ou8TLjO4FkjjVxXyM13OUmZVAs6dUeVdkRyB5IdSL32Ka/MQpoh0hIM3G80FSxyyTmAOA5AUa5nBWQFphPm5gPi209gBIZCCQPM/LjOwLkjjexXyCb0aTmVVAs2dFxXkAJLILkBynyXMESPw4F3MCH8xlZjPOjEvMQbyososZG82togUTVU/yTV4S02oGNHtG6PcBVns2eaaGuR9IfGwjmM2BqmeEft9hnq5hHqDusSAWUPWUgfmc0O8DTBqcPBUehUn8IPVhzGFu7mK24MywxNyb6/3dzDEgUi1OxnyabxxzMZupzA2JTX4gp3Y1UHsn1Hllyhb4ct+obdNvcAUBFe1oDqi9VfgpgK94192tYX7CpY4y8zUD8zbhpwAw85u6u6FOcdhs4SynyuBo+lWuIJCZWQ1zDVB3j4b5kaKYYcyX+XZfmZkB6m4TpaxKzPp7NcwPuTRPYqZeZpJMD/N2lVlczUtfycfTZn4YLskaTb0A2H+6mGmg1s1cBaQe8OaZeV+tUgOuQioudjFTQO0dqkS0uBJIPahhTlSr6YCrkBQ7BZ5nnZu5AqjXMLPvsRJ8MrP+GW4l4crTw1wO1D/iYlIg+y5Q+NXFfIrbQ8jMeqDuThdzmZ6ZeQsozIQSqae4tFdi2vVMuaEwlwL1j2mYb3ore6UmaJh1QN09LuYS7gvjujYzr3srZqWe4NJeF7P+HvUYFRZzXxhXnunXuDJKZj7OLRJkZi2/ZmTmn7xeqZv5irdiVmo8X/tyMaWarhsam/5AXj+BL4a4578zoNWXOScBtet48WO3wiXLTtTsFIn5OF8M0TBrLncxb4VXkZFlF1T2I4k5ni+GuJlp0Bo5z1peUFmTZ366ohah9Y+ZmYpcrhqovcvA/Fll1j3MNb4NMdfxG5OO+SMzwHLyfIgv6rjXE9IuCd4aQFs7MstuTLkvpTwfMDNr3Mz7DXl+52Le78OUZH3FVUDdQxpmhj08SA8QtO4+sAViF5OmQKuvkpgr+ECqY36p6P1p3T0aJtUwlxvMsDLs85HlsXV3m5k1V0vMZUD9E5rPKMMenqRShLT2Th+mJD8sLgFSTxqYnyg3Zlp7B7x1M0tMsbGOFv9ixY89zDRTokg3Zlp3O7x1M9kNT2EW/uSKNg0z8wFoXtxEae1tYAvIGqbseln4gyuwdMxJijx2Q2KTH8iRfhPGlWR7jTCyyX0Boz8GTanSofRbZmZxpajHl5u6kZgruI4V7GIw+njomIbV/uISdjIDzAHQL8/Mm+LnzDs+zL+ERWv2UxirDrn77sv8Q5JefgrjdmWaAk3Leb4Lo8qjsEhILzOfNNB3Sd6Vec+HOV+SXvrID2kaNPN2I5lzJenlxzAfz4xSgBiZST7MOZL08iOIr+uNYRoW7vMzJenlFDMTGVaRvhTZyT7MX4RMMuPHzIJmJGZmMoyqrvxPwvUy86GBB4BmQeVCyZkPfZg/Sg6VH0J9wnblKTOzU8zM3DTJodLPpTEHuokUX/4fhEm2BHaxlSRINA9zSSVAdUrbWEz3BhgfpvP7PMwniytPowoHYHK50o0jtx5Mnzxhid/ThvKU+u6XJ4h6PBubp1Gqx/OE1HejCsiVpy+TQPmMjJ87deVpUjXxPJXj6SM7Xa/jWWgcU5a9GdVXnIn/IhPy7kt32FBlhH5M+ffy7ksds7GfEUQ/aEPM9cjT+Yxy68H8+7HpD+SR3WCuRxkU0qLw9jAPpjFeN7DEHOTDDAGlslvh7WG++GO8viGP8CCYD2dEyCTDO/pcqHG2iOK8bVcfZlS4I4Z3NF9UJA6i9H0XM9NKCCfD8E4wXnwkDhKV+z7Qh1kmJI3rxdzZh1kOp0pReCcYbw4kDhIZIjEHwPhkaFUJl7zwADMTcZDIYIm5kw+zuZA0RnYy8Hie0T0l5o4+zJbCUTE8AGbpZQIkIjN3MDMDreEUpvZlxkHkeqbh/vp2AFvcK0kFwzvDeL2ROPNTahSzvVgQ96t9SxIgUYkZ6qdvBwCBjlKt1gEwG3HFQaKDJGZffTsACGwhFq/DO8NsGBYHiexm5qxHbPIDOXMq1Ml8okDyHEfeRQKtuXmRu20AsCpUeVfiVDOz7HyJ2QaIjdIwg4BVCRIbKZjJ02B0gis735F3kUBbIDbSwKxyybtO88nzAom5ORDdx8Bs5pJ3neFzPC9w5F0k2I4XuDUwZXlX2Zk+zIskZgfuBqdjtlDlXcmzfPp+sSPvIsFOvAixjtlKkXeR5NmNZHbmBZjdbUNs0IuKm4NZgudmbsUfIDRMqw3vA2eWnePDvEQwQ1tr6tmWmG25Q2CJea6ZmZSZ2wCRnQ1935wXuy4xzzMyiZLndvzm5B7QQmwvhDSYMSWa/jpSjM1CXfmDlpsZZg844V1dTEOeCrMHEO5jYHZiUkKHeYEPU1hdINQTCPc2MLfgN84Nj01/IA+2BypugSOwZ68C0RGwEoerjcuu4Js5pLCqgMpHVHlXsANQfiNUoT4BoqNgyVXXAaDsGu/mGKsSqHpUlXcFOwLlN7iYFhAdDUuuuu4wXZt9rCqg2SOqvCvYGSi/3nWDYFIsS9JxAwDK/wMEu7qYzYCqR1R5V3ALoPxaDfNAWLKdKMD+tnsTjdWM9V2WdwW3ZH8fbubBsOKj1PeX36D6jgNcMvaYKu8Kbc0lovLFYgGxMbBiI9T3V9yo+nkDXDL2iIvZBSjTMQ+DJd3sGPNm7+YUqwXvu8zclktE3cwjYMWGqe+vuMXrP2215H0X0k0S2o5LROWLPwDEjoQVc+mOK27zbnixWvE8xRMrCXXVM+NHw4oNUd9fcZv4ViozK93M7lx26mYeo37DAIDKOzXM1uzalDZKkVAPoOxCqE/GASBxnPrkDgCVd3mZgdZA5cMqM9xLwwwCiROYLFNh3uutVxBow5liuCTh3kDZeV5m8iSQiHQTIQSovMdbWyDQFqh8SGFuSGwQhRDSmxDyNSHkJ0LINELIDg2/a/2CFhYzsyFlSywFMu/AlktuAUDt9dxgSwp7HbDuFOElAb46XXOpa8WbSbFs2ZsDAGqv5QZbbubJYpEEfHW65lJXnjaQeRO27HkBALX/4QZbctO1wNqThT8FwIx/ai535WkD6ddgp95wMa/2ysjsNZwp5jVpYSEzG/IwX4Wdcvk+1F7plZHZa4G1pwh/CoDVGa25EurKvA2kX4YtL44B7G8XZquv2WuAtSe5mPO4gZE812kD6Zdgy4tOAFBzmVdGZq/mfXcxa6/RMJ+HnZ7kYl7qlZHZqzhTTOHR/Fx2jniYz8JOf6C+v/oSbtolN13JzyWZOZudy8rW7iKQfkbDvIjLY2XmCs6UJLf5WXpm6knQzMcu5oVqJSAlT0kem58J1N6kYU4AzX7iYp7vrYZjr2DXpsKcAdTeDFU4UATqHwd1ewpVn+dlFpcD605Vpaz5X7iiTWYWgPrHQN3eR+vGCbGDw1zmZeZ+5uozF7PuEdDsF41gLgWqT1OklxsSG3o7uAXANZTS3gCu5D9v1KD1j/CFC3eHM1x3zU5WWlzBDXfcMp8Cc6KTVvBp/UN8INMxb3VOLFpczg13NMziGkAapGj9gxopVIl5i8RcxtwYtXmuAaRBitbdb2bW3eycWLS4BEi/Da9MkntOZNxMd7sS8ybBLCwG0u9qmHl2UWcmSsz7zMxamfknV0/omCu4YoEza+/1Yd4o5JyFP3j9Rg2zuJz/rsS82+czkpmLuNJBl+dSVcpad5dPnjdIzPlcuaLL8y9Vylp3l6YdZ9bJec7jhmk65mL+90p9v9PIpLXXC2Z+Ljd2c7fNMeWVLGXVymg5s0bqe342kP3SwPxdMX1jxZANedaI+gM0PxPIfm1gLlTlsVoJsY75K7e31jEXqFJWP6ZczDo/ne/PcPut5NhNXWJuSGzoQE4BlLbjVQBYsoE8b/gWmC2Ip5HctzD7TqSBrPTElf0E5pXknKjJmPsW5uoeadDM+y6maWU+K8kkv25ALifn+ZmZaafYRdAoppzn5z7Mer6xpjFMMej6M2tE7dPcVzCecm5mbqoPsxpO3dXclzBL21KgWekJNufjZmmvgeNv78ekKdCMzPzKh7kKjhd99itDjiWmuDn4MosrhCFU1sfxk6ZApZsDcl/7MJeBFS6Hv4soTYFm5Ty/1bcDeD3Rat7uCxivN5oClW44/sw/hEwy9yWM4wJNgWbkvrt96WXmIslN8ksYBRM0BZr5RPzs2pCnRGG+VMj7C7MyhaZAfV1GGx+mUaqxMQ7A+4SQ28Cu0J1NDQkhJwE4CQA6dOhgaqYJnxSpLQZvEoL5ggZU0x4/JpWYQYAQs4Ch0UwbYvt6sIE8pflGEvRR61GJGQKoD1OewyQBH6YtBm/fv+3K06gA4nlu7OMJ+XiG/Jnu+Vu/PJ2/2VCejWXaat+Nz03E1feGjqf0Gfkx5flb38/d1feNzgw1nokAfKW8zrFp6Hi6P6OG5KzgxzMA/U3Hcj0omtqVUuB5klLfG8P8+9HgEzkh5ENCyK+af6MBnArgHEppewDnABhv4lBKH6GU9qeU9m/ZsmXjM4yNhlESZFVx3w4wCZxJI03iiiETU6IYmIHmYrEjvItZKkjial3A2CgY6/0FWgqnwsigxjOjI3yYrYWsL7IrzCeqjmkYJAObiRJukd1gPFFJXK01GNvXh9lOlFuL7O4vk5TMqJgKx8AMdhTl1hpkSnn6MjuLcmuRPfyZUaFW8pYQk5lbCe+cyB4wH8+oizkUxsE8uI3wzonsCbP0MgYiLwpH9zYzQ9sJWV90MMwS0ajKjOwF4xAS6iZkfdHB5jwRBZGUWkzVZGL2FKKFyBCYH4iiIFFp8Toy2IfZW4gWfJkREHlBPLKHD7OfEAP4HSOE1Tw3IBocyCmlQyil3TX/3gRwNIDXeNOXAWz0xU6SOAZq3chSREEqrhMSJysJaKVLEaaSkOVdieM40z1IRkHKr5WYZUDZuQbmdqq8K3G8Oc9yOc9yoGychhkFgt1UeVfyJKh1OE3MSiB5lkb+GGHqGGllniROZqob7fEUW4uJVQUkzzDk2ZPr5kvMUzVMomE24+ZFGmaoN9ejl/p+GmBVQB18OFOugRpoDmiLKkeZ1leSd5Hk6VDrRpaYMRezpaEIcJQVug4LTTiTc5Zp8nQzWwOJ4zWfUZRJ8yQLXyaTLDcwxRZ9EmjDas9qmTuxXB3mOH2eJO5itgXiR+n7Hh6o6KdJ2Tk+zKsl5uZA/EgNM8b2NYR6S8xzOVMemkpMYaNAgu147VkdczdFvUbKzgOrmaljCrsHEuwAxA8xMPdgihqHeQGYkk5mWpwprC5IsCMQO1jPjO4F4msB3fggG7JqSgiZBeBUSuknhJDBAG6hlPqo71n079+fTpvmM2/lCmqvAa29nxn80CwQ7gOSPJfJitxtMx8xr4rCArZxJH4YSOIERS7nZeZYEdrkOAPzQ9C6e9lKvlXO7HMTJ3icy2hxNVtMzLwtmGXngLglkQBo5gO2SFhYyAas+OEgkuWrYK6SmHle2PYc5aQSzMmcuYgzjwBJHKdhruTMdzizP2d6/c9p5n3O/J0zjwRJHGtg3se21tM8L5Z7LpO9eZiT2N8v/M5uAPGxIIljFAkeY65gxz0zkTN3BCkbZ2BO5Mw/OPMokMTRGuZyniffWh/aiTO9XuU0/S4vZ/Ynu6E6zKCLuYznybfWhwewc8nlK04pBTLvMh+Z4mJ2448fBZI4yoc5EUARCO/MmdsYmPezeWmrGZA4GiQ+VsNcyq6NzPucOZAzu2iYb4PWPSgxj+HMgIu5hDP5dv3wLpy5tYb5FmcuYZLTxLEg8SM0zL84k29vD+/CPiOXdJMx3wSte4jlGWgBxI8DiR/uZRYWs+NZ2jIf3hWk7GwD83XmSVRcwr5NO0xLw7yHb+23gfAgztzSw6Tp14D6h5laJdCKMw9bb/khIeR7Sqln19SGDuS7ALgb7BEnA+A0SqnPKgCL9R3Im6IpmqIpmsI8kG/QYieldCqABp/Am6IpmqIpmuK/F5v8zs6maIqmaIqm8I+mgbwpmqIpmuJfHk0DeVM0RVM0xb88mgbypmiKpmiKf3lskGrlb/9RQlYC+P1vvr0FgFUbMZ1/ezQdDxFNx0KNpuOhxv+F49GRUurZUfmPDOQbEoSQaTr5zf+v0XQ8RDQdCzWajoca/5ePR9PUSlM0RVM0xb88mgbypmiKpmiKf3n8GwfyR/7pBDaxaDoeIpqOhRpNx0ON/7PH4183R94UTdEUTdEUavwbn8iboimaoimaQoqmgbwpmqIpmuJfHv/agZwQciYhZA4hZAYhZKPXCv03BiHkfEIIJYS0+Kdz+aeCEHIrIWQ2IWQ6IeR1QkjlP53TPxGEkGH8+phHCLn4n87nnwpCSHtCyMeEkFl8rDj7n87pvxH/yoGcELIHgNEAelJKuwG47R9O6R8PQkh7AHsB+KOhtv/H4wMA3SmlPQHMBXDJP5zP/zwIM+O+H8BwAF0BHEYI8Zq4//8RBQDnUUq3A7ATgNP/Lx6Lf+VADlZi7iZKaRYAKKUr/uF8NoW4E8CF8K+0+X8+KKWTKXVq6X0NoN0/mc8/FDsAmEcpXUApzQF4AezB5/+7oJQupZT+wP+/FsAsAJv/s1lt/Pi3DuRdAOxKCPmGEPIpIWT7fzqhfzIIIaMA/EUp/fmfzmUTi+MATPynk/gHYnMAf0o/L8b/wcFrfYMQ0glAHwDf/MOpbPTYoMIS/80ghHwIoI3mV5eB5V0F9lVpewAvEUK2oP+HtZQNHI9LAez9v83onwu/Y8FryYIQchnY1+pn/5e5bSKhqyD8f/baaEwQQpIAXgUwjlJa80/ns7Fjkx3IKaVDTL8jhJwK4DU+cH9LCLHBDHFW/q/y+1+H6XgQQnoA6AzgZ16MuR2AHwghO1BKl/0PU/yfhd+5AQCEkKMBjAAw+P/yzd0nFgNoL/3cDsCSfyiXfzwIK9z6KoBnKaWvNdT+3xj/1qmVNwDsCQCEkC4Awvj3u5r9raCU/kIpbUUp7UQp7QR2Eff9vzqINxSEkGEALgIwilKa+qfz+YfiOwBbE0I6E1Yl+1AAb/3DOf0jQdjTzXgAsyild/zT+fy34t86kD8OYAtCyK9gCzlH/3/65NUU3rgPQBmADwghPxFCHvqnE/pfB1/sPQPA+2CLey9RSmf8s1n9YzEQwFgAe/Lz4SdCyD7/dFIbO5q26DdFUzRFU/zL49/6RN4UTdEUTdEUPJoG8qZoiqZoin95NA3kTdEUTdEU//JoGsiboimaoin+5dE0kDdFUzRFU/zLo2kgb4qmaIqm+JdH00DeFE3RFE3xL4//ByuL6sDFLHiVAAAAAElFTkSuQmCC\n",
      "text/plain": [
       "<Figure size 432x288 with 1 Axes>"
      ]
     },
     "metadata": {
      "needs_background": "light"
     },
     "output_type": "display_data"
    }
   ],
   "source": [
    "plt.scatter(X,Y,s=50,c=Z)"
   ]
  },
  {
   "cell_type": "markdown",
   "id": "31dbf297",
   "metadata": {},
   "source": [
    "#7-5"
   ]
  },
  {
   "cell_type": "code",
<<<<<<< HEAD
   "execution_count": 32,
=======
   "execution_count": 33,
>>>>>>> 0ab2ba9f0a156c0bfa6d3ed43d1d8d386558c409
   "id": "b2a9d873",
   "metadata": {},
   "outputs": [],
   "source": [
    "%matplotlib inline\n",
    "import numpy as np\n",
    "import matplotlib.pyplot as plt"
   ]
  },
  {
   "cell_type": "code",
<<<<<<< HEAD
   "execution_count": 33,
=======
   "execution_count": 34,
>>>>>>> 0ab2ba9f0a156c0bfa6d3ed43d1d8d386558c409
   "id": "e6d82486",
   "metadata": {},
   "outputs": [],
   "source": [
    "from sklearn.datasets import load_iris"
   ]
  },
  {
   "cell_type": "code",
<<<<<<< HEAD
   "execution_count": 34,
=======
   "execution_count": 35,
>>>>>>> 0ab2ba9f0a156c0bfa6d3ed43d1d8d386558c409
   "id": "e1f5f817",
   "metadata": {},
   "outputs": [],
   "source": [
    "iris = load_iris()"
   ]
  },
  {
   "cell_type": "code",
<<<<<<< HEAD
   "execution_count": 60,
   "id": "1728d415",
   "metadata": {},
   "outputs": [],
   "source": [
    "#print(iris.DESCR)"
=======
   "execution_count": 36,
   "id": "1728d415",
   "metadata": {},
   "outputs": [
    {
     "name": "stdout",
     "output_type": "stream",
     "text": [
      ".. _iris_dataset:\n",
      "\n",
      "Iris plants dataset\n",
      "--------------------\n",
      "\n",
      "**Data Set Characteristics:**\n",
      "\n",
      "    :Number of Instances: 150 (50 in each of three classes)\n",
      "    :Number of Attributes: 4 numeric, predictive attributes and the class\n",
      "    :Attribute Information:\n",
      "        - sepal length in cm\n",
      "        - sepal width in cm\n",
      "        - petal length in cm\n",
      "        - petal width in cm\n",
      "        - class:\n",
      "                - Iris-Setosa\n",
      "                - Iris-Versicolour\n",
      "                - Iris-Virginica\n",
      "                \n",
      "    :Summary Statistics:\n",
      "\n",
      "    ============== ==== ==== ======= ===== ====================\n",
      "                    Min  Max   Mean    SD   Class Correlation\n",
      "    ============== ==== ==== ======= ===== ====================\n",
      "    sepal length:   4.3  7.9   5.84   0.83    0.7826\n",
      "    sepal width:    2.0  4.4   3.05   0.43   -0.4194\n",
      "    petal length:   1.0  6.9   3.76   1.76    0.9490  (high!)\n",
      "    petal width:    0.1  2.5   1.20   0.76    0.9565  (high!)\n",
      "    ============== ==== ==== ======= ===== ====================\n",
      "\n",
      "    :Missing Attribute Values: None\n",
      "    :Class Distribution: 33.3% for each of 3 classes.\n",
      "    :Creator: R.A. Fisher\n",
      "    :Donor: Michael Marshall (MARSHALL%PLU@io.arc.nasa.gov)\n",
      "    :Date: July, 1988\n",
      "\n",
      "The famous Iris database, first used by Sir R.A. Fisher. The dataset is taken\n",
      "from Fisher's paper. Note that it's the same as in R, but not as in the UCI\n",
      "Machine Learning Repository, which has two wrong data points.\n",
      "\n",
      "This is perhaps the best known database to be found in the\n",
      "pattern recognition literature.  Fisher's paper is a classic in the field and\n",
      "is referenced frequently to this day.  (See Duda & Hart, for example.)  The\n",
      "data set contains 3 classes of 50 instances each, where each class refers to a\n",
      "type of iris plant.  One class is linearly separable from the other 2; the\n",
      "latter are NOT linearly separable from each other.\n",
      "\n",
      ".. topic:: References\n",
      "\n",
      "   - Fisher, R.A. \"The use of multiple measurements in taxonomic problems\"\n",
      "     Annual Eugenics, 7, Part II, 179-188 (1936); also in \"Contributions to\n",
      "     Mathematical Statistics\" (John Wiley, NY, 1950).\n",
      "   - Duda, R.O., & Hart, P.E. (1973) Pattern Classification and Scene Analysis.\n",
      "     (Q327.D83) John Wiley & Sons.  ISBN 0-471-22361-1.  See page 218.\n",
      "   - Dasarathy, B.V. (1980) \"Nosing Around the Neighborhood: A New System\n",
      "     Structure and Classification Rule for Recognition in Partially Exposed\n",
      "     Environments\".  IEEE Transactions on Pattern Analysis and Machine\n",
      "     Intelligence, Vol. PAMI-2, No. 1, 67-71.\n",
      "   - Gates, G.W. (1972) \"The Reduced Nearest Neighbor Rule\".  IEEE Transactions\n",
      "     on Information Theory, May 1972, 431-433.\n",
      "   - See also: 1988 MLC Proceedings, 54-64.  Cheeseman et al\"s AUTOCLASS II\n",
      "     conceptual clustering system finds 3 classes in the data.\n",
      "   - Many, many more ...\n"
     ]
    }
   ],
   "source": [
    "print(iris.DESCR)"
>>>>>>> 0ab2ba9f0a156c0bfa6d3ed43d1d8d386558c409
   ]
  },
  {
   "cell_type": "code",
<<<<<<< HEAD
   "execution_count": 36,
=======
   "execution_count": 37,
>>>>>>> 0ab2ba9f0a156c0bfa6d3ed43d1d8d386558c409
   "id": "e3d8a946",
   "metadata": {},
   "outputs": [],
   "source": [
    "X=iris.data"
   ]
  },
  {
   "cell_type": "code",
<<<<<<< HEAD
   "execution_count": 37,
=======
   "execution_count": 38,
>>>>>>> 0ab2ba9f0a156c0bfa6d3ed43d1d8d386558c409
   "id": "fe86d60f",
   "metadata": {},
   "outputs": [],
   "source": [
    "Y = iris.target"
   ]
  },
  {
   "cell_type": "code",
<<<<<<< HEAD
   "execution_count": 38,
=======
   "execution_count": 39,
>>>>>>> 0ab2ba9f0a156c0bfa6d3ed43d1d8d386558c409
   "id": "c55856ae",
   "metadata": {},
   "outputs": [
    {
     "data": {
      "text/plain": [
       "array([5.1, 3.5, 1.4, 0.2])"
      ]
     },
<<<<<<< HEAD
     "execution_count": 38,
=======
     "execution_count": 39,
>>>>>>> 0ab2ba9f0a156c0bfa6d3ed43d1d8d386558c409
     "metadata": {},
     "output_type": "execute_result"
    }
   ],
   "source": [
    "X[0]"
   ]
  },
  {
   "cell_type": "code",
<<<<<<< HEAD
   "execution_count": 39,
=======
   "execution_count": 40,
>>>>>>> 0ab2ba9f0a156c0bfa6d3ed43d1d8d386558c409
   "id": "cd8ce6f5",
   "metadata": {},
   "outputs": [
    {
     "data": {
      "text/plain": [
       "array([1.4, 0.2])"
      ]
     },
<<<<<<< HEAD
     "execution_count": 39,
=======
     "execution_count": 40,
>>>>>>> 0ab2ba9f0a156c0bfa6d3ed43d1d8d386558c409
     "metadata": {},
     "output_type": "execute_result"
    }
   ],
   "source": [
    "X[0][2:]"
   ]
  },
  {
   "cell_type": "code",
<<<<<<< HEAD
   "execution_count": 40,
=======
   "execution_count": 41,
>>>>>>> 0ab2ba9f0a156c0bfa6d3ed43d1d8d386558c409
   "id": "8e861480",
   "metadata": {},
   "outputs": [],
   "source": [
    "X = X[:,2:]"
   ]
  },
  {
   "cell_type": "code",
<<<<<<< HEAD
   "execution_count": 41,
=======
   "execution_count": 42,
>>>>>>> 0ab2ba9f0a156c0bfa6d3ed43d1d8d386558c409
   "id": "8c5f0d5a",
   "metadata": {},
   "outputs": [
    {
     "data": {
      "text/plain": [
       "array([1.4, 0.2])"
      ]
     },
<<<<<<< HEAD
     "execution_count": 41,
=======
     "execution_count": 42,
>>>>>>> 0ab2ba9f0a156c0bfa6d3ed43d1d8d386558c409
     "metadata": {},
     "output_type": "execute_result"
    }
   ],
   "source": [
    "X[0]"
   ]
  },
  {
   "cell_type": "code",
<<<<<<< HEAD
   "execution_count": 42,
=======
   "execution_count": 43,
>>>>>>> 0ab2ba9f0a156c0bfa6d3ed43d1d8d386558c409
   "id": "2d524369",
   "metadata": {},
   "outputs": [
    {
     "data": {
      "text/plain": [
       "array([0, 0, 0, 0, 0, 0, 0, 0, 0, 0, 0, 0, 0, 0, 0, 0, 0, 0, 0, 0, 0, 0,\n",
       "       0, 0, 0, 0, 0, 0, 0, 0, 0, 0, 0, 0, 0, 0, 0, 0, 0, 0, 0, 0, 0, 0,\n",
       "       0, 0, 0, 0, 0, 0, 1, 1, 1, 1, 1, 1, 1, 1, 1, 1, 1, 1, 1, 1, 1, 1,\n",
       "       1, 1, 1, 1, 1, 1, 1, 1, 1, 1, 1, 1, 1, 1, 1, 1, 1, 1, 1, 1, 1, 1,\n",
       "       1, 1, 1, 1, 1, 1, 1, 1, 1, 1, 1, 1, 2, 2, 2, 2, 2, 2, 2, 2, 2, 2,\n",
       "       2, 2, 2, 2, 2, 2, 2, 2, 2, 2, 2, 2, 2, 2, 2, 2, 2, 2, 2, 2, 2, 2,\n",
       "       2, 2, 2, 2, 2, 2, 2, 2, 2, 2, 2, 2, 2, 2, 2, 2, 2, 2])"
      ]
     },
<<<<<<< HEAD
     "execution_count": 42,
=======
     "execution_count": 43,
>>>>>>> 0ab2ba9f0a156c0bfa6d3ed43d1d8d386558c409
     "metadata": {},
     "output_type": "execute_result"
    }
   ],
   "source": [
    "Y"
   ]
  },
  {
   "cell_type": "code",
<<<<<<< HEAD
   "execution_count": 43,
=======
   "execution_count": 44,
>>>>>>> 0ab2ba9f0a156c0bfa6d3ed43d1d8d386558c409
   "id": "aaa6b030",
   "metadata": {},
   "outputs": [],
   "source": [
    "from sklearn.model_selection import train_test_split"
   ]
  },
  {
   "cell_type": "code",
<<<<<<< HEAD
   "execution_count": 44,
=======
   "execution_count": 45,
>>>>>>> 0ab2ba9f0a156c0bfa6d3ed43d1d8d386558c409
   "id": "d668f413",
   "metadata": {},
   "outputs": [],
   "source": [
    "x_train, x_test, y_train, y_test = train_test_split(X,Y,\n",
    "                                                   test_size=0.2,\n",
    "                                                   random_state=87)"
   ]
  },
  {
   "cell_type": "code",
<<<<<<< HEAD
   "execution_count": 45,
=======
   "execution_count": 46,
>>>>>>> 0ab2ba9f0a156c0bfa6d3ed43d1d8d386558c409
   "id": "8a480326",
   "metadata": {},
   "outputs": [
    {
     "data": {
      "text/plain": [
<<<<<<< HEAD
       "<matplotlib.collections.PathCollection at 0x1fae9a03520>"
      ]
     },
     "execution_count": 45,
=======
       "<matplotlib.collections.PathCollection at 0x27b10cc6c10>"
      ]
     },
     "execution_count": 46,
>>>>>>> 0ab2ba9f0a156c0bfa6d3ed43d1d8d386558c409
     "metadata": {},
     "output_type": "execute_result"
    },
    {
     "data": {
      "image/png": "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\n",
      "text/plain": [
       "<Figure size 432x288 with 1 Axes>"
      ]
     },
     "metadata": {
      "needs_background": "light"
     },
     "output_type": "display_data"
    }
   ],
   "source": [
    "plt.scatter(x_train[:,0], x_train[:,1],c=y_train)"
   ]
  },
  {
   "cell_type": "code",
<<<<<<< HEAD
   "execution_count": 46,
=======
   "execution_count": 47,
>>>>>>> 0ab2ba9f0a156c0bfa6d3ed43d1d8d386558c409
   "id": "5a018bf4",
   "metadata": {},
   "outputs": [],
   "source": [
    "from sklearn.svm import SVC"
   ]
  },
  {
   "cell_type": "code",
<<<<<<< HEAD
   "execution_count": 47,
=======
   "execution_count": 48,
>>>>>>> 0ab2ba9f0a156c0bfa6d3ed43d1d8d386558c409
   "id": "e8653bdc",
   "metadata": {},
   "outputs": [],
   "source": [
    "clf = SVC()"
   ]
  },
  {
   "cell_type": "code",
<<<<<<< HEAD
   "execution_count": 48,
=======
   "execution_count": 49,
>>>>>>> 0ab2ba9f0a156c0bfa6d3ed43d1d8d386558c409
   "id": "a7181eff",
   "metadata": {},
   "outputs": [
    {
     "data": {
      "text/plain": [
       "SVC()"
      ]
     },
<<<<<<< HEAD
     "execution_count": 48,
=======
     "execution_count": 49,
>>>>>>> 0ab2ba9f0a156c0bfa6d3ed43d1d8d386558c409
     "metadata": {},
     "output_type": "execute_result"
    }
   ],
   "source": [
    "clf.fit(x_train, y_train)"
   ]
  },
  {
   "cell_type": "code",
<<<<<<< HEAD
   "execution_count": 49,
=======
   "execution_count": 50,
>>>>>>> 0ab2ba9f0a156c0bfa6d3ed43d1d8d386558c409
   "id": "ddab6395",
   "metadata": {},
   "outputs": [],
   "source": [
    "y_predict = clf.predict(x_test)"
   ]
  },
  {
   "cell_type": "code",
<<<<<<< HEAD
   "execution_count": 50,
=======
   "execution_count": 52,
>>>>>>> 0ab2ba9f0a156c0bfa6d3ed43d1d8d386558c409
   "id": "4c9a3cb7",
   "metadata": {},
   "outputs": [
    {
     "data": {
      "text/plain": [
<<<<<<< HEAD
       "<matplotlib.collections.PathCollection at 0x1fae9a65970>"
      ]
     },
     "execution_count": 50,
=======
       "<matplotlib.collections.PathCollection at 0x27b100dfa00>"
      ]
     },
     "execution_count": 52,
>>>>>>> 0ab2ba9f0a156c0bfa6d3ed43d1d8d386558c409
     "metadata": {},
     "output_type": "execute_result"
    },
    {
     "data": {
      "image/png": "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\n",
      "text/plain": [
       "<Figure size 432x288 with 1 Axes>"
      ]
     },
     "metadata": {
      "needs_background": "light"
     },
     "output_type": "display_data"
    }
   ],
   "source": [
    "plt.scatter(x_test[:,0],x_test[:,1],c=y_predict)"
   ]
  },
  {
   "cell_type": "code",
<<<<<<< HEAD
   "execution_count": 51,
=======
   "execution_count": 53,
>>>>>>> 0ab2ba9f0a156c0bfa6d3ed43d1d8d386558c409
   "id": "cf2fbcf9",
   "metadata": {},
   "outputs": [
    {
     "data": {
      "text/plain": [
<<<<<<< HEAD
       "<matplotlib.collections.PathCollection at 0x1fae9ac3fa0>"
      ]
     },
     "execution_count": 51,
=======
       "<matplotlib.collections.PathCollection at 0x27b1169e280>"
      ]
     },
     "execution_count": 53,
>>>>>>> 0ab2ba9f0a156c0bfa6d3ed43d1d8d386558c409
     "metadata": {},
     "output_type": "execute_result"
    },
    {
     "data": {
      "image/png": "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\n",
      "text/plain": [
       "<Figure size 432x288 with 1 Axes>"
      ]
     },
     "metadata": {
      "needs_background": "light"
     },
     "output_type": "display_data"
    }
   ],
   "source": [
    "plt.scatter(x_test[:,0],x_test[:,1],c=y_predict - y_test)"
   ]
  },
  {
<<<<<<< HEAD
   "cell_type": "markdown",
   "id": "8527abd9",
   "metadata": {},
   "source": [
    "#7-6"
   ]
  },
  {
   "cell_type": "code",
   "execution_count": 52,
   "id": "5db7165d",
   "metadata": {},
   "outputs": [
    {
     "data": {
      "text/plain": [
       "array([ 0.3,  0.5,  0.7,  0.9,  1.1,  1.3,  1.5,  1.7,  1.9,  2.1,  2.3,\n",
       "        2.5,  2.7,  2.9,  3.1,  3.3,  3.5,  3.7,  3.9,  4.1,  4.3,  4.5,\n",
       "        4.7,  4.9,  5.1,  5.3,  5.5,  5.7,  5.9,  6.1,  6.3,  6.5,  6.7,\n",
       "        6.9,  7.1,  7.3,  7.5,  7.7,  7.9,  8.1,  8.3,  8.5,  8.7,  8.9,\n",
       "        9.1,  9.3,  9.5,  9.7,  9.9, 10.1])"
      ]
     },
     "execution_count": 52,
     "metadata": {},
     "output_type": "execute_result"
    }
   ],
   "source": [
    "np.arange(0.3,10.3,0.2)"
   ]
  },
  {
   "cell_type": "code",
   "execution_count": 53,
   "id": "6699143c",
   "metadata": {},
   "outputs": [],
   "source": [
    "x1,x2 = np.meshgrid(np.arange(0,7,0.02), np.arange(0,3,0.02))"
   ]
  },
  {
   "cell_type": "code",
   "execution_count": 54,
   "id": "db3d6887",
   "metadata": {},
   "outputs": [],
   "source": [
    "xx = [1,2,3,4]\n",
    "yy = [5,6,7,8]"
   ]
  },
  {
   "cell_type": "code",
   "execution_count": 55,
   "id": "02055f6f",
   "metadata": {},
   "outputs": [
    {
     "data": {
      "text/plain": [
       "array([[1, 5],\n",
       "       [2, 6],\n",
       "       [3, 7],\n",
       "       [4, 8]])"
      ]
     },
     "execution_count": 55,
     "metadata": {},
     "output_type": "execute_result"
    }
   ],
   "source": [
    "np.c_[xx,yy]"
   ]
  },
  {
   "cell_type": "code",
   "execution_count": 57,
   "id": "d3c45348",
   "metadata": {},
   "outputs": [],
   "source": [
    "Z = clf.predict(np.c_[x1.ravel(),x2.ravel()])"
   ]
  },
  {
   "cell_type": "code",
   "execution_count": 58,
   "id": "ef27f3df",
   "metadata": {},
   "outputs": [],
   "source": [
    "Z = Z.reshape(x1.shape)"
   ]
  },
  {
   "cell_type": "code",
   "execution_count": 59,
   "id": "7ff6594e",
   "metadata": {},
   "outputs": [
    {
     "data": {
      "text/plain": [
       "<matplotlib.contour.QuadContourSet at 0x1faeb619d90>"
      ]
     },
     "execution_count": 59,
     "metadata": {},
     "output_type": "execute_result"
    },
    {
     "data": {
      "image/png": "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\n",
      "text/plain": [
       "<Figure size 432x288 with 1 Axes>"
      ]
     },
     "metadata": {
      "needs_background": "light"
     },
     "output_type": "display_data"
    }
   ],
   "source": [
    "plt.contourf(x1,x2,Z,cmap=plt.cm.coolwarm,alpha=0.8)"
   ]
  },
  {
   "cell_type": "code",
   "execution_count": null,
   "id": "baccb3e8",
=======
   "cell_type": "code",
   "execution_count": null,
   "id": "e18fa75d",
>>>>>>> 0ab2ba9f0a156c0bfa6d3ed43d1d8d386558c409
   "metadata": {},
   "outputs": [],
   "source": []
  }
 ],
 "metadata": {
  "kernelspec": {
   "display_name": "Python 3 (ipykernel)",
   "language": "python",
   "name": "python3"
  },
  "language_info": {
   "codemirror_mode": {
    "name": "ipython",
    "version": 3
   },
   "file_extension": ".py",
   "mimetype": "text/x-python",
   "name": "python",
   "nbconvert_exporter": "python",
   "pygments_lexer": "ipython3",
   "version": "3.9.7"
  }
 },
 "nbformat": 4,
 "nbformat_minor": 5
}
