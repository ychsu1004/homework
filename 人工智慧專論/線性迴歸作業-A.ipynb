{
 "cells": [
  {
   "cell_type": "markdown",
   "id": "78b74481",
   "metadata": {},
   "source": [
    "   \n",
    "|(A)input|     |     |     |\n",
    "| --- | --- | --- | --- |\n",
    "| x   | 4   | 5   | 9   |\n",
    "| y   | 9   | 8   | 6   |"
   ]
  },
  {
   "cell_type": "markdown",
   "id": "82896733",
   "metadata": {},
   "source": [
    "$(1) \\overline{x},\\overline{y}$  \n",
    "$(2) \\hat{\\beta}$  \n",
    "$(3) \\hat{\\alpha}$  \n",
    "$(4)直線方程式$  \n",
    "$(5)x=1，預測 y=?$"
   ]
  },
  {
   "cell_type": "code",
   "execution_count": 32,
   "id": "4c60326b",
   "metadata": {},
   "outputs": [],
   "source": [
    "import numpy as np\n",
    "x=np.array([4,5,9])\n",
    "y=np.array([9,8,6])\n",
    "m=[4,5,9]"
   ]
  },
  {
   "cell_type": "code",
   "execution_count": 24,
   "id": "3550bea8",
   "metadata": {},
   "outputs": [
    {
     "name": "stdout",
     "output_type": "stream",
     "text": [
      "x= 6.0\n"
     ]
    }
   ],
   "source": [
    "#(1)\n",
    "x1=x.sum()/3\n",
    "print('x=',x1)"
   ]
  },
  {
   "cell_type": "code",
   "execution_count": 25,
   "id": "0f673ffd",
   "metadata": {},
   "outputs": [
    {
     "name": "stdout",
     "output_type": "stream",
     "text": [
      "y= 7.666666666666667\n"
     ]
    }
   ],
   "source": [
    "#(1)\n",
    "y1=y.sum()/3\n",
    "print('y=',y1)"
   ]
  },
  {
   "cell_type": "code",
   "execution_count": 45,
   "id": "c9b95451",
   "metadata": {},
   "outputs": [
    {
     "name": "stdout",
     "output_type": "stream",
     "text": [
      "-8.0\n",
      "14.0\n",
      "B= -0.5714285714285714\n"
     ]
    }
   ],
   "source": [
    "#(2)\n",
    "tmp1=0\n",
    "tmp2=0\n",
    "for i in range(3):\n",
    "    tmp1 += (x[i]-x1)*(y[i]-y1)\n",
    "    tmp2 += (x[i]-x1)**2\n",
    "print(tmp1)\n",
    "print(tmp2)\n",
    "B=tmp1/tmp2\n",
    "print('B=',B)"
   ]
  },
  {
   "cell_type": "code",
   "execution_count": 46,
   "id": "4768f0c3",
   "metadata": {},
   "outputs": [
    {
     "name": "stdout",
     "output_type": "stream",
     "text": [
      "a= 11.095238095238095\n"
     ]
    }
   ],
   "source": [
    "#(3)\n",
    "a=y1-B*x1\n",
    "print('a=',a)"
   ]
  },
  {
   "cell_type": "code",
   "execution_count": 47,
   "id": "50e41bce",
   "metadata": {},
   "outputs": [],
   "source": [
    "#(4) y = 11.0952 - 0.5714x\n"
   ]
  },
  {
   "cell_type": "code",
   "execution_count": 48,
   "id": "baa8e9cb",
   "metadata": {},
   "outputs": [
    {
     "name": "stdout",
     "output_type": "stream",
     "text": [
      "y= 10.523809523809524\n"
     ]
    }
   ],
   "source": [
    "#(5) x=1, y=?\n",
    "x=1\n",
    "y=a+B*x\n",
    "print('y=',y)"
   ]
  },
  {
   "cell_type": "code",
   "execution_count": null,
   "id": "93a33d79",
   "metadata": {},
   "outputs": [],
   "source": []
  }
 ],
 "metadata": {
  "kernelspec": {
   "display_name": "Python 3 (ipykernel)",
   "language": "python",
   "name": "python3"
  },
  "language_info": {
   "codemirror_mode": {
    "name": "ipython",
    "version": 3
   },
   "file_extension": ".py",
   "mimetype": "text/x-python",
   "name": "python",
   "nbconvert_exporter": "python",
   "pygments_lexer": "ipython3",
   "version": "3.9.7"
  }
 },
 "nbformat": 4,
 "nbformat_minor": 5
}
